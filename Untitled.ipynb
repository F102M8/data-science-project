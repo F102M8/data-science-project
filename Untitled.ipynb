{
 "cells": [
  {
   "cell_type": "code",
   "execution_count": 1,
   "id": "01260b44-81d9-40a5-a369-41c5bc689080",
   "metadata": {},
   "outputs": [],
   "source": [
    "# !pip install requests beautifulsoup4 pandas\n",
    "# !pip install selenium "
   ]
  },
  {
   "cell_type": "code",
   "execution_count": 2,
   "id": "57f51fec-4ec4-4eeb-ac7b-6246be697fae",
   "metadata": {},
   "outputs": [],
   "source": [
    "import os\n",
    "from selenium import webdriver\n",
    "from selenium.webdriver.common.by import By\n",
    "from bs4 import BeautifulSoup\n",
    "import requests\n",
    "import time\n",
    "import csv"
   ]
  },
  {
   "cell_type": "code",
   "execution_count": 3,
   "id": "0564e429-eea7-4d22-a1b1-b5dd77518b4e",
   "metadata": {},
   "outputs": [],
   "source": [
    "BASE_URL = \"https://steamdb.info\"\n",
    "SEARCH_URL = \"https://steamdb.info/instantsearch/\""
   ]
  },
  {
   "cell_type": "code",
   "execution_count": 4,
   "id": "c47843a4-66ec-4f14-8388-5a4b6c3c9346",
   "metadata": {},
   "outputs": [],
   "source": [
    "def get_game_urls():\n",
    "    game_urls = []\n",
    "\n",
    "    driver = webdriver.Chrome()  \n",
    "\n",
    "    driver.get(SEARCH_URL)\n",
    "    time.sleep(2)  \n",
    "\n",
    "    print(\"LOADED\")\n",
    "\n",
    "    j = 0\n",
    "    while len(game_urls) < 2000:\n",
    "        hits_list = driver.find_element(By.CLASS_NAME, 'ais-Hits-list')\n",
    "        games = hits_list.find_elements(By.CLASS_NAME, 'ais-Hits-item')\n",
    "        j = j + 1\n",
    "        print (f\"#{j}\")\n",
    "        # i = 0\n",
    "        for game in games:\n",
    "            link = game.find_element(By.TAG_NAME, 'a')\n",
    "            # print(i)\n",
    "            # i = i + 1\n",
    "            # print(link)\n",
    "            if link:\n",
    "                game_urls.append(link.get_attribute('href'))\n",
    "        if len(game_urls) >= 2000 or not games:\n",
    "            break\n",
    "\n",
    "        time.sleep(1) \n",
    "    driver.quit()\n",
    "    return game_urls"
   ]
  },
  {
   "cell_type": "code",
   "execution_count": 5,
   "id": "0d7577ec-42d0-4c44-b782-fa4192514765",
   "metadata": {},
   "outputs": [],
   "source": [
    "def load_game_urls_from_file(filename):\n",
    "    with open(filename, 'r') as file:\n",
    "        return [line.strip() for line in file.readlines()]\n"
   ]
  },
  {
   "cell_type": "code",
   "execution_count": 8,
   "id": "411d803c-7e01-4801-bb23-cde305aa693e",
   "metadata": {},
   "outputs": [],
   "source": [
    "\n",
    "def scrape_game_info(game_url):\n",
    "    response = requests.get(game_url)\n",
    "    soup = BeautifulSoup(response.content, 'html.parser')\n",
    "\n",
    "    game_info = {\n",
    "        'NAME': 'N/A',\n",
    "        'STORE_GENRE': 'N/A',\n",
    "        'METACRITIC_SCORE': 'N/A',\n",
    "        'N_SUPPORTED_LANGUAGES': 'N/A',\n",
    "        'DEVELOPERS': 'N/A',\n",
    "        'SUPPORTED_PLATFORMS': 'N/A',\n",
    "        'POSITIVE_REVIEWS': 'N/A',\n",
    "        'NEGATIVE_REVIEWS': 'N/A',\n",
    "        'TECHNOLOGIES': 'N/A',\n",
    "        'RELEASE_DATE': 'N/A',\n",
    "        'MONTHLY_TWITCH_PEAK_2023': 'N/A',\n",
    "        'PRICE': 'N/A',\n",
    "        'N_DLC': 'N/A',\n",
    "        '24_HOUR_PEAK': 'N/A'\n",
    "    }\n",
    "\n",
    "    try:\n",
    "        # Extract NAME\n",
    "        name_element = soup.find('h1', itemprop='name')\n",
    "        game_info['NAME'] = name_element.text.strip() if name_element else 'N/A'\n",
    "\n",
    "        \n",
    "        print(name_element)\n",
    "    except Exception as e:\n",
    "        print(f\"Error scraping {game_url}: {e}\")\n",
    "\n",
    "    return game_info"
   ]
  },
  {
   "cell_type": "code",
   "execution_count": 9,
   "id": "cdb53677-2ecf-44b2-bc32-98551fea9ee1",
   "metadata": {},
   "outputs": [
    {
     "name": "stdout",
     "output_type": "stream",
     "text": [
      "Collected 2000 game URLs.\n",
      "None\n",
      "None\n",
      "None\n"
     ]
    },
    {
     "ename": "KeyboardInterrupt",
     "evalue": "",
     "output_type": "error",
     "traceback": [
      "\u001b[1;31m---------------------------------------------------------------------------\u001b[0m",
      "\u001b[1;31mKeyboardInterrupt\u001b[0m                         Traceback (most recent call last)",
      "Cell \u001b[1;32mIn[9], line 35\u001b[0m\n\u001b[0;32m     31\u001b[0m     \u001b[38;5;28mprint\u001b[39m(\u001b[38;5;124mf\u001b[39m\u001b[38;5;124m\"\u001b[39m\u001b[38;5;124mCollected information for \u001b[39m\u001b[38;5;132;01m{\u001b[39;00m\u001b[38;5;28mlen\u001b[39m(all_games_info)\u001b[38;5;132;01m}\u001b[39;00m\u001b[38;5;124m games.\u001b[39m\u001b[38;5;124m\"\u001b[39m)\n\u001b[0;32m     34\u001b[0m \u001b[38;5;28;01mif\u001b[39;00m \u001b[38;5;18m__name__\u001b[39m \u001b[38;5;241m==\u001b[39m \u001b[38;5;124m\"\u001b[39m\u001b[38;5;124m__main__\u001b[39m\u001b[38;5;124m\"\u001b[39m:\n\u001b[1;32m---> 35\u001b[0m     \u001b[43mmain\u001b[49m\u001b[43m(\u001b[49m\u001b[43m)\u001b[49m\n",
      "Cell \u001b[1;32mIn[9], line 19\u001b[0m, in \u001b[0;36mmain\u001b[1;34m()\u001b[0m\n\u001b[0;32m     17\u001b[0m     game_info \u001b[38;5;241m=\u001b[39m scrape_game_info(url)\n\u001b[0;32m     18\u001b[0m     all_games_info\u001b[38;5;241m.\u001b[39mappend(game_info)\n\u001b[1;32m---> 19\u001b[0m     \u001b[43mtime\u001b[49m\u001b[38;5;241;43m.\u001b[39;49m\u001b[43msleep\u001b[49m\u001b[43m(\u001b[49m\u001b[38;5;241;43m1\u001b[39;49m\u001b[43m)\u001b[49m  \u001b[38;5;66;03m# Be polite and don't hammer the server\u001b[39;00m\n\u001b[0;32m     23\u001b[0m \u001b[38;5;66;03m# Save the data to a CSV file\u001b[39;00m\n\u001b[0;32m     24\u001b[0m \u001b[38;5;28;01mwith\u001b[39;00m \u001b[38;5;28mopen\u001b[39m(\u001b[38;5;124m'\u001b[39m\u001b[38;5;124mgames_info.csv\u001b[39m\u001b[38;5;124m'\u001b[39m, \u001b[38;5;124m'\u001b[39m\u001b[38;5;124mw\u001b[39m\u001b[38;5;124m'\u001b[39m, newline\u001b[38;5;241m=\u001b[39m\u001b[38;5;124m'\u001b[39m\u001b[38;5;124m'\u001b[39m, encoding\u001b[38;5;241m=\u001b[39m\u001b[38;5;124m'\u001b[39m\u001b[38;5;124mutf-8\u001b[39m\u001b[38;5;124m'\u001b[39m) \u001b[38;5;28;01mas\u001b[39;00m csvfile:\n",
      "\u001b[1;31mKeyboardInterrupt\u001b[0m: "
     ]
    }
   ],
   "source": [
    "def main():\n",
    "    game_urls = []\n",
    "    if os.path.exists('game_urls.txt'):\n",
    "        game_urls = load_game_urls_from_file('game_urls.txt')\n",
    "    else:\n",
    "        game_urls = get_game_urls()\n",
    "        with open('game_urls.txt', 'w') as f:\n",
    "            for url in game_urls:\n",
    "                f.write(f\"{url}\\n\")\n",
    "\n",
    "    print(f\"Collected {len(game_urls)} game URLs.\")\n",
    "\n",
    "    \n",
    "    all_games_info = []\n",
    "    \n",
    "    for url in game_urls:\n",
    "        game_info = scrape_game_info(url)\n",
    "        all_games_info.append(game_info)\n",
    "        time.sleep(1)  # Be polite and don't hammer the server\n",
    "    \n",
    "    \n",
    "    \n",
    "    # Save the data to a CSV file\n",
    "    with open('games_info.csv', 'w', newline='', encoding='utf-8') as csvfile:\n",
    "        fieldnames = ['NAME', 'STORE_GENRE', 'METACRITIC_SCORE', 'N_SUPPORTED_LANGUAGES', 'DEVELOPERS', 'SUPPORTED_PLATFORMS', 'POSITIVE_REVIEWS', 'NEGATIVE_REVIEWS', 'TECHNOLOGIES', 'RELEASE_DATE', 'MONTHLY_TWITCH_PEAK_2023', 'PRICE', 'N_DLC', '24_HOUR_PEAK']\n",
    "        writer = csv.DictWriter(csvfile, fieldnames=fieldnames)\n",
    "        writer.writeheader()\n",
    "        for game in all_games_info:\n",
    "            writer.writerow(game)\n",
    "    \n",
    "    print(f\"Collected information for {len(all_games_info)} games.\")\n",
    "\n",
    "\n",
    "if __name__ == \"__main__\":\n",
    "    main()\n"
   ]
  },
  {
   "cell_type": "code",
   "execution_count": null,
   "id": "f83c347b-1011-4235-a820-220c20119e9c",
   "metadata": {},
   "outputs": [],
   "source": []
  },
  {
   "cell_type": "code",
   "execution_count": null,
   "id": "89e311ae-53e6-45f6-a9dc-3ec583721acc",
   "metadata": {},
   "outputs": [],
   "source": []
  }
 ],
 "metadata": {
  "kernelspec": {
   "display_name": "Python 3 (ipykernel)",
   "language": "python",
   "name": "python3"
  },
  "language_info": {
   "codemirror_mode": {
    "name": "ipython",
    "version": 3
   },
   "file_extension": ".py",
   "mimetype": "text/x-python",
   "name": "python",
   "nbconvert_exporter": "python",
   "pygments_lexer": "ipython3",
   "version": "3.12.2"
  }
 },
 "nbformat": 4,
 "nbformat_minor": 5
}
