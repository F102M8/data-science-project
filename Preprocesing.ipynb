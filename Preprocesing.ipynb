{
 "cells": [
  {
   "cell_type": "markdown",
   "metadata": {},
   "source": [
    "# Preprocessing(1)"
   ]
  },
  {
   "cell_type": "markdown",
   "metadata": {
    "jp-MarkdownHeadingCollapsed": true
   },
   "source": [
    "## Importing Necessary Libraries"
   ]
  },
  {
   "cell_type": "code",
   "execution_count": 1,
   "metadata": {},
   "outputs": [],
   "source": [
    "#!pip install plotly"
   ]
  },
  {
   "cell_type": "code",
   "execution_count": 2,
   "metadata": {},
   "outputs": [],
   "source": [
    "import numpy as np\n",
    "import pandas as pd\n",
    "import seaborn as sb\n",
    "import matplotlib.pyplot as plt\n",
    "from collections import Counter\n",
    "import re\n",
    "import plotly.figure_factory as ff\n",
    "import plotly.express as px\n",
    "from datetime import datetime, timedelta\n",
    "from sklearn.preprocessing import MultiLabelBinarizer\n"
   ]
  },
  {
   "cell_type": "markdown",
   "metadata": {
    "jp-MarkdownHeadingCollapsed": true
   },
   "source": [
    "## Loading Data"
   ]
  },
  {
   "cell_type": "code",
   "execution_count": 3,
   "metadata": {},
   "outputs": [],
   "source": [
    "df = pd.read_csv('games_info.csv')\n",
    "game_details = pd.read_csv('games_name_url_price.csv')"
   ]
  },
  {
   "cell_type": "markdown",
   "metadata": {
    "jp-MarkdownHeadingCollapsed": true
   },
   "source": [
    "## Initial Data Exploration"
   ]
  },
  {
   "cell_type": "markdown",
   "metadata": {
    "jp-MarkdownHeadingCollapsed": true
   },
   "source": [
    "### games_info.csv"
   ]
  },
  {
   "cell_type": "code",
   "execution_count": 4,
   "metadata": {},
   "outputs": [
    {
     "data": {
      "text/html": [
       "<div>\n",
       "<style scoped>\n",
       "    .dataframe tbody tr th:only-of-type {\n",
       "        vertical-align: middle;\n",
       "    }\n",
       "\n",
       "    .dataframe tbody tr th {\n",
       "        vertical-align: top;\n",
       "    }\n",
       "\n",
       "    .dataframe thead th {\n",
       "        text-align: right;\n",
       "    }\n",
       "</style>\n",
       "<table border=\"1\" class=\"dataframe\">\n",
       "  <thead>\n",
       "    <tr style=\"text-align: right;\">\n",
       "      <th></th>\n",
       "      <th>NAME</th>\n",
       "      <th>STORE_GENRE</th>\n",
       "      <th>RATING_SCORE</th>\n",
       "      <th>N_SUPPORTED_LANGUAGES</th>\n",
       "      <th>DEVELOPERS</th>\n",
       "      <th>SUPPORTED_PLATFORMS</th>\n",
       "      <th>POSITIVE_REVIEWS</th>\n",
       "      <th>NEGATIVE_REVIEWS</th>\n",
       "      <th>TECHNOLOGIES</th>\n",
       "      <th>RELEASE_DATE</th>\n",
       "      <th>TOTAL_TWITCH_PEAK</th>\n",
       "      <th>PRICE</th>\n",
       "      <th>N_DLC</th>\n",
       "      <th>24_HOUR_PEAK</th>\n",
       "    </tr>\n",
       "  </thead>\n",
       "  <tbody>\n",
       "    <tr>\n",
       "      <th>0</th>\n",
       "      <td>Dragon's Dogma: Dark Arisen</td>\n",
       "      <td>Store Genres Action (1), Adventure (25), RPG (3)</td>\n",
       "      <td>review_score 8</td>\n",
       "      <td>7 Languages</td>\n",
       "      <td>Capcom</td>\n",
       "      <td>Windows</td>\n",
       "      <td>39271</td>\n",
       "      <td>5015</td>\n",
       "      <td>NaN</td>\n",
       "      <td>15 January 2016 – 16:48:00 UTC (9 years ago)</td>\n",
       "      <td>27,368\\nall-time peak 9 years ago17 January 2016</td>\n",
       "      <td>$22.49</td>\n",
       "      <td>3.0</td>\n",
       "      <td>1,064\\n24-hour peak</td>\n",
       "    </tr>\n",
       "    <tr>\n",
       "      <th>1</th>\n",
       "      <td>Forza Horizon 5</td>\n",
       "      <td>Store Genres Action (1), Adventure (25), Racin...</td>\n",
       "      <td>review_score 8</td>\n",
       "      <td>24 Languages</td>\n",
       "      <td>Playground Games</td>\n",
       "      <td>Windows</td>\n",
       "      <td>156683</td>\n",
       "      <td>21075</td>\n",
       "      <td>NaN</td>\n",
       "      <td>9 November 2021 – 04:58:00 UTC (3 years ago)</td>\n",
       "      <td>81,096\\nall-time peak 3 years ago13 November 2021</td>\n",
       "      <td>$32.78</td>\n",
       "      <td>53.0</td>\n",
       "      <td>16,131\\n24-hour peak</td>\n",
       "    </tr>\n",
       "    <tr>\n",
       "      <th>2</th>\n",
       "      <td>Thrive</td>\n",
       "      <td>Store Genres Casual (4), Indie (23), Simulatio...</td>\n",
       "      <td>review_score 8</td>\n",
       "      <td>1 Languages</td>\n",
       "      <td>Revolutionary Games Studio</td>\n",
       "      <td>Windows Linux</td>\n",
       "      <td>872</td>\n",
       "      <td>70</td>\n",
       "      <td>Engine.Godot</td>\n",
       "      <td>26 November 2021 – 10:54:48 UTC (3 years ago)</td>\n",
       "      <td>145\\nall-time peak 2 years ago24 July 2022</td>\n",
       "      <td>$2.99</td>\n",
       "      <td>NaN</td>\n",
       "      <td>21\\n24-hour peak</td>\n",
       "    </tr>\n",
       "    <tr>\n",
       "      <th>3</th>\n",
       "      <td>Layers of Fear (2016)</td>\n",
       "      <td>Store Genres Adventure (25), Indie (23)</td>\n",
       "      <td>review_score 8</td>\n",
       "      <td>12 Languages</td>\n",
       "      <td>Bloober Team SA</td>\n",
       "      <td>Windows macOS Linux</td>\n",
       "      <td>22766</td>\n",
       "      <td>2819</td>\n",
       "      <td>Engine.Unity</td>\n",
       "      <td>15 February 2016 – 21:53:00 UTC (8 years ago)</td>\n",
       "      <td>145,384\\nall-time peak 6 years ago13 June 2018</td>\n",
       "      <td>$10.19</td>\n",
       "      <td>3.0</td>\n",
       "      <td>31\\n24-hour peak</td>\n",
       "    </tr>\n",
       "    <tr>\n",
       "      <th>4</th>\n",
       "      <td>TaskPals</td>\n",
       "      <td>Store Genres Indie (23), Free to Play (37)</td>\n",
       "      <td>review_score 8</td>\n",
       "      <td>1 Languages</td>\n",
       "      <td>lazarche</td>\n",
       "      <td>Windows</td>\n",
       "      <td>834</td>\n",
       "      <td>66</td>\n",
       "      <td>Detected Technologies (?), SDK.SteamworksNET</td>\n",
       "      <td>25 May 2023 – 10:22:41 UTC (12 months ago)</td>\n",
       "      <td>3,778\\nall-time peak 10 months ago18 July 2023</td>\n",
       "      <td>NaN</td>\n",
       "      <td>4.0</td>\n",
       "      <td>318\\n24-hour peak</td>\n",
       "    </tr>\n",
       "  </tbody>\n",
       "</table>\n",
       "</div>"
      ],
      "text/plain": [
       "                          NAME  \\\n",
       "0  Dragon's Dogma: Dark Arisen   \n",
       "1              Forza Horizon 5   \n",
       "2                       Thrive   \n",
       "3        Layers of Fear (2016)   \n",
       "4                     TaskPals   \n",
       "\n",
       "                                         STORE_GENRE    RATING_SCORE  \\\n",
       "0   Store Genres Action (1), Adventure (25), RPG (3)  review_score 8   \n",
       "1  Store Genres Action (1), Adventure (25), Racin...  review_score 8   \n",
       "2  Store Genres Casual (4), Indie (23), Simulatio...  review_score 8   \n",
       "3            Store Genres Adventure (25), Indie (23)  review_score 8   \n",
       "4         Store Genres Indie (23), Free to Play (37)  review_score 8   \n",
       "\n",
       "  N_SUPPORTED_LANGUAGES                  DEVELOPERS  SUPPORTED_PLATFORMS  \\\n",
       "0           7 Languages                      Capcom              Windows   \n",
       "1          24 Languages            Playground Games              Windows   \n",
       "2           1 Languages  Revolutionary Games Studio        Windows Linux   \n",
       "3          12 Languages             Bloober Team SA  Windows macOS Linux   \n",
       "4           1 Languages                    lazarche              Windows   \n",
       "\n",
       "   POSITIVE_REVIEWS  NEGATIVE_REVIEWS  \\\n",
       "0             39271              5015   \n",
       "1            156683             21075   \n",
       "2               872                70   \n",
       "3             22766              2819   \n",
       "4               834                66   \n",
       "\n",
       "                                   TECHNOLOGIES  \\\n",
       "0                                           NaN   \n",
       "1                                           NaN   \n",
       "2                                  Engine.Godot   \n",
       "3                                  Engine.Unity   \n",
       "4  Detected Technologies (?), SDK.SteamworksNET   \n",
       "\n",
       "                                    RELEASE_DATE  \\\n",
       "0   15 January 2016 – 16:48:00 UTC (9 years ago)   \n",
       "1   9 November 2021 – 04:58:00 UTC (3 years ago)   \n",
       "2  26 November 2021 – 10:54:48 UTC (3 years ago)   \n",
       "3  15 February 2016 – 21:53:00 UTC (8 years ago)   \n",
       "4     25 May 2023 – 10:22:41 UTC (12 months ago)   \n",
       "\n",
       "                                   TOTAL_TWITCH_PEAK    PRICE  N_DLC  \\\n",
       "0   27,368\\nall-time peak 9 years ago17 January 2016  $22.49     3.0   \n",
       "1  81,096\\nall-time peak 3 years ago13 November 2021  $32.78    53.0   \n",
       "2         145\\nall-time peak 2 years ago24 July 2022   $2.99     NaN   \n",
       "3     145,384\\nall-time peak 6 years ago13 June 2018  $10.19     3.0   \n",
       "4     3,778\\nall-time peak 10 months ago18 July 2023      NaN    4.0   \n",
       "\n",
       "           24_HOUR_PEAK  \n",
       "0   1,064\\n24-hour peak  \n",
       "1  16,131\\n24-hour peak  \n",
       "2      21\\n24-hour peak  \n",
       "3      31\\n24-hour peak  \n",
       "4     318\\n24-hour peak  "
      ]
     },
     "execution_count": 4,
     "metadata": {},
     "output_type": "execute_result"
    }
   ],
   "source": [
    "df.head()"
   ]
  },
  {
   "cell_type": "code",
   "execution_count": 5,
   "metadata": {},
   "outputs": [
    {
     "name": "stdout",
     "output_type": "stream",
     "text": [
      "<class 'pandas.core.frame.DataFrame'>\n",
      "RangeIndex: 2259 entries, 0 to 2258\n",
      "Data columns (total 14 columns):\n",
      " #   Column                 Non-Null Count  Dtype  \n",
      "---  ------                 --------------  -----  \n",
      " 0   NAME                   2259 non-null   object \n",
      " 1   STORE_GENRE            2221 non-null   object \n",
      " 2   RATING_SCORE           2225 non-null   object \n",
      " 3   N_SUPPORTED_LANGUAGES  2226 non-null   object \n",
      " 4   DEVELOPERS             2258 non-null   object \n",
      " 5   SUPPORTED_PLATFORMS    2197 non-null   object \n",
      " 6   POSITIVE_REVIEWS       2259 non-null   int64  \n",
      " 7   NEGATIVE_REVIEWS       2259 non-null   int64  \n",
      " 8   TECHNOLOGIES           1845 non-null   object \n",
      " 9   RELEASE_DATE           2255 non-null   object \n",
      " 10  TOTAL_TWITCH_PEAK      2259 non-null   object \n",
      " 11  PRICE                  1507 non-null   object \n",
      " 12  N_DLC                  789 non-null    float64\n",
      " 13  24_HOUR_PEAK           2208 non-null   object \n",
      "dtypes: float64(1), int64(2), object(11)\n",
      "memory usage: 247.2+ KB\n"
     ]
    }
   ],
   "source": [
    "df.info()"
   ]
  },
  {
   "cell_type": "code",
   "execution_count": 6,
   "metadata": {},
   "outputs": [
    {
     "data": {
      "text/html": [
       "<div>\n",
       "<style scoped>\n",
       "    .dataframe tbody tr th:only-of-type {\n",
       "        vertical-align: middle;\n",
       "    }\n",
       "\n",
       "    .dataframe tbody tr th {\n",
       "        vertical-align: top;\n",
       "    }\n",
       "\n",
       "    .dataframe thead th {\n",
       "        text-align: right;\n",
       "    }\n",
       "</style>\n",
       "<table border=\"1\" class=\"dataframe\">\n",
       "  <thead>\n",
       "    <tr style=\"text-align: right;\">\n",
       "      <th></th>\n",
       "      <th>POSITIVE_REVIEWS</th>\n",
       "      <th>NEGATIVE_REVIEWS</th>\n",
       "      <th>N_DLC</th>\n",
       "    </tr>\n",
       "  </thead>\n",
       "  <tbody>\n",
       "    <tr>\n",
       "      <th>count</th>\n",
       "      <td>2.259000e+03</td>\n",
       "      <td>2259.000000</td>\n",
       "      <td>789.000000</td>\n",
       "    </tr>\n",
       "    <tr>\n",
       "      <th>mean</th>\n",
       "      <td>2.087847e+04</td>\n",
       "      <td>1270.529438</td>\n",
       "      <td>5.904943</td>\n",
       "    </tr>\n",
       "    <tr>\n",
       "      <th>std</th>\n",
       "      <td>7.540080e+04</td>\n",
       "      <td>5824.763668</td>\n",
       "      <td>17.345104</td>\n",
       "    </tr>\n",
       "    <tr>\n",
       "      <th>min</th>\n",
       "      <td>3.400000e+01</td>\n",
       "      <td>0.000000</td>\n",
       "      <td>1.000000</td>\n",
       "    </tr>\n",
       "    <tr>\n",
       "      <th>25%</th>\n",
       "      <td>7.245000e+02</td>\n",
       "      <td>33.000000</td>\n",
       "      <td>1.000000</td>\n",
       "    </tr>\n",
       "    <tr>\n",
       "      <th>50%</th>\n",
       "      <td>2.509000e+03</td>\n",
       "      <td>136.000000</td>\n",
       "      <td>2.000000</td>\n",
       "    </tr>\n",
       "    <tr>\n",
       "      <th>75%</th>\n",
       "      <td>1.043100e+04</td>\n",
       "      <td>602.000000</td>\n",
       "      <td>4.000000</td>\n",
       "    </tr>\n",
       "    <tr>\n",
       "      <th>max</th>\n",
       "      <td>1.257272e+06</td>\n",
       "      <td>190953.000000</td>\n",
       "      <td>379.000000</td>\n",
       "    </tr>\n",
       "  </tbody>\n",
       "</table>\n",
       "</div>"
      ],
      "text/plain": [
       "       POSITIVE_REVIEWS  NEGATIVE_REVIEWS       N_DLC\n",
       "count      2.259000e+03       2259.000000  789.000000\n",
       "mean       2.087847e+04       1270.529438    5.904943\n",
       "std        7.540080e+04       5824.763668   17.345104\n",
       "min        3.400000e+01          0.000000    1.000000\n",
       "25%        7.245000e+02         33.000000    1.000000\n",
       "50%        2.509000e+03        136.000000    2.000000\n",
       "75%        1.043100e+04        602.000000    4.000000\n",
       "max        1.257272e+06     190953.000000  379.000000"
      ]
     },
     "execution_count": 6,
     "metadata": {},
     "output_type": "execute_result"
    }
   ],
   "source": [
    "df.describe()"
   ]
  },
  {
   "cell_type": "code",
   "execution_count": 7,
   "metadata": {},
   "outputs": [
    {
     "data": {
      "text/html": [
       "<div>\n",
       "<style scoped>\n",
       "    .dataframe tbody tr th:only-of-type {\n",
       "        vertical-align: middle;\n",
       "    }\n",
       "\n",
       "    .dataframe tbody tr th {\n",
       "        vertical-align: top;\n",
       "    }\n",
       "\n",
       "    .dataframe thead th {\n",
       "        text-align: right;\n",
       "    }\n",
       "</style>\n",
       "<table border=\"1\" class=\"dataframe\">\n",
       "  <thead>\n",
       "    <tr style=\"text-align: right;\">\n",
       "      <th></th>\n",
       "      <th>NAME</th>\n",
       "      <th>STORE_GENRE</th>\n",
       "      <th>RATING_SCORE</th>\n",
       "      <th>N_SUPPORTED_LANGUAGES</th>\n",
       "      <th>DEVELOPERS</th>\n",
       "      <th>SUPPORTED_PLATFORMS</th>\n",
       "      <th>TECHNOLOGIES</th>\n",
       "      <th>RELEASE_DATE</th>\n",
       "      <th>TOTAL_TWITCH_PEAK</th>\n",
       "      <th>PRICE</th>\n",
       "      <th>24_HOUR_PEAK</th>\n",
       "    </tr>\n",
       "  </thead>\n",
       "  <tbody>\n",
       "    <tr>\n",
       "      <th>count</th>\n",
       "      <td>2259</td>\n",
       "      <td>2221</td>\n",
       "      <td>2225</td>\n",
       "      <td>2226</td>\n",
       "      <td>2258</td>\n",
       "      <td>2197</td>\n",
       "      <td>1845</td>\n",
       "      <td>2255</td>\n",
       "      <td>2259</td>\n",
       "      <td>1507</td>\n",
       "      <td>2208</td>\n",
       "    </tr>\n",
       "    <tr>\n",
       "      <th>unique</th>\n",
       "      <td>2088</td>\n",
       "      <td>325</td>\n",
       "      <td>3</td>\n",
       "      <td>36</td>\n",
       "      <td>1668</td>\n",
       "      <td>6</td>\n",
       "      <td>234</td>\n",
       "      <td>2071</td>\n",
       "      <td>2066</td>\n",
       "      <td>125</td>\n",
       "      <td>643</td>\n",
       "    </tr>\n",
       "    <tr>\n",
       "      <th>top</th>\n",
       "      <td>TOEM</td>\n",
       "      <td>Store Genres Action (1), Adventure (25), Indie...</td>\n",
       "      <td>review_score 8</td>\n",
       "      <td>1 Languages</td>\n",
       "      <td>Square Enix</td>\n",
       "      <td>Windows</td>\n",
       "      <td>Engine.Unity</td>\n",
       "      <td>17 September 2021 – 13:00:40 UTC (3 years ago)</td>\n",
       "      <td>2 years ago</td>\n",
       "      <td>$19.99</td>\n",
       "      <td>4\\n24-hour peak</td>\n",
       "    </tr>\n",
       "    <tr>\n",
       "      <th>freq</th>\n",
       "      <td>4</td>\n",
       "      <td>113</td>\n",
       "      <td>1355</td>\n",
       "      <td>583</td>\n",
       "      <td>16</td>\n",
       "      <td>1294</td>\n",
       "      <td>764</td>\n",
       "      <td>4</td>\n",
       "      <td>8</td>\n",
       "      <td>206</td>\n",
       "      <td>81</td>\n",
       "    </tr>\n",
       "  </tbody>\n",
       "</table>\n",
       "</div>"
      ],
      "text/plain": [
       "        NAME                                        STORE_GENRE  \\\n",
       "count   2259                                               2221   \n",
       "unique  2088                                                325   \n",
       "top     TOEM  Store Genres Action (1), Adventure (25), Indie...   \n",
       "freq       4                                                113   \n",
       "\n",
       "          RATING_SCORE N_SUPPORTED_LANGUAGES   DEVELOPERS SUPPORTED_PLATFORMS  \\\n",
       "count             2225                  2226         2258                2197   \n",
       "unique               3                    36         1668                   6   \n",
       "top     review_score 8           1 Languages  Square Enix             Windows   \n",
       "freq              1355                   583           16                1294   \n",
       "\n",
       "        TECHNOLOGIES                                    RELEASE_DATE  \\\n",
       "count           1845                                            2255   \n",
       "unique           234                                            2071   \n",
       "top     Engine.Unity  17 September 2021 – 13:00:40 UTC (3 years ago)   \n",
       "freq             764                                               4   \n",
       "\n",
       "       TOTAL_TWITCH_PEAK    PRICE     24_HOUR_PEAK  \n",
       "count               2259     1507             2208  \n",
       "unique              2066      125              643  \n",
       "top          2 years ago  $19.99   4\\n24-hour peak  \n",
       "freq                   8      206               81  "
      ]
     },
     "execution_count": 7,
     "metadata": {},
     "output_type": "execute_result"
    }
   ],
   "source": [
    "df.describe(include='object')"
   ]
  },
  {
   "cell_type": "markdown",
   "metadata": {
    "jp-MarkdownHeadingCollapsed": true
   },
   "source": [
    "### game_details.csv"
   ]
  },
  {
   "cell_type": "code",
   "execution_count": 8,
   "metadata": {},
   "outputs": [
    {
     "data": {
      "text/html": [
       "<div>\n",
       "<style scoped>\n",
       "    .dataframe tbody tr th:only-of-type {\n",
       "        vertical-align: middle;\n",
       "    }\n",
       "\n",
       "    .dataframe tbody tr th {\n",
       "        vertical-align: top;\n",
       "    }\n",
       "\n",
       "    .dataframe thead th {\n",
       "        text-align: right;\n",
       "    }\n",
       "</style>\n",
       "<table border=\"1\" class=\"dataframe\">\n",
       "  <thead>\n",
       "    <tr style=\"text-align: right;\">\n",
       "      <th></th>\n",
       "      <th>name</th>\n",
       "      <th>url</th>\n",
       "      <th>price</th>\n",
       "      <th>release</th>\n",
       "      <th>page</th>\n",
       "    </tr>\n",
       "  </thead>\n",
       "  <tbody>\n",
       "    <tr>\n",
       "      <th>0</th>\n",
       "      <td>The Price Of Flesh</td>\n",
       "      <td>https://steamdb.info/app/1940040/</td>\n",
       "      <td>$14.99</td>\n",
       "      <td>2022</td>\n",
       "      <td>38</td>\n",
       "    </tr>\n",
       "    <tr>\n",
       "      <th>1</th>\n",
       "      <td>Terminator: Resistance</td>\n",
       "      <td>https://steamdb.info/app/954740/</td>\n",
       "      <td>$39.99</td>\n",
       "      <td>2019</td>\n",
       "      <td>38</td>\n",
       "    </tr>\n",
       "    <tr>\n",
       "      <th>2</th>\n",
       "      <td>Ken Follett's The Pillars of the Earth</td>\n",
       "      <td>https://steamdb.info/app/234270/</td>\n",
       "      <td>$19.99</td>\n",
       "      <td>2017</td>\n",
       "      <td>38</td>\n",
       "    </tr>\n",
       "    <tr>\n",
       "      <th>3</th>\n",
       "      <td>Subsurface Circular</td>\n",
       "      <td>https://steamdb.info/app/676820/</td>\n",
       "      <td>$4.79</td>\n",
       "      <td>2017</td>\n",
       "      <td>38</td>\n",
       "    </tr>\n",
       "    <tr>\n",
       "      <th>4</th>\n",
       "      <td>Sumire</td>\n",
       "      <td>https://steamdb.info/app/1335230/</td>\n",
       "      <td>$5.99</td>\n",
       "      <td>2021</td>\n",
       "      <td>38</td>\n",
       "    </tr>\n",
       "  </tbody>\n",
       "</table>\n",
       "</div>"
      ],
      "text/plain": [
       "                                     name                                url  \\\n",
       "0                      The Price Of Flesh  https://steamdb.info/app/1940040/   \n",
       "1                  Terminator: Resistance   https://steamdb.info/app/954740/   \n",
       "2  Ken Follett's The Pillars of the Earth   https://steamdb.info/app/234270/   \n",
       "3                     Subsurface Circular   https://steamdb.info/app/676820/   \n",
       "4                                  Sumire  https://steamdb.info/app/1335230/   \n",
       "\n",
       "     price release  page  \n",
       "0  $14.99     2022    38  \n",
       "1  $39.99     2019    38  \n",
       "2  $19.99     2017    38  \n",
       "3   $4.79     2017    38  \n",
       "4   $5.99     2021    38  "
      ]
     },
     "execution_count": 8,
     "metadata": {},
     "output_type": "execute_result"
    }
   ],
   "source": [
    "game_details.head()"
   ]
  },
  {
   "cell_type": "code",
   "execution_count": 9,
   "metadata": {},
   "outputs": [
    {
     "name": "stdout",
     "output_type": "stream",
     "text": [
      "<class 'pandas.core.frame.DataFrame'>\n",
      "RangeIndex: 4950 entries, 0 to 4949\n",
      "Data columns (total 5 columns):\n",
      " #   Column   Non-Null Count  Dtype \n",
      "---  ------   --------------  ----- \n",
      " 0   name     4950 non-null   object\n",
      " 1   url      4950 non-null   object\n",
      " 2   price    4950 non-null   object\n",
      " 3   release  4950 non-null   object\n",
      " 4   page     4950 non-null   int64 \n",
      "dtypes: int64(1), object(4)\n",
      "memory usage: 193.5+ KB\n"
     ]
    }
   ],
   "source": [
    "game_details.info()"
   ]
  },
  {
   "cell_type": "code",
   "execution_count": 10,
   "metadata": {},
   "outputs": [
    {
     "data": {
      "text/html": [
       "<div>\n",
       "<style scoped>\n",
       "    .dataframe tbody tr th:only-of-type {\n",
       "        vertical-align: middle;\n",
       "    }\n",
       "\n",
       "    .dataframe tbody tr th {\n",
       "        vertical-align: top;\n",
       "    }\n",
       "\n",
       "    .dataframe thead th {\n",
       "        text-align: right;\n",
       "    }\n",
       "</style>\n",
       "<table border=\"1\" class=\"dataframe\">\n",
       "  <thead>\n",
       "    <tr style=\"text-align: right;\">\n",
       "      <th></th>\n",
       "      <th>name</th>\n",
       "      <th>url</th>\n",
       "      <th>price</th>\n",
       "      <th>release</th>\n",
       "    </tr>\n",
       "  </thead>\n",
       "  <tbody>\n",
       "    <tr>\n",
       "      <th>count</th>\n",
       "      <td>4950</td>\n",
       "      <td>4950</td>\n",
       "      <td>4950</td>\n",
       "      <td>4950</td>\n",
       "    </tr>\n",
       "    <tr>\n",
       "      <th>unique</th>\n",
       "      <td>4236</td>\n",
       "      <td>4238</td>\n",
       "      <td>191</td>\n",
       "      <td>29</td>\n",
       "    </tr>\n",
       "    <tr>\n",
       "      <th>top</th>\n",
       "      <td>Black Book</td>\n",
       "      <td>https://steamdb.info/app/80/</td>\n",
       "      <td>-</td>\n",
       "      <td>2023</td>\n",
       "    </tr>\n",
       "    <tr>\n",
       "      <th>freq</th>\n",
       "      <td>3</td>\n",
       "      <td>3</td>\n",
       "      <td>1131</td>\n",
       "      <td>653</td>\n",
       "    </tr>\n",
       "  </tbody>\n",
       "</table>\n",
       "</div>"
      ],
      "text/plain": [
       "              name                           url price release\n",
       "count         4950                          4950  4950    4950\n",
       "unique        4236                          4238   191      29\n",
       "top     Black Book  https://steamdb.info/app/80/     -    2023\n",
       "freq             3                             3  1131     653"
      ]
     },
     "execution_count": 10,
     "metadata": {},
     "output_type": "execute_result"
    }
   ],
   "source": [
    "game_details.describe(include='object')"
   ]
  },
  {
   "cell_type": "markdown",
   "metadata": {
    "jp-MarkdownHeadingCollapsed": true
   },
   "source": [
    "## Removing Duplicated Games"
   ]
  },
  {
   "cell_type": "code",
   "execution_count": 11,
   "metadata": {},
   "outputs": [
    {
     "name": "stdout",
     "output_type": "stream",
     "text": [
      "Duplicate Rows based on the 'NAME' column:\n",
      "Number of duplicate rows based on the 'NAME' column: 171\n"
     ]
    }
   ],
   "source": [
    "df_copy = df.copy()\n",
    "duplicate_rows = df[df.duplicated(subset=['NAME'])]\n",
    "print(\"Duplicate Rows based on the 'NAME' column:\")\n",
    "\n",
    "num_duplicates = duplicate_rows.shape[0]\n",
    "print(f\"Number of duplicate rows based on the 'NAME' column: {num_duplicates}\")\n",
    "df = df_copy.drop_duplicates(subset=['NAME'], keep='first')\n"
   ]
  },
  {
   "cell_type": "code",
   "execution_count": 12,
   "metadata": {},
   "outputs": [
    {
     "data": {
      "text/plain": [
       "61                             The Night of the Scissors\n",
       "132                 If My Heart Had Wings -Flight Diary-\n",
       "133                                              KNIGHTS\n",
       "139    Command & Conquer: Red Alert™ 2 and Yuri’s Rev...\n",
       "156                                         Metro Exodus\n",
       "Name: NAME, dtype: object"
      ]
     },
     "execution_count": 12,
     "metadata": {},
     "output_type": "execute_result"
    }
   ],
   "source": [
    "duplicate_rows['NAME'].head()"
   ]
  },
  {
   "cell_type": "code",
   "execution_count": 13,
   "metadata": {},
   "outputs": [],
   "source": [
    "del df_copy\n",
    "del duplicate_rows"
   ]
  },
  {
   "cell_type": "markdown",
   "metadata": {
    "jp-MarkdownHeadingCollapsed": true
   },
   "source": [
    "## Handling Missing Values"
   ]
  },
  {
   "cell_type": "code",
   "execution_count": 14,
   "metadata": {},
   "outputs": [],
   "source": [
    "df.replace('N/A', pd.NA, inplace=True)"
   ]
  },
  {
   "cell_type": "code",
   "execution_count": 15,
   "metadata": {},
   "outputs": [],
   "source": [
    "def missing_percentage(df):\n",
    "    missing_percentage = df.isnull().mean() * 100\n",
    "    missing_percentage_table = pd.DataFrame({'Column': missing_percentage.index, 'Missing Percentage': missing_percentage.values})\n",
    "    missing_percentage_table = missing_percentage_table.sort_values(by='Missing Percentage', ascending=False)\n",
    "    return missing_percentage_table\n",
    "\n",
    "missing_percentage_table = missing_percentage(df)"
   ]
  },
  {
   "cell_type": "code",
   "execution_count": 16,
   "metadata": {
    "scrolled": true
   },
   "outputs": [
    {
     "data": {
      "text/html": [
       "<div>\n",
       "<style scoped>\n",
       "    .dataframe tbody tr th:only-of-type {\n",
       "        vertical-align: middle;\n",
       "    }\n",
       "\n",
       "    .dataframe tbody tr th {\n",
       "        vertical-align: top;\n",
       "    }\n",
       "\n",
       "    .dataframe thead th {\n",
       "        text-align: right;\n",
       "    }\n",
       "</style>\n",
       "<table border=\"1\" class=\"dataframe\">\n",
       "  <thead>\n",
       "    <tr style=\"text-align: right;\">\n",
       "      <th></th>\n",
       "      <th>Column</th>\n",
       "      <th>Missing Percentage</th>\n",
       "    </tr>\n",
       "  </thead>\n",
       "  <tbody>\n",
       "    <tr>\n",
       "      <th>12</th>\n",
       "      <td>N_DLC</td>\n",
       "      <td>65.038314</td>\n",
       "    </tr>\n",
       "    <tr>\n",
       "      <th>11</th>\n",
       "      <td>PRICE</td>\n",
       "      <td>32.950192</td>\n",
       "    </tr>\n",
       "    <tr>\n",
       "      <th>8</th>\n",
       "      <td>TECHNOLOGIES</td>\n",
       "      <td>18.582375</td>\n",
       "    </tr>\n",
       "    <tr>\n",
       "      <th>5</th>\n",
       "      <td>SUPPORTED_PLATFORMS</td>\n",
       "      <td>2.729885</td>\n",
       "    </tr>\n",
       "    <tr>\n",
       "      <th>13</th>\n",
       "      <td>24_HOUR_PEAK</td>\n",
       "      <td>2.250958</td>\n",
       "    </tr>\n",
       "    <tr>\n",
       "      <th>1</th>\n",
       "      <td>STORE_GENRE</td>\n",
       "      <td>1.724138</td>\n",
       "    </tr>\n",
       "    <tr>\n",
       "      <th>2</th>\n",
       "      <td>RATING_SCORE</td>\n",
       "      <td>1.532567</td>\n",
       "    </tr>\n",
       "    <tr>\n",
       "      <th>3</th>\n",
       "      <td>N_SUPPORTED_LANGUAGES</td>\n",
       "      <td>1.484674</td>\n",
       "    </tr>\n",
       "    <tr>\n",
       "      <th>9</th>\n",
       "      <td>RELEASE_DATE</td>\n",
       "      <td>0.191571</td>\n",
       "    </tr>\n",
       "    <tr>\n",
       "      <th>4</th>\n",
       "      <td>DEVELOPERS</td>\n",
       "      <td>0.047893</td>\n",
       "    </tr>\n",
       "    <tr>\n",
       "      <th>0</th>\n",
       "      <td>NAME</td>\n",
       "      <td>0.000000</td>\n",
       "    </tr>\n",
       "    <tr>\n",
       "      <th>6</th>\n",
       "      <td>POSITIVE_REVIEWS</td>\n",
       "      <td>0.000000</td>\n",
       "    </tr>\n",
       "    <tr>\n",
       "      <th>7</th>\n",
       "      <td>NEGATIVE_REVIEWS</td>\n",
       "      <td>0.000000</td>\n",
       "    </tr>\n",
       "    <tr>\n",
       "      <th>10</th>\n",
       "      <td>TOTAL_TWITCH_PEAK</td>\n",
       "      <td>0.000000</td>\n",
       "    </tr>\n",
       "  </tbody>\n",
       "</table>\n",
       "</div>"
      ],
      "text/plain": [
       "                   Column  Missing Percentage\n",
       "12                  N_DLC           65.038314\n",
       "11                  PRICE           32.950192\n",
       "8            TECHNOLOGIES           18.582375\n",
       "5     SUPPORTED_PLATFORMS            2.729885\n",
       "13           24_HOUR_PEAK            2.250958\n",
       "1             STORE_GENRE            1.724138\n",
       "2            RATING_SCORE            1.532567\n",
       "3   N_SUPPORTED_LANGUAGES            1.484674\n",
       "9            RELEASE_DATE            0.191571\n",
       "4              DEVELOPERS            0.047893\n",
       "0                    NAME            0.000000\n",
       "6        POSITIVE_REVIEWS            0.000000\n",
       "7        NEGATIVE_REVIEWS            0.000000\n",
       "10      TOTAL_TWITCH_PEAK            0.000000"
      ]
     },
     "execution_count": 16,
     "metadata": {},
     "output_type": "execute_result"
    }
   ],
   "source": [
    "missing_percentage_table"
   ]
  },
  {
   "cell_type": "code",
   "execution_count": 17,
   "metadata": {},
   "outputs": [],
   "source": [
    "del missing_percentage_table"
   ]
  },
  {
   "cell_type": "code",
   "execution_count": 18,
   "metadata": {},
   "outputs": [],
   "source": [
    "def drop_rows_with_missing_data(df, threshold_percentage):\n",
    "    threshold = len(df.columns) * (threshold_percentage / 100)\n",
    "    initial_row_count = len(df)\n",
    "    df_cleaned = df.dropna(thresh=len(df.columns) - threshold)\n",
    "    final_row_count = len(df_cleaned)\n",
    "    rows_deleted = initial_row_count - final_row_count\n",
    "    return df_cleaned, rows_deleted\n",
    "\n",
    "df, rows_deleted = drop_rows_with_missing_data(df, 25)"
   ]
  },
  {
   "cell_type": "code",
   "execution_count": 19,
   "metadata": {},
   "outputs": [
    {
     "name": "stdout",
     "output_type": "stream",
     "text": [
      "Number of rows deleted: 37\n"
     ]
    }
   ],
   "source": [
    "print(f\"Number of rows deleted: {rows_deleted}\")"
   ]
  },
  {
   "cell_type": "code",
   "execution_count": 20,
   "metadata": {},
   "outputs": [
    {
     "data": {
      "text/html": [
       "<div>\n",
       "<style scoped>\n",
       "    .dataframe tbody tr th:only-of-type {\n",
       "        vertical-align: middle;\n",
       "    }\n",
       "\n",
       "    .dataframe tbody tr th {\n",
       "        vertical-align: top;\n",
       "    }\n",
       "\n",
       "    .dataframe thead th {\n",
       "        text-align: right;\n",
       "    }\n",
       "</style>\n",
       "<table border=\"1\" class=\"dataframe\">\n",
       "  <thead>\n",
       "    <tr style=\"text-align: right;\">\n",
       "      <th></th>\n",
       "      <th>Column</th>\n",
       "      <th>Missing Percentage</th>\n",
       "    </tr>\n",
       "  </thead>\n",
       "  <tbody>\n",
       "    <tr>\n",
       "      <th>12</th>\n",
       "      <td>N_DLC</td>\n",
       "      <td>64.895173</td>\n",
       "    </tr>\n",
       "    <tr>\n",
       "      <th>11</th>\n",
       "      <td>PRICE</td>\n",
       "      <td>33.008289</td>\n",
       "    </tr>\n",
       "    <tr>\n",
       "      <th>8</th>\n",
       "      <td>TECHNOLOGIES</td>\n",
       "      <td>18.430034</td>\n",
       "    </tr>\n",
       "    <tr>\n",
       "      <th>5</th>\n",
       "      <td>SUPPORTED_PLATFORMS</td>\n",
       "      <td>2.340322</td>\n",
       "    </tr>\n",
       "    <tr>\n",
       "      <th>13</th>\n",
       "      <td>24_HOUR_PEAK</td>\n",
       "      <td>0.731351</td>\n",
       "    </tr>\n",
       "    <tr>\n",
       "      <th>1</th>\n",
       "      <td>STORE_GENRE</td>\n",
       "      <td>0.195027</td>\n",
       "    </tr>\n",
       "    <tr>\n",
       "      <th>9</th>\n",
       "      <td>RELEASE_DATE</td>\n",
       "      <td>0.195027</td>\n",
       "    </tr>\n",
       "    <tr>\n",
       "      <th>4</th>\n",
       "      <td>DEVELOPERS</td>\n",
       "      <td>0.048757</td>\n",
       "    </tr>\n",
       "    <tr>\n",
       "      <th>0</th>\n",
       "      <td>NAME</td>\n",
       "      <td>0.000000</td>\n",
       "    </tr>\n",
       "    <tr>\n",
       "      <th>2</th>\n",
       "      <td>RATING_SCORE</td>\n",
       "      <td>0.000000</td>\n",
       "    </tr>\n",
       "    <tr>\n",
       "      <th>3</th>\n",
       "      <td>N_SUPPORTED_LANGUAGES</td>\n",
       "      <td>0.000000</td>\n",
       "    </tr>\n",
       "    <tr>\n",
       "      <th>6</th>\n",
       "      <td>POSITIVE_REVIEWS</td>\n",
       "      <td>0.000000</td>\n",
       "    </tr>\n",
       "    <tr>\n",
       "      <th>7</th>\n",
       "      <td>NEGATIVE_REVIEWS</td>\n",
       "      <td>0.000000</td>\n",
       "    </tr>\n",
       "    <tr>\n",
       "      <th>10</th>\n",
       "      <td>TOTAL_TWITCH_PEAK</td>\n",
       "      <td>0.000000</td>\n",
       "    </tr>\n",
       "  </tbody>\n",
       "</table>\n",
       "</div>"
      ],
      "text/plain": [
       "                   Column  Missing Percentage\n",
       "12                  N_DLC           64.895173\n",
       "11                  PRICE           33.008289\n",
       "8            TECHNOLOGIES           18.430034\n",
       "5     SUPPORTED_PLATFORMS            2.340322\n",
       "13           24_HOUR_PEAK            0.731351\n",
       "1             STORE_GENRE            0.195027\n",
       "9            RELEASE_DATE            0.195027\n",
       "4              DEVELOPERS            0.048757\n",
       "0                    NAME            0.000000\n",
       "2            RATING_SCORE            0.000000\n",
       "3   N_SUPPORTED_LANGUAGES            0.000000\n",
       "6        POSITIVE_REVIEWS            0.000000\n",
       "7        NEGATIVE_REVIEWS            0.000000\n",
       "10      TOTAL_TWITCH_PEAK            0.000000"
      ]
     },
     "execution_count": 20,
     "metadata": {},
     "output_type": "execute_result"
    }
   ],
   "source": [
    "missing_percentage_table = missing_percentage(df)\n",
    "missing_percentage_table"
   ]
  },
  {
   "cell_type": "code",
   "execution_count": 21,
   "metadata": {},
   "outputs": [],
   "source": [
    "del missing_percentage_table"
   ]
  },
  {
   "cell_type": "code",
   "execution_count": 22,
   "metadata": {},
   "outputs": [
    {
     "name": "stdout",
     "output_type": "stream",
     "text": [
      "<class 'pandas.core.frame.DataFrame'>\n",
      "Index: 2051 entries, 0 to 2258\n",
      "Data columns (total 14 columns):\n",
      " #   Column                 Non-Null Count  Dtype  \n",
      "---  ------                 --------------  -----  \n",
      " 0   NAME                   2051 non-null   object \n",
      " 1   STORE_GENRE            2047 non-null   object \n",
      " 2   RATING_SCORE           2051 non-null   object \n",
      " 3   N_SUPPORTED_LANGUAGES  2051 non-null   object \n",
      " 4   DEVELOPERS             2050 non-null   object \n",
      " 5   SUPPORTED_PLATFORMS    2003 non-null   object \n",
      " 6   POSITIVE_REVIEWS       2051 non-null   int64  \n",
      " 7   NEGATIVE_REVIEWS       2051 non-null   int64  \n",
      " 8   TECHNOLOGIES           1673 non-null   object \n",
      " 9   RELEASE_DATE           2047 non-null   object \n",
      " 10  TOTAL_TWITCH_PEAK      2051 non-null   object \n",
      " 11  PRICE                  1374 non-null   object \n",
      " 12  N_DLC                  720 non-null    float64\n",
      " 13  24_HOUR_PEAK           2036 non-null   object \n",
      "dtypes: float64(1), int64(2), object(11)\n",
      "memory usage: 240.4+ KB\n"
     ]
    }
   ],
   "source": [
    "df.info()"
   ]
  },
  {
   "cell_type": "markdown",
   "metadata": {
    "jp-MarkdownHeadingCollapsed": true
   },
   "source": [
    "## Handle Missing Values:(`N_DLC`)   \n",
    "### (Remove Columns with High Missing Values)"
   ]
  },
  {
   "cell_type": "code",
   "execution_count": 23,
   "metadata": {},
   "outputs": [],
   "source": [
    "# df['N_DLC'] = pd.to_numeric(df['N_DLC'], errors='coerce') \n",
    "# df['N_DLC'] = df['N_DLC'].fillna(-1)  \n",
    "# df['N_DLC'] = df['N_DLC'].astype(int) \n",
    "# df['N_DLC'] = df['N_DLC'].replace(-1, pd.NA)\n",
    "# df['N_DLC']"
   ]
  },
  {
   "cell_type": "code",
   "execution_count": 24,
   "metadata": {},
   "outputs": [],
   "source": [
    "if 'N_DLC' in df.columns:\n",
    "    df.drop(columns=['N_DLC'], inplace=True)"
   ]
  },
  {
   "cell_type": "code",
   "execution_count": 25,
   "metadata": {},
   "outputs": [
    {
     "name": "stdout",
     "output_type": "stream",
     "text": [
      "<class 'pandas.core.frame.DataFrame'>\n",
      "Index: 2051 entries, 0 to 2258\n",
      "Data columns (total 13 columns):\n",
      " #   Column                 Non-Null Count  Dtype \n",
      "---  ------                 --------------  ----- \n",
      " 0   NAME                   2051 non-null   object\n",
      " 1   STORE_GENRE            2047 non-null   object\n",
      " 2   RATING_SCORE           2051 non-null   object\n",
      " 3   N_SUPPORTED_LANGUAGES  2051 non-null   object\n",
      " 4   DEVELOPERS             2050 non-null   object\n",
      " 5   SUPPORTED_PLATFORMS    2003 non-null   object\n",
      " 6   POSITIVE_REVIEWS       2051 non-null   int64 \n",
      " 7   NEGATIVE_REVIEWS       2051 non-null   int64 \n",
      " 8   TECHNOLOGIES           1673 non-null   object\n",
      " 9   RELEASE_DATE           2047 non-null   object\n",
      " 10  TOTAL_TWITCH_PEAK      2051 non-null   object\n",
      " 11  PRICE                  1374 non-null   object\n",
      " 12  24_HOUR_PEAK           2036 non-null   object\n",
      "dtypes: int64(2), object(11)\n",
      "memory usage: 224.3+ KB\n"
     ]
    }
   ],
   "source": [
    "df.info()"
   ]
  },
  {
   "cell_type": "markdown",
   "metadata": {
    "jp-MarkdownHeadingCollapsed": true
   },
   "source": [
    "## Extracting `PUBLISH_YEAR` from `RELEASE_DATE`"
   ]
  },
  {
   "cell_type": "code",
   "execution_count": 26,
   "metadata": {},
   "outputs": [
    {
     "data": {
      "text/plain": [
       "0     15 January 2016 – 16:48:00 UTC (9 years ago)\n",
       "1     9 November 2021 – 04:58:00 UTC (3 years ago)\n",
       "2    26 November 2021 – 10:54:48 UTC (3 years ago)\n",
       "3    15 February 2016 – 21:53:00 UTC (8 years ago)\n",
       "4       25 May 2023 – 10:22:41 UTC (12 months ago)\n",
       "5          8 May 2022 – 11:32:26 UTC (2 years ago)\n",
       "6      31 July 2023 – 07:27:28 UTC (10 months ago)\n",
       "7      17 April 2014 – 17:00:00 UTC (10 years ago)\n",
       "8    13 December 2022 – 08:00:00 UTC (2 years ago)\n",
       "9         7 July 2015 – 06:59:00 UTC (9 years ago)\n",
       "Name: RELEASE_DATE, dtype: object"
      ]
     },
     "execution_count": 26,
     "metadata": {},
     "output_type": "execute_result"
    }
   ],
   "source": [
    "df['RELEASE_DATE'].head(10)"
   ]
  },
  {
   "cell_type": "code",
   "execution_count": 27,
   "metadata": {},
   "outputs": [],
   "source": [
    "if 'RELEASE_DATE' in df.columns:\n",
    "    df['PUBLISH_YEAR'] = df['RELEASE_DATE'].str.extract(r'(\\d{4})')\n",
    "\n",
    "    df['PUBLISH_YEAR'] = pd.to_numeric(df['PUBLISH_YEAR'], errors='coerce')\n",
    "\n",
    "    df['PUBLISH_YEAR'] = df['PUBLISH_YEAR'].fillna(-1)\n",
    "    df['PUBLISH_YEAR'] = df['PUBLISH_YEAR'].astype(int)\n",
    "    df['PUBLISH_YEAR'] = df['PUBLISH_YEAR'].replace(-1, pd.NA)\n",
    "\n",
    "    df = df.drop('RELEASE_DATE', axis=1)"
   ]
  },
  {
   "cell_type": "markdown",
   "metadata": {
    "jp-MarkdownHeadingCollapsed": true
   },
   "source": [
    "## Handle Missing Values:(`PUBLISH_YEAR`)"
   ]
  },
  {
   "cell_type": "code",
   "execution_count": 28,
   "metadata": {},
   "outputs": [
    {
     "data": {
      "text/plain": [
       "4"
      ]
     },
     "execution_count": 28,
     "metadata": {},
     "output_type": "execute_result"
    }
   ],
   "source": [
    "null_count_before = df['PUBLISH_YEAR'].isnull().sum()\n",
    "null_count_before"
   ]
  },
  {
   "cell_type": "code",
   "execution_count": 29,
   "metadata": {},
   "outputs": [
    {
     "name": "stdout",
     "output_type": "stream",
     "text": [
      "2023\n"
     ]
    }
   ],
   "source": [
    "mode_publish_year = df['PUBLISH_YEAR'].mode()\n",
    "print(mode_publish_year[0])"
   ]
  },
  {
   "cell_type": "code",
   "execution_count": 30,
   "metadata": {},
   "outputs": [
    {
     "name": "stderr",
     "output_type": "stream",
     "text": [
      "C:\\Users\\AFRAA\\AppData\\Local\\Temp\\ipykernel_16128\\3436135746.py:1: FutureWarning: Downcasting object dtype arrays on .fillna, .ffill, .bfill is deprecated and will change in a future version. Call result.infer_objects(copy=False) instead. To opt-in to the future behavior, set `pd.set_option('future.no_silent_downcasting', True)`\n",
      "  df['PUBLISH_YEAR'] = df['PUBLISH_YEAR'].fillna(mode_publish_year[0])\n"
     ]
    }
   ],
   "source": [
    "df['PUBLISH_YEAR'] = df['PUBLISH_YEAR'].fillna(mode_publish_year[0])"
   ]
  },
  {
   "cell_type": "code",
   "execution_count": 31,
   "metadata": {},
   "outputs": [
    {
     "data": {
      "text/plain": [
       "0"
      ]
     },
     "execution_count": 31,
     "metadata": {},
     "output_type": "execute_result"
    }
   ],
   "source": [
    "null_count_after = df['PUBLISH_YEAR'].isnull().sum()\n",
    "null_count_after"
   ]
  },
  {
   "cell_type": "code",
   "execution_count": 32,
   "metadata": {},
   "outputs": [],
   "source": [
    "df['PUBLISH_YEAR'] = df['PUBLISH_YEAR'].astype(int)"
   ]
  },
  {
   "cell_type": "code",
   "execution_count": 33,
   "metadata": {},
   "outputs": [
    {
     "name": "stdout",
     "output_type": "stream",
     "text": [
      "<class 'pandas.core.frame.DataFrame'>\n",
      "Index: 2051 entries, 0 to 2258\n",
      "Data columns (total 13 columns):\n",
      " #   Column                 Non-Null Count  Dtype \n",
      "---  ------                 --------------  ----- \n",
      " 0   NAME                   2051 non-null   object\n",
      " 1   STORE_GENRE            2047 non-null   object\n",
      " 2   RATING_SCORE           2051 non-null   object\n",
      " 3   N_SUPPORTED_LANGUAGES  2051 non-null   object\n",
      " 4   DEVELOPERS             2050 non-null   object\n",
      " 5   SUPPORTED_PLATFORMS    2003 non-null   object\n",
      " 6   POSITIVE_REVIEWS       2051 non-null   int64 \n",
      " 7   NEGATIVE_REVIEWS       2051 non-null   int64 \n",
      " 8   TECHNOLOGIES           1673 non-null   object\n",
      " 9   TOTAL_TWITCH_PEAK      2051 non-null   object\n",
      " 10  PRICE                  1374 non-null   object\n",
      " 11  24_HOUR_PEAK           2036 non-null   object\n",
      " 12  PUBLISH_YEAR           2051 non-null   int32 \n",
      "dtypes: int32(1), int64(2), object(10)\n",
      "memory usage: 216.3+ KB\n"
     ]
    }
   ],
   "source": [
    "df.info()"
   ]
  },
  {
   "cell_type": "markdown",
   "metadata": {
    "jp-MarkdownHeadingCollapsed": true
   },
   "source": [
    "## Handle Missing Values:(`DEVELOPERS`)"
   ]
  },
  {
   "cell_type": "code",
   "execution_count": 34,
   "metadata": {},
   "outputs": [
    {
     "data": {
      "text/plain": [
       "1"
      ]
     },
     "execution_count": 34,
     "metadata": {},
     "output_type": "execute_result"
    }
   ],
   "source": [
    "df['DEVELOPERS'].isnull().sum()"
   ]
  },
  {
   "cell_type": "code",
   "execution_count": 35,
   "metadata": {},
   "outputs": [],
   "source": [
    "df.dropna(subset=['DEVELOPERS'], inplace=True)"
   ]
  },
  {
   "cell_type": "markdown",
   "metadata": {
    "jp-MarkdownHeadingCollapsed": true
   },
   "source": [
    "## Data Cleaning and Integer Conversion: (`N_SUPPORTED_LANGUAGES`)"
   ]
  },
  {
   "cell_type": "markdown",
   "metadata": {},
   "source": [
    "This section handles the `N_SUPPORTED_LANGUAGES` column by filling missing values with a default number (1) and converting the column to an integer type after removing any extraneous text."
   ]
  },
  {
   "cell_type": "code",
   "execution_count": 36,
   "metadata": {},
   "outputs": [
    {
     "data": {
      "text/plain": [
       "0"
      ]
     },
     "execution_count": 36,
     "metadata": {},
     "output_type": "execute_result"
    }
   ],
   "source": [
    "df['N_SUPPORTED_LANGUAGES'].isnull().sum()"
   ]
  },
  {
   "cell_type": "code",
   "execution_count": 37,
   "metadata": {},
   "outputs": [
    {
     "data": {
      "text/plain": [
       "0     7 Languages\n",
       "1    24 Languages\n",
       "2     1 Languages\n",
       "3    12 Languages\n",
       "4     1 Languages\n",
       "Name: N_SUPPORTED_LANGUAGES, dtype: object"
      ]
     },
     "execution_count": 37,
     "metadata": {},
     "output_type": "execute_result"
    }
   ],
   "source": [
    "df['N_SUPPORTED_LANGUAGES'].head()"
   ]
  },
  {
   "cell_type": "code",
   "execution_count": 38,
   "metadata": {},
   "outputs": [],
   "source": [
    "df['N_SUPPORTED_LANGUAGES'] = df['N_SUPPORTED_LANGUAGES'].fillna(1)"
   ]
  },
  {
   "cell_type": "code",
   "execution_count": 39,
   "metadata": {},
   "outputs": [],
   "source": [
    "df['N_SUPPORTED_LANGUAGES'] = df['N_SUPPORTED_LANGUAGES'].astype(str).str.replace(' Languages', '').astype(int)"
   ]
  },
  {
   "cell_type": "markdown",
   "metadata": {
    "jp-MarkdownHeadingCollapsed": true
   },
   "source": [
    "## Data Cleaning and Integer Conversion: (`RATING_SCORE`)"
   ]
  },
  {
   "cell_type": "code",
   "execution_count": 40,
   "metadata": {},
   "outputs": [
    {
     "data": {
      "text/plain": [
       "0"
      ]
     },
     "execution_count": 40,
     "metadata": {},
     "output_type": "execute_result"
    }
   ],
   "source": [
    "df['RATING_SCORE'].isnull().sum()"
   ]
  },
  {
   "cell_type": "code",
   "execution_count": 41,
   "metadata": {},
   "outputs": [
    {
     "data": {
      "text/plain": [
       "0    review_score 8\n",
       "1    review_score 8\n",
       "2    review_score 8\n",
       "3    review_score 8\n",
       "4    review_score 8\n",
       "Name: RATING_SCORE, dtype: object"
      ]
     },
     "execution_count": 41,
     "metadata": {},
     "output_type": "execute_result"
    }
   ],
   "source": [
    "df['RATING_SCORE'].head()"
   ]
  },
  {
   "cell_type": "code",
   "execution_count": 42,
   "metadata": {},
   "outputs": [],
   "source": [
    "placeholder_value = 'review_score -1'\n",
    "df['RATING_SCORE'] = df['RATING_SCORE'].fillna(placeholder_value)"
   ]
  },
  {
   "cell_type": "code",
   "execution_count": 43,
   "metadata": {},
   "outputs": [],
   "source": [
    "df['RATING_SCORE'] = df['RATING_SCORE'].str.replace('review_score ', '').astype(float).astype(int)  "
   ]
  },
  {
   "cell_type": "code",
   "execution_count": 44,
   "metadata": {},
   "outputs": [],
   "source": [
    "# mean_rating_score = df.loc[df['RATING_SCORE'] != -1, 'RATING_SCORE'].mean()  \n",
    "# df.loc[df['RATING_SCORE'] == -1, 'RATING_SCORE'] = mean_rating_score"
   ]
  },
  {
   "cell_type": "markdown",
   "metadata": {
    "jp-MarkdownHeadingCollapsed": true
   },
   "source": [
    "## Data Cleaning and Transforming: (`STORE_GENRE`)"
   ]
  },
  {
   "cell_type": "code",
   "execution_count": 45,
   "metadata": {},
   "outputs": [
    {
     "data": {
      "text/plain": [
       "0     Store Genres Action (1), Adventure (25), RPG (3)\n",
       "1    Store Genres Action (1), Adventure (25), Racin...\n",
       "2    Store Genres Casual (4), Indie (23), Simulatio...\n",
       "3              Store Genres Adventure (25), Indie (23)\n",
       "4           Store Genres Indie (23), Free to Play (37)\n",
       "5    Store Genres Adventure (25), Casual (4), Free ...\n",
       "6    Store Genres Action (1), Simulation (28), Stra...\n",
       "7    Store Genres Indie (23), Simulation (28), Stra...\n",
       "8              Store Genres Action (1), Adventure (25)\n",
       "9    Store Genres Action (1), Indie (23), Racing (9...\n",
       "Name: STORE_GENRE, dtype: object"
      ]
     },
     "execution_count": 45,
     "metadata": {},
     "output_type": "execute_result"
    }
   ],
   "source": [
    "df['STORE_GENRE'].head(10)"
   ]
  },
  {
   "cell_type": "code",
   "execution_count": 46,
   "metadata": {},
   "outputs": [],
   "source": [
    "def clean_store_genre(genre_string):\n",
    "    genres = genre_string.split(', ')\n",
    "    cleaned_genres = []\n",
    "    for genre in genres:\n",
    "        cleaned_genre = genre.split(' (')[0]\n",
    "        cleaned_genres.append(cleaned_genre)\n",
    "    return cleaned_genres"
   ]
  },
  {
   "cell_type": "code",
   "execution_count": 47,
   "metadata": {},
   "outputs": [],
   "source": [
    "df['STORE_GENRE'] = df['STORE_GENRE'].fillna('Store Genres')\n",
    "df['STORE_GENRE'] = df['STORE_GENRE'].str.replace('Store Genres ', '')\n",
    "df['STORE_GENRE'] = df['STORE_GENRE'].apply(clean_store_genre)"
   ]
  },
  {
   "cell_type": "code",
   "execution_count": 48,
   "metadata": {},
   "outputs": [
    {
     "data": {
      "text/plain": [
       "0                           [Action, Adventure, RPG]\n",
       "1    [Action, Adventure, Racing, Simulation, Sports]\n",
       "2          [Casual, Indie, Simulation, Early Access]\n",
       "3                                 [Adventure, Indie]\n",
       "4                              [Indie, Free to Play]\n",
       "5                  [Adventure, Casual, Free to Play]\n",
       "6                     [Action, Simulation, Strategy]\n",
       "7                      [Indie, Simulation, Strategy]\n",
       "8                                [Action, Adventure]\n",
       "9                    [Action, Indie, Racing, Sports]\n",
       "Name: STORE_GENRE, dtype: object"
      ]
     },
     "execution_count": 48,
     "metadata": {},
     "output_type": "execute_result"
    }
   ],
   "source": [
    "df['STORE_GENRE'].head(10)"
   ]
  },
  {
   "cell_type": "markdown",
   "metadata": {
    "jp-MarkdownHeadingCollapsed": true
   },
   "source": [
    "## Extracting and Handling `TWITCH_PEAK` Data"
   ]
  },
  {
   "cell_type": "markdown",
   "metadata": {},
   "source": [
    "##### Extracting `TWITCH_PEAK_HOUR` & `TWITCH_PEAK_YEAR` from `TOTAL_TWITCH_PEAK`\n",
    "##### Handle Missing Values:(`TWITCH_PEAK_YEAR`, `TWITCH_PEAK_HOUR`, `TWITCH_PEAK_HOUR`)"
   ]
  },
  {
   "cell_type": "code",
   "execution_count": 49,
   "metadata": {},
   "outputs": [
    {
     "data": {
      "text/plain": [
       "0     27,368\\nall-time peak 9 years ago17 January 2016\n",
       "1    81,096\\nall-time peak 3 years ago13 November 2021\n",
       "2           145\\nall-time peak 2 years ago24 July 2022\n",
       "3       145,384\\nall-time peak 6 years ago13 June 2018\n",
       "4       3,778\\nall-time peak 10 months ago18 July 2023\n",
       "Name: TOTAL_TWITCH_PEAK, dtype: object"
      ]
     },
     "execution_count": 49,
     "metadata": {},
     "output_type": "execute_result"
    }
   ],
   "source": [
    "df['TOTAL_TWITCH_PEAK'].head()"
   ]
  },
  {
   "cell_type": "code",
   "execution_count": 50,
   "metadata": {},
   "outputs": [
    {
     "data": {
      "text/plain": [
       "15"
      ]
     },
     "execution_count": 50,
     "metadata": {},
     "output_type": "execute_result"
    }
   ],
   "source": [
    "df['24_HOUR_PEAK'].isnull().sum()"
   ]
  },
  {
   "cell_type": "code",
   "execution_count": 51,
   "metadata": {},
   "outputs": [],
   "source": [
    "if 'TOTAL_TWITCH_PEAK' in df.columns:\n",
    "    # Extract and convert the TWITCH_PEAK_HOUR\n",
    "    df['TWITCH_PEAK_HOUR'] = df['TOTAL_TWITCH_PEAK'].apply(lambda x: x.split('\\n')[0].replace(',', ''))\n",
    "    df['TWITCH_PEAK_HOUR'] = pd.to_numeric(df['TWITCH_PEAK_HOUR'], errors='coerce')\n",
    "    df['TWITCH_PEAK_HOUR'] = df['TWITCH_PEAK_HOUR'].fillna(-1)\n",
    "    df['TWITCH_PEAK_HOUR'] = df['TWITCH_PEAK_HOUR'].astype(int)\n",
    "    df['TWITCH_PEAK_HOUR'] = df['TWITCH_PEAK_HOUR'].replace(-1, pd.NA)\n",
    "    \n",
    "    # Extract and convert the TWITCH_PEAK_YEAR\n",
    "    df['TWITCH_PEAK_YEAR'] = df['TOTAL_TWITCH_PEAK'].apply(lambda x: x.split()[-1])\n",
    "    df['TWITCH_PEAK_YEAR'] = pd.to_numeric(df['TWITCH_PEAK_YEAR'], errors='coerce')\n",
    "    df['TWITCH_PEAK_YEAR'] = df['TWITCH_PEAK_YEAR'].fillna(-1)\n",
    "    df['TWITCH_PEAK_YEAR'] = df['TWITCH_PEAK_YEAR'].astype(int)\n",
    "    df['TWITCH_PEAK_YEAR'] = df['TWITCH_PEAK_YEAR'].replace(-1, pd.NA)\n",
    "\n"
   ]
  },
  {
   "cell_type": "code",
   "execution_count": 52,
   "metadata": {},
   "outputs": [
    {
     "name": "stdout",
     "output_type": "stream",
     "text": [
      "<class 'pandas.core.frame.DataFrame'>\n",
      "Index: 2050 entries, 0 to 2258\n",
      "Data columns (total 15 columns):\n",
      " #   Column                 Non-Null Count  Dtype \n",
      "---  ------                 --------------  ----- \n",
      " 0   NAME                   2050 non-null   object\n",
      " 1   STORE_GENRE            2050 non-null   object\n",
      " 2   RATING_SCORE           2050 non-null   int32 \n",
      " 3   N_SUPPORTED_LANGUAGES  2050 non-null   int32 \n",
      " 4   DEVELOPERS             2050 non-null   object\n",
      " 5   SUPPORTED_PLATFORMS    2002 non-null   object\n",
      " 6   POSITIVE_REVIEWS       2050 non-null   int64 \n",
      " 7   NEGATIVE_REVIEWS       2050 non-null   int64 \n",
      " 8   TECHNOLOGIES           1672 non-null   object\n",
      " 9   TOTAL_TWITCH_PEAK      2050 non-null   object\n",
      " 10  PRICE                  1373 non-null   object\n",
      " 11  24_HOUR_PEAK           2035 non-null   object\n",
      " 12  PUBLISH_YEAR           2050 non-null   int32 \n",
      " 13  TWITCH_PEAK_HOUR       2035 non-null   object\n",
      " 14  TWITCH_PEAK_YEAR       2035 non-null   object\n",
      "dtypes: int32(3), int64(2), object(10)\n",
      "memory usage: 232.2+ KB\n"
     ]
    }
   ],
   "source": [
    "df.info()"
   ]
  },
  {
   "cell_type": "code",
   "execution_count": 53,
   "metadata": {},
   "outputs": [
    {
     "data": {
      "text/plain": [
       "15"
      ]
     },
     "execution_count": 53,
     "metadata": {},
     "output_type": "execute_result"
    }
   ],
   "source": [
    "df['TWITCH_PEAK_YEAR'].isnull().sum()"
   ]
  },
  {
   "cell_type": "code",
   "execution_count": 54,
   "metadata": {},
   "outputs": [
    {
     "data": {
      "text/plain": [
       "15"
      ]
     },
     "execution_count": 54,
     "metadata": {},
     "output_type": "execute_result"
    }
   ],
   "source": [
    "df['TWITCH_PEAK_HOUR'].isnull().sum()"
   ]
  },
  {
   "cell_type": "code",
   "execution_count": 55,
   "metadata": {},
   "outputs": [
    {
     "data": {
      "text/html": [
       "<div>\n",
       "<style scoped>\n",
       "    .dataframe tbody tr th:only-of-type {\n",
       "        vertical-align: middle;\n",
       "    }\n",
       "\n",
       "    .dataframe tbody tr th {\n",
       "        vertical-align: top;\n",
       "    }\n",
       "\n",
       "    .dataframe thead th {\n",
       "        text-align: right;\n",
       "    }\n",
       "</style>\n",
       "<table border=\"1\" class=\"dataframe\">\n",
       "  <thead>\n",
       "    <tr style=\"text-align: right;\">\n",
       "      <th></th>\n",
       "      <th>TWITCH_PEAK_HOUR</th>\n",
       "      <th>TWITCH_PEAK_YEAR</th>\n",
       "      <th>TOTAL_TWITCH_PEAK</th>\n",
       "    </tr>\n",
       "  </thead>\n",
       "  <tbody>\n",
       "    <tr>\n",
       "      <th>5</th>\n",
       "      <td>&lt;NA&gt;</td>\n",
       "      <td>&lt;NA&gt;</td>\n",
       "      <td>2 years ago</td>\n",
       "    </tr>\n",
       "    <tr>\n",
       "      <th>10</th>\n",
       "      <td>&lt;NA&gt;</td>\n",
       "      <td>&lt;NA&gt;</td>\n",
       "      <td>5 years ago</td>\n",
       "    </tr>\n",
       "    <tr>\n",
       "      <th>122</th>\n",
       "      <td>&lt;NA&gt;</td>\n",
       "      <td>&lt;NA&gt;</td>\n",
       "      <td>9 years ago</td>\n",
       "    </tr>\n",
       "    <tr>\n",
       "      <th>152</th>\n",
       "      <td>&lt;NA&gt;</td>\n",
       "      <td>&lt;NA&gt;</td>\n",
       "      <td>4 years ago</td>\n",
       "    </tr>\n",
       "    <tr>\n",
       "      <th>279</th>\n",
       "      <td>&lt;NA&gt;</td>\n",
       "      <td>&lt;NA&gt;</td>\n",
       "      <td>5 months ago</td>\n",
       "    </tr>\n",
       "    <tr>\n",
       "      <th>286</th>\n",
       "      <td>&lt;NA&gt;</td>\n",
       "      <td>&lt;NA&gt;</td>\n",
       "      <td>6 years ago</td>\n",
       "    </tr>\n",
       "    <tr>\n",
       "      <th>539</th>\n",
       "      <td>&lt;NA&gt;</td>\n",
       "      <td>&lt;NA&gt;</td>\n",
       "      <td>4 years ago</td>\n",
       "    </tr>\n",
       "    <tr>\n",
       "      <th>548</th>\n",
       "      <td>&lt;NA&gt;</td>\n",
       "      <td>&lt;NA&gt;</td>\n",
       "      <td>13 months ago</td>\n",
       "    </tr>\n",
       "    <tr>\n",
       "      <th>572</th>\n",
       "      <td>&lt;NA&gt;</td>\n",
       "      <td>&lt;NA&gt;</td>\n",
       "      <td>11 days ago</td>\n",
       "    </tr>\n",
       "    <tr>\n",
       "      <th>580</th>\n",
       "      <td>&lt;NA&gt;</td>\n",
       "      <td>&lt;NA&gt;</td>\n",
       "      <td>14 months ago</td>\n",
       "    </tr>\n",
       "    <tr>\n",
       "      <th>615</th>\n",
       "      <td>&lt;NA&gt;</td>\n",
       "      <td>&lt;NA&gt;</td>\n",
       "      <td>7 months ago</td>\n",
       "    </tr>\n",
       "    <tr>\n",
       "      <th>631</th>\n",
       "      <td>&lt;NA&gt;</td>\n",
       "      <td>&lt;NA&gt;</td>\n",
       "      <td>6 months ago</td>\n",
       "    </tr>\n",
       "    <tr>\n",
       "      <th>1297</th>\n",
       "      <td>&lt;NA&gt;</td>\n",
       "      <td>&lt;NA&gt;</td>\n",
       "      <td>7 months ago</td>\n",
       "    </tr>\n",
       "    <tr>\n",
       "      <th>1333</th>\n",
       "      <td>&lt;NA&gt;</td>\n",
       "      <td>&lt;NA&gt;</td>\n",
       "      <td>3 months ago</td>\n",
       "    </tr>\n",
       "    <tr>\n",
       "      <th>1929</th>\n",
       "      <td>&lt;NA&gt;</td>\n",
       "      <td>&lt;NA&gt;</td>\n",
       "      <td>9 years ago</td>\n",
       "    </tr>\n",
       "  </tbody>\n",
       "</table>\n",
       "</div>"
      ],
      "text/plain": [
       "     TWITCH_PEAK_HOUR TWITCH_PEAK_YEAR TOTAL_TWITCH_PEAK\n",
       "5                <NA>             <NA>       2 years ago\n",
       "10               <NA>             <NA>       5 years ago\n",
       "122              <NA>             <NA>       9 years ago\n",
       "152              <NA>             <NA>       4 years ago\n",
       "279              <NA>             <NA>      5 months ago\n",
       "286              <NA>             <NA>       6 years ago\n",
       "539              <NA>             <NA>       4 years ago\n",
       "548              <NA>             <NA>     13 months ago\n",
       "572              <NA>             <NA>       11 days ago\n",
       "580              <NA>             <NA>     14 months ago\n",
       "615              <NA>             <NA>      7 months ago\n",
       "631              <NA>             <NA>      6 months ago\n",
       "1297             <NA>             <NA>      7 months ago\n",
       "1333             <NA>             <NA>      3 months ago\n",
       "1929             <NA>             <NA>       9 years ago"
      ]
     },
     "execution_count": 55,
     "metadata": {},
     "output_type": "execute_result"
    }
   ],
   "source": [
    "df[(df['TWITCH_PEAK_HOUR'].isnull() | df['TWITCH_PEAK_YEAR'].isnull())][['TWITCH_PEAK_HOUR','TWITCH_PEAK_YEAR', 'TOTAL_TWITCH_PEAK']]\n"
   ]
  },
  {
   "cell_type": "code",
   "execution_count": 56,
   "metadata": {},
   "outputs": [],
   "source": [
    "data_collection_date = datetime(2024, 5, 28)\n",
    "\n",
    "def calculate_twitch_peak_year(total_twitch_peak):\n",
    "    match = re.match(r\"(\\d+)\\s(\\w+)\\sago\", total_twitch_peak)\n",
    "    if not match:\n",
    "        return None\n",
    "    \n",
    "    value, unit = int(match.group(1)), match.group(2)\n",
    "    if unit.startswith('year'):\n",
    "        delta = timedelta(days=365 * value)\n",
    "    elif unit.startswith('month'):\n",
    "        delta = timedelta(days=30 * value)\n",
    "    elif unit.startswith('day'):\n",
    "        delta = timedelta(days=value)\n",
    "    else:\n",
    "        return None\n",
    "    \n",
    "    peak_date = data_collection_date - delta\n",
    "    return peak_date.year"
   ]
  },
  {
   "cell_type": "code",
   "execution_count": 57,
   "metadata": {},
   "outputs": [],
   "source": [
    "df.loc[df['TWITCH_PEAK_YEAR'].isnull(), 'TWITCH_PEAK_YEAR'] = df.loc[df['TWITCH_PEAK_YEAR'].isnull(), 'TOTAL_TWITCH_PEAK'].apply(calculate_twitch_peak_year)"
   ]
  },
  {
   "cell_type": "code",
   "execution_count": 58,
   "metadata": {},
   "outputs": [
    {
     "data": {
      "text/html": [
       "<div>\n",
       "<style scoped>\n",
       "    .dataframe tbody tr th:only-of-type {\n",
       "        vertical-align: middle;\n",
       "    }\n",
       "\n",
       "    .dataframe tbody tr th {\n",
       "        vertical-align: top;\n",
       "    }\n",
       "\n",
       "    .dataframe thead th {\n",
       "        text-align: right;\n",
       "    }\n",
       "</style>\n",
       "<table border=\"1\" class=\"dataframe\">\n",
       "  <thead>\n",
       "    <tr style=\"text-align: right;\">\n",
       "      <th></th>\n",
       "      <th>TWITCH_PEAK_HOUR</th>\n",
       "      <th>TWITCH_PEAK_YEAR</th>\n",
       "      <th>TOTAL_TWITCH_PEAK</th>\n",
       "    </tr>\n",
       "  </thead>\n",
       "  <tbody>\n",
       "    <tr>\n",
       "      <th>5</th>\n",
       "      <td>&lt;NA&gt;</td>\n",
       "      <td>2022</td>\n",
       "      <td>2 years ago</td>\n",
       "    </tr>\n",
       "    <tr>\n",
       "      <th>10</th>\n",
       "      <td>&lt;NA&gt;</td>\n",
       "      <td>2019</td>\n",
       "      <td>5 years ago</td>\n",
       "    </tr>\n",
       "    <tr>\n",
       "      <th>122</th>\n",
       "      <td>&lt;NA&gt;</td>\n",
       "      <td>2015</td>\n",
       "      <td>9 years ago</td>\n",
       "    </tr>\n",
       "    <tr>\n",
       "      <th>152</th>\n",
       "      <td>&lt;NA&gt;</td>\n",
       "      <td>2020</td>\n",
       "      <td>4 years ago</td>\n",
       "    </tr>\n",
       "    <tr>\n",
       "      <th>279</th>\n",
       "      <td>&lt;NA&gt;</td>\n",
       "      <td>2023</td>\n",
       "      <td>5 months ago</td>\n",
       "    </tr>\n",
       "    <tr>\n",
       "      <th>286</th>\n",
       "      <td>&lt;NA&gt;</td>\n",
       "      <td>2018</td>\n",
       "      <td>6 years ago</td>\n",
       "    </tr>\n",
       "    <tr>\n",
       "      <th>539</th>\n",
       "      <td>&lt;NA&gt;</td>\n",
       "      <td>2020</td>\n",
       "      <td>4 years ago</td>\n",
       "    </tr>\n",
       "    <tr>\n",
       "      <th>548</th>\n",
       "      <td>&lt;NA&gt;</td>\n",
       "      <td>2023</td>\n",
       "      <td>13 months ago</td>\n",
       "    </tr>\n",
       "    <tr>\n",
       "      <th>572</th>\n",
       "      <td>&lt;NA&gt;</td>\n",
       "      <td>2024</td>\n",
       "      <td>11 days ago</td>\n",
       "    </tr>\n",
       "    <tr>\n",
       "      <th>580</th>\n",
       "      <td>&lt;NA&gt;</td>\n",
       "      <td>2023</td>\n",
       "      <td>14 months ago</td>\n",
       "    </tr>\n",
       "    <tr>\n",
       "      <th>615</th>\n",
       "      <td>&lt;NA&gt;</td>\n",
       "      <td>2023</td>\n",
       "      <td>7 months ago</td>\n",
       "    </tr>\n",
       "    <tr>\n",
       "      <th>631</th>\n",
       "      <td>&lt;NA&gt;</td>\n",
       "      <td>2023</td>\n",
       "      <td>6 months ago</td>\n",
       "    </tr>\n",
       "    <tr>\n",
       "      <th>1297</th>\n",
       "      <td>&lt;NA&gt;</td>\n",
       "      <td>2023</td>\n",
       "      <td>7 months ago</td>\n",
       "    </tr>\n",
       "    <tr>\n",
       "      <th>1333</th>\n",
       "      <td>&lt;NA&gt;</td>\n",
       "      <td>2024</td>\n",
       "      <td>3 months ago</td>\n",
       "    </tr>\n",
       "    <tr>\n",
       "      <th>1929</th>\n",
       "      <td>&lt;NA&gt;</td>\n",
       "      <td>2015</td>\n",
       "      <td>9 years ago</td>\n",
       "    </tr>\n",
       "  </tbody>\n",
       "</table>\n",
       "</div>"
      ],
      "text/plain": [
       "     TWITCH_PEAK_HOUR TWITCH_PEAK_YEAR TOTAL_TWITCH_PEAK\n",
       "5                <NA>             2022       2 years ago\n",
       "10               <NA>             2019       5 years ago\n",
       "122              <NA>             2015       9 years ago\n",
       "152              <NA>             2020       4 years ago\n",
       "279              <NA>             2023      5 months ago\n",
       "286              <NA>             2018       6 years ago\n",
       "539              <NA>             2020       4 years ago\n",
       "548              <NA>             2023     13 months ago\n",
       "572              <NA>             2024       11 days ago\n",
       "580              <NA>             2023     14 months ago\n",
       "615              <NA>             2023      7 months ago\n",
       "631              <NA>             2023      6 months ago\n",
       "1297             <NA>             2023      7 months ago\n",
       "1333             <NA>             2024      3 months ago\n",
       "1929             <NA>             2015       9 years ago"
      ]
     },
     "execution_count": 58,
     "metadata": {},
     "output_type": "execute_result"
    }
   ],
   "source": [
    "df[(df['TWITCH_PEAK_HOUR'].isnull() | df['TWITCH_PEAK_YEAR'].isnull())][['TWITCH_PEAK_HOUR','TWITCH_PEAK_YEAR', 'TOTAL_TWITCH_PEAK']]\n"
   ]
  },
  {
   "cell_type": "code",
   "execution_count": 59,
   "metadata": {},
   "outputs": [
    {
     "data": {
      "text/html": [
       "<div>\n",
       "<style scoped>\n",
       "    .dataframe tbody tr th:only-of-type {\n",
       "        vertical-align: middle;\n",
       "    }\n",
       "\n",
       "    .dataframe tbody tr th {\n",
       "        vertical-align: top;\n",
       "    }\n",
       "\n",
       "    .dataframe thead th {\n",
       "        text-align: right;\n",
       "    }\n",
       "</style>\n",
       "<table border=\"1\" class=\"dataframe\">\n",
       "  <thead>\n",
       "    <tr style=\"text-align: right;\">\n",
       "      <th></th>\n",
       "      <th>TWITCH_PEAK_HOUR</th>\n",
       "      <th>24_HOUR_PEAK</th>\n",
       "    </tr>\n",
       "  </thead>\n",
       "  <tbody>\n",
       "    <tr>\n",
       "      <th>5</th>\n",
       "      <td>&lt;NA&gt;</td>\n",
       "      <td>NaN</td>\n",
       "    </tr>\n",
       "    <tr>\n",
       "      <th>10</th>\n",
       "      <td>&lt;NA&gt;</td>\n",
       "      <td>NaN</td>\n",
       "    </tr>\n",
       "    <tr>\n",
       "      <th>122</th>\n",
       "      <td>&lt;NA&gt;</td>\n",
       "      <td>NaN</td>\n",
       "    </tr>\n",
       "    <tr>\n",
       "      <th>152</th>\n",
       "      <td>&lt;NA&gt;</td>\n",
       "      <td>NaN</td>\n",
       "    </tr>\n",
       "    <tr>\n",
       "      <th>279</th>\n",
       "      <td>&lt;NA&gt;</td>\n",
       "      <td>NaN</td>\n",
       "    </tr>\n",
       "    <tr>\n",
       "      <th>286</th>\n",
       "      <td>&lt;NA&gt;</td>\n",
       "      <td>NaN</td>\n",
       "    </tr>\n",
       "    <tr>\n",
       "      <th>539</th>\n",
       "      <td>&lt;NA&gt;</td>\n",
       "      <td>NaN</td>\n",
       "    </tr>\n",
       "    <tr>\n",
       "      <th>548</th>\n",
       "      <td>&lt;NA&gt;</td>\n",
       "      <td>NaN</td>\n",
       "    </tr>\n",
       "    <tr>\n",
       "      <th>572</th>\n",
       "      <td>&lt;NA&gt;</td>\n",
       "      <td>NaN</td>\n",
       "    </tr>\n",
       "    <tr>\n",
       "      <th>580</th>\n",
       "      <td>&lt;NA&gt;</td>\n",
       "      <td>NaN</td>\n",
       "    </tr>\n",
       "    <tr>\n",
       "      <th>615</th>\n",
       "      <td>&lt;NA&gt;</td>\n",
       "      <td>NaN</td>\n",
       "    </tr>\n",
       "    <tr>\n",
       "      <th>631</th>\n",
       "      <td>&lt;NA&gt;</td>\n",
       "      <td>NaN</td>\n",
       "    </tr>\n",
       "    <tr>\n",
       "      <th>1297</th>\n",
       "      <td>&lt;NA&gt;</td>\n",
       "      <td>NaN</td>\n",
       "    </tr>\n",
       "    <tr>\n",
       "      <th>1333</th>\n",
       "      <td>&lt;NA&gt;</td>\n",
       "      <td>NaN</td>\n",
       "    </tr>\n",
       "    <tr>\n",
       "      <th>1929</th>\n",
       "      <td>&lt;NA&gt;</td>\n",
       "      <td>NaN</td>\n",
       "    </tr>\n",
       "  </tbody>\n",
       "</table>\n",
       "</div>"
      ],
      "text/plain": [
       "     TWITCH_PEAK_HOUR 24_HOUR_PEAK\n",
       "5                <NA>          NaN\n",
       "10               <NA>          NaN\n",
       "122              <NA>          NaN\n",
       "152              <NA>          NaN\n",
       "279              <NA>          NaN\n",
       "286              <NA>          NaN\n",
       "539              <NA>          NaN\n",
       "548              <NA>          NaN\n",
       "572              <NA>          NaN\n",
       "580              <NA>          NaN\n",
       "615              <NA>          NaN\n",
       "631              <NA>          NaN\n",
       "1297             <NA>          NaN\n",
       "1333             <NA>          NaN\n",
       "1929             <NA>          NaN"
      ]
     },
     "execution_count": 59,
     "metadata": {},
     "output_type": "execute_result"
    }
   ],
   "source": [
    "df[(df['TWITCH_PEAK_HOUR'].isnull() |  df['TWITCH_PEAK_YEAR'].isnull())][['TWITCH_PEAK_HOUR', '24_HOUR_PEAK']]"
   ]
  },
  {
   "cell_type": "code",
   "execution_count": 60,
   "metadata": {},
   "outputs": [],
   "source": [
    "df = df.dropna(subset=['TWITCH_PEAK_HOUR', '24_HOUR_PEAK'], how='all')"
   ]
  },
  {
   "cell_type": "code",
   "execution_count": 61,
   "metadata": {},
   "outputs": [],
   "source": [
    "#Drop the original column `TOTAL_TWITCH_PEAK`\n",
    "df.drop(columns=['TOTAL_TWITCH_PEAK'], inplace=True)"
   ]
  },
  {
   "cell_type": "code",
   "execution_count": 62,
   "metadata": {},
   "outputs": [],
   "source": [
    "df['TWITCH_PEAK_HOUR'] = df['TWITCH_PEAK_HOUR'].astype(float)\n",
    "df['TWITCH_PEAK_YEAR'] = df['TWITCH_PEAK_YEAR'].astype(int)"
   ]
  },
  {
   "cell_type": "code",
   "execution_count": 63,
   "metadata": {},
   "outputs": [
    {
     "name": "stdout",
     "output_type": "stream",
     "text": [
      "<class 'pandas.core.frame.DataFrame'>\n",
      "Index: 2035 entries, 0 to 2258\n",
      "Data columns (total 14 columns):\n",
      " #   Column                 Non-Null Count  Dtype  \n",
      "---  ------                 --------------  -----  \n",
      " 0   NAME                   2035 non-null   object \n",
      " 1   STORE_GENRE            2035 non-null   object \n",
      " 2   RATING_SCORE           2035 non-null   int32  \n",
      " 3   N_SUPPORTED_LANGUAGES  2035 non-null   int32  \n",
      " 4   DEVELOPERS             2035 non-null   object \n",
      " 5   SUPPORTED_PLATFORMS    1988 non-null   object \n",
      " 6   POSITIVE_REVIEWS       2035 non-null   int64  \n",
      " 7   NEGATIVE_REVIEWS       2035 non-null   int64  \n",
      " 8   TECHNOLOGIES           1658 non-null   object \n",
      " 9   PRICE                  1371 non-null   object \n",
      " 10  24_HOUR_PEAK           2035 non-null   object \n",
      " 11  PUBLISH_YEAR           2035 non-null   int32  \n",
      " 12  TWITCH_PEAK_HOUR       2035 non-null   float64\n",
      " 13  TWITCH_PEAK_YEAR       2035 non-null   int32  \n",
      "dtypes: float64(1), int32(4), int64(2), object(7)\n",
      "memory usage: 206.7+ KB\n"
     ]
    }
   ],
   "source": [
    "df.info()"
   ]
  },
  {
   "cell_type": "markdown",
   "metadata": {
    "jp-MarkdownHeadingCollapsed": true
   },
   "source": [
    "## Transforming: (`24_HOUR_PEAK`)\n"
   ]
  },
  {
   "cell_type": "code",
   "execution_count": 64,
   "metadata": {},
   "outputs": [
    {
     "data": {
      "text/plain": [
       "0     1,064\\n24-hour peak\n",
       "1    16,131\\n24-hour peak\n",
       "2        21\\n24-hour peak\n",
       "3        31\\n24-hour peak\n",
       "4       318\\n24-hour peak\n",
       "Name: 24_HOUR_PEAK, dtype: object"
      ]
     },
     "execution_count": 64,
     "metadata": {},
     "output_type": "execute_result"
    }
   ],
   "source": [
    "df['24_HOUR_PEAK'].head()"
   ]
  },
  {
   "cell_type": "code",
   "execution_count": 65,
   "metadata": {},
   "outputs": [],
   "source": [
    "df['24_HOUR_PEAK'] = df['24_HOUR_PEAK'].fillna((\"-1\\n24-hour peak\"))\n",
    "df['24_HOUR_PEAK'] = df['24_HOUR_PEAK'].apply(lambda x: int(x.split('\\n')[0].replace(',', ''))).astype(float)"
   ]
  },
  {
   "cell_type": "code",
   "execution_count": 66,
   "metadata": {},
   "outputs": [],
   "source": [
    "df.loc[df['24_HOUR_PEAK'] == -1, '24_HOUR_PEAK'] = pd.NA"
   ]
  },
  {
   "cell_type": "code",
   "execution_count": 67,
   "metadata": {},
   "outputs": [
    {
     "data": {
      "text/plain": [
       "count      2035.000000\n",
       "mean       1184.959214\n",
       "std        6437.130999\n",
       "min           0.000000\n",
       "25%          10.000000\n",
       "50%          37.000000\n",
       "75%         210.000000\n",
       "max      109950.000000\n",
       "Name: 24_HOUR_PEAK, dtype: float64"
      ]
     },
     "execution_count": 67,
     "metadata": {},
     "output_type": "execute_result"
    }
   ],
   "source": [
    "df['24_HOUR_PEAK'].describe()"
   ]
  },
  {
   "cell_type": "code",
   "execution_count": 68,
   "metadata": {},
   "outputs": [
    {
     "data": {
      "text/plain": [
       "0"
      ]
     },
     "execution_count": 68,
     "metadata": {},
     "output_type": "execute_result"
    }
   ],
   "source": [
    "df['24_HOUR_PEAK'].isnull().sum()"
   ]
  },
  {
   "cell_type": "code",
   "execution_count": 69,
   "metadata": {},
   "outputs": [],
   "source": [
    "df['24_HOUR_PEAK'] = df['24_HOUR_PEAK'].fillna(df['24_HOUR_PEAK'].median())"
   ]
  },
  {
   "cell_type": "markdown",
   "metadata": {
    "jp-MarkdownHeadingCollapsed": true
   },
   "source": [
    "## Extracting `TOTAL_REVIEW` from `POSITIVE_REVIEWS` & `NEGATIVE_REVIEWS`"
   ]
  },
  {
   "cell_type": "markdown",
   "metadata": {},
   "source": [
    "This section calculates a new 'TOTAL_REVIEW' column, which represents the proportion of positive reviews out of the total number of reviews (positive and negative). This helps in understanding the overall review distribution for each game."
   ]
  },
  {
   "cell_type": "code",
   "execution_count": 70,
   "metadata": {},
   "outputs": [
    {
     "data": {
      "text/plain": [
       "0"
      ]
     },
     "execution_count": 70,
     "metadata": {},
     "output_type": "execute_result"
    }
   ],
   "source": [
    "df['POSITIVE_REVIEWS'].isnull().sum()"
   ]
  },
  {
   "cell_type": "code",
   "execution_count": 71,
   "metadata": {},
   "outputs": [
    {
     "data": {
      "text/plain": [
       "0"
      ]
     },
     "execution_count": 71,
     "metadata": {},
     "output_type": "execute_result"
    }
   ],
   "source": [
    "df['NEGATIVE_REVIEWS'].isnull().sum()"
   ]
  },
  {
   "cell_type": "code",
   "execution_count": 72,
   "metadata": {},
   "outputs": [
    {
     "data": {
      "text/plain": [
       "0    0.886759\n",
       "1    0.881440\n",
       "2    0.925690\n",
       "3    0.889818\n",
       "4    0.926667\n",
       "Name: TOTAL_REVIEW, dtype: float64"
      ]
     },
     "execution_count": 72,
     "metadata": {},
     "output_type": "execute_result"
    }
   ],
   "source": [
    "df['TOTAL_REVIEW'] = df['POSITIVE_REVIEWS'] / (df['NEGATIVE_REVIEWS'] + df['POSITIVE_REVIEWS'])\n",
    "df['TOTAL_REVIEW'].head()"
   ]
  },
  {
   "cell_type": "markdown",
   "metadata": {
    "jp-MarkdownHeadingCollapsed": true
   },
   "source": [
    "\n",
    "## <span style=\"color:RED\"> Cleaning and Handling Missing: (`TECHNOLOGIES`) </span>"
   ]
  },
  {
   "cell_type": "code",
   "execution_count": 73,
   "metadata": {},
   "outputs": [
    {
     "data": {
      "text/plain": [
       "0                                                   NaN\n",
       "1                                                   NaN\n",
       "2                                          Engine.Godot\n",
       "3                                          Engine.Unity\n",
       "4          Detected Technologies (?), SDK.SteamworksNET\n",
       "6                                          Engine.Unity\n",
       "7                                                   NaN\n",
       "8                 Engine.Unreal, SDK.EpicOnlineServices\n",
       "9                 Engine.Unreal, SDK.EpicOnlineServices\n",
       "11    Engine.PyGame, Engine.RenPy, Detected Technolo...\n",
       "Name: TECHNOLOGIES, dtype: object"
      ]
     },
     "execution_count": 73,
     "metadata": {},
     "output_type": "execute_result"
    }
   ],
   "source": [
    "df['TECHNOLOGIES'].head(10)"
   ]
  },
  {
   "cell_type": "code",
   "execution_count": 74,
   "metadata": {},
   "outputs": [],
   "source": [
    "df['TECHNOLOGIES'] = df['TECHNOLOGIES'].str.replace('Detected Technologies (?)', '', regex=False).str.replace(', ,', ',').str.strip(', ')"
   ]
  },
  {
   "cell_type": "code",
   "execution_count": 75,
   "metadata": {},
   "outputs": [
    {
     "data": {
      "text/plain": [
       "0                                                   NaN\n",
       "1                                                   NaN\n",
       "2                                          Engine.Godot\n",
       "3                                          Engine.Unity\n",
       "4                                     SDK.SteamworksNET\n",
       "6                                          Engine.Unity\n",
       "7                                                   NaN\n",
       "8                 Engine.Unreal, SDK.EpicOnlineServices\n",
       "9                 Engine.Unreal, SDK.EpicOnlineServices\n",
       "11    Engine.PyGame, Engine.RenPy, Engine.PyGame, En...\n",
       "Name: TECHNOLOGIES, dtype: object"
      ]
     },
     "execution_count": 75,
     "metadata": {},
     "output_type": "execute_result"
    }
   ],
   "source": [
    "df['TECHNOLOGIES'].head(10)"
   ]
  },
  {
   "cell_type": "code",
   "execution_count": 76,
   "metadata": {},
   "outputs": [
    {
     "data": {
      "text/html": [
       "<div>\n",
       "<style scoped>\n",
       "    .dataframe tbody tr th:only-of-type {\n",
       "        vertical-align: middle;\n",
       "    }\n",
       "\n",
       "    .dataframe tbody tr th {\n",
       "        vertical-align: top;\n",
       "    }\n",
       "\n",
       "    .dataframe thead th {\n",
       "        text-align: right;\n",
       "    }\n",
       "</style>\n",
       "<table border=\"1\" class=\"dataframe\">\n",
       "  <thead>\n",
       "    <tr style=\"text-align: right;\">\n",
       "      <th></th>\n",
       "      <th>NAME</th>\n",
       "      <th>PUBLISH_YEAR</th>\n",
       "    </tr>\n",
       "  </thead>\n",
       "  <tbody>\n",
       "    <tr>\n",
       "      <th>0</th>\n",
       "      <td>Dragon's Dogma: Dark Arisen</td>\n",
       "      <td>2016</td>\n",
       "    </tr>\n",
       "    <tr>\n",
       "      <th>1</th>\n",
       "      <td>Forza Horizon 5</td>\n",
       "      <td>2021</td>\n",
       "    </tr>\n",
       "    <tr>\n",
       "      <th>7</th>\n",
       "      <td>Wargame: Red Dragon</td>\n",
       "      <td>2014</td>\n",
       "    </tr>\n",
       "    <tr>\n",
       "      <th>23</th>\n",
       "      <td>Ghost of Tsushima DIRECTOR'S CUT</td>\n",
       "      <td>2024</td>\n",
       "    </tr>\n",
       "    <tr>\n",
       "      <th>36</th>\n",
       "      <td>100 hidden dogs</td>\n",
       "      <td>2021</td>\n",
       "    </tr>\n",
       "    <tr>\n",
       "      <th>40</th>\n",
       "      <td>Rush Rally 3</td>\n",
       "      <td>2022</td>\n",
       "    </tr>\n",
       "    <tr>\n",
       "      <th>44</th>\n",
       "      <td>100 hidden birds</td>\n",
       "      <td>2020</td>\n",
       "    </tr>\n",
       "    <tr>\n",
       "      <th>62</th>\n",
       "      <td>Granblue Fantasy: Relink</td>\n",
       "      <td>2024</td>\n",
       "    </tr>\n",
       "    <tr>\n",
       "      <th>66</th>\n",
       "      <td>Cursed 3</td>\n",
       "      <td>2022</td>\n",
       "    </tr>\n",
       "    <tr>\n",
       "      <th>68</th>\n",
       "      <td>Stardom 3 Deluxe</td>\n",
       "      <td>2022</td>\n",
       "    </tr>\n",
       "  </tbody>\n",
       "</table>\n",
       "</div>"
      ],
      "text/plain": [
       "                                NAME  PUBLISH_YEAR\n",
       "0        Dragon's Dogma: Dark Arisen          2016\n",
       "1                    Forza Horizon 5          2021\n",
       "7                Wargame: Red Dragon          2014\n",
       "23  Ghost of Tsushima DIRECTOR'S CUT          2024\n",
       "36                   100 hidden dogs          2021\n",
       "40                      Rush Rally 3          2022\n",
       "44                  100 hidden birds          2020\n",
       "62          Granblue Fantasy: Relink          2024\n",
       "66                          Cursed 3          2022\n",
       "68                  Stardom 3 Deluxe          2022"
      ]
     },
     "execution_count": 76,
     "metadata": {},
     "output_type": "execute_result"
    }
   ],
   "source": [
    "df[df['TECHNOLOGIES'].isnull()][['NAME', 'PUBLISH_YEAR']].head(10)"
   ]
  },
  {
   "cell_type": "code",
   "execution_count": 77,
   "metadata": {},
   "outputs": [],
   "source": [
    "df['TECHNOLOGIES'] = df['TECHNOLOGIES'].fillna(' ')  # Replace NaN with empty string\n",
    "df['TECHNOLOGIES'] = df['TECHNOLOGIES'].apply(lambda x: x.split(', ') if x else [])"
   ]
  },
  {
   "cell_type": "code",
   "execution_count": 78,
   "metadata": {},
   "outputs": [
    {
     "data": {
      "text/plain": [
       "0                                         [ ]\n",
       "1                                         [ ]\n",
       "2                              [Engine.Godot]\n",
       "3                              [Engine.Unity]\n",
       "4                         [SDK.SteamworksNET]\n",
       "                        ...                  \n",
       "2253                           [Engine.Unity]\n",
       "2254                                      [ ]\n",
       "2256                         [Engine.Solar2D]\n",
       "2257    [AntiCheat.PunkBuster, Engine.idTech]\n",
       "2258                           [Engine.Unity]\n",
       "Name: TECHNOLOGIES, Length: 2035, dtype: object"
      ]
     },
     "execution_count": 78,
     "metadata": {},
     "output_type": "execute_result"
    }
   ],
   "source": [
    "df['TECHNOLOGIES']"
   ]
  },
  {
   "cell_type": "markdown",
   "metadata": {},
   "source": [
    "## <span style=\"color:RED\"> One-Hot Encoding `TECHNOLOGIES` Column (`TECHNOLOGIES`) </span>"
   ]
  },
  {
   "cell_type": "code",
   "execution_count": 79,
   "metadata": {},
   "outputs": [],
   "source": [
    "## ##################################################TODO"
   ]
  },
  {
   "cell_type": "markdown",
   "metadata": {},
   "source": [
    "\n",
    "## <span style=\"color:RED\"> One-Hot Encoding `STORE_GENRE` Column (`STORE_GENRE`) </span>"
   ]
  },
  {
   "cell_type": "code",
   "execution_count": 80,
   "metadata": {},
   "outputs": [],
   "source": [
    "## ##################################################TODO"
   ]
  },
  {
   "cell_type": "markdown",
   "metadata": {},
   "source": [
    "## One-Hot Encoding `SUPPORTED_PLATFORMS` Column"
   ]
  },
  {
   "cell_type": "markdown",
   "metadata": {},
   "source": [
    "This section transforms the 'SUPPORTED_PLATFORMS' column into separate binary columns for each platform using one-hot encoding, which facilitates easier analysis and modeling."
   ]
  },
  {
   "cell_type": "code",
   "execution_count": 81,
   "metadata": {},
   "outputs": [
    {
     "data": {
      "text/plain": [
       "0                   Windows\n",
       "1                   Windows\n",
       "2             Windows Linux\n",
       "3       Windows macOS Linux\n",
       "4                   Windows\n",
       "               ...         \n",
       "2253          Windows macOS\n",
       "2254          Windows macOS\n",
       "2256          Windows macOS\n",
       "2257                    NaN\n",
       "2258                Windows\n",
       "Name: SUPPORTED_PLATFORMS, Length: 2035, dtype: object"
      ]
     },
     "execution_count": 81,
     "metadata": {},
     "output_type": "execute_result"
    }
   ],
   "source": [
    "df['SUPPORTED_PLATFORMS']"
   ]
  },
  {
   "cell_type": "code",
   "execution_count": 82,
   "metadata": {},
   "outputs": [
    {
     "data": {
      "text/plain": [
       "47"
      ]
     },
     "execution_count": 82,
     "metadata": {},
     "output_type": "execute_result"
    }
   ],
   "source": [
    "df['SUPPORTED_PLATFORMS'].isnull().sum()"
   ]
  },
  {
   "cell_type": "code",
   "execution_count": 83,
   "metadata": {},
   "outputs": [],
   "source": [
    "# all_platforms = df['SUPPORTED_PLATFORMS'].dropna().str.split().sum()\n",
    "# platform_counts = Counter(all_platforms)\n",
    "# most_common_platform = platform_counts.most_common(1)[0][0]\n",
    "\n",
    "# most_common_platform\n",
    "\n",
    "# df.loc[df['SUPPORTED_PLATFORMS'].isnull(), 'SUPPORTED_PLATFORMS'] = most_common_platform"
   ]
  },
  {
   "cell_type": "code",
   "execution_count": 84,
   "metadata": {},
   "outputs": [],
   "source": [
    "# Split the 'SUPPORTED_PLATFORMS' column into separate columns for each platform\n",
    "platform_dummies = df['SUPPORTED_PLATFORMS'].str.get_dummies(sep=' ')\n",
    "\n",
    "# Concatenate the dummy columns with the original DataFrame\n",
    "df = pd.concat([df, platform_dummies], axis=1)"
   ]
  },
  {
   "cell_type": "code",
   "execution_count": 85,
   "metadata": {},
   "outputs": [],
   "source": [
    "df.drop(columns=['SUPPORTED_PLATFORMS'], inplace=True)"
   ]
  },
  {
   "cell_type": "code",
   "execution_count": 86,
   "metadata": {},
   "outputs": [
    {
     "name": "stdout",
     "output_type": "stream",
     "text": [
      "<class 'pandas.core.frame.DataFrame'>\n",
      "Index: 2035 entries, 0 to 2258\n",
      "Data columns (total 17 columns):\n",
      " #   Column                 Non-Null Count  Dtype  \n",
      "---  ------                 --------------  -----  \n",
      " 0   NAME                   2035 non-null   object \n",
      " 1   STORE_GENRE            2035 non-null   object \n",
      " 2   RATING_SCORE           2035 non-null   int32  \n",
      " 3   N_SUPPORTED_LANGUAGES  2035 non-null   int32  \n",
      " 4   DEVELOPERS             2035 non-null   object \n",
      " 5   POSITIVE_REVIEWS       2035 non-null   int64  \n",
      " 6   NEGATIVE_REVIEWS       2035 non-null   int64  \n",
      " 7   TECHNOLOGIES           2035 non-null   object \n",
      " 8   PRICE                  1371 non-null   object \n",
      " 9   24_HOUR_PEAK           2035 non-null   float64\n",
      " 10  PUBLISH_YEAR           2035 non-null   int32  \n",
      " 11  TWITCH_PEAK_HOUR       2035 non-null   float64\n",
      " 12  TWITCH_PEAK_YEAR       2035 non-null   int32  \n",
      " 13  TOTAL_REVIEW           2035 non-null   float64\n",
      " 14  Linux                  2035 non-null   int64  \n",
      " 15  Windows                2035 non-null   int64  \n",
      " 16  macOS                  2035 non-null   int64  \n",
      "dtypes: float64(3), int32(4), int64(5), object(5)\n",
      "memory usage: 254.4+ KB\n"
     ]
    }
   ],
   "source": [
    "df.info()"
   ]
  },
  {
   "cell_type": "markdown",
   "metadata": {},
   "source": [
    "## Merging Game Information and Price DataFrames"
   ]
  },
  {
   "cell_type": "markdown",
   "metadata": {
    "jp-MarkdownHeadingCollapsed": true
   },
   "source": [
    "### Removing `PRICE` Column"
   ]
  },
  {
   "cell_type": "code",
   "execution_count": 87,
   "metadata": {},
   "outputs": [
    {
     "name": "stdout",
     "output_type": "stream",
     "text": [
      "<class 'pandas.core.frame.DataFrame'>\n",
      "Index: 2035 entries, 0 to 2258\n",
      "Data columns (total 17 columns):\n",
      " #   Column                 Non-Null Count  Dtype  \n",
      "---  ------                 --------------  -----  \n",
      " 0   NAME                   2035 non-null   object \n",
      " 1   STORE_GENRE            2035 non-null   object \n",
      " 2   RATING_SCORE           2035 non-null   int32  \n",
      " 3   N_SUPPORTED_LANGUAGES  2035 non-null   int32  \n",
      " 4   DEVELOPERS             2035 non-null   object \n",
      " 5   POSITIVE_REVIEWS       2035 non-null   int64  \n",
      " 6   NEGATIVE_REVIEWS       2035 non-null   int64  \n",
      " 7   TECHNOLOGIES           2035 non-null   object \n",
      " 8   PRICE                  1371 non-null   object \n",
      " 9   24_HOUR_PEAK           2035 non-null   float64\n",
      " 10  PUBLISH_YEAR           2035 non-null   int32  \n",
      " 11  TWITCH_PEAK_HOUR       2035 non-null   float64\n",
      " 12  TWITCH_PEAK_YEAR       2035 non-null   int32  \n",
      " 13  TOTAL_REVIEW           2035 non-null   float64\n",
      " 14  Linux                  2035 non-null   int64  \n",
      " 15  Windows                2035 non-null   int64  \n",
      " 16  macOS                  2035 non-null   int64  \n",
      "dtypes: float64(3), int32(4), int64(5), object(5)\n",
      "memory usage: 254.4+ KB\n"
     ]
    }
   ],
   "source": [
    "df.info()"
   ]
  },
  {
   "cell_type": "code",
   "execution_count": 88,
   "metadata": {},
   "outputs": [
    {
     "name": "stdout",
     "output_type": "stream",
     "text": [
      "<class 'pandas.core.frame.DataFrame'>\n",
      "RangeIndex: 4950 entries, 0 to 4949\n",
      "Data columns (total 5 columns):\n",
      " #   Column   Non-Null Count  Dtype \n",
      "---  ------   --------------  ----- \n",
      " 0   name     4950 non-null   object\n",
      " 1   url      4950 non-null   object\n",
      " 2   price    4950 non-null   object\n",
      " 3   release  4950 non-null   object\n",
      " 4   page     4950 non-null   int64 \n",
      "dtypes: int64(1), object(4)\n",
      "memory usage: 193.5+ KB\n"
     ]
    }
   ],
   "source": [
    "game_details.info()"
   ]
  },
  {
   "cell_type": "code",
   "execution_count": 89,
   "metadata": {},
   "outputs": [
    {
     "name": "stdout",
     "output_type": "stream",
     "text": [
      "Non-numeric values:\n",
      "                                   name                                url  \\\n",
      "352             Building Relationships  https://steamdb.info/app/2666920/   \n",
      "354          BoneField: Bodycam Horror  https://steamdb.info/app/2567770/   \n",
      "355                         TEXNOPLAZM  https://steamdb.info/app/2527710/   \n",
      "356                Ripple In Dirac Sea  https://steamdb.info/app/2421650/   \n",
      "357                     100 Egypt Cats  https://steamdb.info/app/3017380/   \n",
      "...                                ...                                ...   \n",
      "2749                        Splinterra  https://steamdb.info/app/2779600/   \n",
      "3225             Football Manager 2011    https://steamdb.info/app/34220/   \n",
      "3782  Assassin’s Creed® IV Black Flag™   https://steamdb.info/app/242050/   \n",
      "4487    Serious Sam Fusion 2017 (beta)   https://steamdb.info/app/564310/   \n",
      "4772                   Sniper Elite V2    https://steamdb.info/app/63380/   \n",
      "\n",
      "        price release  page  \n",
      "352         -       -    46  \n",
      "354         -       -    46  \n",
      "355         -       -    46  \n",
      "356         -       -    46  \n",
      "357         -       -    46  \n",
      "...       ...     ...   ...  \n",
      "2749        -       -    52  \n",
      "3225        -       -    68  \n",
      "3782  $39.99        -    65  \n",
      "4487  $11.00        -    76  \n",
      "4772        -       -    82  \n",
      "\n",
      "[244 rows x 5 columns]\n"
     ]
    }
   ],
   "source": [
    "non_numeric = game_details[~game_details['release'].str.isnumeric()]\n",
    "print(\"Non-numeric values:\\n\", non_numeric)\n",
    "game_details_cleaned = game_details[game_details['release'].str.isnumeric()]\n",
    "\n",
    "game_details['release'] = pd.to_numeric(game_details['release'], errors='coerce')\n",
    "\n",
    "game_details['release'] = game_details['release'].astype('Int64')"
   ]
  },
  {
   "cell_type": "code",
   "execution_count": 90,
   "metadata": {},
   "outputs": [],
   "source": [
    "def standardize_spaces(text):\n",
    "    if isinstance(text, str):\n",
    "        return re.sub(r'\\s+', ' ', text)\n",
    "    return text\n",
    "\n",
    "df['NAME'] = df['NAME'].astype(str).str.lower().str.strip().apply(standardize_spaces)\n",
    "game_details['name'] = game_details['name'].astype(str).str.lower().str.strip().apply(standardize_spaces)"
   ]
  },
  {
   "cell_type": "code",
   "execution_count": 91,
   "metadata": {},
   "outputs": [],
   "source": [
    "def is_valid_price(price):\n",
    "    return not (str(price).startswith('$') or str(price) == '-')\n",
    "\n",
    "df.loc[~df['PRICE'].apply(is_valid_price), 'PRICE'] = np.nan\n",
    "filtered_df = df[df['PRICE'].apply(is_valid_price)]\n",
    "\n",
    "for index, row in filtered_df.iterrows():\n",
    "    game_name = row['NAME']\n",
    "    game_date = row['PUBLISH_YEAR']\n",
    "    price = game_details[game_details['name'] == game_name]['price'].values\n",
    "    \n",
    "    if len(price) > 0:\n",
    "        df.at[index, 'PRICE'] = price[0]"
   ]
  },
  {
   "cell_type": "code",
   "execution_count": 92,
   "metadata": {},
   "outputs": [],
   "source": [
    "# name_set = set(df['NAME'])\n",
    "\n",
    "# missing_games_urls = game_details[~game_details['name'].isin(name_set)]['url'].tolist()\n",
    "\n",
    "# with open('missing_games_urls.txt', 'w') as file:\n",
    "#     for url in missing_games_urls:\n",
    "#         file.write(url + '\\n')"
   ]
  },
  {
   "cell_type": "code",
   "execution_count": 93,
   "metadata": {},
   "outputs": [
    {
     "data": {
      "text/html": [
       "<div>\n",
       "<style scoped>\n",
       "    .dataframe tbody tr th:only-of-type {\n",
       "        vertical-align: middle;\n",
       "    }\n",
       "\n",
       "    .dataframe tbody tr th {\n",
       "        vertical-align: top;\n",
       "    }\n",
       "\n",
       "    .dataframe thead th {\n",
       "        text-align: right;\n",
       "    }\n",
       "</style>\n",
       "<table border=\"1\" class=\"dataframe\">\n",
       "  <thead>\n",
       "    <tr style=\"text-align: right;\">\n",
       "      <th></th>\n",
       "      <th>NAME</th>\n",
       "      <th>STORE_GENRE</th>\n",
       "      <th>RATING_SCORE</th>\n",
       "      <th>N_SUPPORTED_LANGUAGES</th>\n",
       "      <th>DEVELOPERS</th>\n",
       "      <th>POSITIVE_REVIEWS</th>\n",
       "      <th>NEGATIVE_REVIEWS</th>\n",
       "      <th>TECHNOLOGIES</th>\n",
       "      <th>PRICE</th>\n",
       "      <th>24_HOUR_PEAK</th>\n",
       "      <th>PUBLISH_YEAR</th>\n",
       "      <th>TWITCH_PEAK_HOUR</th>\n",
       "      <th>TWITCH_PEAK_YEAR</th>\n",
       "      <th>TOTAL_REVIEW</th>\n",
       "      <th>Linux</th>\n",
       "      <th>Windows</th>\n",
       "      <th>macOS</th>\n",
       "    </tr>\n",
       "  </thead>\n",
       "  <tbody>\n",
       "    <tr>\n",
       "      <th>0</th>\n",
       "      <td>dragon's dogma: dark arisen</td>\n",
       "      <td>[Action, Adventure, RPG]</td>\n",
       "      <td>8</td>\n",
       "      <td>7</td>\n",
       "      <td>Capcom</td>\n",
       "      <td>39271</td>\n",
       "      <td>5015</td>\n",
       "      <td>[ ]</td>\n",
       "      <td>NaN</td>\n",
       "      <td>1064.0</td>\n",
       "      <td>2016</td>\n",
       "      <td>27368.0</td>\n",
       "      <td>2016</td>\n",
       "      <td>0.886759</td>\n",
       "      <td>0</td>\n",
       "      <td>1</td>\n",
       "      <td>0</td>\n",
       "    </tr>\n",
       "    <tr>\n",
       "      <th>1</th>\n",
       "      <td>forza horizon 5</td>\n",
       "      <td>[Action, Adventure, Racing, Simulation, Sports]</td>\n",
       "      <td>8</td>\n",
       "      <td>24</td>\n",
       "      <td>Playground Games</td>\n",
       "      <td>156683</td>\n",
       "      <td>21075</td>\n",
       "      <td>[ ]</td>\n",
       "      <td>NaN</td>\n",
       "      <td>16131.0</td>\n",
       "      <td>2021</td>\n",
       "      <td>81096.0</td>\n",
       "      <td>2021</td>\n",
       "      <td>0.881440</td>\n",
       "      <td>0</td>\n",
       "      <td>1</td>\n",
       "      <td>0</td>\n",
       "    </tr>\n",
       "    <tr>\n",
       "      <th>3</th>\n",
       "      <td>layers of fear (2016)</td>\n",
       "      <td>[Adventure, Indie]</td>\n",
       "      <td>8</td>\n",
       "      <td>12</td>\n",
       "      <td>Bloober Team SA</td>\n",
       "      <td>22766</td>\n",
       "      <td>2819</td>\n",
       "      <td>[Engine.Unity]</td>\n",
       "      <td>NaN</td>\n",
       "      <td>31.0</td>\n",
       "      <td>2016</td>\n",
       "      <td>145384.0</td>\n",
       "      <td>2018</td>\n",
       "      <td>0.889818</td>\n",
       "      <td>1</td>\n",
       "      <td>1</td>\n",
       "      <td>1</td>\n",
       "    </tr>\n",
       "    <tr>\n",
       "      <th>4</th>\n",
       "      <td>taskpals</td>\n",
       "      <td>[Indie, Free to Play]</td>\n",
       "      <td>8</td>\n",
       "      <td>1</td>\n",
       "      <td>lazarche</td>\n",
       "      <td>834</td>\n",
       "      <td>66</td>\n",
       "      <td>[SDK.SteamworksNET]</td>\n",
       "      <td>NaN</td>\n",
       "      <td>318.0</td>\n",
       "      <td>2023</td>\n",
       "      <td>3778.0</td>\n",
       "      <td>2023</td>\n",
       "      <td>0.926667</td>\n",
       "      <td>0</td>\n",
       "      <td>1</td>\n",
       "      <td>0</td>\n",
       "    </tr>\n",
       "    <tr>\n",
       "      <th>7</th>\n",
       "      <td>wargame: red dragon</td>\n",
       "      <td>[Indie, Simulation, Strategy]</td>\n",
       "      <td>8</td>\n",
       "      <td>11</td>\n",
       "      <td>Eugen Systems</td>\n",
       "      <td>16273</td>\n",
       "      <td>1969</td>\n",
       "      <td>[ ]</td>\n",
       "      <td>NaN</td>\n",
       "      <td>802.0</td>\n",
       "      <td>2014</td>\n",
       "      <td>4779.0</td>\n",
       "      <td>2014</td>\n",
       "      <td>0.892062</td>\n",
       "      <td>1</td>\n",
       "      <td>1</td>\n",
       "      <td>1</td>\n",
       "    </tr>\n",
       "    <tr>\n",
       "      <th>...</th>\n",
       "      <td>...</td>\n",
       "      <td>...</td>\n",
       "      <td>...</td>\n",
       "      <td>...</td>\n",
       "      <td>...</td>\n",
       "      <td>...</td>\n",
       "      <td>...</td>\n",
       "      <td>...</td>\n",
       "      <td>...</td>\n",
       "      <td>...</td>\n",
       "      <td>...</td>\n",
       "      <td>...</td>\n",
       "      <td>...</td>\n",
       "      <td>...</td>\n",
       "      <td>...</td>\n",
       "      <td>...</td>\n",
       "      <td>...</td>\n",
       "    </tr>\n",
       "    <tr>\n",
       "      <th>2253</th>\n",
       "      <td>mad games tycoon</td>\n",
       "      <td>[Casual, Indie, Simulation, Strategy]</td>\n",
       "      <td>8</td>\n",
       "      <td>18</td>\n",
       "      <td>Eggcode</td>\n",
       "      <td>3988</td>\n",
       "      <td>403</td>\n",
       "      <td>[Engine.Unity]</td>\n",
       "      <td>NaN</td>\n",
       "      <td>17.0</td>\n",
       "      <td>2016</td>\n",
       "      <td>1434.0</td>\n",
       "      <td>2016</td>\n",
       "      <td>0.908221</td>\n",
       "      <td>0</td>\n",
       "      <td>1</td>\n",
       "      <td>1</td>\n",
       "    </tr>\n",
       "    <tr>\n",
       "      <th>2254</th>\n",
       "      <td>fireboy &amp; watergirl: elements</td>\n",
       "      <td>[Action]</td>\n",
       "      <td>8</td>\n",
       "      <td>1</td>\n",
       "      <td>Oslo Albet</td>\n",
       "      <td>707</td>\n",
       "      <td>93</td>\n",
       "      <td>[ ]</td>\n",
       "      <td>NaN</td>\n",
       "      <td>13.0</td>\n",
       "      <td>2019</td>\n",
       "      <td>118.0</td>\n",
       "      <td>2020</td>\n",
       "      <td>0.883750</td>\n",
       "      <td>0</td>\n",
       "      <td>1</td>\n",
       "      <td>1</td>\n",
       "    </tr>\n",
       "    <tr>\n",
       "      <th>2256</th>\n",
       "      <td>coromon</td>\n",
       "      <td>[Adventure, Indie, RPG, Strategy]</td>\n",
       "      <td>8</td>\n",
       "      <td>18</td>\n",
       "      <td>TRAGsoft</td>\n",
       "      <td>4355</td>\n",
       "      <td>672</td>\n",
       "      <td>[Engine.Solar2D]</td>\n",
       "      <td>NaN</td>\n",
       "      <td>254.0</td>\n",
       "      <td>2022</td>\n",
       "      <td>4026.0</td>\n",
       "      <td>2022</td>\n",
       "      <td>0.866322</td>\n",
       "      <td>0</td>\n",
       "      <td>1</td>\n",
       "      <td>1</td>\n",
       "    </tr>\n",
       "    <tr>\n",
       "      <th>2257</th>\n",
       "      <td>call of duty: united offensive</td>\n",
       "      <td>[Action]</td>\n",
       "      <td>8</td>\n",
       "      <td>3</td>\n",
       "      <td>Gray Matter Studios</td>\n",
       "      <td>1648</td>\n",
       "      <td>247</td>\n",
       "      <td>[AntiCheat.PunkBuster, Engine.idTech]</td>\n",
       "      <td>NaN</td>\n",
       "      <td>61.0</td>\n",
       "      <td>2006</td>\n",
       "      <td>96.0</td>\n",
       "      <td>2020</td>\n",
       "      <td>0.869657</td>\n",
       "      <td>0</td>\n",
       "      <td>0</td>\n",
       "      <td>0</td>\n",
       "    </tr>\n",
       "    <tr>\n",
       "      <th>2258</th>\n",
       "      <td>solium infernum</td>\n",
       "      <td>[Indie, Strategy]</td>\n",
       "      <td>8</td>\n",
       "      <td>12</td>\n",
       "      <td>League of Geeks</td>\n",
       "      <td>873</td>\n",
       "      <td>118</td>\n",
       "      <td>[Engine.Unity]</td>\n",
       "      <td>NaN</td>\n",
       "      <td>106.0</td>\n",
       "      <td>2024</td>\n",
       "      <td>1115.0</td>\n",
       "      <td>2024</td>\n",
       "      <td>0.880928</td>\n",
       "      <td>0</td>\n",
       "      <td>1</td>\n",
       "      <td>0</td>\n",
       "    </tr>\n",
       "  </tbody>\n",
       "</table>\n",
       "<p>709 rows × 17 columns</p>\n",
       "</div>"
      ],
      "text/plain": [
       "                                NAME  \\\n",
       "0        dragon's dogma: dark arisen   \n",
       "1                    forza horizon 5   \n",
       "3              layers of fear (2016)   \n",
       "4                           taskpals   \n",
       "7                wargame: red dragon   \n",
       "...                              ...   \n",
       "2253                mad games tycoon   \n",
       "2254   fireboy & watergirl: elements   \n",
       "2256                         coromon   \n",
       "2257  call of duty: united offensive   \n",
       "2258                 solium infernum   \n",
       "\n",
       "                                          STORE_GENRE  RATING_SCORE  \\\n",
       "0                            [Action, Adventure, RPG]             8   \n",
       "1     [Action, Adventure, Racing, Simulation, Sports]             8   \n",
       "3                                  [Adventure, Indie]             8   \n",
       "4                               [Indie, Free to Play]             8   \n",
       "7                       [Indie, Simulation, Strategy]             8   \n",
       "...                                               ...           ...   \n",
       "2253            [Casual, Indie, Simulation, Strategy]             8   \n",
       "2254                                         [Action]             8   \n",
       "2256                [Adventure, Indie, RPG, Strategy]             8   \n",
       "2257                                         [Action]             8   \n",
       "2258                                [Indie, Strategy]             8   \n",
       "\n",
       "      N_SUPPORTED_LANGUAGES           DEVELOPERS  POSITIVE_REVIEWS  \\\n",
       "0                         7               Capcom             39271   \n",
       "1                        24     Playground Games            156683   \n",
       "3                        12      Bloober Team SA             22766   \n",
       "4                         1             lazarche               834   \n",
       "7                        11        Eugen Systems             16273   \n",
       "...                     ...                  ...               ...   \n",
       "2253                     18              Eggcode              3988   \n",
       "2254                      1           Oslo Albet               707   \n",
       "2256                     18             TRAGsoft              4355   \n",
       "2257                      3  Gray Matter Studios              1648   \n",
       "2258                     12      League of Geeks               873   \n",
       "\n",
       "      NEGATIVE_REVIEWS                           TECHNOLOGIES PRICE  \\\n",
       "0                 5015                                    [ ]   NaN   \n",
       "1                21075                                    [ ]   NaN   \n",
       "3                 2819                         [Engine.Unity]   NaN   \n",
       "4                   66                    [SDK.SteamworksNET]   NaN   \n",
       "7                 1969                                    [ ]   NaN   \n",
       "...                ...                                    ...   ...   \n",
       "2253               403                         [Engine.Unity]   NaN   \n",
       "2254                93                                    [ ]   NaN   \n",
       "2256               672                       [Engine.Solar2D]   NaN   \n",
       "2257               247  [AntiCheat.PunkBuster, Engine.idTech]   NaN   \n",
       "2258               118                         [Engine.Unity]   NaN   \n",
       "\n",
       "      24_HOUR_PEAK  PUBLISH_YEAR  TWITCH_PEAK_HOUR  TWITCH_PEAK_YEAR  \\\n",
       "0           1064.0          2016           27368.0              2016   \n",
       "1          16131.0          2021           81096.0              2021   \n",
       "3             31.0          2016          145384.0              2018   \n",
       "4            318.0          2023            3778.0              2023   \n",
       "7            802.0          2014            4779.0              2014   \n",
       "...            ...           ...               ...               ...   \n",
       "2253          17.0          2016            1434.0              2016   \n",
       "2254          13.0          2019             118.0              2020   \n",
       "2256         254.0          2022            4026.0              2022   \n",
       "2257          61.0          2006              96.0              2020   \n",
       "2258         106.0          2024            1115.0              2024   \n",
       "\n",
       "      TOTAL_REVIEW  Linux  Windows  macOS  \n",
       "0         0.886759      0        1      0  \n",
       "1         0.881440      0        1      0  \n",
       "3         0.889818      1        1      1  \n",
       "4         0.926667      0        1      0  \n",
       "7         0.892062      1        1      1  \n",
       "...            ...    ...      ...    ...  \n",
       "2253      0.908221      0        1      1  \n",
       "2254      0.883750      0        1      1  \n",
       "2256      0.866322      0        1      1  \n",
       "2257      0.869657      0        0      0  \n",
       "2258      0.880928      0        1      0  \n",
       "\n",
       "[709 rows x 17 columns]"
      ]
     },
     "execution_count": 93,
     "metadata": {},
     "output_type": "execute_result"
    }
   ],
   "source": [
    "df[df['PRICE'].isnull()]"
   ]
  },
  {
   "cell_type": "code",
   "execution_count": 94,
   "metadata": {},
   "outputs": [
    {
     "name": "stdout",
     "output_type": "stream",
     "text": [
      "<class 'pandas.core.frame.DataFrame'>\n",
      "Index: 2035 entries, 0 to 2258\n",
      "Data columns (total 17 columns):\n",
      " #   Column                 Non-Null Count  Dtype  \n",
      "---  ------                 --------------  -----  \n",
      " 0   NAME                   2035 non-null   object \n",
      " 1   STORE_GENRE            2035 non-null   object \n",
      " 2   RATING_SCORE           2035 non-null   int32  \n",
      " 3   N_SUPPORTED_LANGUAGES  2035 non-null   int32  \n",
      " 4   DEVELOPERS             2035 non-null   object \n",
      " 5   POSITIVE_REVIEWS       2035 non-null   int64  \n",
      " 6   NEGATIVE_REVIEWS       2035 non-null   int64  \n",
      " 7   TECHNOLOGIES           2035 non-null   object \n",
      " 8   PRICE                  1326 non-null   object \n",
      " 9   24_HOUR_PEAK           2035 non-null   float64\n",
      " 10  PUBLISH_YEAR           2035 non-null   int32  \n",
      " 11  TWITCH_PEAK_HOUR       2035 non-null   float64\n",
      " 12  TWITCH_PEAK_YEAR       2035 non-null   int32  \n",
      " 13  TOTAL_REVIEW           2035 non-null   float64\n",
      " 14  Linux                  2035 non-null   int64  \n",
      " 15  Windows                2035 non-null   int64  \n",
      " 16  macOS                  2035 non-null   int64  \n",
      "dtypes: float64(3), int32(4), int64(5), object(5)\n",
      "memory usage: 318.9+ KB\n"
     ]
    }
   ],
   "source": [
    "df.info()"
   ]
  },
  {
   "cell_type": "code",
   "execution_count": 95,
   "metadata": {},
   "outputs": [],
   "source": [
    "# import time\n",
    "# import random\n",
    "# import pandas as pd\n",
    "# from selenium import webdriver\n",
    "# from selenium.webdriver.common.by import By\n",
    "# from selenium.webdriver.edge.service import Service\n",
    "# from selenium.webdriver.edge.options import Options\n",
    "# from webdriver_manager.microsoft import EdgeChromiumDriverManager\n",
    "# from urllib.parse import quote\n",
    "\n",
    "# def get_game_price(driver, game_name):\n",
    "#     time.sleep(random.uniform(5, 10)) \n",
    "#     search_url = f\"https://steamdb.info/instantsearch/?query={quote(game_name)}\"\n",
    "#     print(game_name, search_url)\n",
    "#     driver.get(search_url)\n",
    "#     print(search_url)\n",
    "\n",
    "#     # if \"Please verify\" in driver.page_source:\n",
    "#     #     #input(\"Complete the verification and press Enter to continue...\")\n",
    "#     #     #time.sleep(random.uniform(5, 10)) \n",
    "#     #     return None\n",
    "    \n",
    "#     hits = driver.find_elements(By.CLASS_NAME, 'ais-Hits-item')\n",
    "#     for hit in hits:\n",
    "#         hit_name = hit.find_element(By.CLASS_NAME, 's-hit--name').text.strip()\n",
    "#         if hit_name.lower() == game_name.lower():\n",
    "#             try:\n",
    "#                 price = hit.find_element(By.CLASS_NAME, 's-hit--price').text.strip()\n",
    "#                 return price\n",
    "#             except:\n",
    "#                 return '-'\n",
    "#     return None  \n",
    "\n",
    "\n",
    "# try:\n",
    "#     existing_prices_df = pd.read_csv('games_missing_price.csv')\n",
    "#     existing_prices = dict(zip(existing_prices_df['NAME'], existing_prices_df['PRICE']))\n",
    "# except FileNotFoundError:\n",
    "#     existing_prices = {}\n",
    "\n",
    "# options = Options()\n",
    "# options.use_chromium = True\n",
    "# driver = webdriver.Edge(service=Service(EdgeChromiumDriverManager().install()), options=options)\n",
    "\n",
    "# games_missing_price = df[df['PRICE'].isnull()]\n",
    "# max_attempts = 5\n",
    "# attempts = 0\n",
    "\n",
    "# while not games_missing_price.empty and attempts < max_attempts:\n",
    "#     attempts += 1\n",
    "#     print(f\"Attempt {attempts}\")\n",
    "\n",
    "#     games_missing_price = games_missing_price.sample(frac=1).reset_index(drop=True)\n",
    "\n",
    "#     for index, row in games_missing_price.iterrows():\n",
    "#         game_name = row['NAME']\n",
    "#         if game_name in existing_prices:\n",
    "#             price = existing_prices[game_name]\n",
    "#             print(f\"Found existing price for {game_name}: {price}\")\n",
    "#         else:\n",
    "#             price = get_game_price(driver, game_name)\n",
    "#             if price != None:\n",
    "#                 df.at[index, 'PRICE'] = price\n",
    "#                 existing_prices[game_name] = price\n",
    "#                 print(f\"Updated price for {game_name}: {price}\")\n",
    "#             else:\n",
    "#                 print(f\"Price not found for {game_name}\")\n",
    "\n",
    "        \n",
    "\n",
    "#     games_missing_price = df[df['PRICE'].isnull()]\n",
    "\n",
    "# prices_df = pd.DataFrame(list(existing_prices.items()), columns=['NAME', 'PRICE'])\n",
    "# prices_df.to_csv('games_missing_price.csv', index=False)\n",
    "\n",
    "# driver.quit()\n"
   ]
  },
  {
   "cell_type": "code",
   "execution_count": 96,
   "metadata": {},
   "outputs": [
    {
     "name": "stdout",
     "output_type": "stream",
     "text": [
      "Null count in PRICE column: 709\n"
     ]
    }
   ],
   "source": [
    "null_count = df['PRICE'].isnull().sum()\n",
    "\n",
    "print(\"Null count in PRICE column:\", null_count)"
   ]
  },
  {
   "cell_type": "code",
   "execution_count": 97,
   "metadata": {},
   "outputs": [],
   "source": [
    "del game_details"
   ]
  },
  {
   "cell_type": "markdown",
   "metadata": {
    "jp-MarkdownHeadingCollapsed": true
   },
   "source": [
    "## Handling 'PRICE' Column"
   ]
  },
  {
   "cell_type": "code",
   "execution_count": 98,
   "metadata": {},
   "outputs": [],
   "source": [
    "df['PRICE'] = df['PRICE'].replace('-', '$0')"
   ]
  },
  {
   "cell_type": "code",
   "execution_count": 99,
   "metadata": {},
   "outputs": [],
   "source": [
    "price_pattern = r'\\$([\\d.]+)'\n",
    "\n",
    "df['PRICE'] = df['PRICE'].str.extract(price_pattern)"
   ]
  },
  {
   "cell_type": "code",
   "execution_count": 100,
   "metadata": {},
   "outputs": [],
   "source": [
    "df['PRICE'] = df['PRICE'].astype(float)"
   ]
  },
  {
   "cell_type": "code",
   "execution_count": 101,
   "metadata": {},
   "outputs": [
    {
     "name": "stdout",
     "output_type": "stream",
     "text": [
      "Null count in PRICE column: 777\n"
     ]
    }
   ],
   "source": [
    "null_count = df['PRICE'].isnull().sum()\n",
    "\n",
    "print(\"Null count in PRICE column:\", null_count)"
   ]
  },
  {
   "cell_type": "code",
   "execution_count": 102,
   "metadata": {},
   "outputs": [
    {
     "data": {
      "text/plain": [
       "count    1258.00000\n",
       "mean       13.10287\n",
       "std        12.24461\n",
       "min         0.00000\n",
       "25%         3.04000\n",
       "50%         9.99000\n",
       "75%        19.99000\n",
       "max        69.99000\n",
       "Name: PRICE, dtype: float64"
      ]
     },
     "execution_count": 102,
     "metadata": {},
     "output_type": "execute_result"
    }
   ],
   "source": [
    "df['PRICE'].describe()"
   ]
  },
  {
   "cell_type": "code",
   "execution_count": 103,
   "metadata": {},
   "outputs": [],
   "source": [
    "# Drop rows with null values in the 'PRICE' column\n",
    "#df.dropna(subset=['PRICE'], inplace=True)\n",
    "#df['PRICE'] = df['PRICE'].fillna('$0')"
   ]
  },
  {
   "cell_type": "code",
   "execution_count": 104,
   "metadata": {},
   "outputs": [],
   "source": [
    "# df[df['PRICE'].isnull() == True]"
   ]
  },
  {
   "cell_type": "code",
   "execution_count": 105,
   "metadata": {},
   "outputs": [],
   "source": [
    "# null_count = df['PRICE'].isnull().sum()\n",
    "\n",
    "# print(\"Null count in PRICE column:\", null_count)"
   ]
  },
  {
   "cell_type": "markdown",
   "metadata": {},
   "source": [
    "## Final Dataset Preparation"
   ]
  },
  {
   "cell_type": "code",
   "execution_count": 106,
   "metadata": {},
   "outputs": [
    {
     "name": "stdout",
     "output_type": "stream",
     "text": [
      "<class 'pandas.core.frame.DataFrame'>\n",
      "Index: 2035 entries, 0 to 2258\n",
      "Data columns (total 17 columns):\n",
      " #   Column                 Non-Null Count  Dtype  \n",
      "---  ------                 --------------  -----  \n",
      " 0   NAME                   2035 non-null   object \n",
      " 1   STORE_GENRE            2035 non-null   object \n",
      " 2   RATING_SCORE           2035 non-null   int32  \n",
      " 3   N_SUPPORTED_LANGUAGES  2035 non-null   int32  \n",
      " 4   DEVELOPERS             2035 non-null   object \n",
      " 5   POSITIVE_REVIEWS       2035 non-null   int64  \n",
      " 6   NEGATIVE_REVIEWS       2035 non-null   int64  \n",
      " 7   TECHNOLOGIES           2035 non-null   object \n",
      " 8   PRICE                  1258 non-null   float64\n",
      " 9   24_HOUR_PEAK           2035 non-null   float64\n",
      " 10  PUBLISH_YEAR           2035 non-null   int32  \n",
      " 11  TWITCH_PEAK_HOUR       2035 non-null   float64\n",
      " 12  TWITCH_PEAK_YEAR       2035 non-null   int32  \n",
      " 13  TOTAL_REVIEW           2035 non-null   float64\n",
      " 14  Linux                  2035 non-null   int64  \n",
      " 15  Windows                2035 non-null   int64  \n",
      " 16  macOS                  2035 non-null   int64  \n",
      "dtypes: float64(4), int32(4), int64(5), object(4)\n",
      "memory usage: 318.9+ KB\n"
     ]
    }
   ],
   "source": [
    "df.info()"
   ]
  },
  {
   "cell_type": "code",
   "execution_count": 107,
   "metadata": {},
   "outputs": [],
   "source": [
    "df.to_csv('preprocessed_game_info.csv', index=False)"
   ]
  },
  {
   "cell_type": "code",
   "execution_count": null,
   "metadata": {},
   "outputs": [],
   "source": []
  }
 ],
 "metadata": {
  "kernelspec": {
   "display_name": "Python 3 (ipykernel)",
   "language": "python",
   "name": "python3"
  },
  "language_info": {
   "codemirror_mode": {
    "name": "ipython",
    "version": 3
   },
   "file_extension": ".py",
   "mimetype": "text/x-python",
   "name": "python",
   "nbconvert_exporter": "python",
   "pygments_lexer": "ipython3",
   "version": "3.12.2"
  }
 },
 "nbformat": 4,
 "nbformat_minor": 4
}
