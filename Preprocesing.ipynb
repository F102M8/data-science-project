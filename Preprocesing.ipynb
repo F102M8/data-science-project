{
 "cells": [
  {
   "cell_type": "markdown",
   "metadata": {},
   "source": [
    "# Preprocessing "
   ]
  },
  {
   "cell_type": "markdown",
   "metadata": {
    "jp-MarkdownHeadingCollapsed": true
   },
   "source": [
    "## Importing Necessary Libraries"
   ]
  },
  {
   "cell_type": "code",
   "execution_count": 1,
   "metadata": {},
   "outputs": [],
   "source": [
    "#!pip install plotly"
   ]
  },
  {
   "cell_type": "code",
   "execution_count": 2,
   "metadata": {},
   "outputs": [],
   "source": [
    "import numpy as np\n",
    "import pandas as pd\n",
    "import seaborn as sb\n",
    "import matplotlib.pyplot as plt\n",
    "\n",
    "import re\n",
    "import plotly.figure_factory as ff\n",
    "import plotly.express as px"
   ]
  },
  {
   "cell_type": "markdown",
   "metadata": {},
   "source": [
    "## Loading Data"
   ]
  },
  {
   "cell_type": "code",
   "execution_count": 3,
   "metadata": {},
   "outputs": [],
   "source": [
    "df = pd.read_csv('games_info.csv')\n",
    "game_details = pd.read_csv('game_details.csv')"
   ]
  },
  {
   "cell_type": "markdown",
   "metadata": {
    "jp-MarkdownHeadingCollapsed": true
   },
   "source": [
    "## Initial Data Exploration"
   ]
  },
  {
   "cell_type": "code",
   "execution_count": 4,
   "metadata": {},
   "outputs": [
    {
     "data": {
      "text/html": [
       "<div>\n",
       "<style scoped>\n",
       "    .dataframe tbody tr th:only-of-type {\n",
       "        vertical-align: middle;\n",
       "    }\n",
       "\n",
       "    .dataframe tbody tr th {\n",
       "        vertical-align: top;\n",
       "    }\n",
       "\n",
       "    .dataframe thead th {\n",
       "        text-align: right;\n",
       "    }\n",
       "</style>\n",
       "<table border=\"1\" class=\"dataframe\">\n",
       "  <thead>\n",
       "    <tr style=\"text-align: right;\">\n",
       "      <th></th>\n",
       "      <th>NAME</th>\n",
       "      <th>STORE_GENRE</th>\n",
       "      <th>RATING_SCORE</th>\n",
       "      <th>N_SUPPORTED_LANGUAGES</th>\n",
       "      <th>DEVELOPERS</th>\n",
       "      <th>SUPPORTED_PLATFORMS</th>\n",
       "      <th>POSITIVE_REVIEWS</th>\n",
       "      <th>NEGATIVE_REVIEWS</th>\n",
       "      <th>TECHNOLOGIES</th>\n",
       "      <th>RELEASE_DATE</th>\n",
       "      <th>TOTAL_TWITCH_PEAK</th>\n",
       "      <th>PRICE</th>\n",
       "      <th>N_DLC</th>\n",
       "      <th>24_HOUR_PEAK</th>\n",
       "    </tr>\n",
       "  </thead>\n",
       "  <tbody>\n",
       "    <tr>\n",
       "      <th>0</th>\n",
       "      <td>Dragon's Dogma: Dark Arisen</td>\n",
       "      <td>Store Genres Action (1), Adventure (25), RPG (3)</td>\n",
       "      <td>review_score 8</td>\n",
       "      <td>7 Languages</td>\n",
       "      <td>Capcom</td>\n",
       "      <td>Windows</td>\n",
       "      <td>39271</td>\n",
       "      <td>5015</td>\n",
       "      <td>NaN</td>\n",
       "      <td>15 January 2016 – 16:48:00 UTC (9 years ago)</td>\n",
       "      <td>27,368\\nall-time peak 9 years ago17 January 2016</td>\n",
       "      <td>$22.49</td>\n",
       "      <td>3.0</td>\n",
       "      <td>1,064\\n24-hour peak</td>\n",
       "    </tr>\n",
       "    <tr>\n",
       "      <th>1</th>\n",
       "      <td>Forza Horizon 5</td>\n",
       "      <td>Store Genres Action (1), Adventure (25), Racin...</td>\n",
       "      <td>review_score 8</td>\n",
       "      <td>24 Languages</td>\n",
       "      <td>Playground Games</td>\n",
       "      <td>Windows</td>\n",
       "      <td>156683</td>\n",
       "      <td>21075</td>\n",
       "      <td>NaN</td>\n",
       "      <td>9 November 2021 – 04:58:00 UTC (3 years ago)</td>\n",
       "      <td>81,096\\nall-time peak 3 years ago13 November 2021</td>\n",
       "      <td>$32.78</td>\n",
       "      <td>53.0</td>\n",
       "      <td>16,131\\n24-hour peak</td>\n",
       "    </tr>\n",
       "    <tr>\n",
       "      <th>2</th>\n",
       "      <td>Thrive</td>\n",
       "      <td>Store Genres Casual (4), Indie (23), Simulatio...</td>\n",
       "      <td>review_score 8</td>\n",
       "      <td>1 Languages</td>\n",
       "      <td>Revolutionary Games Studio</td>\n",
       "      <td>Windows Linux</td>\n",
       "      <td>872</td>\n",
       "      <td>70</td>\n",
       "      <td>Engine.Godot</td>\n",
       "      <td>26 November 2021 – 10:54:48 UTC (3 years ago)</td>\n",
       "      <td>145\\nall-time peak 2 years ago24 July 2022</td>\n",
       "      <td>$2.99</td>\n",
       "      <td>NaN</td>\n",
       "      <td>21\\n24-hour peak</td>\n",
       "    </tr>\n",
       "    <tr>\n",
       "      <th>3</th>\n",
       "      <td>Layers of Fear (2016)</td>\n",
       "      <td>Store Genres Adventure (25), Indie (23)</td>\n",
       "      <td>review_score 8</td>\n",
       "      <td>12 Languages</td>\n",
       "      <td>Bloober Team SA</td>\n",
       "      <td>Windows macOS Linux</td>\n",
       "      <td>22766</td>\n",
       "      <td>2819</td>\n",
       "      <td>Engine.Unity</td>\n",
       "      <td>15 February 2016 – 21:53:00 UTC (8 years ago)</td>\n",
       "      <td>145,384\\nall-time peak 6 years ago13 June 2018</td>\n",
       "      <td>$10.19</td>\n",
       "      <td>3.0</td>\n",
       "      <td>31\\n24-hour peak</td>\n",
       "    </tr>\n",
       "    <tr>\n",
       "      <th>4</th>\n",
       "      <td>TaskPals</td>\n",
       "      <td>Store Genres Indie (23), Free to Play (37)</td>\n",
       "      <td>review_score 8</td>\n",
       "      <td>1 Languages</td>\n",
       "      <td>lazarche</td>\n",
       "      <td>Windows</td>\n",
       "      <td>834</td>\n",
       "      <td>66</td>\n",
       "      <td>Detected Technologies (?), SDK.SteamworksNET</td>\n",
       "      <td>25 May 2023 – 10:22:41 UTC (12 months ago)</td>\n",
       "      <td>3,778\\nall-time peak 10 months ago18 July 2023</td>\n",
       "      <td>NaN</td>\n",
       "      <td>4.0</td>\n",
       "      <td>318\\n24-hour peak</td>\n",
       "    </tr>\n",
       "  </tbody>\n",
       "</table>\n",
       "</div>"
      ],
      "text/plain": [
       "                          NAME  \\\n",
       "0  Dragon's Dogma: Dark Arisen   \n",
       "1              Forza Horizon 5   \n",
       "2                       Thrive   \n",
       "3        Layers of Fear (2016)   \n",
       "4                     TaskPals   \n",
       "\n",
       "                                         STORE_GENRE    RATING_SCORE  \\\n",
       "0   Store Genres Action (1), Adventure (25), RPG (3)  review_score 8   \n",
       "1  Store Genres Action (1), Adventure (25), Racin...  review_score 8   \n",
       "2  Store Genres Casual (4), Indie (23), Simulatio...  review_score 8   \n",
       "3            Store Genres Adventure (25), Indie (23)  review_score 8   \n",
       "4         Store Genres Indie (23), Free to Play (37)  review_score 8   \n",
       "\n",
       "  N_SUPPORTED_LANGUAGES                  DEVELOPERS  SUPPORTED_PLATFORMS  \\\n",
       "0           7 Languages                      Capcom              Windows   \n",
       "1          24 Languages            Playground Games              Windows   \n",
       "2           1 Languages  Revolutionary Games Studio        Windows Linux   \n",
       "3          12 Languages             Bloober Team SA  Windows macOS Linux   \n",
       "4           1 Languages                    lazarche              Windows   \n",
       "\n",
       "   POSITIVE_REVIEWS  NEGATIVE_REVIEWS  \\\n",
       "0             39271              5015   \n",
       "1            156683             21075   \n",
       "2               872                70   \n",
       "3             22766              2819   \n",
       "4               834                66   \n",
       "\n",
       "                                   TECHNOLOGIES  \\\n",
       "0                                           NaN   \n",
       "1                                           NaN   \n",
       "2                                  Engine.Godot   \n",
       "3                                  Engine.Unity   \n",
       "4  Detected Technologies (?), SDK.SteamworksNET   \n",
       "\n",
       "                                    RELEASE_DATE  \\\n",
       "0   15 January 2016 – 16:48:00 UTC (9 years ago)   \n",
       "1   9 November 2021 – 04:58:00 UTC (3 years ago)   \n",
       "2  26 November 2021 – 10:54:48 UTC (3 years ago)   \n",
       "3  15 February 2016 – 21:53:00 UTC (8 years ago)   \n",
       "4     25 May 2023 – 10:22:41 UTC (12 months ago)   \n",
       "\n",
       "                                   TOTAL_TWITCH_PEAK    PRICE  N_DLC  \\\n",
       "0   27,368\\nall-time peak 9 years ago17 January 2016  $22.49     3.0   \n",
       "1  81,096\\nall-time peak 3 years ago13 November 2021  $32.78    53.0   \n",
       "2         145\\nall-time peak 2 years ago24 July 2022   $2.99     NaN   \n",
       "3     145,384\\nall-time peak 6 years ago13 June 2018  $10.19     3.0   \n",
       "4     3,778\\nall-time peak 10 months ago18 July 2023      NaN    4.0   \n",
       "\n",
       "           24_HOUR_PEAK  \n",
       "0   1,064\\n24-hour peak  \n",
       "1  16,131\\n24-hour peak  \n",
       "2      21\\n24-hour peak  \n",
       "3      31\\n24-hour peak  \n",
       "4     318\\n24-hour peak  "
      ]
     },
     "execution_count": 4,
     "metadata": {},
     "output_type": "execute_result"
    }
   ],
   "source": [
    "df.head()"
   ]
  },
  {
   "cell_type": "code",
   "execution_count": 5,
   "metadata": {},
   "outputs": [
    {
     "name": "stdout",
     "output_type": "stream",
     "text": [
      "<class 'pandas.core.frame.DataFrame'>\n",
      "RangeIndex: 2259 entries, 0 to 2258\n",
      "Data columns (total 14 columns):\n",
      " #   Column                 Non-Null Count  Dtype  \n",
      "---  ------                 --------------  -----  \n",
      " 0   NAME                   2259 non-null   object \n",
      " 1   STORE_GENRE            2221 non-null   object \n",
      " 2   RATING_SCORE           2225 non-null   object \n",
      " 3   N_SUPPORTED_LANGUAGES  2226 non-null   object \n",
      " 4   DEVELOPERS             2258 non-null   object \n",
      " 5   SUPPORTED_PLATFORMS    2197 non-null   object \n",
      " 6   POSITIVE_REVIEWS       2259 non-null   int64  \n",
      " 7   NEGATIVE_REVIEWS       2259 non-null   int64  \n",
      " 8   TECHNOLOGIES           1845 non-null   object \n",
      " 9   RELEASE_DATE           2255 non-null   object \n",
      " 10  TOTAL_TWITCH_PEAK      2259 non-null   object \n",
      " 11  PRICE                  1507 non-null   object \n",
      " 12  N_DLC                  789 non-null    float64\n",
      " 13  24_HOUR_PEAK           2208 non-null   object \n",
      "dtypes: float64(1), int64(2), object(11)\n",
      "memory usage: 247.2+ KB\n"
     ]
    }
   ],
   "source": [
    "df.info()"
   ]
  },
  {
   "cell_type": "code",
   "execution_count": 6,
   "metadata": {},
   "outputs": [
    {
     "data": {
      "text/html": [
       "<div>\n",
       "<style scoped>\n",
       "    .dataframe tbody tr th:only-of-type {\n",
       "        vertical-align: middle;\n",
       "    }\n",
       "\n",
       "    .dataframe tbody tr th {\n",
       "        vertical-align: top;\n",
       "    }\n",
       "\n",
       "    .dataframe thead th {\n",
       "        text-align: right;\n",
       "    }\n",
       "</style>\n",
       "<table border=\"1\" class=\"dataframe\">\n",
       "  <thead>\n",
       "    <tr style=\"text-align: right;\">\n",
       "      <th></th>\n",
       "      <th>POSITIVE_REVIEWS</th>\n",
       "      <th>NEGATIVE_REVIEWS</th>\n",
       "      <th>N_DLC</th>\n",
       "    </tr>\n",
       "  </thead>\n",
       "  <tbody>\n",
       "    <tr>\n",
       "      <th>count</th>\n",
       "      <td>2.259000e+03</td>\n",
       "      <td>2259.000000</td>\n",
       "      <td>789.000000</td>\n",
       "    </tr>\n",
       "    <tr>\n",
       "      <th>mean</th>\n",
       "      <td>2.087847e+04</td>\n",
       "      <td>1270.529438</td>\n",
       "      <td>5.904943</td>\n",
       "    </tr>\n",
       "    <tr>\n",
       "      <th>std</th>\n",
       "      <td>7.540080e+04</td>\n",
       "      <td>5824.763668</td>\n",
       "      <td>17.345104</td>\n",
       "    </tr>\n",
       "    <tr>\n",
       "      <th>min</th>\n",
       "      <td>3.400000e+01</td>\n",
       "      <td>0.000000</td>\n",
       "      <td>1.000000</td>\n",
       "    </tr>\n",
       "    <tr>\n",
       "      <th>25%</th>\n",
       "      <td>7.245000e+02</td>\n",
       "      <td>33.000000</td>\n",
       "      <td>1.000000</td>\n",
       "    </tr>\n",
       "    <tr>\n",
       "      <th>50%</th>\n",
       "      <td>2.509000e+03</td>\n",
       "      <td>136.000000</td>\n",
       "      <td>2.000000</td>\n",
       "    </tr>\n",
       "    <tr>\n",
       "      <th>75%</th>\n",
       "      <td>1.043100e+04</td>\n",
       "      <td>602.000000</td>\n",
       "      <td>4.000000</td>\n",
       "    </tr>\n",
       "    <tr>\n",
       "      <th>max</th>\n",
       "      <td>1.257272e+06</td>\n",
       "      <td>190953.000000</td>\n",
       "      <td>379.000000</td>\n",
       "    </tr>\n",
       "  </tbody>\n",
       "</table>\n",
       "</div>"
      ],
      "text/plain": [
       "       POSITIVE_REVIEWS  NEGATIVE_REVIEWS       N_DLC\n",
       "count      2.259000e+03       2259.000000  789.000000\n",
       "mean       2.087847e+04       1270.529438    5.904943\n",
       "std        7.540080e+04       5824.763668   17.345104\n",
       "min        3.400000e+01          0.000000    1.000000\n",
       "25%        7.245000e+02         33.000000    1.000000\n",
       "50%        2.509000e+03        136.000000    2.000000\n",
       "75%        1.043100e+04        602.000000    4.000000\n",
       "max        1.257272e+06     190953.000000  379.000000"
      ]
     },
     "execution_count": 6,
     "metadata": {},
     "output_type": "execute_result"
    }
   ],
   "source": [
    "df.describe()"
   ]
  },
  {
   "cell_type": "code",
   "execution_count": 7,
   "metadata": {},
   "outputs": [
    {
     "data": {
      "text/html": [
       "<div>\n",
       "<style scoped>\n",
       "    .dataframe tbody tr th:only-of-type {\n",
       "        vertical-align: middle;\n",
       "    }\n",
       "\n",
       "    .dataframe tbody tr th {\n",
       "        vertical-align: top;\n",
       "    }\n",
       "\n",
       "    .dataframe thead th {\n",
       "        text-align: right;\n",
       "    }\n",
       "</style>\n",
       "<table border=\"1\" class=\"dataframe\">\n",
       "  <thead>\n",
       "    <tr style=\"text-align: right;\">\n",
       "      <th></th>\n",
       "      <th>NAME</th>\n",
       "      <th>STORE_GENRE</th>\n",
       "      <th>RATING_SCORE</th>\n",
       "      <th>N_SUPPORTED_LANGUAGES</th>\n",
       "      <th>DEVELOPERS</th>\n",
       "      <th>SUPPORTED_PLATFORMS</th>\n",
       "      <th>TECHNOLOGIES</th>\n",
       "      <th>RELEASE_DATE</th>\n",
       "      <th>TOTAL_TWITCH_PEAK</th>\n",
       "      <th>PRICE</th>\n",
       "      <th>24_HOUR_PEAK</th>\n",
       "    </tr>\n",
       "  </thead>\n",
       "  <tbody>\n",
       "    <tr>\n",
       "      <th>count</th>\n",
       "      <td>2259</td>\n",
       "      <td>2221</td>\n",
       "      <td>2225</td>\n",
       "      <td>2226</td>\n",
       "      <td>2258</td>\n",
       "      <td>2197</td>\n",
       "      <td>1845</td>\n",
       "      <td>2255</td>\n",
       "      <td>2259</td>\n",
       "      <td>1507</td>\n",
       "      <td>2208</td>\n",
       "    </tr>\n",
       "    <tr>\n",
       "      <th>unique</th>\n",
       "      <td>2088</td>\n",
       "      <td>325</td>\n",
       "      <td>3</td>\n",
       "      <td>36</td>\n",
       "      <td>1668</td>\n",
       "      <td>6</td>\n",
       "      <td>234</td>\n",
       "      <td>2071</td>\n",
       "      <td>2066</td>\n",
       "      <td>125</td>\n",
       "      <td>643</td>\n",
       "    </tr>\n",
       "    <tr>\n",
       "      <th>top</th>\n",
       "      <td>TOEM</td>\n",
       "      <td>Store Genres Action (1), Adventure (25), Indie...</td>\n",
       "      <td>review_score 8</td>\n",
       "      <td>1 Languages</td>\n",
       "      <td>Square Enix</td>\n",
       "      <td>Windows</td>\n",
       "      <td>Engine.Unity</td>\n",
       "      <td>17 September 2021 – 13:00:40 UTC (3 years ago)</td>\n",
       "      <td>2 years ago</td>\n",
       "      <td>$19.99</td>\n",
       "      <td>4\\n24-hour peak</td>\n",
       "    </tr>\n",
       "    <tr>\n",
       "      <th>freq</th>\n",
       "      <td>4</td>\n",
       "      <td>113</td>\n",
       "      <td>1355</td>\n",
       "      <td>583</td>\n",
       "      <td>16</td>\n",
       "      <td>1294</td>\n",
       "      <td>764</td>\n",
       "      <td>4</td>\n",
       "      <td>8</td>\n",
       "      <td>206</td>\n",
       "      <td>81</td>\n",
       "    </tr>\n",
       "  </tbody>\n",
       "</table>\n",
       "</div>"
      ],
      "text/plain": [
       "        NAME                                        STORE_GENRE  \\\n",
       "count   2259                                               2221   \n",
       "unique  2088                                                325   \n",
       "top     TOEM  Store Genres Action (1), Adventure (25), Indie...   \n",
       "freq       4                                                113   \n",
       "\n",
       "          RATING_SCORE N_SUPPORTED_LANGUAGES   DEVELOPERS SUPPORTED_PLATFORMS  \\\n",
       "count             2225                  2226         2258                2197   \n",
       "unique               3                    36         1668                   6   \n",
       "top     review_score 8           1 Languages  Square Enix             Windows   \n",
       "freq              1355                   583           16                1294   \n",
       "\n",
       "        TECHNOLOGIES                                    RELEASE_DATE  \\\n",
       "count           1845                                            2255   \n",
       "unique           234                                            2071   \n",
       "top     Engine.Unity  17 September 2021 – 13:00:40 UTC (3 years ago)   \n",
       "freq             764                                               4   \n",
       "\n",
       "       TOTAL_TWITCH_PEAK    PRICE     24_HOUR_PEAK  \n",
       "count               2259     1507             2208  \n",
       "unique              2066      125              643  \n",
       "top          2 years ago  $19.99   4\\n24-hour peak  \n",
       "freq                   8      206               81  "
      ]
     },
     "execution_count": 7,
     "metadata": {},
     "output_type": "execute_result"
    }
   ],
   "source": [
    "df.describe(include='object')"
   ]
  },
  {
   "cell_type": "markdown",
   "metadata": {
    "jp-MarkdownHeadingCollapsed": true
   },
   "source": [
    "## Removing Duplicated Games"
   ]
  },
  {
   "cell_type": "code",
   "execution_count": 8,
   "metadata": {},
   "outputs": [
    {
     "name": "stdout",
     "output_type": "stream",
     "text": [
      "Duplicate Rows based on the 'NAME' column:\n",
      "Number of duplicate rows based on the 'NAME' column: 171\n"
     ]
    }
   ],
   "source": [
    "df_copy = df.copy()\n",
    "duplicate_rows = df[df.duplicated(subset=['NAME'])]\n",
    "print(\"Duplicate Rows based on the 'NAME' column:\")\n",
    "duplicate_rows\n",
    "num_duplicates = duplicate_rows.shape[0]\n",
    "print(f\"Number of duplicate rows based on the 'NAME' column: {num_duplicates}\")\n",
    "df = df_copy.drop_duplicates(subset=['NAME'], keep='first')\n",
    "\n",
    "# df_copy = df.copy()\n",
    "# for col in df_copy.columns:\n",
    "#     if df_copy[col].apply(lambda x: isinstance(x, list)).any():\n",
    "#         df_copy[col] = df_copy[col].apply(tuple)\n",
    "# duplicate_rows = df_copy[df_copy.duplicated()]\n",
    "# num_duplicates = duplicate_rows.shape[0]\n",
    "# print(f\"Number of duplicate rows: {num_duplicates}\")\n",
    "# df = df_copy.drop_duplicates(keep='first')\n",
    "# duplicate_rows"
   ]
  },
  {
   "cell_type": "markdown",
   "metadata": {
    "jp-MarkdownHeadingCollapsed": true
   },
   "source": [
    "## Handling Missing Values"
   ]
  },
  {
   "cell_type": "code",
   "execution_count": 9,
   "metadata": {},
   "outputs": [],
   "source": [
    "df.replace('N/A', pd.NA, inplace=True)"
   ]
  },
  {
   "cell_type": "markdown",
   "metadata": {
    "jp-MarkdownHeadingCollapsed": true
   },
   "source": [
    "## Extracting and Handling 'PUBLISH_YEAR' from 'RELEASE_DATE'"
   ]
  },
  {
   "cell_type": "markdown",
   "metadata": {},
   "source": [
    "This section extracts the year from the 'RELEASE_DATE' column to create a new 'PUBLISH_YEAR' column. It handles any non-numeric values and missing data by converting them to a consistent format, and finally replaces null values in 'PUBLISH_YEAR' with the median value."
   ]
  },
  {
   "cell_type": "code",
   "execution_count": 10,
   "metadata": {},
   "outputs": [],
   "source": [
    "if 'RELEASE_DATE' in df.columns:\n",
    "    df['PUBLISH_YEAR'] = df['RELEASE_DATE'].str.extract(r'(\\d{4})')\n",
    "\n",
    "    df['PUBLISH_YEAR'] = pd.to_numeric(df['PUBLISH_YEAR'], errors='coerce')\n",
    "\n",
    "    df['PUBLISH_YEAR'] = df['PUBLISH_YEAR'].fillna(-1)\n",
    "    df['PUBLISH_YEAR'] = df['PUBLISH_YEAR'].astype(int)\n",
    "    df['PUBLISH_YEAR'] = df['PUBLISH_YEAR'].replace(-1, pd.NA)\n",
    "\n",
    "    df = df.drop('RELEASE_DATE', axis=1)"
   ]
  },
  {
   "cell_type": "markdown",
   "metadata": {
    "jp-MarkdownHeadingCollapsed": true
   },
   "source": [
    "### Replace null values in 'PUBLISH_YEAR' with the median of the column"
   ]
  },
  {
   "cell_type": "code",
   "execution_count": 11,
   "metadata": {},
   "outputs": [
    {
     "name": "stderr",
     "output_type": "stream",
     "text": [
      "C:\\Users\\AFRAA\\AppData\\Local\\Temp\\ipykernel_16256\\2151296842.py:2: FutureWarning: Downcasting object dtype arrays on .fillna, .ffill, .bfill is deprecated and will change in a future version. Call result.infer_objects(copy=False) instead. To opt-in to the future behavior, set `pd.set_option('future.no_silent_downcasting', True)`\n",
      "  filled_publish_year = df['PUBLISH_YEAR'].fillna(median_publish_year)\n"
     ]
    }
   ],
   "source": [
    "median_publish_year = df['PUBLISH_YEAR'].median()\n",
    "filled_publish_year = df['PUBLISH_YEAR'].fillna(median_publish_year)"
   ]
  },
  {
   "cell_type": "code",
   "execution_count": 12,
   "metadata": {},
   "outputs": [],
   "source": [
    "null_count_before = df['PUBLISH_YEAR'].isnull().sum()"
   ]
  },
  {
   "cell_type": "code",
   "execution_count": 13,
   "metadata": {},
   "outputs": [
    {
     "name": "stdout",
     "output_type": "stream",
     "text": [
      "Null count in PUBLISH_YEAR column before dropping: 4\n"
     ]
    }
   ],
   "source": [
    "print(\"Null count in PUBLISH_YEAR column before dropping:\", null_count_before)"
   ]
  },
  {
   "cell_type": "code",
   "execution_count": 14,
   "metadata": {},
   "outputs": [],
   "source": [
    "df.dropna(subset=['PUBLISH_YEAR'], inplace=True)"
   ]
  },
  {
   "cell_type": "code",
   "execution_count": 15,
   "metadata": {},
   "outputs": [
    {
     "name": "stdout",
     "output_type": "stream",
     "text": [
      "Null count in PUBLISH_YEAR column after dropping: 0\n"
     ]
    }
   ],
   "source": [
    "null_count_after = df['PUBLISH_YEAR'].isnull().sum()\n",
    "print(\"Null count in PUBLISH_YEAR column after dropping:\", null_count_after)"
   ]
  },
  {
   "cell_type": "code",
   "execution_count": 16,
   "metadata": {},
   "outputs": [],
   "source": [
    "df['PUBLISH_YEAR'] = df['PUBLISH_YEAR'].astype(int)"
   ]
  },
  {
   "cell_type": "markdown",
   "metadata": {
    "jp-MarkdownHeadingCollapsed": true
   },
   "source": [
    "## Removing Rows with Missing 'DEVELOPERS' Data"
   ]
  },
  {
   "cell_type": "code",
   "execution_count": 17,
   "metadata": {},
   "outputs": [],
   "source": [
    "df.dropna(subset=['DEVELOPERS'], inplace=True)"
   ]
  },
  {
   "cell_type": "markdown",
   "metadata": {
    "jp-MarkdownHeadingCollapsed": true
   },
   "source": [
    "## Cleaning and Converting 'N_SUPPORTED_LANGUAGES' Data"
   ]
  },
  {
   "cell_type": "markdown",
   "metadata": {},
   "source": [
    "This section handles the `N_SUPPORTED_LANGUAGES` column by filling missing values with a default number (-1) and converting the column to an integer type after removing any extraneous text."
   ]
  },
  {
   "cell_type": "code",
   "execution_count": 18,
   "metadata": {},
   "outputs": [],
   "source": [
    "df['N_SUPPORTED_LANGUAGES'] = df['N_SUPPORTED_LANGUAGES'].fillna(1)"
   ]
  },
  {
   "cell_type": "code",
   "execution_count": 19,
   "metadata": {},
   "outputs": [],
   "source": [
    "df['N_SUPPORTED_LANGUAGES'] = df['N_SUPPORTED_LANGUAGES'].astype(str).str.replace(' Languages', '').astype(int)"
   ]
  },
  {
   "cell_type": "code",
   "execution_count": 20,
   "metadata": {},
   "outputs": [],
   "source": [
    "placeholder_value = 'review_score -1'\n",
    "df['RATING_SCORE'] = df['RATING_SCORE'].fillna(placeholder_value)"
   ]
  },
  {
   "cell_type": "code",
   "execution_count": 21,
   "metadata": {},
   "outputs": [],
   "source": [
    "df['RATING_SCORE'] = df['RATING_SCORE'].str.replace('review_score ', '').astype(float).astype(int)  "
   ]
  },
  {
   "cell_type": "code",
   "execution_count": 22,
   "metadata": {},
   "outputs": [
    {
     "name": "stderr",
     "output_type": "stream",
     "text": [
      "C:\\Users\\AFRAA\\AppData\\Local\\Temp\\ipykernel_16256\\2311779403.py:2: FutureWarning: Setting an item of incompatible dtype is deprecated and will raise an error in a future version of pandas. Value '8.391516333495856' has dtype incompatible with int32, please explicitly cast to a compatible dtype first.\n",
      "  df.loc[df['RATING_SCORE'] == -1, 'RATING_SCORE'] = mean_rating_score\n"
     ]
    }
   ],
   "source": [
    "mean_rating_score = df.loc[df['RATING_SCORE'] != -1, 'RATING_SCORE'].mean()  \n",
    "df.loc[df['RATING_SCORE'] == -1, 'RATING_SCORE'] = mean_rating_score"
   ]
  },
  {
   "cell_type": "code",
   "execution_count": 23,
   "metadata": {},
   "outputs": [
    {
     "data": {
      "text/html": [
       "<div>\n",
       "<style scoped>\n",
       "    .dataframe tbody tr th:only-of-type {\n",
       "        vertical-align: middle;\n",
       "    }\n",
       "\n",
       "    .dataframe tbody tr th {\n",
       "        vertical-align: top;\n",
       "    }\n",
       "\n",
       "    .dataframe thead th {\n",
       "        text-align: right;\n",
       "    }\n",
       "</style>\n",
       "<table border=\"1\" class=\"dataframe\">\n",
       "  <thead>\n",
       "    <tr style=\"text-align: right;\">\n",
       "      <th></th>\n",
       "      <th>NAME</th>\n",
       "      <th>STORE_GENRE</th>\n",
       "      <th>RATING_SCORE</th>\n",
       "      <th>N_SUPPORTED_LANGUAGES</th>\n",
       "      <th>DEVELOPERS</th>\n",
       "      <th>SUPPORTED_PLATFORMS</th>\n",
       "      <th>POSITIVE_REVIEWS</th>\n",
       "      <th>NEGATIVE_REVIEWS</th>\n",
       "      <th>TECHNOLOGIES</th>\n",
       "      <th>TOTAL_TWITCH_PEAK</th>\n",
       "      <th>PRICE</th>\n",
       "      <th>N_DLC</th>\n",
       "      <th>24_HOUR_PEAK</th>\n",
       "      <th>PUBLISH_YEAR</th>\n",
       "    </tr>\n",
       "  </thead>\n",
       "  <tbody>\n",
       "    <tr>\n",
       "      <th>0</th>\n",
       "      <td>Dragon's Dogma: Dark Arisen</td>\n",
       "      <td>Store Genres Action (1), Adventure (25), RPG (3)</td>\n",
       "      <td>8.0</td>\n",
       "      <td>7</td>\n",
       "      <td>Capcom</td>\n",
       "      <td>Windows</td>\n",
       "      <td>39271</td>\n",
       "      <td>5015</td>\n",
       "      <td>NaN</td>\n",
       "      <td>27,368\\nall-time peak 9 years ago17 January 2016</td>\n",
       "      <td>$22.49</td>\n",
       "      <td>3.0</td>\n",
       "      <td>1,064\\n24-hour peak</td>\n",
       "      <td>2016</td>\n",
       "    </tr>\n",
       "    <tr>\n",
       "      <th>1</th>\n",
       "      <td>Forza Horizon 5</td>\n",
       "      <td>Store Genres Action (1), Adventure (25), Racin...</td>\n",
       "      <td>8.0</td>\n",
       "      <td>24</td>\n",
       "      <td>Playground Games</td>\n",
       "      <td>Windows</td>\n",
       "      <td>156683</td>\n",
       "      <td>21075</td>\n",
       "      <td>NaN</td>\n",
       "      <td>81,096\\nall-time peak 3 years ago13 November 2021</td>\n",
       "      <td>$32.78</td>\n",
       "      <td>53.0</td>\n",
       "      <td>16,131\\n24-hour peak</td>\n",
       "      <td>2021</td>\n",
       "    </tr>\n",
       "    <tr>\n",
       "      <th>2</th>\n",
       "      <td>Thrive</td>\n",
       "      <td>Store Genres Casual (4), Indie (23), Simulatio...</td>\n",
       "      <td>8.0</td>\n",
       "      <td>1</td>\n",
       "      <td>Revolutionary Games Studio</td>\n",
       "      <td>Windows Linux</td>\n",
       "      <td>872</td>\n",
       "      <td>70</td>\n",
       "      <td>Engine.Godot</td>\n",
       "      <td>145\\nall-time peak 2 years ago24 July 2022</td>\n",
       "      <td>$2.99</td>\n",
       "      <td>NaN</td>\n",
       "      <td>21\\n24-hour peak</td>\n",
       "      <td>2021</td>\n",
       "    </tr>\n",
       "    <tr>\n",
       "      <th>3</th>\n",
       "      <td>Layers of Fear (2016)</td>\n",
       "      <td>Store Genres Adventure (25), Indie (23)</td>\n",
       "      <td>8.0</td>\n",
       "      <td>12</td>\n",
       "      <td>Bloober Team SA</td>\n",
       "      <td>Windows macOS Linux</td>\n",
       "      <td>22766</td>\n",
       "      <td>2819</td>\n",
       "      <td>Engine.Unity</td>\n",
       "      <td>145,384\\nall-time peak 6 years ago13 June 2018</td>\n",
       "      <td>$10.19</td>\n",
       "      <td>3.0</td>\n",
       "      <td>31\\n24-hour peak</td>\n",
       "      <td>2016</td>\n",
       "    </tr>\n",
       "    <tr>\n",
       "      <th>4</th>\n",
       "      <td>TaskPals</td>\n",
       "      <td>Store Genres Indie (23), Free to Play (37)</td>\n",
       "      <td>8.0</td>\n",
       "      <td>1</td>\n",
       "      <td>lazarche</td>\n",
       "      <td>Windows</td>\n",
       "      <td>834</td>\n",
       "      <td>66</td>\n",
       "      <td>Detected Technologies (?), SDK.SteamworksNET</td>\n",
       "      <td>3,778\\nall-time peak 10 months ago18 July 2023</td>\n",
       "      <td>NaN</td>\n",
       "      <td>4.0</td>\n",
       "      <td>318\\n24-hour peak</td>\n",
       "      <td>2023</td>\n",
       "    </tr>\n",
       "  </tbody>\n",
       "</table>\n",
       "</div>"
      ],
      "text/plain": [
       "                          NAME  \\\n",
       "0  Dragon's Dogma: Dark Arisen   \n",
       "1              Forza Horizon 5   \n",
       "2                       Thrive   \n",
       "3        Layers of Fear (2016)   \n",
       "4                     TaskPals   \n",
       "\n",
       "                                         STORE_GENRE  RATING_SCORE  \\\n",
       "0   Store Genres Action (1), Adventure (25), RPG (3)           8.0   \n",
       "1  Store Genres Action (1), Adventure (25), Racin...           8.0   \n",
       "2  Store Genres Casual (4), Indie (23), Simulatio...           8.0   \n",
       "3            Store Genres Adventure (25), Indie (23)           8.0   \n",
       "4         Store Genres Indie (23), Free to Play (37)           8.0   \n",
       "\n",
       "   N_SUPPORTED_LANGUAGES                  DEVELOPERS  SUPPORTED_PLATFORMS  \\\n",
       "0                      7                      Capcom              Windows   \n",
       "1                     24            Playground Games              Windows   \n",
       "2                      1  Revolutionary Games Studio        Windows Linux   \n",
       "3                     12             Bloober Team SA  Windows macOS Linux   \n",
       "4                      1                    lazarche              Windows   \n",
       "\n",
       "   POSITIVE_REVIEWS  NEGATIVE_REVIEWS  \\\n",
       "0             39271              5015   \n",
       "1            156683             21075   \n",
       "2               872                70   \n",
       "3             22766              2819   \n",
       "4               834                66   \n",
       "\n",
       "                                   TECHNOLOGIES  \\\n",
       "0                                           NaN   \n",
       "1                                           NaN   \n",
       "2                                  Engine.Godot   \n",
       "3                                  Engine.Unity   \n",
       "4  Detected Technologies (?), SDK.SteamworksNET   \n",
       "\n",
       "                                   TOTAL_TWITCH_PEAK    PRICE  N_DLC  \\\n",
       "0   27,368\\nall-time peak 9 years ago17 January 2016  $22.49     3.0   \n",
       "1  81,096\\nall-time peak 3 years ago13 November 2021  $32.78    53.0   \n",
       "2         145\\nall-time peak 2 years ago24 July 2022   $2.99     NaN   \n",
       "3     145,384\\nall-time peak 6 years ago13 June 2018  $10.19     3.0   \n",
       "4     3,778\\nall-time peak 10 months ago18 July 2023      NaN    4.0   \n",
       "\n",
       "           24_HOUR_PEAK  PUBLISH_YEAR  \n",
       "0   1,064\\n24-hour peak          2016  \n",
       "1  16,131\\n24-hour peak          2021  \n",
       "2      21\\n24-hour peak          2021  \n",
       "3      31\\n24-hour peak          2016  \n",
       "4     318\\n24-hour peak          2023  "
      ]
     },
     "execution_count": 23,
     "metadata": {},
     "output_type": "execute_result"
    }
   ],
   "source": [
    "df.head()"
   ]
  },
  {
   "cell_type": "markdown",
   "metadata": {
    "jp-MarkdownHeadingCollapsed": true
   },
   "source": [
    "## One-Hot Encoding 'SUPPORTED_PLATFORMS' Column"
   ]
  },
  {
   "cell_type": "markdown",
   "metadata": {},
   "source": [
    "This section transforms the 'SUPPORTED_PLATFORMS' column into separate binary columns for each platform using one-hot encoding, which facilitates easier analysis and modeling."
   ]
  },
  {
   "cell_type": "code",
   "execution_count": 24,
   "metadata": {},
   "outputs": [],
   "source": [
    "# Split the 'SUPPORTED_PLATFORMS' column into separate columns for each platform\n",
    "platform_dummies = df['SUPPORTED_PLATFORMS'].str.get_dummies(sep=' ')\n",
    "\n",
    "# Concatenate the dummy columns with the original DataFrame\n",
    "df = pd.concat([df, platform_dummies], axis=1)\n",
    "\n",
    "# Drop the original 'SUPPORTED_PLATFORMS' column\n",
    "df.drop(columns=['SUPPORTED_PLATFORMS'], inplace=True)"
   ]
  },
  {
   "cell_type": "code",
   "execution_count": 25,
   "metadata": {},
   "outputs": [
    {
     "data": {
      "text/html": [
       "<div>\n",
       "<style scoped>\n",
       "    .dataframe tbody tr th:only-of-type {\n",
       "        vertical-align: middle;\n",
       "    }\n",
       "\n",
       "    .dataframe tbody tr th {\n",
       "        vertical-align: top;\n",
       "    }\n",
       "\n",
       "    .dataframe thead th {\n",
       "        text-align: right;\n",
       "    }\n",
       "</style>\n",
       "<table border=\"1\" class=\"dataframe\">\n",
       "  <thead>\n",
       "    <tr style=\"text-align: right;\">\n",
       "      <th></th>\n",
       "      <th>NAME</th>\n",
       "      <th>STORE_GENRE</th>\n",
       "      <th>RATING_SCORE</th>\n",
       "      <th>N_SUPPORTED_LANGUAGES</th>\n",
       "      <th>DEVELOPERS</th>\n",
       "      <th>POSITIVE_REVIEWS</th>\n",
       "      <th>NEGATIVE_REVIEWS</th>\n",
       "      <th>TECHNOLOGIES</th>\n",
       "      <th>TOTAL_TWITCH_PEAK</th>\n",
       "      <th>PRICE</th>\n",
       "      <th>N_DLC</th>\n",
       "      <th>24_HOUR_PEAK</th>\n",
       "      <th>PUBLISH_YEAR</th>\n",
       "      <th>Linux</th>\n",
       "      <th>Windows</th>\n",
       "      <th>macOS</th>\n",
       "    </tr>\n",
       "  </thead>\n",
       "  <tbody>\n",
       "    <tr>\n",
       "      <th>0</th>\n",
       "      <td>Dragon's Dogma: Dark Arisen</td>\n",
       "      <td>Store Genres Action (1), Adventure (25), RPG (3)</td>\n",
       "      <td>8.0</td>\n",
       "      <td>7</td>\n",
       "      <td>Capcom</td>\n",
       "      <td>39271</td>\n",
       "      <td>5015</td>\n",
       "      <td>NaN</td>\n",
       "      <td>27,368\\nall-time peak 9 years ago17 January 2016</td>\n",
       "      <td>$22.49</td>\n",
       "      <td>3.0</td>\n",
       "      <td>1,064\\n24-hour peak</td>\n",
       "      <td>2016</td>\n",
       "      <td>0</td>\n",
       "      <td>1</td>\n",
       "      <td>0</td>\n",
       "    </tr>\n",
       "    <tr>\n",
       "      <th>1</th>\n",
       "      <td>Forza Horizon 5</td>\n",
       "      <td>Store Genres Action (1), Adventure (25), Racin...</td>\n",
       "      <td>8.0</td>\n",
       "      <td>24</td>\n",
       "      <td>Playground Games</td>\n",
       "      <td>156683</td>\n",
       "      <td>21075</td>\n",
       "      <td>NaN</td>\n",
       "      <td>81,096\\nall-time peak 3 years ago13 November 2021</td>\n",
       "      <td>$32.78</td>\n",
       "      <td>53.0</td>\n",
       "      <td>16,131\\n24-hour peak</td>\n",
       "      <td>2021</td>\n",
       "      <td>0</td>\n",
       "      <td>1</td>\n",
       "      <td>0</td>\n",
       "    </tr>\n",
       "    <tr>\n",
       "      <th>2</th>\n",
       "      <td>Thrive</td>\n",
       "      <td>Store Genres Casual (4), Indie (23), Simulatio...</td>\n",
       "      <td>8.0</td>\n",
       "      <td>1</td>\n",
       "      <td>Revolutionary Games Studio</td>\n",
       "      <td>872</td>\n",
       "      <td>70</td>\n",
       "      <td>Engine.Godot</td>\n",
       "      <td>145\\nall-time peak 2 years ago24 July 2022</td>\n",
       "      <td>$2.99</td>\n",
       "      <td>NaN</td>\n",
       "      <td>21\\n24-hour peak</td>\n",
       "      <td>2021</td>\n",
       "      <td>1</td>\n",
       "      <td>1</td>\n",
       "      <td>0</td>\n",
       "    </tr>\n",
       "    <tr>\n",
       "      <th>3</th>\n",
       "      <td>Layers of Fear (2016)</td>\n",
       "      <td>Store Genres Adventure (25), Indie (23)</td>\n",
       "      <td>8.0</td>\n",
       "      <td>12</td>\n",
       "      <td>Bloober Team SA</td>\n",
       "      <td>22766</td>\n",
       "      <td>2819</td>\n",
       "      <td>Engine.Unity</td>\n",
       "      <td>145,384\\nall-time peak 6 years ago13 June 2018</td>\n",
       "      <td>$10.19</td>\n",
       "      <td>3.0</td>\n",
       "      <td>31\\n24-hour peak</td>\n",
       "      <td>2016</td>\n",
       "      <td>1</td>\n",
       "      <td>1</td>\n",
       "      <td>1</td>\n",
       "    </tr>\n",
       "    <tr>\n",
       "      <th>4</th>\n",
       "      <td>TaskPals</td>\n",
       "      <td>Store Genres Indie (23), Free to Play (37)</td>\n",
       "      <td>8.0</td>\n",
       "      <td>1</td>\n",
       "      <td>lazarche</td>\n",
       "      <td>834</td>\n",
       "      <td>66</td>\n",
       "      <td>Detected Technologies (?), SDK.SteamworksNET</td>\n",
       "      <td>3,778\\nall-time peak 10 months ago18 July 2023</td>\n",
       "      <td>NaN</td>\n",
       "      <td>4.0</td>\n",
       "      <td>318\\n24-hour peak</td>\n",
       "      <td>2023</td>\n",
       "      <td>0</td>\n",
       "      <td>1</td>\n",
       "      <td>0</td>\n",
       "    </tr>\n",
       "  </tbody>\n",
       "</table>\n",
       "</div>"
      ],
      "text/plain": [
       "                          NAME  \\\n",
       "0  Dragon's Dogma: Dark Arisen   \n",
       "1              Forza Horizon 5   \n",
       "2                       Thrive   \n",
       "3        Layers of Fear (2016)   \n",
       "4                     TaskPals   \n",
       "\n",
       "                                         STORE_GENRE  RATING_SCORE  \\\n",
       "0   Store Genres Action (1), Adventure (25), RPG (3)           8.0   \n",
       "1  Store Genres Action (1), Adventure (25), Racin...           8.0   \n",
       "2  Store Genres Casual (4), Indie (23), Simulatio...           8.0   \n",
       "3            Store Genres Adventure (25), Indie (23)           8.0   \n",
       "4         Store Genres Indie (23), Free to Play (37)           8.0   \n",
       "\n",
       "   N_SUPPORTED_LANGUAGES                  DEVELOPERS  POSITIVE_REVIEWS  \\\n",
       "0                      7                      Capcom             39271   \n",
       "1                     24            Playground Games            156683   \n",
       "2                      1  Revolutionary Games Studio               872   \n",
       "3                     12             Bloober Team SA             22766   \n",
       "4                      1                    lazarche               834   \n",
       "\n",
       "   NEGATIVE_REVIEWS                                  TECHNOLOGIES  \\\n",
       "0              5015                                           NaN   \n",
       "1             21075                                           NaN   \n",
       "2                70                                  Engine.Godot   \n",
       "3              2819                                  Engine.Unity   \n",
       "4                66  Detected Technologies (?), SDK.SteamworksNET   \n",
       "\n",
       "                                   TOTAL_TWITCH_PEAK    PRICE  N_DLC  \\\n",
       "0   27,368\\nall-time peak 9 years ago17 January 2016  $22.49     3.0   \n",
       "1  81,096\\nall-time peak 3 years ago13 November 2021  $32.78    53.0   \n",
       "2         145\\nall-time peak 2 years ago24 July 2022   $2.99     NaN   \n",
       "3     145,384\\nall-time peak 6 years ago13 June 2018  $10.19     3.0   \n",
       "4     3,778\\nall-time peak 10 months ago18 July 2023      NaN    4.0   \n",
       "\n",
       "           24_HOUR_PEAK  PUBLISH_YEAR  Linux  Windows  macOS  \n",
       "0   1,064\\n24-hour peak          2016      0        1      0  \n",
       "1  16,131\\n24-hour peak          2021      0        1      0  \n",
       "2      21\\n24-hour peak          2021      1        1      0  \n",
       "3      31\\n24-hour peak          2016      1        1      1  \n",
       "4     318\\n24-hour peak          2023      0        1      0  "
      ]
     },
     "execution_count": 25,
     "metadata": {},
     "output_type": "execute_result"
    }
   ],
   "source": [
    "df.head()"
   ]
  },
  {
   "cell_type": "markdown",
   "metadata": {},
   "source": [
    "## Handling 'PRICE' Column with Missing Values and Formatting"
   ]
  },
  {
   "cell_type": "markdown",
   "metadata": {},
   "source": [
    "This section addresses the missing values and formatting issues in the 'PRICE' column. It involves filling missing prices from a secondary dataset, replacing placeholders and formatting symbols, and converting the column to a numeric type."
   ]
  },
  {
   "cell_type": "code",
   "execution_count": 26,
   "metadata": {},
   "outputs": [],
   "source": [
    "game_details['price'] = game_details['price'].replace('-', '$0')"
   ]
  },
  {
   "cell_type": "code",
   "execution_count": 27,
   "metadata": {},
   "outputs": [],
   "source": [
    "# Iterate over rows with null PRICE in the main DataFrame\n",
    "for index, row in df[df['PRICE'].isnull()].iterrows():\n",
    "    game_name = row['NAME']\n",
    "    # Find corresponding price in game_details DataFrame\n",
    "    price = game_details[game_details['name'] == game_name]['price'].values\n",
    "\n",
    "    # If price exists in game_details DataFrame, fill in the PRICE column of the main DataFrame\n",
    "    if (len(price) > 0):\n",
    "        #print(price[0])\n",
    "        df.at[index, 'PRICE'] = price[0]"
   ]
  },
  {
   "cell_type": "code",
   "execution_count": 28,
   "metadata": {},
   "outputs": [
    {
     "data": {
      "text/html": [
       "<div>\n",
       "<style scoped>\n",
       "    .dataframe tbody tr th:only-of-type {\n",
       "        vertical-align: middle;\n",
       "    }\n",
       "\n",
       "    .dataframe tbody tr th {\n",
       "        vertical-align: top;\n",
       "    }\n",
       "\n",
       "    .dataframe thead th {\n",
       "        text-align: right;\n",
       "    }\n",
       "</style>\n",
       "<table border=\"1\" class=\"dataframe\">\n",
       "  <thead>\n",
       "    <tr style=\"text-align: right;\">\n",
       "      <th></th>\n",
       "      <th>NAME</th>\n",
       "      <th>STORE_GENRE</th>\n",
       "      <th>RATING_SCORE</th>\n",
       "      <th>N_SUPPORTED_LANGUAGES</th>\n",
       "      <th>DEVELOPERS</th>\n",
       "      <th>POSITIVE_REVIEWS</th>\n",
       "      <th>NEGATIVE_REVIEWS</th>\n",
       "      <th>TECHNOLOGIES</th>\n",
       "      <th>TOTAL_TWITCH_PEAK</th>\n",
       "      <th>PRICE</th>\n",
       "      <th>N_DLC</th>\n",
       "      <th>24_HOUR_PEAK</th>\n",
       "      <th>PUBLISH_YEAR</th>\n",
       "      <th>Linux</th>\n",
       "      <th>Windows</th>\n",
       "      <th>macOS</th>\n",
       "    </tr>\n",
       "  </thead>\n",
       "  <tbody>\n",
       "    <tr>\n",
       "      <th>4</th>\n",
       "      <td>TaskPals</td>\n",
       "      <td>Store Genres Indie (23), Free to Play (37)</td>\n",
       "      <td>8.0</td>\n",
       "      <td>1</td>\n",
       "      <td>lazarche</td>\n",
       "      <td>834</td>\n",
       "      <td>66</td>\n",
       "      <td>Detected Technologies (?), SDK.SteamworksNET</td>\n",
       "      <td>3,778\\nall-time peak 10 months ago18 July 2023</td>\n",
       "      <td>NaN</td>\n",
       "      <td>4.0</td>\n",
       "      <td>318\\n24-hour peak</td>\n",
       "      <td>2023</td>\n",
       "      <td>0</td>\n",
       "      <td>1</td>\n",
       "      <td>0</td>\n",
       "    </tr>\n",
       "    <tr>\n",
       "      <th>5</th>\n",
       "      <td>U-ena -遠花火の少女-</td>\n",
       "      <td>Store Genres Adventure (25), Casual (4), Free ...</td>\n",
       "      <td>8.0</td>\n",
       "      <td>3</td>\n",
       "      <td>HemiolaStudio</td>\n",
       "      <td>582</td>\n",
       "      <td>41</td>\n",
       "      <td>Engine.Lightvn, Detected Technologies (?), Eng...</td>\n",
       "      <td>2 years ago</td>\n",
       "      <td>NaN</td>\n",
       "      <td>NaN</td>\n",
       "      <td>NaN</td>\n",
       "      <td>2022</td>\n",
       "      <td>0</td>\n",
       "      <td>1</td>\n",
       "      <td>0</td>\n",
       "    </tr>\n",
       "    <tr>\n",
       "      <th>9</th>\n",
       "      <td>Rocket League</td>\n",
       "      <td>Store Genres Action (1), Indie (23), Racing (9...</td>\n",
       "      <td>8.0</td>\n",
       "      <td>13</td>\n",
       "      <td>Psyonix LLC</td>\n",
       "      <td>508263</td>\n",
       "      <td>70214</td>\n",
       "      <td>Engine.Unreal, SDK.EpicOnlineServices</td>\n",
       "      <td>147,632\\nall-time peak 4 years ago27 September...</td>\n",
       "      <td>NaN</td>\n",
       "      <td>25.0</td>\n",
       "      <td>32,851\\n24-hour peak</td>\n",
       "      <td>2015</td>\n",
       "      <td>1</td>\n",
       "      <td>1</td>\n",
       "      <td>1</td>\n",
       "    </tr>\n",
       "    <tr>\n",
       "      <th>10</th>\n",
       "      <td>Wurroom</td>\n",
       "      <td>Store Genres Adventure (25), Casual (4), Free ...</td>\n",
       "      <td>8.0</td>\n",
       "      <td>1</td>\n",
       "      <td>Michael Rfdshir</td>\n",
       "      <td>603</td>\n",
       "      <td>43</td>\n",
       "      <td>Engine.Unity, Detected Technologies (?), Engin...</td>\n",
       "      <td>5 years ago</td>\n",
       "      <td>NaN</td>\n",
       "      <td>1.0</td>\n",
       "      <td>NaN</td>\n",
       "      <td>2019</td>\n",
       "      <td>0</td>\n",
       "      <td>1</td>\n",
       "      <td>0</td>\n",
       "    </tr>\n",
       "    <tr>\n",
       "      <th>11</th>\n",
       "      <td>Kitten adventures in city park</td>\n",
       "      <td>Store Genres Adventure (25), Indie (23)</td>\n",
       "      <td>8.0</td>\n",
       "      <td>6</td>\n",
       "      <td>Lokator Studio</td>\n",
       "      <td>541</td>\n",
       "      <td>37</td>\n",
       "      <td>Engine.PyGame, Engine.RenPy, Detected Technolo...</td>\n",
       "      <td>30\\nall-time peak 3 years ago27 November 2021</td>\n",
       "      <td>NaN</td>\n",
       "      <td>1.0</td>\n",
       "      <td>1\\n24-hour peak</td>\n",
       "      <td>2017</td>\n",
       "      <td>1</td>\n",
       "      <td>1</td>\n",
       "      <td>1</td>\n",
       "    </tr>\n",
       "    <tr>\n",
       "      <th>...</th>\n",
       "      <td>...</td>\n",
       "      <td>...</td>\n",
       "      <td>...</td>\n",
       "      <td>...</td>\n",
       "      <td>...</td>\n",
       "      <td>...</td>\n",
       "      <td>...</td>\n",
       "      <td>...</td>\n",
       "      <td>...</td>\n",
       "      <td>...</td>\n",
       "      <td>...</td>\n",
       "      <td>...</td>\n",
       "      <td>...</td>\n",
       "      <td>...</td>\n",
       "      <td>...</td>\n",
       "      <td>...</td>\n",
       "    </tr>\n",
       "    <tr>\n",
       "      <th>2236</th>\n",
       "      <td>WTF Do You Know?</td>\n",
       "      <td>Store Genres Indie (23), RPG (3), Simulation (28)</td>\n",
       "      <td>8.0</td>\n",
       "      <td>1</td>\n",
       "      <td>Randumb Studios</td>\n",
       "      <td>122</td>\n",
       "      <td>6</td>\n",
       "      <td>Engine.RPGMaker</td>\n",
       "      <td>10\\nall-time peak 2 years ago2 May 2022</td>\n",
       "      <td>NaN</td>\n",
       "      <td>NaN</td>\n",
       "      <td>1\\n24-hour peak</td>\n",
       "      <td>2022</td>\n",
       "      <td>0</td>\n",
       "      <td>1</td>\n",
       "      <td>0</td>\n",
       "    </tr>\n",
       "    <tr>\n",
       "      <th>2238</th>\n",
       "      <td>From Madness with Love</td>\n",
       "      <td>Store Genres Adventure (25), Casual (4), Indie...</td>\n",
       "      <td>8.0</td>\n",
       "      <td>4</td>\n",
       "      <td>Jamsanpoid</td>\n",
       "      <td>223</td>\n",
       "      <td>17</td>\n",
       "      <td>Engine.TyranoBuilder</td>\n",
       "      <td>132\\nall-time peak 11 months ago18 July 2023</td>\n",
       "      <td>NaN</td>\n",
       "      <td>NaN</td>\n",
       "      <td>14\\n24-hour peak</td>\n",
       "      <td>2023</td>\n",
       "      <td>0</td>\n",
       "      <td>1</td>\n",
       "      <td>1</td>\n",
       "    </tr>\n",
       "    <tr>\n",
       "      <th>2240</th>\n",
       "      <td>The Forest Quartet</td>\n",
       "      <td>Store Genres Adventure (25), Indie (23)</td>\n",
       "      <td>8.0</td>\n",
       "      <td>14</td>\n",
       "      <td>Mads &amp; Friends</td>\n",
       "      <td>205</td>\n",
       "      <td>15</td>\n",
       "      <td>Engine.Unity</td>\n",
       "      <td>10\\nall-time peak 2 years ago9 December 2022</td>\n",
       "      <td>NaN</td>\n",
       "      <td>NaN</td>\n",
       "      <td>3\\n24-hour peak</td>\n",
       "      <td>2022</td>\n",
       "      <td>0</td>\n",
       "      <td>1</td>\n",
       "      <td>0</td>\n",
       "    </tr>\n",
       "    <tr>\n",
       "      <th>2241</th>\n",
       "      <td>Purple Place - Classic Games</td>\n",
       "      <td>Store Genres Casual (4), Indie (23), Simulatio...</td>\n",
       "      <td>8.0</td>\n",
       "      <td>26</td>\n",
       "      <td>Sam Cohle</td>\n",
       "      <td>1223</td>\n",
       "      <td>150</td>\n",
       "      <td>Engine.Unity</td>\n",
       "      <td>58\\nall-time peak 7 months ago22 October 2023</td>\n",
       "      <td>NaN</td>\n",
       "      <td>NaN</td>\n",
       "      <td>17\\n24-hour peak</td>\n",
       "      <td>2023</td>\n",
       "      <td>1</td>\n",
       "      <td>1</td>\n",
       "      <td>1</td>\n",
       "    </tr>\n",
       "    <tr>\n",
       "      <th>2252</th>\n",
       "      <td>Dark Nights</td>\n",
       "      <td>Store Genres Adventure (25), Free to Play (37)...</td>\n",
       "      <td>8.0</td>\n",
       "      <td>1</td>\n",
       "      <td>Pinlin</td>\n",
       "      <td>251</td>\n",
       "      <td>21</td>\n",
       "      <td>Engine.PyGame, Engine.RenPy, Detected Technolo...</td>\n",
       "      <td>121\\nall-time peak 6 months ago3 December 2023</td>\n",
       "      <td>NaN</td>\n",
       "      <td>NaN</td>\n",
       "      <td>12\\n24-hour peak</td>\n",
       "      <td>2022</td>\n",
       "      <td>1</td>\n",
       "      <td>1</td>\n",
       "      <td>1</td>\n",
       "    </tr>\n",
       "  </tbody>\n",
       "</table>\n",
       "<p>251 rows × 16 columns</p>\n",
       "</div>"
      ],
      "text/plain": [
       "                                NAME  \\\n",
       "4                           TaskPals   \n",
       "5                     U-ena -遠花火の少女-   \n",
       "9                      Rocket League   \n",
       "10                           Wurroom   \n",
       "11    Kitten adventures in city park   \n",
       "...                              ...   \n",
       "2236                WTF Do You Know?   \n",
       "2238          From Madness with Love   \n",
       "2240              The Forest Quartet   \n",
       "2241    Purple Place - Classic Games   \n",
       "2252                     Dark Nights   \n",
       "\n",
       "                                            STORE_GENRE  RATING_SCORE  \\\n",
       "4            Store Genres Indie (23), Free to Play (37)           8.0   \n",
       "5     Store Genres Adventure (25), Casual (4), Free ...           8.0   \n",
       "9     Store Genres Action (1), Indie (23), Racing (9...           8.0   \n",
       "10    Store Genres Adventure (25), Casual (4), Free ...           8.0   \n",
       "11              Store Genres Adventure (25), Indie (23)           8.0   \n",
       "...                                                 ...           ...   \n",
       "2236  Store Genres Indie (23), RPG (3), Simulation (28)           8.0   \n",
       "2238  Store Genres Adventure (25), Casual (4), Indie...           8.0   \n",
       "2240            Store Genres Adventure (25), Indie (23)           8.0   \n",
       "2241  Store Genres Casual (4), Indie (23), Simulatio...           8.0   \n",
       "2252  Store Genres Adventure (25), Free to Play (37)...           8.0   \n",
       "\n",
       "      N_SUPPORTED_LANGUAGES       DEVELOPERS  POSITIVE_REVIEWS  \\\n",
       "4                         1         lazarche               834   \n",
       "5                         3    HemiolaStudio               582   \n",
       "9                        13      Psyonix LLC            508263   \n",
       "10                        1  Michael Rfdshir               603   \n",
       "11                        6   Lokator Studio               541   \n",
       "...                     ...              ...               ...   \n",
       "2236                      1  Randumb Studios               122   \n",
       "2238                      4       Jamsanpoid               223   \n",
       "2240                     14   Mads & Friends               205   \n",
       "2241                     26        Sam Cohle              1223   \n",
       "2252                      1           Pinlin               251   \n",
       "\n",
       "      NEGATIVE_REVIEWS                                       TECHNOLOGIES  \\\n",
       "4                   66       Detected Technologies (?), SDK.SteamworksNET   \n",
       "5                   41  Engine.Lightvn, Detected Technologies (?), Eng...   \n",
       "9                70214              Engine.Unreal, SDK.EpicOnlineServices   \n",
       "10                  43  Engine.Unity, Detected Technologies (?), Engin...   \n",
       "11                  37  Engine.PyGame, Engine.RenPy, Detected Technolo...   \n",
       "...                ...                                                ...   \n",
       "2236                 6                                    Engine.RPGMaker   \n",
       "2238                17                               Engine.TyranoBuilder   \n",
       "2240                15                                       Engine.Unity   \n",
       "2241               150                                       Engine.Unity   \n",
       "2252                21  Engine.PyGame, Engine.RenPy, Detected Technolo...   \n",
       "\n",
       "                                      TOTAL_TWITCH_PEAK PRICE  N_DLC  \\\n",
       "4        3,778\\nall-time peak 10 months ago18 July 2023   NaN    4.0   \n",
       "5                                           2 years ago   NaN    NaN   \n",
       "9     147,632\\nall-time peak 4 years ago27 September...   NaN   25.0   \n",
       "10                                          5 years ago   NaN    1.0   \n",
       "11        30\\nall-time peak 3 years ago27 November 2021   NaN    1.0   \n",
       "...                                                 ...   ...    ...   \n",
       "2236            10\\nall-time peak 2 years ago2 May 2022   NaN    NaN   \n",
       "2238       132\\nall-time peak 11 months ago18 July 2023   NaN    NaN   \n",
       "2240       10\\nall-time peak 2 years ago9 December 2022   NaN    NaN   \n",
       "2241      58\\nall-time peak 7 months ago22 October 2023   NaN    NaN   \n",
       "2252     121\\nall-time peak 6 months ago3 December 2023   NaN    NaN   \n",
       "\n",
       "              24_HOUR_PEAK  PUBLISH_YEAR  Linux  Windows  macOS  \n",
       "4        318\\n24-hour peak          2023      0        1      0  \n",
       "5                      NaN          2022      0        1      0  \n",
       "9     32,851\\n24-hour peak          2015      1        1      1  \n",
       "10                     NaN          2019      0        1      0  \n",
       "11         1\\n24-hour peak          2017      1        1      1  \n",
       "...                    ...           ...    ...      ...    ...  \n",
       "2236       1\\n24-hour peak          2022      0        1      0  \n",
       "2238      14\\n24-hour peak          2023      0        1      1  \n",
       "2240       3\\n24-hour peak          2022      0        1      0  \n",
       "2241      17\\n24-hour peak          2023      1        1      1  \n",
       "2252      12\\n24-hour peak          2022      1        1      1  \n",
       "\n",
       "[251 rows x 16 columns]"
      ]
     },
     "execution_count": 28,
     "metadata": {},
     "output_type": "execute_result"
    }
   ],
   "source": [
    "df[df['PRICE'].isnull() == True]"
   ]
  },
  {
   "cell_type": "code",
   "execution_count": 29,
   "metadata": {},
   "outputs": [
    {
     "name": "stdout",
     "output_type": "stream",
     "text": [
      "Null count in PRICE column: 251\n"
     ]
    }
   ],
   "source": [
    "null_count = df['PRICE'].isnull().sum()\n",
    "\n",
    "print(\"Null count in PRICE column:\", null_count)"
   ]
  },
  {
   "cell_type": "code",
   "execution_count": 30,
   "metadata": {},
   "outputs": [],
   "source": [
    "# Drop rows with null values in the 'PRICE' column\n",
    "#df.dropna(subset=['PRICE'], inplace=True)\n",
    "df['PRICE'] = df['PRICE'].fillna('$0')"
   ]
  },
  {
   "cell_type": "code",
   "execution_count": 31,
   "metadata": {},
   "outputs": [
    {
     "data": {
      "text/html": [
       "<div>\n",
       "<style scoped>\n",
       "    .dataframe tbody tr th:only-of-type {\n",
       "        vertical-align: middle;\n",
       "    }\n",
       "\n",
       "    .dataframe tbody tr th {\n",
       "        vertical-align: top;\n",
       "    }\n",
       "\n",
       "    .dataframe thead th {\n",
       "        text-align: right;\n",
       "    }\n",
       "</style>\n",
       "<table border=\"1\" class=\"dataframe\">\n",
       "  <thead>\n",
       "    <tr style=\"text-align: right;\">\n",
       "      <th></th>\n",
       "      <th>NAME</th>\n",
       "      <th>STORE_GENRE</th>\n",
       "      <th>RATING_SCORE</th>\n",
       "      <th>N_SUPPORTED_LANGUAGES</th>\n",
       "      <th>DEVELOPERS</th>\n",
       "      <th>POSITIVE_REVIEWS</th>\n",
       "      <th>NEGATIVE_REVIEWS</th>\n",
       "      <th>TECHNOLOGIES</th>\n",
       "      <th>TOTAL_TWITCH_PEAK</th>\n",
       "      <th>PRICE</th>\n",
       "      <th>N_DLC</th>\n",
       "      <th>24_HOUR_PEAK</th>\n",
       "      <th>PUBLISH_YEAR</th>\n",
       "      <th>Linux</th>\n",
       "      <th>Windows</th>\n",
       "      <th>macOS</th>\n",
       "    </tr>\n",
       "  </thead>\n",
       "  <tbody>\n",
       "  </tbody>\n",
       "</table>\n",
       "</div>"
      ],
      "text/plain": [
       "Empty DataFrame\n",
       "Columns: [NAME, STORE_GENRE, RATING_SCORE, N_SUPPORTED_LANGUAGES, DEVELOPERS, POSITIVE_REVIEWS, NEGATIVE_REVIEWS, TECHNOLOGIES, TOTAL_TWITCH_PEAK, PRICE, N_DLC, 24_HOUR_PEAK, PUBLISH_YEAR, Linux, Windows, macOS]\n",
       "Index: []"
      ]
     },
     "execution_count": 31,
     "metadata": {},
     "output_type": "execute_result"
    }
   ],
   "source": [
    "df[df['PRICE'].isnull() == True]"
   ]
  },
  {
   "cell_type": "code",
   "execution_count": 32,
   "metadata": {},
   "outputs": [
    {
     "name": "stdout",
     "output_type": "stream",
     "text": [
      "Null count in PRICE column: 0\n"
     ]
    }
   ],
   "source": [
    "null_count = df['PRICE'].isnull().sum()\n",
    "\n",
    "print(\"Null count in PRICE column:\", null_count)"
   ]
  },
  {
   "cell_type": "code",
   "execution_count": 33,
   "metadata": {},
   "outputs": [],
   "source": [
    "#df['PRICE'] = df['PRICE'].str.replace('€', '.')"
   ]
  },
  {
   "cell_type": "markdown",
   "metadata": {},
   "source": [
    "#### Extract the price from the \"price\" column using regex\n"
   ]
  },
  {
   "cell_type": "code",
   "execution_count": 34,
   "metadata": {},
   "outputs": [],
   "source": [
    "price_pattern = r'\\$([\\d.]+)'\n",
    "\n",
    "df['PRICE'] = df['PRICE'].str.extract(price_pattern)"
   ]
  },
  {
   "cell_type": "code",
   "execution_count": 35,
   "metadata": {},
   "outputs": [
    {
     "data": {
      "text/html": [
       "<div>\n",
       "<style scoped>\n",
       "    .dataframe tbody tr th:only-of-type {\n",
       "        vertical-align: middle;\n",
       "    }\n",
       "\n",
       "    .dataframe tbody tr th {\n",
       "        vertical-align: top;\n",
       "    }\n",
       "\n",
       "    .dataframe thead th {\n",
       "        text-align: right;\n",
       "    }\n",
       "</style>\n",
       "<table border=\"1\" class=\"dataframe\">\n",
       "  <thead>\n",
       "    <tr style=\"text-align: right;\">\n",
       "      <th></th>\n",
       "      <th>NAME</th>\n",
       "      <th>STORE_GENRE</th>\n",
       "      <th>RATING_SCORE</th>\n",
       "      <th>N_SUPPORTED_LANGUAGES</th>\n",
       "      <th>DEVELOPERS</th>\n",
       "      <th>POSITIVE_REVIEWS</th>\n",
       "      <th>NEGATIVE_REVIEWS</th>\n",
       "      <th>TECHNOLOGIES</th>\n",
       "      <th>TOTAL_TWITCH_PEAK</th>\n",
       "      <th>PRICE</th>\n",
       "      <th>N_DLC</th>\n",
       "      <th>24_HOUR_PEAK</th>\n",
       "      <th>PUBLISH_YEAR</th>\n",
       "      <th>Linux</th>\n",
       "      <th>Windows</th>\n",
       "      <th>macOS</th>\n",
       "    </tr>\n",
       "  </thead>\n",
       "  <tbody>\n",
       "    <tr>\n",
       "      <th>0</th>\n",
       "      <td>Dragon's Dogma: Dark Arisen</td>\n",
       "      <td>Store Genres Action (1), Adventure (25), RPG (3)</td>\n",
       "      <td>8.0</td>\n",
       "      <td>7</td>\n",
       "      <td>Capcom</td>\n",
       "      <td>39271</td>\n",
       "      <td>5015</td>\n",
       "      <td>NaN</td>\n",
       "      <td>27,368\\nall-time peak 9 years ago17 January 2016</td>\n",
       "      <td>22.49</td>\n",
       "      <td>3.0</td>\n",
       "      <td>1,064\\n24-hour peak</td>\n",
       "      <td>2016</td>\n",
       "      <td>0</td>\n",
       "      <td>1</td>\n",
       "      <td>0</td>\n",
       "    </tr>\n",
       "    <tr>\n",
       "      <th>1</th>\n",
       "      <td>Forza Horizon 5</td>\n",
       "      <td>Store Genres Action (1), Adventure (25), Racin...</td>\n",
       "      <td>8.0</td>\n",
       "      <td>24</td>\n",
       "      <td>Playground Games</td>\n",
       "      <td>156683</td>\n",
       "      <td>21075</td>\n",
       "      <td>NaN</td>\n",
       "      <td>81,096\\nall-time peak 3 years ago13 November 2021</td>\n",
       "      <td>32.78</td>\n",
       "      <td>53.0</td>\n",
       "      <td>16,131\\n24-hour peak</td>\n",
       "      <td>2021</td>\n",
       "      <td>0</td>\n",
       "      <td>1</td>\n",
       "      <td>0</td>\n",
       "    </tr>\n",
       "    <tr>\n",
       "      <th>2</th>\n",
       "      <td>Thrive</td>\n",
       "      <td>Store Genres Casual (4), Indie (23), Simulatio...</td>\n",
       "      <td>8.0</td>\n",
       "      <td>1</td>\n",
       "      <td>Revolutionary Games Studio</td>\n",
       "      <td>872</td>\n",
       "      <td>70</td>\n",
       "      <td>Engine.Godot</td>\n",
       "      <td>145\\nall-time peak 2 years ago24 July 2022</td>\n",
       "      <td>2.99</td>\n",
       "      <td>NaN</td>\n",
       "      <td>21\\n24-hour peak</td>\n",
       "      <td>2021</td>\n",
       "      <td>1</td>\n",
       "      <td>1</td>\n",
       "      <td>0</td>\n",
       "    </tr>\n",
       "    <tr>\n",
       "      <th>3</th>\n",
       "      <td>Layers of Fear (2016)</td>\n",
       "      <td>Store Genres Adventure (25), Indie (23)</td>\n",
       "      <td>8.0</td>\n",
       "      <td>12</td>\n",
       "      <td>Bloober Team SA</td>\n",
       "      <td>22766</td>\n",
       "      <td>2819</td>\n",
       "      <td>Engine.Unity</td>\n",
       "      <td>145,384\\nall-time peak 6 years ago13 June 2018</td>\n",
       "      <td>10.19</td>\n",
       "      <td>3.0</td>\n",
       "      <td>31\\n24-hour peak</td>\n",
       "      <td>2016</td>\n",
       "      <td>1</td>\n",
       "      <td>1</td>\n",
       "      <td>1</td>\n",
       "    </tr>\n",
       "    <tr>\n",
       "      <th>4</th>\n",
       "      <td>TaskPals</td>\n",
       "      <td>Store Genres Indie (23), Free to Play (37)</td>\n",
       "      <td>8.0</td>\n",
       "      <td>1</td>\n",
       "      <td>lazarche</td>\n",
       "      <td>834</td>\n",
       "      <td>66</td>\n",
       "      <td>Detected Technologies (?), SDK.SteamworksNET</td>\n",
       "      <td>3,778\\nall-time peak 10 months ago18 July 2023</td>\n",
       "      <td>0</td>\n",
       "      <td>4.0</td>\n",
       "      <td>318\\n24-hour peak</td>\n",
       "      <td>2023</td>\n",
       "      <td>0</td>\n",
       "      <td>1</td>\n",
       "      <td>0</td>\n",
       "    </tr>\n",
       "  </tbody>\n",
       "</table>\n",
       "</div>"
      ],
      "text/plain": [
       "                          NAME  \\\n",
       "0  Dragon's Dogma: Dark Arisen   \n",
       "1              Forza Horizon 5   \n",
       "2                       Thrive   \n",
       "3        Layers of Fear (2016)   \n",
       "4                     TaskPals   \n",
       "\n",
       "                                         STORE_GENRE  RATING_SCORE  \\\n",
       "0   Store Genres Action (1), Adventure (25), RPG (3)           8.0   \n",
       "1  Store Genres Action (1), Adventure (25), Racin...           8.0   \n",
       "2  Store Genres Casual (4), Indie (23), Simulatio...           8.0   \n",
       "3            Store Genres Adventure (25), Indie (23)           8.0   \n",
       "4         Store Genres Indie (23), Free to Play (37)           8.0   \n",
       "\n",
       "   N_SUPPORTED_LANGUAGES                  DEVELOPERS  POSITIVE_REVIEWS  \\\n",
       "0                      7                      Capcom             39271   \n",
       "1                     24            Playground Games            156683   \n",
       "2                      1  Revolutionary Games Studio               872   \n",
       "3                     12             Bloober Team SA             22766   \n",
       "4                      1                    lazarche               834   \n",
       "\n",
       "   NEGATIVE_REVIEWS                                  TECHNOLOGIES  \\\n",
       "0              5015                                           NaN   \n",
       "1             21075                                           NaN   \n",
       "2                70                                  Engine.Godot   \n",
       "3              2819                                  Engine.Unity   \n",
       "4                66  Detected Technologies (?), SDK.SteamworksNET   \n",
       "\n",
       "                                   TOTAL_TWITCH_PEAK  PRICE  N_DLC  \\\n",
       "0   27,368\\nall-time peak 9 years ago17 January 2016  22.49    3.0   \n",
       "1  81,096\\nall-time peak 3 years ago13 November 2021  32.78   53.0   \n",
       "2         145\\nall-time peak 2 years ago24 July 2022   2.99    NaN   \n",
       "3     145,384\\nall-time peak 6 years ago13 June 2018  10.19    3.0   \n",
       "4     3,778\\nall-time peak 10 months ago18 July 2023      0    4.0   \n",
       "\n",
       "           24_HOUR_PEAK  PUBLISH_YEAR  Linux  Windows  macOS  \n",
       "0   1,064\\n24-hour peak          2016      0        1      0  \n",
       "1  16,131\\n24-hour peak          2021      0        1      0  \n",
       "2      21\\n24-hour peak          2021      1        1      0  \n",
       "3      31\\n24-hour peak          2016      1        1      1  \n",
       "4     318\\n24-hour peak          2023      0        1      0  "
      ]
     },
     "execution_count": 35,
     "metadata": {},
     "output_type": "execute_result"
    }
   ],
   "source": [
    "df.head()"
   ]
  },
  {
   "cell_type": "code",
   "execution_count": 36,
   "metadata": {},
   "outputs": [
    {
     "data": {
      "text/html": [
       "<div>\n",
       "<style scoped>\n",
       "    .dataframe tbody tr th:only-of-type {\n",
       "        vertical-align: middle;\n",
       "    }\n",
       "\n",
       "    .dataframe tbody tr th {\n",
       "        vertical-align: top;\n",
       "    }\n",
       "\n",
       "    .dataframe thead th {\n",
       "        text-align: right;\n",
       "    }\n",
       "</style>\n",
       "<table border=\"1\" class=\"dataframe\">\n",
       "  <thead>\n",
       "    <tr style=\"text-align: right;\">\n",
       "      <th></th>\n",
       "      <th>NAME</th>\n",
       "      <th>STORE_GENRE</th>\n",
       "      <th>RATING_SCORE</th>\n",
       "      <th>N_SUPPORTED_LANGUAGES</th>\n",
       "      <th>DEVELOPERS</th>\n",
       "      <th>POSITIVE_REVIEWS</th>\n",
       "      <th>NEGATIVE_REVIEWS</th>\n",
       "      <th>TECHNOLOGIES</th>\n",
       "      <th>TOTAL_TWITCH_PEAK</th>\n",
       "      <th>PRICE</th>\n",
       "      <th>N_DLC</th>\n",
       "      <th>24_HOUR_PEAK</th>\n",
       "      <th>PUBLISH_YEAR</th>\n",
       "      <th>Linux</th>\n",
       "      <th>Windows</th>\n",
       "      <th>macOS</th>\n",
       "    </tr>\n",
       "  </thead>\n",
       "  <tbody>\n",
       "    <tr>\n",
       "      <th>511</th>\n",
       "      <td>Don't Pee</td>\n",
       "      <td>Store Genres Adventure (25), Simulation (28)</td>\n",
       "      <td>8.000000</td>\n",
       "      <td>1</td>\n",
       "      <td>Naughty Clogs</td>\n",
       "      <td>163</td>\n",
       "      <td>11</td>\n",
       "      <td>Engine.Unreal</td>\n",
       "      <td>23\\nall-time peak 4 months ago11 February 2024</td>\n",
       "      <td>NaN</td>\n",
       "      <td>NaN</td>\n",
       "      <td>2\\n24-hour peak</td>\n",
       "      <td>2024</td>\n",
       "      <td>0</td>\n",
       "      <td>1</td>\n",
       "      <td>0</td>\n",
       "    </tr>\n",
       "    <tr>\n",
       "      <th>512</th>\n",
       "      <td>Ratopia</td>\n",
       "      <td>Store Genres Adventure (25), Casual (4), Indie...</td>\n",
       "      <td>8.000000</td>\n",
       "      <td>8</td>\n",
       "      <td>Cassel Games</td>\n",
       "      <td>2043</td>\n",
       "      <td>275</td>\n",
       "      <td>Engine.Unity</td>\n",
       "      <td>5,772\\nall-time peak 7 months ago14 November 2023</td>\n",
       "      <td>NaN</td>\n",
       "      <td>NaN</td>\n",
       "      <td>256\\n24-hour peak</td>\n",
       "      <td>2023</td>\n",
       "      <td>0</td>\n",
       "      <td>1</td>\n",
       "      <td>1</td>\n",
       "    </tr>\n",
       "    <tr>\n",
       "      <th>513</th>\n",
       "      <td>Command &amp; Conquer™ Generals Zero Hour</td>\n",
       "      <td>Store Genres Action (1), Strategy (2)</td>\n",
       "      <td>8.000000</td>\n",
       "      <td>9</td>\n",
       "      <td>EA Los Angeles</td>\n",
       "      <td>1384</td>\n",
       "      <td>177</td>\n",
       "      <td>NaN</td>\n",
       "      <td>2,353\\nall-time peak 2 months ago17 March 2024</td>\n",
       "      <td>NaN</td>\n",
       "      <td>NaN</td>\n",
       "      <td>1,200\\n24-hour peak</td>\n",
       "      <td>2024</td>\n",
       "      <td>0</td>\n",
       "      <td>1</td>\n",
       "      <td>0</td>\n",
       "    </tr>\n",
       "    <tr>\n",
       "      <th>516</th>\n",
       "      <td>Team Fortress Classic</td>\n",
       "      <td>Store Genres Action (1)</td>\n",
       "      <td>8.000000</td>\n",
       "      <td>9</td>\n",
       "      <td>Valve</td>\n",
       "      <td>7079</td>\n",
       "      <td>1070</td>\n",
       "      <td>Engine.GoldSource</td>\n",
       "      <td>1,897\\nall-time peak 20 years ago9 August 2004</td>\n",
       "      <td>NaN</td>\n",
       "      <td>NaN</td>\n",
       "      <td>95\\n24-hour peak</td>\n",
       "      <td>1999</td>\n",
       "      <td>1</td>\n",
       "      <td>1</td>\n",
       "      <td>1</td>\n",
       "    </tr>\n",
       "    <tr>\n",
       "      <th>517</th>\n",
       "      <td>Make Way</td>\n",
       "      <td>Store Genres Action (1), Casual (4), Indie (23...</td>\n",
       "      <td>8.000000</td>\n",
       "      <td>10</td>\n",
       "      <td>Ice BEAM</td>\n",
       "      <td>418</td>\n",
       "      <td>42</td>\n",
       "      <td>Engine.Unity</td>\n",
       "      <td>347\\nall-time peak last month28 April 2024</td>\n",
       "      <td>NaN</td>\n",
       "      <td>NaN</td>\n",
       "      <td>155\\n24-hour peak</td>\n",
       "      <td>2023</td>\n",
       "      <td>0</td>\n",
       "      <td>1</td>\n",
       "      <td>0</td>\n",
       "    </tr>\n",
       "    <tr>\n",
       "      <th>...</th>\n",
       "      <td>...</td>\n",
       "      <td>...</td>\n",
       "      <td>...</td>\n",
       "      <td>...</td>\n",
       "      <td>...</td>\n",
       "      <td>...</td>\n",
       "      <td>...</td>\n",
       "      <td>...</td>\n",
       "      <td>...</td>\n",
       "      <td>...</td>\n",
       "      <td>...</td>\n",
       "      <td>...</td>\n",
       "      <td>...</td>\n",
       "      <td>...</td>\n",
       "      <td>...</td>\n",
       "      <td>...</td>\n",
       "    </tr>\n",
       "    <tr>\n",
       "      <th>624</th>\n",
       "      <td>ISEKAI QUEST</td>\n",
       "      <td>NaN</td>\n",
       "      <td>8.391516</td>\n",
       "      <td>1</td>\n",
       "      <td>Studio Ginkgo</td>\n",
       "      <td>3235</td>\n",
       "      <td>438</td>\n",
       "      <td>Engine.Unity</td>\n",
       "      <td>4 years ago</td>\n",
       "      <td>NaN</td>\n",
       "      <td>2.0</td>\n",
       "      <td>NaN</td>\n",
       "      <td>2020</td>\n",
       "      <td>0</td>\n",
       "      <td>1</td>\n",
       "      <td>1</td>\n",
       "    </tr>\n",
       "    <tr>\n",
       "      <th>625</th>\n",
       "      <td>Street Legal Racing: Redline v2.3.1</td>\n",
       "      <td>NaN</td>\n",
       "      <td>8.391516</td>\n",
       "      <td>1</td>\n",
       "      <td>Invictus Games Ltd.</td>\n",
       "      <td>3304</td>\n",
       "      <td>448</td>\n",
       "      <td>NaN</td>\n",
       "      <td>7 years ago</td>\n",
       "      <td>NaN</td>\n",
       "      <td>1.0</td>\n",
       "      <td>NaN</td>\n",
       "      <td>2016</td>\n",
       "      <td>0</td>\n",
       "      <td>1</td>\n",
       "      <td>0</td>\n",
       "    </tr>\n",
       "    <tr>\n",
       "      <th>627</th>\n",
       "      <td>Dead Grid</td>\n",
       "      <td>Store Genres Indie (23), RPG (3), Strategy (2)...</td>\n",
       "      <td>8.000000</td>\n",
       "      <td>1</td>\n",
       "      <td>ATOM VOID</td>\n",
       "      <td>264</td>\n",
       "      <td>21</td>\n",
       "      <td>Engine.Unity</td>\n",
       "      <td>194\\nall-time peak 2 years ago26 March 2022</td>\n",
       "      <td>NaN</td>\n",
       "      <td>NaN</td>\n",
       "      <td>4\\n24-hour peak</td>\n",
       "      <td>2022</td>\n",
       "      <td>0</td>\n",
       "      <td>1</td>\n",
       "      <td>0</td>\n",
       "    </tr>\n",
       "    <tr>\n",
       "      <th>629</th>\n",
       "      <td>Nexomon</td>\n",
       "      <td>Store Genres Adventure (25), Casual (4), Indie...</td>\n",
       "      <td>8.000000</td>\n",
       "      <td>1</td>\n",
       "      <td>VEWO Interactive Inc.</td>\n",
       "      <td>1314</td>\n",
       "      <td>159</td>\n",
       "      <td>Engine.Unity</td>\n",
       "      <td>208\\nall-time peak 4 years ago12 July 2020</td>\n",
       "      <td>NaN</td>\n",
       "      <td>NaN</td>\n",
       "      <td>17\\n24-hour peak</td>\n",
       "      <td>2020</td>\n",
       "      <td>0</td>\n",
       "      <td>1</td>\n",
       "      <td>1</td>\n",
       "    </tr>\n",
       "    <tr>\n",
       "      <th>632</th>\n",
       "      <td>Creature Creator</td>\n",
       "      <td>Store Genres Adventure (25), Casual (4), Indie...</td>\n",
       "      <td>8.000000</td>\n",
       "      <td>13</td>\n",
       "      <td>Daniel Lochner</td>\n",
       "      <td>573</td>\n",
       "      <td>59</td>\n",
       "      <td>Engine.Unity</td>\n",
       "      <td>123\\nall-time peak 15 months ago12 March 2023</td>\n",
       "      <td>NaN</td>\n",
       "      <td>NaN</td>\n",
       "      <td>22\\n24-hour peak</td>\n",
       "      <td>2022</td>\n",
       "      <td>1</td>\n",
       "      <td>1</td>\n",
       "      <td>1</td>\n",
       "    </tr>\n",
       "  </tbody>\n",
       "</table>\n",
       "<p>79 rows × 16 columns</p>\n",
       "</div>"
      ],
      "text/plain": [
       "                                      NAME  \\\n",
       "511                              Don't Pee   \n",
       "512                                Ratopia   \n",
       "513  Command & Conquer™ Generals Zero Hour   \n",
       "516                  Team Fortress Classic   \n",
       "517                               Make Way   \n",
       "..                                     ...   \n",
       "624                           ISEKAI QUEST   \n",
       "625    Street Legal Racing: Redline v2.3.1   \n",
       "627                              Dead Grid   \n",
       "629                                Nexomon   \n",
       "632                       Creature Creator   \n",
       "\n",
       "                                           STORE_GENRE  RATING_SCORE  \\\n",
       "511       Store Genres Adventure (25), Simulation (28)      8.000000   \n",
       "512  Store Genres Adventure (25), Casual (4), Indie...      8.000000   \n",
       "513              Store Genres Action (1), Strategy (2)      8.000000   \n",
       "516                            Store Genres Action (1)      8.000000   \n",
       "517  Store Genres Action (1), Casual (4), Indie (23...      8.000000   \n",
       "..                                                 ...           ...   \n",
       "624                                                NaN      8.391516   \n",
       "625                                                NaN      8.391516   \n",
       "627  Store Genres Indie (23), RPG (3), Strategy (2)...      8.000000   \n",
       "629  Store Genres Adventure (25), Casual (4), Indie...      8.000000   \n",
       "632  Store Genres Adventure (25), Casual (4), Indie...      8.000000   \n",
       "\n",
       "     N_SUPPORTED_LANGUAGES             DEVELOPERS  POSITIVE_REVIEWS  \\\n",
       "511                      1          Naughty Clogs               163   \n",
       "512                      8           Cassel Games              2043   \n",
       "513                      9         EA Los Angeles              1384   \n",
       "516                      9                  Valve              7079   \n",
       "517                     10               Ice BEAM               418   \n",
       "..                     ...                    ...               ...   \n",
       "624                      1          Studio Ginkgo              3235   \n",
       "625                      1    Invictus Games Ltd.              3304   \n",
       "627                      1              ATOM VOID               264   \n",
       "629                      1  VEWO Interactive Inc.              1314   \n",
       "632                     13         Daniel Lochner               573   \n",
       "\n",
       "     NEGATIVE_REVIEWS       TECHNOLOGIES  \\\n",
       "511                11      Engine.Unreal   \n",
       "512               275       Engine.Unity   \n",
       "513               177                NaN   \n",
       "516              1070  Engine.GoldSource   \n",
       "517                42       Engine.Unity   \n",
       "..                ...                ...   \n",
       "624               438       Engine.Unity   \n",
       "625               448                NaN   \n",
       "627                21       Engine.Unity   \n",
       "629               159       Engine.Unity   \n",
       "632                59       Engine.Unity   \n",
       "\n",
       "                                     TOTAL_TWITCH_PEAK PRICE  N_DLC  \\\n",
       "511     23\\nall-time peak 4 months ago11 February 2024   NaN    NaN   \n",
       "512  5,772\\nall-time peak 7 months ago14 November 2023   NaN    NaN   \n",
       "513     2,353\\nall-time peak 2 months ago17 March 2024   NaN    NaN   \n",
       "516     1,897\\nall-time peak 20 years ago9 August 2004   NaN    NaN   \n",
       "517         347\\nall-time peak last month28 April 2024   NaN    NaN   \n",
       "..                                                 ...   ...    ...   \n",
       "624                                        4 years ago   NaN    2.0   \n",
       "625                                        7 years ago   NaN    1.0   \n",
       "627        194\\nall-time peak 2 years ago26 March 2022   NaN    NaN   \n",
       "629         208\\nall-time peak 4 years ago12 July 2020   NaN    NaN   \n",
       "632      123\\nall-time peak 15 months ago12 March 2023   NaN    NaN   \n",
       "\n",
       "            24_HOUR_PEAK  PUBLISH_YEAR  Linux  Windows  macOS  \n",
       "511      2\\n24-hour peak          2024      0        1      0  \n",
       "512    256\\n24-hour peak          2023      0        1      1  \n",
       "513  1,200\\n24-hour peak          2024      0        1      0  \n",
       "516     95\\n24-hour peak          1999      1        1      1  \n",
       "517    155\\n24-hour peak          2023      0        1      0  \n",
       "..                   ...           ...    ...      ...    ...  \n",
       "624                  NaN          2020      0        1      1  \n",
       "625                  NaN          2016      0        1      0  \n",
       "627      4\\n24-hour peak          2022      0        1      0  \n",
       "629     17\\n24-hour peak          2020      0        1      1  \n",
       "632     22\\n24-hour peak          2022      1        1      1  \n",
       "\n",
       "[79 rows x 16 columns]"
      ]
     },
     "execution_count": 36,
     "metadata": {},
     "output_type": "execute_result"
    }
   ],
   "source": [
    "df[df['PRICE'].isnull() == True]"
   ]
  },
  {
   "cell_type": "code",
   "execution_count": 37,
   "metadata": {},
   "outputs": [],
   "source": [
    "df.dropna(subset=['PRICE'], inplace=True)"
   ]
  },
  {
   "cell_type": "code",
   "execution_count": 38,
   "metadata": {},
   "outputs": [],
   "source": [
    "df['PRICE'] = df['PRICE'].astype(float)"
   ]
  },
  {
   "cell_type": "markdown",
   "metadata": {
    "jp-MarkdownHeadingCollapsed": true
   },
   "source": [
    "## Cleaning 'STORE_GENRE' Column"
   ]
  },
  {
   "cell_type": "markdown",
   "metadata": {},
   "source": [
    "This section focuses on cleaning the 'STORE_GENRE' column. It fills missing values with a placeholder, removes unnecessary text, and splits the genre strings for better usability."
   ]
  },
  {
   "cell_type": "code",
   "execution_count": 39,
   "metadata": {},
   "outputs": [],
   "source": [
    "def clean_store_genre(genre_string):\n",
    "    genres = genre_string.split(', ')\n",
    "    cleaned_genres = []\n",
    "    for genre in genres:\n",
    "        cleaned_genre = genre.split(' (')[0]\n",
    "        cleaned_genres.append(cleaned_genre)\n",
    "    return cleaned_genres\n",
    "\n",
    "df['STORE_GENRE'] = df['STORE_GENRE'].fillna('Store Genres')\n",
    "df['STORE_GENRE'] = df['STORE_GENRE'].str.replace('Store Genres', '')\n",
    "df['STORE_GENRE'] = df['STORE_GENRE'].apply(clean_store_genre)\n"
   ]
  },
  {
   "cell_type": "markdown",
   "metadata": {
    "jp-MarkdownHeadingCollapsed": true
   },
   "source": [
    "## Cleaning '24_HOUR_PEAK' Column\n"
   ]
  },
  {
   "cell_type": "markdown",
   "metadata": {},
   "source": [
    "This section handles the cleaning and conversion of the '24_HOUR_PEAK' column. It fills missing values, splits the strings to extract numerical values, removes commas, and converts the column to an integer type."
   ]
  },
  {
   "cell_type": "code",
   "execution_count": 40,
   "metadata": {},
   "outputs": [
    {
     "data": {
      "text/plain": [
       "0        1,064\\n24-hour peak\n",
       "1       16,131\\n24-hour peak\n",
       "2           21\\n24-hour peak\n",
       "3           31\\n24-hour peak\n",
       "4          318\\n24-hour peak\n",
       "                ...         \n",
       "2253        17\\n24-hour peak\n",
       "2254        13\\n24-hour peak\n",
       "2256       254\\n24-hour peak\n",
       "2257        61\\n24-hour peak\n",
       "2258       106\\n24-hour peak\n",
       "Name: 24_HOUR_PEAK, Length: 2004, dtype: object"
      ]
     },
     "execution_count": 40,
     "metadata": {},
     "output_type": "execute_result"
    }
   ],
   "source": [
    "df['24_HOUR_PEAK']"
   ]
  },
  {
   "cell_type": "code",
   "execution_count": 41,
   "metadata": {},
   "outputs": [],
   "source": [
    "df['24_HOUR_PEAK'] = df['24_HOUR_PEAK'].fillna((\"0\\n24-hour peak\"))\n",
    "df['24_HOUR_PEAK'] = df['24_HOUR_PEAK'].apply(lambda x: int(x.split('\\n')[0].replace(',', ''))).astype(int)"
   ]
  },
  {
   "cell_type": "code",
   "execution_count": 42,
   "metadata": {},
   "outputs": [
    {
     "data": {
      "text/plain": [
       "0        1064\n",
       "1       16131\n",
       "2          21\n",
       "3          31\n",
       "4         318\n",
       "        ...  \n",
       "2253       17\n",
       "2254       13\n",
       "2256      254\n",
       "2257       61\n",
       "2258      106\n",
       "Name: 24_HOUR_PEAK, Length: 2004, dtype: int32"
      ]
     },
     "execution_count": 42,
     "metadata": {},
     "output_type": "execute_result"
    }
   ],
   "source": [
    "df['24_HOUR_PEAK']"
   ]
  },
  {
   "cell_type": "markdown",
   "metadata": {
    "jp-MarkdownHeadingCollapsed": true
   },
   "source": [
    "## Cleaning 'TECHNOLOGIES' Column"
   ]
  },
  {
   "cell_type": "markdown",
   "metadata": {},
   "source": [
    "This section addresses the 'TECHNOLOGIES' column by filling missing values with an empty string and splitting the comma-separated technologies into lists for easier analysis."
   ]
  },
  {
   "cell_type": "code",
   "execution_count": 43,
   "metadata": {},
   "outputs": [
    {
     "data": {
      "text/plain": [
       "0                                                NaN\n",
       "1                                                NaN\n",
       "2                                       Engine.Godot\n",
       "3                                       Engine.Unity\n",
       "4       Detected Technologies (?), SDK.SteamworksNET\n",
       "                            ...                     \n",
       "2253                                    Engine.Unity\n",
       "2254                                             NaN\n",
       "2256                                  Engine.Solar2D\n",
       "2257             AntiCheat.PunkBuster, Engine.idTech\n",
       "2258                                    Engine.Unity\n",
       "Name: TECHNOLOGIES, Length: 2004, dtype: object"
      ]
     },
     "execution_count": 43,
     "metadata": {},
     "output_type": "execute_result"
    }
   ],
   "source": [
    "df['TECHNOLOGIES']"
   ]
  },
  {
   "cell_type": "code",
   "execution_count": 44,
   "metadata": {},
   "outputs": [],
   "source": [
    "df['TECHNOLOGIES'] = df['TECHNOLOGIES'].fillna('')  # Replace NaN with empty string\n",
    "df['TECHNOLOGIES'] = df['TECHNOLOGIES'].apply(lambda x: x.split(', ') if x else [])"
   ]
  },
  {
   "cell_type": "code",
   "execution_count": 45,
   "metadata": {},
   "outputs": [
    {
     "data": {
      "text/plain": [
       "0                                                   []\n",
       "1                                                   []\n",
       "2                                       [Engine.Godot]\n",
       "3                                       [Engine.Unity]\n",
       "4       [Detected Technologies (?), SDK.SteamworksNET]\n",
       "                             ...                      \n",
       "2253                                    [Engine.Unity]\n",
       "2254                                                []\n",
       "2256                                  [Engine.Solar2D]\n",
       "2257             [AntiCheat.PunkBuster, Engine.idTech]\n",
       "2258                                    [Engine.Unity]\n",
       "Name: TECHNOLOGIES, Length: 2004, dtype: object"
      ]
     },
     "execution_count": 45,
     "metadata": {},
     "output_type": "execute_result"
    }
   ],
   "source": [
    "df['TECHNOLOGIES']"
   ]
  },
  {
   "cell_type": "markdown",
   "metadata": {
    "jp-MarkdownHeadingCollapsed": true
   },
   "source": [
    "## Cleaning 'TOTAL_TWITCH_PEAK' Column"
   ]
  },
  {
   "cell_type": "markdown",
   "metadata": {},
   "source": [
    "This section cleans the 'TOTAL_TWITCH_PEAK' column by splitting it into two new columns: 'TWITCH_PEAK_HOUR' and 'TWITCH_PEAK_YEAR'. It handles missing values and converts the data to appropriate numeric types."
   ]
  },
  {
   "cell_type": "code",
   "execution_count": 46,
   "metadata": {},
   "outputs": [
    {
     "data": {
      "text/plain": [
       "0        27,368\\nall-time peak 9 years ago17 January 2016\n",
       "1       81,096\\nall-time peak 3 years ago13 November 2021\n",
       "2              145\\nall-time peak 2 years ago24 July 2022\n",
       "3          145,384\\nall-time peak 6 years ago13 June 2018\n",
       "4          3,778\\nall-time peak 10 months ago18 July 2023\n",
       "                              ...                        \n",
       "2253    1,434\\nall-time peak 8 years ago18 September 2016\n",
       "2254         118\\nall-time peak 4 years ago25 August 2020\n",
       "2256         4,026\\nall-time peak 2 years ago3 April 2022\n",
       "2257             96\\nall-time peak 4 years ago22 May 2020\n",
       "2258    1,115\\nall-time peak 3 months ago25 February 2024\n",
       "Name: TOTAL_TWITCH_PEAK, Length: 2004, dtype: object"
      ]
     },
     "execution_count": 46,
     "metadata": {},
     "output_type": "execute_result"
    }
   ],
   "source": [
    "df['TOTAL_TWITCH_PEAK']"
   ]
  },
  {
   "cell_type": "code",
   "execution_count": 47,
   "metadata": {},
   "outputs": [],
   "source": [
    "if 'TOTAL_TWITCH_PEAK' in df.columns:\n",
    "    # Extract and convert the TWITCH_PEAK_HOUR\n",
    "    df['TWITCH_PEAK_HOUR'] = df['TOTAL_TWITCH_PEAK'].apply(lambda x: x.split('\\n')[0].replace(',', ''))\n",
    "    df['TWITCH_PEAK_HOUR'] = pd.to_numeric(df['TWITCH_PEAK_HOUR'], errors='coerce')\n",
    "    df['TWITCH_PEAK_HOUR'] = df['TWITCH_PEAK_HOUR'].fillna(-1)\n",
    "    df['TWITCH_PEAK_HOUR'] = df['TWITCH_PEAK_HOUR'].astype(int)\n",
    "   # df['TWITCH_PEAK_HOUR'] = df['TWITCH_PEAK_HOUR'].replace(-1, pd.NA)\n",
    "\n",
    "    # Extract and convert the TWITCH_PEAK_YEAR\n",
    "    df['TWITCH_PEAK_YEAR'] = df['TOTAL_TWITCH_PEAK'].apply(lambda x: x.split()[-1])\n",
    "    df['TWITCH_PEAK_YEAR'] = pd.to_numeric(df['TWITCH_PEAK_YEAR'], errors='coerce')\n",
    "    df['TWITCH_PEAK_YEAR'] = df['TWITCH_PEAK_YEAR'].fillna(-1)\n",
    "    df['TWITCH_PEAK_YEAR'] = df['TWITCH_PEAK_YEAR'].astype(int)\n",
    "    #df['TWITCH_PEAK_YEAR'] = df['TWITCH_PEAK_YEAR'].replace(-1, pd.NA)\n",
    "\n",
    "    # Drop the original column\n",
    "    df.drop(columns=['TOTAL_TWITCH_PEAK'], inplace=True)"
   ]
  },
  {
   "cell_type": "code",
   "execution_count": 48,
   "metadata": {},
   "outputs": [
    {
     "name": "stdout",
     "output_type": "stream",
     "text": [
      "<class 'pandas.core.frame.DataFrame'>\n",
      "Index: 2004 entries, 0 to 2258\n",
      "Data columns (total 17 columns):\n",
      " #   Column                 Non-Null Count  Dtype  \n",
      "---  ------                 --------------  -----  \n",
      " 0   NAME                   2004 non-null   object \n",
      " 1   STORE_GENRE            2004 non-null   object \n",
      " 2   RATING_SCORE           2004 non-null   float64\n",
      " 3   N_SUPPORTED_LANGUAGES  2004 non-null   int32  \n",
      " 4   DEVELOPERS             2004 non-null   object \n",
      " 5   POSITIVE_REVIEWS       2004 non-null   int64  \n",
      " 6   NEGATIVE_REVIEWS       2004 non-null   int64  \n",
      " 7   TECHNOLOGIES           2004 non-null   object \n",
      " 8   PRICE                  2004 non-null   float64\n",
      " 9   N_DLC                  703 non-null    float64\n",
      " 10  24_HOUR_PEAK           2004 non-null   int32  \n",
      " 11  PUBLISH_YEAR           2004 non-null   int32  \n",
      " 12  Linux                  2004 non-null   int64  \n",
      " 13  Windows                2004 non-null   int64  \n",
      " 14  macOS                  2004 non-null   int64  \n",
      " 15  TWITCH_PEAK_HOUR       2004 non-null   int32  \n",
      " 16  TWITCH_PEAK_YEAR       2004 non-null   int32  \n",
      "dtypes: float64(3), int32(5), int64(5), object(4)\n",
      "memory usage: 242.7+ KB\n"
     ]
    }
   ],
   "source": [
    "df.info()"
   ]
  },
  {
   "cell_type": "markdown",
   "metadata": {
    "jp-MarkdownHeadingCollapsed": true
   },
   "source": [
    "## Cleaning 'N_DLC' Column"
   ]
  },
  {
   "cell_type": "markdown",
   "metadata": {},
   "source": [
    "This section handles the cleaning of the 'N_DLC' column by converting it to a numeric type, handling missing values, and calculating the percentage of null values in the column. It also drops the column if necessary.\n",
    "\n"
   ]
  },
  {
   "cell_type": "code",
   "execution_count": 49,
   "metadata": {},
   "outputs": [
    {
     "data": {
      "text/plain": [
       "0          3\n",
       "1         53\n",
       "2       <NA>\n",
       "3          3\n",
       "4          4\n",
       "        ... \n",
       "2253    <NA>\n",
       "2254    <NA>\n",
       "2256    <NA>\n",
       "2257    <NA>\n",
       "2258       1\n",
       "Name: N_DLC, Length: 2004, dtype: object"
      ]
     },
     "execution_count": 49,
     "metadata": {},
     "output_type": "execute_result"
    }
   ],
   "source": [
    "df['N_DLC'] = pd.to_numeric(df['N_DLC'], errors='coerce')  # Ensure numeric conversion\n",
    "df['N_DLC'] = df['N_DLC'].fillna(-1)  # Temporarily fill NaNs with -1\n",
    "df['N_DLC'] = df['N_DLC'].astype(int)  # Convert to int\n",
    "df['N_DLC'] = df['N_DLC'].replace(-1, pd.NA)  # Restore NaNs\n",
    "df['N_DLC']"
   ]
  },
  {
   "cell_type": "code",
   "execution_count": 50,
   "metadata": {},
   "outputs": [
    {
     "name": "stdout",
     "output_type": "stream",
     "text": [
      "Percentage of null values in column 'N_DLC': 64.92%\n"
     ]
    }
   ],
   "source": [
    "column_name = 'N_DLC'\n",
    "num_nulls = df[column_name].isnull().sum()\n",
    "total_entries = len(df[column_name])\n",
    "null_percentage = (num_nulls / total_entries) * 100\n",
    "print(f\"Percentage of null values in column '{column_name}': {null_percentage:.2f}%\")\n"
   ]
  },
  {
   "cell_type": "code",
   "execution_count": 51,
   "metadata": {},
   "outputs": [],
   "source": [
    "df.drop(columns=['N_DLC'], inplace=True)"
   ]
  },
  {
   "cell_type": "markdown",
   "metadata": {
    "jp-MarkdownHeadingCollapsed": true
   },
   "source": [
    "## Calculating 'TOTAL_REVIEW' Column"
   ]
  },
  {
   "cell_type": "markdown",
   "metadata": {},
   "source": [
    "This section calculates a new 'TOTAL_REVIEW' column, which represents the proportion of positive reviews out of the total number of reviews (positive and negative). This helps in understanding the overall review distribution for each game."
   ]
  },
  {
   "cell_type": "code",
   "execution_count": 52,
   "metadata": {},
   "outputs": [],
   "source": [
    "df['TOTAL_REVIEW'] = df['POSITIVE_REVIEWS'] / (df['NEGATIVE_REVIEWS'] + df['POSITIVE_REVIEWS'])"
   ]
  },
  {
   "cell_type": "markdown",
   "metadata": {},
   "source": [
    "## Final Dataset Preparation"
   ]
  },
  {
   "cell_type": "code",
   "execution_count": 53,
   "metadata": {},
   "outputs": [
    {
     "name": "stdout",
     "output_type": "stream",
     "text": [
      "<class 'pandas.core.frame.DataFrame'>\n",
      "Index: 2004 entries, 0 to 2258\n",
      "Data columns (total 17 columns):\n",
      " #   Column                 Non-Null Count  Dtype  \n",
      "---  ------                 --------------  -----  \n",
      " 0   NAME                   2004 non-null   object \n",
      " 1   STORE_GENRE            2004 non-null   object \n",
      " 2   RATING_SCORE           2004 non-null   float64\n",
      " 3   N_SUPPORTED_LANGUAGES  2004 non-null   int32  \n",
      " 4   DEVELOPERS             2004 non-null   object \n",
      " 5   POSITIVE_REVIEWS       2004 non-null   int64  \n",
      " 6   NEGATIVE_REVIEWS       2004 non-null   int64  \n",
      " 7   TECHNOLOGIES           2004 non-null   object \n",
      " 8   PRICE                  2004 non-null   float64\n",
      " 9   24_HOUR_PEAK           2004 non-null   int32  \n",
      " 10  PUBLISH_YEAR           2004 non-null   int32  \n",
      " 11  Linux                  2004 non-null   int64  \n",
      " 12  Windows                2004 non-null   int64  \n",
      " 13  macOS                  2004 non-null   int64  \n",
      " 14  TWITCH_PEAK_HOUR       2004 non-null   int32  \n",
      " 15  TWITCH_PEAK_YEAR       2004 non-null   int32  \n",
      " 16  TOTAL_REVIEW           2004 non-null   float64\n",
      "dtypes: float64(3), int32(5), int64(5), object(4)\n",
      "memory usage: 242.7+ KB\n"
     ]
    }
   ],
   "source": [
    "df.info()"
   ]
  },
  {
   "cell_type": "code",
   "execution_count": 54,
   "metadata": {},
   "outputs": [],
   "source": [
    "df.to_csv('preprocessed_game_info.csv', index=False)"
   ]
  }
 ],
 "metadata": {
  "kernelspec": {
   "display_name": "Python 3 (ipykernel)",
   "language": "python",
   "name": "python3"
  },
  "language_info": {
   "codemirror_mode": {
    "name": "ipython",
    "version": 3
   },
   "file_extension": ".py",
   "mimetype": "text/x-python",
   "name": "python",
   "nbconvert_exporter": "python",
   "pygments_lexer": "ipython3",
   "version": "3.12.2"
  }
 },
 "nbformat": 4,
 "nbformat_minor": 4
}
