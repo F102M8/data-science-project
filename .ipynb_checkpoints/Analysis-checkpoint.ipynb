{
 "cells": [
  {
   "cell_type": "markdown",
   "id": "b039a64e",
   "metadata": {},
   "source": [
    "# Preprocessing(2) & Analysis "
   ]
  },
  {
   "cell_type": "markdown",
   "id": "778311da-3933-475b-b297-43f91a2c6396",
   "metadata": {},
   "source": [
    "## Importing Necessary Libraries"
   ]
  },
  {
   "cell_type": "code",
   "execution_count": 1,
   "id": "8e1353fb",
   "metadata": {},
   "outputs": [],
   "source": [
    "import pandas as pd\n",
    "import seaborn as sns\n",
    "import matplotlib.pyplot as plt\n",
    "from sklearn.preprocessing import StandardScaler\n",
    "import numpy as np\n",
    "from scipy import stats\n",
    "from sklearn.ensemble import RandomForestRegressor\n",
    "import pandas as pd\n",
    "from sklearn.model_selection import train_test_split\n",
    "import math\n",
    "from sklearn.tree import DecisionTreeClassifier\n",
    "from sklearn.neighbors import KNeighborsClassifier\n",
    "from sklearn.metrics import classification_report, accuracy_score\n",
    "from sklearn.preprocessing import OneHotEncoder\n",
    "from sklearn.compose import ColumnTransformer\n",
    "from sklearn.model_selection import GridSearchCV, RandomizedSearchCV\n",
    "import pandas as pd\n",
    "from sklearn.metrics import classification_report\n",
    "from sklearn.tree import plot_tree\n",
    "from sklearn.model_selection import learning_curve\n",
    "from sklearn.ensemble import RandomForestClassifier\n",
    "from xgboost import XGBClassifier\n",
    "from sklearn.preprocessing import LabelEncoder\n",
    "from sklearn.svm import SVC\n",
    "from sklearn.metrics import confusion_matrix, classification_report\n",
    "from sklearn.metrics import precision_recall_fscore_support\n",
    "import seaborn as sb\n",
    "import re\n",
    "import warnings\n",
    "warnings.simplefilter(action='ignore', category=FutureWarning)"
   ]
  },
  {
   "cell_type": "markdown",
   "id": "ba70ab85-ab47-4d2d-beca-b53f7d0ad112",
   "metadata": {},
   "source": [
    "## Loading Data"
   ]
  },
  {
   "cell_type": "code",
   "execution_count": 2,
   "id": "4b02f172-9fb5-4729-a7b2-6096008b3ffb",
   "metadata": {},
   "outputs": [],
   "source": [
    "df = pd.read_csv('preprocessed_game_info.csv')"
   ]
  },
  {
   "cell_type": "code",
   "execution_count": 3,
   "id": "117ca96d-f4e5-42be-974d-ee3011199474",
   "metadata": {},
   "outputs": [
    {
     "name": "stdout",
     "output_type": "stream",
     "text": [
      "Conversion failed for column: NAME\n",
      "Conversion failed for column: DEVELOPERS\n"
     ]
    }
   ],
   "source": [
    "for column in df.columns:\n",
    "    if df[column].dtype == 'object':\n",
    "        try:\n",
    "            df[column] = pd.to_numeric(df[column])\n",
    "        except ValueError:\n",
    "            # Handle the error if conversion to numeric fails\n",
    "            print(f\"Conversion failed for column: {column}\")"
   ]
  },
  {
   "cell_type": "code",
   "execution_count": null,
   "id": "0ce68a0e-17c5-468f-8ed0-6e2c2b6ace55",
   "metadata": {},
   "outputs": [],
   "source": [
    "feature_colors = sns.color_palette('hls', n_colors=len(df.columns))\n",
    "features = df.columns\n",
    "feature_color_map = dict(zip(features, feature_colors))\n",
    "feature_colors"
   ]
  },
  {
   "cell_type": "markdown",
   "id": "f272255a-c22d-4805-800f-d9be6aa63760",
   "metadata": {},
   "source": [
    "## Initial Data Exploration"
   ]
  },
  {
   "cell_type": "code",
   "execution_count": null,
   "id": "7236d6a5-5c1d-4372-9445-0533347a09eb",
   "metadata": {
    "scrolled": true
   },
   "outputs": [],
   "source": [
    "df.head()"
   ]
  },
  {
   "cell_type": "code",
   "execution_count": null,
   "id": "7ecf4ef5-626d-4fa0-b69c-7a54b9ce1d7d",
   "metadata": {
    "scrolled": true
   },
   "outputs": [],
   "source": [
    "df.info()"
   ]
  },
  {
   "cell_type": "markdown",
   "id": "826c9c50-561f-400c-a316-e2df5e0fd552",
   "metadata": {},
   "source": [
    "## Plot the Count of Unique Values for Each Feature "
   ]
  },
  {
   "cell_type": "code",
   "execution_count": null,
   "id": "9ffcde3d-ace1-4253-a340-ec6e8b85e27b",
   "metadata": {
    "scrolled": true
   },
   "outputs": [],
   "source": [
    "unique_counts = df.nunique()\n",
    "\n",
    "plt.figure(figsize=(10, 6))\n",
    "sns.barplot(x=unique_counts.index, y=unique_counts.values, palette=feature_colors)\n",
    "plt.xticks(rotation=90)\n",
    "plt.title('Unique Values Count per Feature')\n",
    "plt.ylabel('Count')\n",
    "plt.xlabel('Feature')\n",
    "plt.show()"
   ]
  },
  {
   "cell_type": "markdown",
   "id": "64110d5c-5c19-4579-a796-de5d9600950e",
   "metadata": {},
   "source": [
    "## Title for Excluding Specific Columns from Numerical Column Selection"
   ]
  },
  {
   "cell_type": "code",
   "execution_count": null,
   "id": "0bd5f043-b180-4d71-9c2c-ab5af2926070",
   "metadata": {},
   "outputs": [],
   "source": [
    "exclude_columns=['Windows', 'macOS', 'Linux']\n",
    "numerical_columns = df.select_dtypes(include=[np.number]).columns\n",
    "numerical_columns = [col for col in numerical_columns if col not in exclude_columns]\n",
    "numerical_df = df[numerical_columns]"
   ]
  },
  {
   "cell_type": "markdown",
   "id": "82218b76-343f-4095-a144-bfd76b4fe5bd",
   "metadata": {},
   "source": [
    "## Outlier Detection and Handling"
   ]
  },
  {
   "cell_type": "code",
   "execution_count": null,
   "id": "48299549-9e6b-4d7c-9bd5-43c64278d4d4",
   "metadata": {},
   "outputs": [],
   "source": [
    "def plot_boxplots(df, exclude_columns=[]):\n",
    "    numerical_columns = df.select_dtypes(include=[np.number]).columns\n",
    "    numerical_columns = [col for col in numerical_columns if col not in exclude_columns]\n",
    "    num_columns = len(numerical_columns)\n",
    "    \n",
    "    num_rows = (num_columns + 2) // 3\n",
    "    \n",
    "    fig, axes = plt.subplots(nrows=num_rows, ncols=3, figsize=(18, 5 * num_rows))\n",
    "    axes = axes.flatten() \n",
    "    \n",
    "    for i, column in enumerate(numerical_columns):\n",
    "        df.boxplot(column=column, ax=axes[i])\n",
    "        axes[i].set_title(f'Box Plot of {column}')\n",
    "    \n",
    "    for j in range(i + 1, len(axes)):\n",
    "        fig.delaxes(axes[j])\n",
    "    \n",
    "    plt.tight_layout()\n",
    "    plt.show()"
   ]
  },
  {
   "cell_type": "code",
   "execution_count": null,
   "id": "4b66f1a5-3b83-4b22-a167-5d5cf8190d52",
   "metadata": {},
   "outputs": [],
   "source": [
    "plot_boxplots(df, exclude_columns=['Windows', 'macOS', 'Linux'])\n"
   ]
  },
  {
   "cell_type": "code",
   "execution_count": null,
   "id": "f0f83bb7-4932-4e21-80f6-69a294ac3fba",
   "metadata": {},
   "outputs": [],
   "source": [
    "def suggest_outlier_handling_method(df, exclude_columns=[]):\n",
    "    methods = {}\n",
    "    \n",
    "    numerical_columns = df.select_dtypes(include=[np.number]).columns\n",
    "    numerical_columns = [col for col in numerical_columns if col not in exclude_columns]\n",
    "    \n",
    "    for column in numerical_columns:\n",
    "        # Plot histogram and box plot\n",
    "        fig, ax = plt.subplots(1, 2, figsize=(12, 6))\n",
    "        sns.histplot(df[column], bins=30, kde=True, ax=ax[0])\n",
    "        ax[0].set_title(f'Histogram of {column}')\n",
    "        sns.boxplot(x=df[column], ax=ax[1])\n",
    "        ax[1].set_title(f'Box Plot of {column}')\n",
    "        plt.show()\n",
    "        \n",
    "        # Calculate basic statistics\n",
    "        mean = df[column].mean()\n",
    "        median = df[column].median()\n",
    "        std = df[column].std()\n",
    "        \n",
    "        print(f'{column} Statistics:')\n",
    "        print(f'Mean: {mean}, Median: {median}, Standard Deviation: {std}')\n",
    "        \n",
    "        # Determine outliers\n",
    "        Q1 = df[column].quantile(0.25)\n",
    "        Q3 = df[column].quantile(0.75)\n",
    "        IQR = Q3 - Q1\n",
    "        lower_bound = Q1 - 1.5 * IQR\n",
    "        upper_bound = Q3 + 1.5 * IQR\n",
    "        outliers = df[(df[column] < lower_bound) | (df[column] > upper_bound)]\n",
    "        \n",
    "        print(f'Number of Outliers: {len(outliers)}')\n",
    "        \n",
    "        if len(outliers) / len(df) < 0.05:\n",
    "            if abs(mean - median) / std > 0.5:\n",
    "                methods[column] = 'transform'\n",
    "            else:\n",
    "                methods[column] = 'remove'\n",
    "        else:\n",
    "            methods[column] = 'cap'\n",
    "        \n",
    "        print(f'Suggested Method for {column}: {methods[column]}')\n",
    "        print('-' * 40)\n",
    "    \n",
    "    return methods"
   ]
  },
  {
   "cell_type": "code",
   "execution_count": null,
   "id": "9c36e41c-64a0-428a-979c-a61b44d1a714",
   "metadata": {},
   "outputs": [],
   "source": [
    "suggested_methods = suggest_outlier_handling_method(df, exclude_columns=['Windows', 'macOS', 'Linux'])\n"
   ]
  },
  {
   "cell_type": "code",
   "execution_count": null,
   "id": "4d30f4da-34a2-4382-8a3c-01d7455a7df2",
   "metadata": {},
   "outputs": [],
   "source": [
    "suggested_methods"
   ]
  },
  {
   "cell_type": "code",
   "execution_count": null,
   "id": "e001962d-1387-4431-aa77-f63594339eae",
   "metadata": {},
   "outputs": [],
   "source": [
    "def handle_outliers(df, methods, exclude_columns=[]):\n",
    "\n",
    "    df_cleaned = df.copy()  \n",
    "    \n",
    "    for column, method in methods.items():\n",
    "        if column in exclude_columns:\n",
    "            continue\n",
    "        \n",
    "        Q1 = df_cleaned[column].quantile(0.25)\n",
    "        Q3 = df_cleaned[column].quantile(0.75)\n",
    "        IQR = Q3 - Q1\n",
    "        lower_bound = Q1 - 1.5 * IQR\n",
    "        upper_bound = Q3 + 1.5 * IQR\n",
    "        \n",
    "        if method == 'remove':\n",
    "            df_cleaned = df_cleaned[(df_cleaned[column] >= lower_bound) & (df_cleaned[column] <= upper_bound)]\n",
    "        elif method == 'cap':\n",
    "            df_cleaned[column] = df_cleaned[column].apply(lambda x: lower_bound if x < lower_bound else upper_bound if x > upper_bound else x)\n",
    "        elif method == 'transform':\n",
    "            df_cleaned[column] = np.log1p(df_cleaned[column])  \n",
    "        else:\n",
    "            raise ValueError(\"Method must be either 'remove', 'cap', or 'transform'\")\n",
    "    \n",
    "    return df_cleaned"
   ]
  },
  {
   "cell_type": "code",
   "execution_count": null,
   "id": "60c24ea1-3702-4685-a7fa-72be6c5db38e",
   "metadata": {},
   "outputs": [],
   "source": [
    "df = handle_outliers(df, suggested_methods, exclude_columns=['Windows', 'Mac', 'Linux', 'PRICE'])\n"
   ]
  },
  {
   "cell_type": "code",
   "execution_count": null,
   "id": "1f986f73-cf57-46dd-ae75-de24599be150",
   "metadata": {},
   "outputs": [],
   "source": [
    "df.info()"
   ]
  },
  {
   "cell_type": "code",
   "execution_count": null,
   "id": "c6a18604-5d41-4b02-8dcf-fee5b023ad64",
   "metadata": {},
   "outputs": [],
   "source": [
    "plot_boxplots(df, exclude_columns=['Windows', 'macOS', 'Linux'])\n"
   ]
  },
  {
   "cell_type": "markdown",
   "id": "0cfb2156-65d4-45b8-abb3-7239f830bfee",
   "metadata": {},
   "source": [
    "## Normalization/Standardization"
   ]
  },
  {
   "cell_type": "code",
   "execution_count": null,
   "id": "bee63199-b73d-427b-b484-82eb2adb5ac5",
   "metadata": {},
   "outputs": [],
   "source": []
  },
  {
   "cell_type": "markdown",
   "id": "64464dba-581f-44e4-960d-010c9bc6aecb",
   "metadata": {},
   "source": [
    "## Descriptive Statistics\n"
   ]
  },
  {
   "cell_type": "code",
   "execution_count": null,
   "id": "dafd9a92-a5ad-4d23-8234-0305eed00487",
   "metadata": {},
   "outputs": [],
   "source": [
    "df.describe()"
   ]
  },
  {
   "cell_type": "markdown",
   "id": "e7afaa24",
   "metadata": {},
   "source": [
    "## Correlation Heatmap"
   ]
  },
  {
   "cell_type": "code",
   "execution_count": null,
   "id": "8d9c81a2",
   "metadata": {
    "scrolled": true
   },
   "outputs": [],
   "source": [
    "ax = sb.heatmap(numerical_df.corr(),annot=True, cmap=\"YlGnBu\")\n",
    "\n",
    "ax.set_xticklabels(\n",
    "    ax.get_xticklabels(),\n",
    "    rotation=45,\n",
    "    horizontalalignment='right'\n",
    ")"
   ]
  },
  {
   "cell_type": "code",
   "execution_count": null,
   "id": "fe08c8f0-81a3-4a3d-8d79-235f51461ca5",
   "metadata": {
    "scrolled": true
   },
   "outputs": [],
   "source": [
    "corr_matrix = numerical_df.corr()\n",
    "correlations = corr_matrix['PRICE'].abs().sort_values(ascending=False)\n",
    "\n",
    "correlation_info = pd.DataFrame({\n",
    "    'Correlation': corr_matrix['PRICE'].loc[correlations.index],\n",
    "    'Type': ['+' if corr_matrix['PRICE'][col] > 0 else '-' for col in correlations.index]\n",
    "})\n",
    "\n",
    "print(\"\\nCorrelation of features with the target (PRICE):\")\n",
    "correlation_info"
   ]
  },
  {
   "cell_type": "code",
   "execution_count": null,
   "id": "edfc90a3-5580-4fb8-b8f8-72977b68a328",
   "metadata": {
    "scrolled": true
   },
   "outputs": [],
   "source": [
    "target_corr =  corr_matrix['PRICE'].sort_values(ascending=False)\n",
    "plt.figure(figsize=(8, 6))\n",
    "sns.barplot(x=target_corr.index, y=target_corr, palette='coolwarm')\n",
    "plt.title('Correlation of Features with PRICE (Target)')\n",
    "plt.xlabel('Features')\n",
    "plt.ylabel('Correlation')\n",
    "plt.xticks(rotation=45)\n",
    "plt.tight_layout()\n",
    "plt.show()\n"
   ]
  },
  {
   "cell_type": "markdown",
   "id": "b96908cc-1c63-4e66-be1e-0575d2410561",
   "metadata": {},
   "source": [
    "## Histograms"
   ]
  },
  {
   "cell_type": "code",
   "execution_count": null,
   "id": "91f67e6f-0ba6-4cca-ad1d-3547ca8284df",
   "metadata": {},
   "outputs": [],
   "source": [
    "numerical_df.hist(bins=30, figsize=(15, 10))\n",
    "plt.suptitle(\"Histograms of Numerical Columns\")\n",
    "plt.show()"
   ]
  },
  {
   "cell_type": "markdown",
   "id": "d62401f9-db4e-4290-8dfb-906028d578b6",
   "metadata": {},
   "source": [
    "##  Scatter Plots"
   ]
  },
  {
   "cell_type": "code",
   "execution_count": null,
   "id": "975b433b-c54f-4d29-b43c-5302276d7f8b",
   "metadata": {
    "scrolled": true
   },
   "outputs": [],
   "source": []
  },
  {
   "cell_type": "markdown",
   "id": "966c3718-21f7-40e0-8b9d-0eb2d57d2d03",
   "metadata": {},
   "source": [
    "## Pair Plots"
   ]
  },
  {
   "cell_type": "code",
   "execution_count": null,
   "id": "1132ba1d-1bff-49f0-8905-cadd67250300",
   "metadata": {
    "scrolled": true
   },
   "outputs": [],
   "source": []
  },
  {
   "cell_type": "markdown",
   "id": "b439c076",
   "metadata": {},
   "source": [
    "### Top 20 DEVELOPERS"
   ]
  },
  {
   "cell_type": "code",
   "execution_count": null,
   "id": "593ac2c3",
   "metadata": {},
   "outputs": [],
   "source": [
    "import warnings\n",
    "\n",
    "warnings.filterwarnings(\"ignore\")\n",
    "\n",
    "# Explode\n",
    "df_exploded = df.explode('DEVELOPERS')\n",
    "\n",
    "top_20_developers = df_exploded['DEVELOPERS'].value_counts().nlargest(20).index\n",
    "\n",
    "df_top_20 = df_exploded[df_exploded['DEVELOPERS'].isin(top_20_developers)]\n",
    "\n",
    "plt.figure(figsize=(10, 8))\n",
    "\n",
    "sb.countplot(y='DEVELOPERS', data=df_top_20, order=top_20_developers)\n",
    "plt.show()"
   ]
  },
  {
   "cell_type": "markdown",
   "id": "0ef8fa66",
   "metadata": {},
   "source": [
    "### Top 10 GENRES"
   ]
  },
  {
   "cell_type": "code",
   "execution_count": null,
   "id": "872d0cbc",
   "metadata": {},
   "outputs": [],
   "source": [
    "# Explode\n",
    "df_exploded = df.explode('STORE_GENRE')\n",
    "\n",
    "top_10_genre = df_exploded['STORE_GENRE'].value_counts().nlargest(10).index\n",
    "\n",
    "df_top_10 = df_exploded[df_exploded['STORE_GENRE'].isin(top_10_genre)]\n",
    "\n",
    "plt.figure(figsize=(10, 8))\n",
    "\n",
    "sb.countplot(y='STORE_GENRE', data=df_top_10, order=top_10_genre)\n",
    "plt.show()"
   ]
  },
  {
   "cell_type": "markdown",
   "id": "c72d2e39-8e17-41ee-80e7-c3c47c21a84d",
   "metadata": {},
   "source": [
    "### Distribution of Publish Year"
   ]
  },
  {
   "cell_type": "code",
   "execution_count": null,
   "id": "2dbb6278-538e-4fb5-b943-c113c3b6ca1f",
   "metadata": {},
   "outputs": [],
   "source": [
    "median_publish_year = df['PUBLISH_YEAR'].median()\n",
    "filled_publish_year = df['PUBLISH_YEAR'].fillna(median_publish_year)"
   ]
  },
  {
   "cell_type": "code",
   "execution_count": null,
   "id": "7804cffb",
   "metadata": {},
   "outputs": [],
   "source": [
    "# Plot the histogram\n",
    "plt.hist(filled_publish_year, bins=100)\n",
    "plt.xlabel('Time')\n",
    "plt.ylabel('Count')\n",
    "plt.title('Distribution of Publish Year')\n",
    "plt.show()\n"
   ]
  },
  {
   "cell_type": "markdown",
   "id": "aa909e9c-e484-4315-bcda-20d5028b7836",
   "metadata": {},
   "source": [
    "### Platform Analysis"
   ]
  },
  {
   "cell_type": "code",
   "execution_count": null,
   "id": "3ae19836-bdb5-42c3-b81b-b882b79620fd",
   "metadata": {},
   "outputs": [],
   "source": [
    "windows_avg_price = df.loc[df['Windows'] == 1, 'PRICE'].mean()\n",
    "linux_avg_price = df.loc[df['Linux'] == 1, 'PRICE'].mean()\n",
    "mac_avg_price = df.loc[df['macOS'] == 1, 'PRICE'].mean()\n",
    "\n",
    "platforms = ['Windows', 'Linux', 'Mac']\n",
    "average_prices = [windows_avg_price, linux_avg_price, mac_avg_price]\n",
    "colors = ['skyblue', 'plum', 'pink']\n",
    "\n",
    "plt.figure(figsize=(10, 6))\n",
    "bars = plt.bar(platforms, average_prices, color=colors)\n",
    "\n",
    "for bar, avg_price in zip(bars, average_prices):\n",
    "    yval = bar.get_height()\n",
    "    plt.text(bar.get_x() + bar.get_width()/2, yval, round(avg_price, 2), va='bottom')  # va: vertical alignment\n",
    "\n",
    "plt.title('Average Price by Platform')\n",
    "plt.xlabel('Platform')\n",
    "plt.ylabel('Average Price')\n",
    "plt.show()"
   ]
  },
  {
   "cell_type": "code",
   "execution_count": null,
   "id": "c4ead2b4",
   "metadata": {
    "scrolled": true
   },
   "outputs": [],
   "source": [
    "\n",
    "df['PlatformCount'] = df[['Windows', 'Linux', 'macOS']].sum(axis=1)\n",
    "\n",
    "platform_groups = df.groupby('PlatformCount').agg({\n",
    "    'RATING_SCORE': 'mean',\n",
    "    'POSITIVE_REVIEWS': 'mean',\n",
    "    'PRICE': 'mean',\n",
    "    'NEGATIVE_REVIEWS': 'mean',\n",
    "})\n",
    "\n",
    "platform_groups.reset_index(inplace=True)\n",
    "\n",
    "platform_groups"
   ]
  },
  {
   "cell_type": "code",
   "execution_count": null,
   "id": "81096017",
   "metadata": {
    "scrolled": true
   },
   "outputs": [],
   "source": [
    "colors = ['skyblue', 'plum', 'pink']\n",
    "metrics = ['RATING_SCORE', 'POSITIVE_REVIEWS', 'NEGATIVE_REVIEWS', 'PRICE']\n",
    "\n",
    "for metric in metrics:\n",
    "    plt.figure(figsize=(10, 5))\n",
    "    plt.bar(platform_groups['PlatformCount'], platform_groups[metric], color=colors)\n",
    "    plt.xlabel('Number of Platforms Supported')\n",
    "    plt.ylabel(metric)\n",
    "    plt.title(f'{metric} vs. Number of Platforms Supported')\n",
    "    plt.xticks(range(1, 3))\n",
    "    plt.show()"
   ]
  },
  {
   "cell_type": "markdown",
   "id": "3b3f7c37-1674-4d8f-9bc4-d424d8d820a9",
   "metadata": {},
   "source": [
    "### Plot the average price for each year"
   ]
  },
  {
   "cell_type": "code",
   "execution_count": null,
   "id": "af087870",
   "metadata": {
    "scrolled": true
   },
   "outputs": [],
   "source": [
    "print(sorted(df[\"PUBLISH_YEAR\"].unique()))"
   ]
  },
  {
   "cell_type": "code",
   "execution_count": null,
   "id": "34903c06",
   "metadata": {
    "scrolled": true
   },
   "outputs": [],
   "source": [
    "average_price_per_year = df.groupby('PUBLISH_YEAR')['PRICE'].mean()\n",
    "\n",
    "# Plot the average price for each year\n",
    "plt.plot(average_price_per_year.index, average_price_per_year.values, marker='o')\n",
    "plt.xlabel('Year')\n",
    "plt.ylabel('Average Price')\n",
    "plt.title('Average Price of Games per Year')\n",
    "plt.grid(True)\n",
    "plt.show()"
   ]
  },
  {
   "cell_type": "markdown",
   "id": "c57a8dc0-becf-489b-a3d3-16a24f44c0e5",
   "metadata": {},
   "source": [
    "###  Relation between Price and Genre"
   ]
  },
  {
   "cell_type": "code",
   "execution_count": null,
   "id": "72c71d84",
   "metadata": {
    "scrolled": true
   },
   "outputs": [],
   "source": [
    "df['STORE_GENRE'] = df['STORE_GENRE'].astype(str)\n",
    "\n",
    "df['PRIMARY_GENRE'] = df['STORE_GENRE'].apply(lambda x: re.findall(r'\\b[A-Za-z]+\\b', x)[0] if re.findall(r'\\b[A-Za-z]+\\b', x) else None)\n"
   ]
  },
  {
   "cell_type": "code",
   "execution_count": null,
   "id": "23835b43",
   "metadata": {
    "scrolled": true
   },
   "outputs": [],
   "source": [
    "# Mean Price Difference by Genre\n",
    "print(\"Mean Prices by Genre\")\n",
    "mean_prices_by_genre = df.groupby('PRIMARY_GENRE')['PRICE'].mean().reset_index()\n",
    "plt.figure(figsize=(10, 6))\n",
    "plt.bar(mean_prices_by_genre['PRIMARY_GENRE'], mean_prices_by_genre['PRICE'], color='skyblue')\n",
    "plt.xlabel('Genre')\n",
    "plt.ylabel('Mean Price ($)')\n",
    "plt.title('Mean Price by Genre')\n",
    "plt.xticks(rotation=45, ha='right')\n",
    "plt.tight_layout()\n",
    "plt.show()"
   ]
  },
  {
   "cell_type": "code",
   "execution_count": null,
   "id": "18620897",
   "metadata": {
    "scrolled": true
   },
   "outputs": [],
   "source": [
    "# Comparison of Top 20 Games based on Genre\n",
    "\n",
    "top_20_games = df.sort_values(by='RATING_SCORE', ascending=False).head(20)\n",
    "\n",
    "top_20_genre_counts = top_20_games['PRIMARY_GENRE'].value_counts().reset_index()\n",
    "top_20_genre_counts.columns = ['PRIMARY_GENRE', 'COUNT']\n",
    "print(\"Top 20 Games by Genre\")\n",
    "\n",
    "plt.figure(figsize=(10, 6))\n",
    "plt.bar(top_20_genre_counts['PRIMARY_GENRE'], top_20_genre_counts['COUNT'], color='lightcoral')\n",
    "plt.xlabel('Genre')\n",
    "plt.ylabel('Count of Top 20 Games')\n",
    "plt.title('Distribution of Genres Among Top 20 Games')\n",
    "plt.xticks(rotation=45, ha='right')\n",
    "plt.tight_layout()\n",
    "plt.show()"
   ]
  },
  {
   "cell_type": "markdown",
   "id": "e1212642-3cef-496e-806f-bf863b3101b0",
   "metadata": {},
   "source": [
    "### Summary statistics for the PRICE column"
   ]
  },
  {
   "cell_type": "code",
   "execution_count": null,
   "id": "952940b9-74c8-46bc-a8fc-c7e28bd93d82",
   "metadata": {
    "scrolled": true
   },
   "outputs": [],
   "source": [
    "plt.hist(df['PRICE'], bins=20, color='skyblue', edgecolor='black')\n",
    "plt.xlabel('Price')\n",
    "plt.ylabel('Frequency')\n",
    "plt.title('Price Distribution')\n",
    "plt.show()"
   ]
  },
  {
   "cell_type": "code",
   "execution_count": null,
   "id": "97219223",
   "metadata": {
    "scrolled": true
   },
   "outputs": [],
   "source": [
    "df = df.assign(**{\"FREE\": df.PRICE == 0})\n",
    "\n",
    "free_prices_dict = dict(df.FREE.value_counts())\n",
    "labels = \"Free\", \"Paid\"\n",
    "sizes = [free_prices_dict[True], free_prices_dict[False]]\n",
    "explode = (0.2, 0)\n",
    "\n",
    "with sb.color_palette('colorblind'):\n",
    "    plt.pie(sizes, explode=explode, labels=labels,\n",
    "            autopct='%1.1f%%', shadow=True, startangle=140)\n",
    "\n",
    "plt.axis('equal')\n",
    "plt.show()"
   ]
  },
  {
   "cell_type": "code",
   "execution_count": null,
   "id": "bcbc8efa-b6dc-4d8c-85dc-85c118c1e1a5",
   "metadata": {
    "scrolled": true
   },
   "outputs": [],
   "source": [
    "price_summary = df['PRICE'].describe()\n",
    "price_summary"
   ]
  },
  {
   "cell_type": "markdown",
   "id": "7e34d651-a291-49a6-9649-edcae5fe85db",
   "metadata": {
    "jp-MarkdownHeadingCollapsed": true
   },
   "source": [
    "### Analyze the correlation between PRICE and POSITIVE_REVIEWS"
   ]
  },
  {
   "cell_type": "code",
   "execution_count": null,
   "id": "d8afe2cf",
   "metadata": {
    "scrolled": true
   },
   "outputs": [],
   "source": [
    "\n",
    "price_positive_corr = df[['PRICE', 'POSITIVE_REVIEWS']].dropna()\n",
    "correlation = price_positive_corr.corr().loc['PRICE', 'POSITIVE_REVIEWS']\n",
    "\n",
    "plt.figure(figsize=(10, 6))\n",
    "sns.regplot(x='PRICE', y='POSITIVE_REVIEWS', data=price_positive_corr, scatter_kws={'alpha':0.6}, line_kws={'color':'red'})\n",
    "plt.title('Correlation between Price and Positive Reviews')\n",
    "plt.xlabel('Price ($)')\n",
    "plt.ylabel('Positive Reviews')\n",
    "plt.grid(True)\n",
    "plt.show()\n",
    "\n",
    "correlation"
   ]
  },
  {
   "cell_type": "markdown",
   "id": "98d820ea-5e9b-42b6-a5a9-644d12985d40",
   "metadata": {
    "scrolled": true
   },
   "source": [
    "### Developer Analysis"
   ]
  },
  {
   "cell_type": "code",
   "execution_count": null,
   "id": "2f6ba06d-4760-4674-877e-e3a13d2d0bb8",
   "metadata": {
    "scrolled": true
   },
   "outputs": [],
   "source": [
    "developer_game_count = df['DEVELOPERS'].value_counts()\n",
    "\n",
    "developer_price_summary = df.groupby('DEVELOPERS')['PRICE'].mean().sort_values(ascending=False)\n",
    "\n",
    "developer_summary = pd.DataFrame({\n",
    "    'Game Count': developer_game_count,\n",
    "    'Average Price': developer_price_summary\n",
    "}).dropna().sort_values(by='Game Count', ascending=False)\n",
    "\n",
    "developer_summary"
   ]
  },
  {
   "cell_type": "markdown",
   "id": "9d7af99b-85ba-4f9d-8a3c-db5e014d3b84",
   "metadata": {},
   "source": [
    "### Relationship between TOTAL_REVIEW and PRICE"
   ]
  },
  {
   "cell_type": "code",
   "execution_count": null,
   "id": "14781951",
   "metadata": {
    "scrolled": true
   },
   "outputs": [],
   "source": [
    "# Plot the relationship between TOTAL_REVIEW and PRICE\n",
    "plt.scatter(df['TOTAL_REVIEW'], df['PRICE'], alpha=0.5)\n",
    "plt.xlabel('Total Review Ratio')\n",
    "plt.ylabel('Price')\n",
    "plt.title('Relationship between Total Review Ratio and Price')\n",
    "plt.grid(True)\n",
    "plt.show()\n"
   ]
  },
  {
   "cell_type": "code",
   "execution_count": null,
   "id": "b6a681da",
   "metadata": {},
   "outputs": [],
   "source": [
    "sb.jointplot(x='TOTAL_REVIEW', y='PRICE', data=df, kind='reg', scatter_kws={'alpha':0.5})\n",
    "plt.xlabel('Total Review Ratio')\n",
    "plt.ylabel('Price')\n",
    "plt.title('Relationship between Total Review Ratio and Price')\n",
    "plt.show()\n"
   ]
  },
  {
   "cell_type": "code",
   "execution_count": null,
   "id": "5cdf1a75",
   "metadata": {},
   "outputs": [],
   "source": [
    "# Create a hexbin plot\n",
    "sb.jointplot(x='TOTAL_REVIEW', y='PRICE', data=df, kind='hex', gridsize=20)\n",
    "plt.xlabel('Total Review Ratio')\n",
    "plt.ylabel('Price')\n",
    "plt.title('Relationship between Total Review Ratio and Price')\n",
    "plt.show()\n"
   ]
  },
  {
   "cell_type": "code",
   "execution_count": null,
   "id": "53fe9299",
   "metadata": {
    "scrolled": true
   },
   "outputs": [],
   "source": [
    "df.nlargest(20, \"TOTAL_REVIEW\")[\"NAME\"]"
   ]
  },
  {
   "cell_type": "code",
   "execution_count": null,
   "id": "205ffd23",
   "metadata": {
    "scrolled": true
   },
   "outputs": [],
   "source": [
    "df['TOTAL_REVIEW'].nlargest(n=25)"
   ]
  },
  {
   "cell_type": "code",
   "execution_count": null,
   "id": "0e5be08f",
   "metadata": {
    "scrolled": true
   },
   "outputs": [],
   "source": [
    "df.query(\"TOTAL_REVIEW >= 0.99\").sort_values(by=\"TOTAL_REVIEW\", ascending=False)[[\"NAME\", \"DEVELOPERS\", \"STORE_GENRE\", \"TOTAL_REVIEW\"]]"
   ]
  },
  {
   "cell_type": "code",
   "execution_count": null,
   "id": "ef9267f7-b7d0-473c-9454-b314510a6f66",
   "metadata": {},
   "outputs": [],
   "source": []
  },
  {
   "cell_type": "code",
   "execution_count": null,
   "id": "e7022c85-a42f-4f5f-ad9e-c165229d82ac",
   "metadata": {},
   "outputs": [],
   "source": []
  }
 ],
 "metadata": {
  "kernelspec": {
   "display_name": "Python 3 (ipykernel)",
   "language": "python",
   "name": "python3"
  },
  "language_info": {
   "codemirror_mode": {
    "name": "ipython",
    "version": 3
   },
   "file_extension": ".py",
   "mimetype": "text/x-python",
   "name": "python",
   "nbconvert_exporter": "python",
   "pygments_lexer": "ipython3",
   "version": "3.12.2"
  }
 },
 "nbformat": 4,
 "nbformat_minor": 5
}
