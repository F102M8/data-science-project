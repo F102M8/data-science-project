{
 "cells": [
  {
   "cell_type": "markdown",
   "metadata": {},
   "source": [
    "# Preprocessing(1)"
   ]
  },
  {
   "cell_type": "markdown",
   "metadata": {
    "jp-MarkdownHeadingCollapsed": true
   },
   "source": [
    "## Importing Necessary Libraries"
   ]
  },
  {
   "cell_type": "code",
   "execution_count": 738,
   "metadata": {},
   "outputs": [],
   "source": [
    "#!pip install plotly"
   ]
  },
  {
   "cell_type": "code",
   "execution_count": 739,
   "metadata": {},
   "outputs": [],
   "source": [
    "import numpy as np\n",
    "import pandas as pd\n",
    "import seaborn as sb\n",
    "import matplotlib.pyplot as plt\n",
    "from collections import Counter\n",
    "import re\n",
    "import plotly.figure_factory as ff\n",
    "import plotly.express as px\n",
    "from datetime import datetime, timedelta\n",
    "from sklearn.preprocessing import MultiLabelBinarizer\n"
   ]
  },
  {
   "cell_type": "markdown",
   "metadata": {
    "jp-MarkdownHeadingCollapsed": true
   },
   "source": [
    "## Loading Data"
   ]
  },
  {
   "cell_type": "code",
   "execution_count": 740,
   "metadata": {},
   "outputs": [],
   "source": [
    "df = pd.read_csv('games_info.csv')\n",
    "game_details = pd.read_csv('games_name_url_price.csv')"
   ]
  },
  {
   "cell_type": "markdown",
   "metadata": {},
   "source": [
    "## Initial Data Exploration"
   ]
  },
  {
   "cell_type": "markdown",
   "metadata": {
    "jp-MarkdownHeadingCollapsed": true
   },
   "source": [
    "### games_info.csv"
   ]
  },
  {
   "cell_type": "code",
   "execution_count": 741,
   "metadata": {},
   "outputs": [
    {
     "data": {
      "text/html": [
       "<div>\n",
       "<style scoped>\n",
       "    .dataframe tbody tr th:only-of-type {\n",
       "        vertical-align: middle;\n",
       "    }\n",
       "\n",
       "    .dataframe tbody tr th {\n",
       "        vertical-align: top;\n",
       "    }\n",
       "\n",
       "    .dataframe thead th {\n",
       "        text-align: right;\n",
       "    }\n",
       "</style>\n",
       "<table border=\"1\" class=\"dataframe\">\n",
       "  <thead>\n",
       "    <tr style=\"text-align: right;\">\n",
       "      <th></th>\n",
       "      <th>NAME</th>\n",
       "      <th>STORE_GENRE</th>\n",
       "      <th>RATING_SCORE</th>\n",
       "      <th>N_SUPPORTED_LANGUAGES</th>\n",
       "      <th>DEVELOPERS</th>\n",
       "      <th>SUPPORTED_PLATFORMS</th>\n",
       "      <th>POSITIVE_REVIEWS</th>\n",
       "      <th>NEGATIVE_REVIEWS</th>\n",
       "      <th>TECHNOLOGIES</th>\n",
       "      <th>RELEASE_DATE</th>\n",
       "      <th>TOTAL_TWITCH_PEAK</th>\n",
       "      <th>PRICE</th>\n",
       "      <th>N_DLC</th>\n",
       "      <th>24_HOUR_PEAK</th>\n",
       "    </tr>\n",
       "  </thead>\n",
       "  <tbody>\n",
       "    <tr>\n",
       "      <th>0</th>\n",
       "      <td>Dragon's Dogma: Dark Arisen</td>\n",
       "      <td>Store Genres Action (1), Adventure (25), RPG (3)</td>\n",
       "      <td>review_score 8</td>\n",
       "      <td>7 Languages</td>\n",
       "      <td>Capcom</td>\n",
       "      <td>Windows</td>\n",
       "      <td>39271</td>\n",
       "      <td>5015</td>\n",
       "      <td>NaN</td>\n",
       "      <td>15 January 2016 – 16:48:00 UTC (9 years ago)</td>\n",
       "      <td>27,368\\nall-time peak 9 years ago17 January 2016</td>\n",
       "      <td>$22.49</td>\n",
       "      <td>3.0</td>\n",
       "      <td>1,064\\n24-hour peak</td>\n",
       "    </tr>\n",
       "    <tr>\n",
       "      <th>1</th>\n",
       "      <td>Forza Horizon 5</td>\n",
       "      <td>Store Genres Action (1), Adventure (25), Racin...</td>\n",
       "      <td>review_score 8</td>\n",
       "      <td>24 Languages</td>\n",
       "      <td>Playground Games</td>\n",
       "      <td>Windows</td>\n",
       "      <td>156683</td>\n",
       "      <td>21075</td>\n",
       "      <td>NaN</td>\n",
       "      <td>9 November 2021 – 04:58:00 UTC (3 years ago)</td>\n",
       "      <td>81,096\\nall-time peak 3 years ago13 November 2021</td>\n",
       "      <td>$32.78</td>\n",
       "      <td>53.0</td>\n",
       "      <td>16,131\\n24-hour peak</td>\n",
       "    </tr>\n",
       "    <tr>\n",
       "      <th>2</th>\n",
       "      <td>Thrive</td>\n",
       "      <td>Store Genres Casual (4), Indie (23), Simulatio...</td>\n",
       "      <td>review_score 8</td>\n",
       "      <td>1 Languages</td>\n",
       "      <td>Revolutionary Games Studio</td>\n",
       "      <td>Windows Linux</td>\n",
       "      <td>872</td>\n",
       "      <td>70</td>\n",
       "      <td>Engine.Godot</td>\n",
       "      <td>26 November 2021 – 10:54:48 UTC (3 years ago)</td>\n",
       "      <td>145\\nall-time peak 2 years ago24 July 2022</td>\n",
       "      <td>$2.99</td>\n",
       "      <td>NaN</td>\n",
       "      <td>21\\n24-hour peak</td>\n",
       "    </tr>\n",
       "    <tr>\n",
       "      <th>3</th>\n",
       "      <td>Layers of Fear (2016)</td>\n",
       "      <td>Store Genres Adventure (25), Indie (23)</td>\n",
       "      <td>review_score 8</td>\n",
       "      <td>12 Languages</td>\n",
       "      <td>Bloober Team SA</td>\n",
       "      <td>Windows macOS Linux</td>\n",
       "      <td>22766</td>\n",
       "      <td>2819</td>\n",
       "      <td>Engine.Unity</td>\n",
       "      <td>15 February 2016 – 21:53:00 UTC (8 years ago)</td>\n",
       "      <td>145,384\\nall-time peak 6 years ago13 June 2018</td>\n",
       "      <td>$10.19</td>\n",
       "      <td>3.0</td>\n",
       "      <td>31\\n24-hour peak</td>\n",
       "    </tr>\n",
       "    <tr>\n",
       "      <th>4</th>\n",
       "      <td>TaskPals</td>\n",
       "      <td>Store Genres Indie (23), Free to Play (37)</td>\n",
       "      <td>review_score 8</td>\n",
       "      <td>1 Languages</td>\n",
       "      <td>lazarche</td>\n",
       "      <td>Windows</td>\n",
       "      <td>834</td>\n",
       "      <td>66</td>\n",
       "      <td>Detected Technologies (?), SDK.SteamworksNET</td>\n",
       "      <td>25 May 2023 – 10:22:41 UTC (12 months ago)</td>\n",
       "      <td>3,778\\nall-time peak 10 months ago18 July 2023</td>\n",
       "      <td>NaN</td>\n",
       "      <td>4.0</td>\n",
       "      <td>318\\n24-hour peak</td>\n",
       "    </tr>\n",
       "    <tr>\n",
       "      <th>5</th>\n",
       "      <td>U-ena -遠花火の少女-</td>\n",
       "      <td>Store Genres Adventure (25), Casual (4), Free ...</td>\n",
       "      <td>review_score 8</td>\n",
       "      <td>3 Languages</td>\n",
       "      <td>HemiolaStudio</td>\n",
       "      <td>Windows</td>\n",
       "      <td>582</td>\n",
       "      <td>41</td>\n",
       "      <td>Engine.Lightvn, Detected Technologies (?), Eng...</td>\n",
       "      <td>8 May 2022 – 11:32:26 UTC (2 years ago)</td>\n",
       "      <td>2 years ago</td>\n",
       "      <td>NaN</td>\n",
       "      <td>NaN</td>\n",
       "      <td>NaN</td>\n",
       "    </tr>\n",
       "    <tr>\n",
       "      <th>6</th>\n",
       "      <td>BattleGroupVR</td>\n",
       "      <td>Store Genres Action (1), Simulation (28), Stra...</td>\n",
       "      <td>review_score 8</td>\n",
       "      <td>3 Languages</td>\n",
       "      <td>SpaceOwl Games</td>\n",
       "      <td>Windows Linux</td>\n",
       "      <td>784</td>\n",
       "      <td>61</td>\n",
       "      <td>Engine.Unity</td>\n",
       "      <td>31 July 2023 – 07:27:28 UTC (10 months ago)</td>\n",
       "      <td>40\\nall-time peak 3 years ago17 January 2021</td>\n",
       "      <td>$8.49</td>\n",
       "      <td>NaN</td>\n",
       "      <td>7\\n24-hour peak</td>\n",
       "    </tr>\n",
       "    <tr>\n",
       "      <th>7</th>\n",
       "      <td>Wargame: Red Dragon</td>\n",
       "      <td>Store Genres Indie (23), Simulation (28), Stra...</td>\n",
       "      <td>review_score 8</td>\n",
       "      <td>11 Languages</td>\n",
       "      <td>Eugen Systems</td>\n",
       "      <td>Windows macOS Linux</td>\n",
       "      <td>16273</td>\n",
       "      <td>1969</td>\n",
       "      <td>NaN</td>\n",
       "      <td>17 April 2014 – 17:00:00 UTC (10 years ago)</td>\n",
       "      <td>4,779\\nall-time peak 10 years ago1 April 2014</td>\n",
       "      <td>$29.99</td>\n",
       "      <td>8.0</td>\n",
       "      <td>802\\n24-hour peak</td>\n",
       "    </tr>\n",
       "    <tr>\n",
       "      <th>8</th>\n",
       "      <td>High On Life</td>\n",
       "      <td>Store Genres Action (1), Adventure (25)</td>\n",
       "      <td>review_score 8</td>\n",
       "      <td>5 Languages</td>\n",
       "      <td>Squanch Games, Inc.</td>\n",
       "      <td>Windows</td>\n",
       "      <td>13941</td>\n",
       "      <td>1669</td>\n",
       "      <td>Engine.Unreal, SDK.EpicOnlineServices</td>\n",
       "      <td>13 December 2022 – 08:00:00 UTC (2 years ago)</td>\n",
       "      <td>11,608\\nall-time peak 2 years ago18 December 2022</td>\n",
       "      <td>$18.99</td>\n",
       "      <td>1.0</td>\n",
       "      <td>212\\n24-hour peak</td>\n",
       "    </tr>\n",
       "    <tr>\n",
       "      <th>9</th>\n",
       "      <td>Rocket League</td>\n",
       "      <td>Store Genres Action (1), Indie (23), Racing (9...</td>\n",
       "      <td>review_score 8</td>\n",
       "      <td>13 Languages</td>\n",
       "      <td>Psyonix LLC</td>\n",
       "      <td>Windows macOS Linux</td>\n",
       "      <td>508263</td>\n",
       "      <td>70214</td>\n",
       "      <td>Engine.Unreal, SDK.EpicOnlineServices</td>\n",
       "      <td>7 July 2015 – 06:59:00 UTC (9 years ago)</td>\n",
       "      <td>147,632\\nall-time peak 4 years ago27 September...</td>\n",
       "      <td>NaN</td>\n",
       "      <td>25.0</td>\n",
       "      <td>32,851\\n24-hour peak</td>\n",
       "    </tr>\n",
       "  </tbody>\n",
       "</table>\n",
       "</div>"
      ],
      "text/plain": [
       "                          NAME  \\\n",
       "0  Dragon's Dogma: Dark Arisen   \n",
       "1              Forza Horizon 5   \n",
       "2                       Thrive   \n",
       "3        Layers of Fear (2016)   \n",
       "4                     TaskPals   \n",
       "5               U-ena -遠花火の少女-   \n",
       "6                BattleGroupVR   \n",
       "7          Wargame: Red Dragon   \n",
       "8                 High On Life   \n",
       "9                Rocket League   \n",
       "\n",
       "                                         STORE_GENRE    RATING_SCORE  \\\n",
       "0   Store Genres Action (1), Adventure (25), RPG (3)  review_score 8   \n",
       "1  Store Genres Action (1), Adventure (25), Racin...  review_score 8   \n",
       "2  Store Genres Casual (4), Indie (23), Simulatio...  review_score 8   \n",
       "3            Store Genres Adventure (25), Indie (23)  review_score 8   \n",
       "4         Store Genres Indie (23), Free to Play (37)  review_score 8   \n",
       "5  Store Genres Adventure (25), Casual (4), Free ...  review_score 8   \n",
       "6  Store Genres Action (1), Simulation (28), Stra...  review_score 8   \n",
       "7  Store Genres Indie (23), Simulation (28), Stra...  review_score 8   \n",
       "8            Store Genres Action (1), Adventure (25)  review_score 8   \n",
       "9  Store Genres Action (1), Indie (23), Racing (9...  review_score 8   \n",
       "\n",
       "  N_SUPPORTED_LANGUAGES                  DEVELOPERS  SUPPORTED_PLATFORMS  \\\n",
       "0           7 Languages                      Capcom              Windows   \n",
       "1          24 Languages            Playground Games              Windows   \n",
       "2           1 Languages  Revolutionary Games Studio        Windows Linux   \n",
       "3          12 Languages             Bloober Team SA  Windows macOS Linux   \n",
       "4           1 Languages                    lazarche              Windows   \n",
       "5           3 Languages               HemiolaStudio              Windows   \n",
       "6           3 Languages              SpaceOwl Games        Windows Linux   \n",
       "7          11 Languages               Eugen Systems  Windows macOS Linux   \n",
       "8           5 Languages         Squanch Games, Inc.              Windows   \n",
       "9          13 Languages                 Psyonix LLC  Windows macOS Linux   \n",
       "\n",
       "   POSITIVE_REVIEWS  NEGATIVE_REVIEWS  \\\n",
       "0             39271              5015   \n",
       "1            156683             21075   \n",
       "2               872                70   \n",
       "3             22766              2819   \n",
       "4               834                66   \n",
       "5               582                41   \n",
       "6               784                61   \n",
       "7             16273              1969   \n",
       "8             13941              1669   \n",
       "9            508263             70214   \n",
       "\n",
       "                                        TECHNOLOGIES  \\\n",
       "0                                                NaN   \n",
       "1                                                NaN   \n",
       "2                                       Engine.Godot   \n",
       "3                                       Engine.Unity   \n",
       "4       Detected Technologies (?), SDK.SteamworksNET   \n",
       "5  Engine.Lightvn, Detected Technologies (?), Eng...   \n",
       "6                                       Engine.Unity   \n",
       "7                                                NaN   \n",
       "8              Engine.Unreal, SDK.EpicOnlineServices   \n",
       "9              Engine.Unreal, SDK.EpicOnlineServices   \n",
       "\n",
       "                                    RELEASE_DATE  \\\n",
       "0   15 January 2016 – 16:48:00 UTC (9 years ago)   \n",
       "1   9 November 2021 – 04:58:00 UTC (3 years ago)   \n",
       "2  26 November 2021 – 10:54:48 UTC (3 years ago)   \n",
       "3  15 February 2016 – 21:53:00 UTC (8 years ago)   \n",
       "4     25 May 2023 – 10:22:41 UTC (12 months ago)   \n",
       "5        8 May 2022 – 11:32:26 UTC (2 years ago)   \n",
       "6    31 July 2023 – 07:27:28 UTC (10 months ago)   \n",
       "7    17 April 2014 – 17:00:00 UTC (10 years ago)   \n",
       "8  13 December 2022 – 08:00:00 UTC (2 years ago)   \n",
       "9       7 July 2015 – 06:59:00 UTC (9 years ago)   \n",
       "\n",
       "                                   TOTAL_TWITCH_PEAK    PRICE  N_DLC  \\\n",
       "0   27,368\\nall-time peak 9 years ago17 January 2016  $22.49     3.0   \n",
       "1  81,096\\nall-time peak 3 years ago13 November 2021  $32.78    53.0   \n",
       "2         145\\nall-time peak 2 years ago24 July 2022   $2.99     NaN   \n",
       "3     145,384\\nall-time peak 6 years ago13 June 2018  $10.19     3.0   \n",
       "4     3,778\\nall-time peak 10 months ago18 July 2023      NaN    4.0   \n",
       "5                                        2 years ago      NaN    NaN   \n",
       "6       40\\nall-time peak 3 years ago17 January 2021   $8.49     NaN   \n",
       "7      4,779\\nall-time peak 10 years ago1 April 2014  $29.99     8.0   \n",
       "8  11,608\\nall-time peak 2 years ago18 December 2022  $18.99     1.0   \n",
       "9  147,632\\nall-time peak 4 years ago27 September...      NaN   25.0   \n",
       "\n",
       "           24_HOUR_PEAK  \n",
       "0   1,064\\n24-hour peak  \n",
       "1  16,131\\n24-hour peak  \n",
       "2      21\\n24-hour peak  \n",
       "3      31\\n24-hour peak  \n",
       "4     318\\n24-hour peak  \n",
       "5                   NaN  \n",
       "6       7\\n24-hour peak  \n",
       "7     802\\n24-hour peak  \n",
       "8     212\\n24-hour peak  \n",
       "9  32,851\\n24-hour peak  "
      ]
     },
     "execution_count": 741,
     "metadata": {},
     "output_type": "execute_result"
    }
   ],
   "source": [
    "df.head(10)"
   ]
  },
  {
   "cell_type": "code",
   "execution_count": 742,
   "metadata": {},
   "outputs": [
    {
     "name": "stdout",
     "output_type": "stream",
     "text": [
      "<class 'pandas.core.frame.DataFrame'>\n",
      "RangeIndex: 2259 entries, 0 to 2258\n",
      "Data columns (total 14 columns):\n",
      " #   Column                 Non-Null Count  Dtype  \n",
      "---  ------                 --------------  -----  \n",
      " 0   NAME                   2259 non-null   object \n",
      " 1   STORE_GENRE            2221 non-null   object \n",
      " 2   RATING_SCORE           2225 non-null   object \n",
      " 3   N_SUPPORTED_LANGUAGES  2226 non-null   object \n",
      " 4   DEVELOPERS             2258 non-null   object \n",
      " 5   SUPPORTED_PLATFORMS    2197 non-null   object \n",
      " 6   POSITIVE_REVIEWS       2259 non-null   int64  \n",
      " 7   NEGATIVE_REVIEWS       2259 non-null   int64  \n",
      " 8   TECHNOLOGIES           1845 non-null   object \n",
      " 9   RELEASE_DATE           2255 non-null   object \n",
      " 10  TOTAL_TWITCH_PEAK      2259 non-null   object \n",
      " 11  PRICE                  1507 non-null   object \n",
      " 12  N_DLC                  789 non-null    float64\n",
      " 13  24_HOUR_PEAK           2208 non-null   object \n",
      "dtypes: float64(1), int64(2), object(11)\n",
      "memory usage: 247.2+ KB\n"
     ]
    }
   ],
   "source": [
    "df.info()"
   ]
  },
  {
   "cell_type": "code",
   "execution_count": 743,
   "metadata": {},
   "outputs": [
    {
     "data": {
      "text/html": [
       "<div>\n",
       "<style scoped>\n",
       "    .dataframe tbody tr th:only-of-type {\n",
       "        vertical-align: middle;\n",
       "    }\n",
       "\n",
       "    .dataframe tbody tr th {\n",
       "        vertical-align: top;\n",
       "    }\n",
       "\n",
       "    .dataframe thead th {\n",
       "        text-align: right;\n",
       "    }\n",
       "</style>\n",
       "<table border=\"1\" class=\"dataframe\">\n",
       "  <thead>\n",
       "    <tr style=\"text-align: right;\">\n",
       "      <th></th>\n",
       "      <th>POSITIVE_REVIEWS</th>\n",
       "      <th>NEGATIVE_REVIEWS</th>\n",
       "      <th>N_DLC</th>\n",
       "    </tr>\n",
       "  </thead>\n",
       "  <tbody>\n",
       "    <tr>\n",
       "      <th>count</th>\n",
       "      <td>2.259000e+03</td>\n",
       "      <td>2259.000000</td>\n",
       "      <td>789.000000</td>\n",
       "    </tr>\n",
       "    <tr>\n",
       "      <th>mean</th>\n",
       "      <td>2.087847e+04</td>\n",
       "      <td>1270.529438</td>\n",
       "      <td>5.904943</td>\n",
       "    </tr>\n",
       "    <tr>\n",
       "      <th>std</th>\n",
       "      <td>7.540080e+04</td>\n",
       "      <td>5824.763668</td>\n",
       "      <td>17.345104</td>\n",
       "    </tr>\n",
       "    <tr>\n",
       "      <th>min</th>\n",
       "      <td>3.400000e+01</td>\n",
       "      <td>0.000000</td>\n",
       "      <td>1.000000</td>\n",
       "    </tr>\n",
       "    <tr>\n",
       "      <th>25%</th>\n",
       "      <td>7.245000e+02</td>\n",
       "      <td>33.000000</td>\n",
       "      <td>1.000000</td>\n",
       "    </tr>\n",
       "    <tr>\n",
       "      <th>50%</th>\n",
       "      <td>2.509000e+03</td>\n",
       "      <td>136.000000</td>\n",
       "      <td>2.000000</td>\n",
       "    </tr>\n",
       "    <tr>\n",
       "      <th>75%</th>\n",
       "      <td>1.043100e+04</td>\n",
       "      <td>602.000000</td>\n",
       "      <td>4.000000</td>\n",
       "    </tr>\n",
       "    <tr>\n",
       "      <th>max</th>\n",
       "      <td>1.257272e+06</td>\n",
       "      <td>190953.000000</td>\n",
       "      <td>379.000000</td>\n",
       "    </tr>\n",
       "  </tbody>\n",
       "</table>\n",
       "</div>"
      ],
      "text/plain": [
       "       POSITIVE_REVIEWS  NEGATIVE_REVIEWS       N_DLC\n",
       "count      2.259000e+03       2259.000000  789.000000\n",
       "mean       2.087847e+04       1270.529438    5.904943\n",
       "std        7.540080e+04       5824.763668   17.345104\n",
       "min        3.400000e+01          0.000000    1.000000\n",
       "25%        7.245000e+02         33.000000    1.000000\n",
       "50%        2.509000e+03        136.000000    2.000000\n",
       "75%        1.043100e+04        602.000000    4.000000\n",
       "max        1.257272e+06     190953.000000  379.000000"
      ]
     },
     "execution_count": 743,
     "metadata": {},
     "output_type": "execute_result"
    }
   ],
   "source": [
    "df.describe()"
   ]
  },
  {
   "cell_type": "code",
   "execution_count": 744,
   "metadata": {},
   "outputs": [
    {
     "data": {
      "text/html": [
       "<div>\n",
       "<style scoped>\n",
       "    .dataframe tbody tr th:only-of-type {\n",
       "        vertical-align: middle;\n",
       "    }\n",
       "\n",
       "    .dataframe tbody tr th {\n",
       "        vertical-align: top;\n",
       "    }\n",
       "\n",
       "    .dataframe thead th {\n",
       "        text-align: right;\n",
       "    }\n",
       "</style>\n",
       "<table border=\"1\" class=\"dataframe\">\n",
       "  <thead>\n",
       "    <tr style=\"text-align: right;\">\n",
       "      <th></th>\n",
       "      <th>NAME</th>\n",
       "      <th>STORE_GENRE</th>\n",
       "      <th>RATING_SCORE</th>\n",
       "      <th>N_SUPPORTED_LANGUAGES</th>\n",
       "      <th>DEVELOPERS</th>\n",
       "      <th>SUPPORTED_PLATFORMS</th>\n",
       "      <th>TECHNOLOGIES</th>\n",
       "      <th>RELEASE_DATE</th>\n",
       "      <th>TOTAL_TWITCH_PEAK</th>\n",
       "      <th>PRICE</th>\n",
       "      <th>24_HOUR_PEAK</th>\n",
       "    </tr>\n",
       "  </thead>\n",
       "  <tbody>\n",
       "    <tr>\n",
       "      <th>count</th>\n",
       "      <td>2259</td>\n",
       "      <td>2221</td>\n",
       "      <td>2225</td>\n",
       "      <td>2226</td>\n",
       "      <td>2258</td>\n",
       "      <td>2197</td>\n",
       "      <td>1845</td>\n",
       "      <td>2255</td>\n",
       "      <td>2259</td>\n",
       "      <td>1507</td>\n",
       "      <td>2208</td>\n",
       "    </tr>\n",
       "    <tr>\n",
       "      <th>unique</th>\n",
       "      <td>2088</td>\n",
       "      <td>325</td>\n",
       "      <td>3</td>\n",
       "      <td>36</td>\n",
       "      <td>1668</td>\n",
       "      <td>6</td>\n",
       "      <td>234</td>\n",
       "      <td>2071</td>\n",
       "      <td>2066</td>\n",
       "      <td>125</td>\n",
       "      <td>643</td>\n",
       "    </tr>\n",
       "    <tr>\n",
       "      <th>top</th>\n",
       "      <td>TOEM</td>\n",
       "      <td>Store Genres Action (1), Adventure (25), Indie...</td>\n",
       "      <td>review_score 8</td>\n",
       "      <td>1 Languages</td>\n",
       "      <td>Square Enix</td>\n",
       "      <td>Windows</td>\n",
       "      <td>Engine.Unity</td>\n",
       "      <td>17 September 2021 – 13:00:40 UTC (3 years ago)</td>\n",
       "      <td>2 years ago</td>\n",
       "      <td>$19.99</td>\n",
       "      <td>4\\n24-hour peak</td>\n",
       "    </tr>\n",
       "    <tr>\n",
       "      <th>freq</th>\n",
       "      <td>4</td>\n",
       "      <td>113</td>\n",
       "      <td>1355</td>\n",
       "      <td>583</td>\n",
       "      <td>16</td>\n",
       "      <td>1294</td>\n",
       "      <td>764</td>\n",
       "      <td>4</td>\n",
       "      <td>8</td>\n",
       "      <td>206</td>\n",
       "      <td>81</td>\n",
       "    </tr>\n",
       "  </tbody>\n",
       "</table>\n",
       "</div>"
      ],
      "text/plain": [
       "        NAME                                        STORE_GENRE  \\\n",
       "count   2259                                               2221   \n",
       "unique  2088                                                325   \n",
       "top     TOEM  Store Genres Action (1), Adventure (25), Indie...   \n",
       "freq       4                                                113   \n",
       "\n",
       "          RATING_SCORE N_SUPPORTED_LANGUAGES   DEVELOPERS SUPPORTED_PLATFORMS  \\\n",
       "count             2225                  2226         2258                2197   \n",
       "unique               3                    36         1668                   6   \n",
       "top     review_score 8           1 Languages  Square Enix             Windows   \n",
       "freq              1355                   583           16                1294   \n",
       "\n",
       "        TECHNOLOGIES                                    RELEASE_DATE  \\\n",
       "count           1845                                            2255   \n",
       "unique           234                                            2071   \n",
       "top     Engine.Unity  17 September 2021 – 13:00:40 UTC (3 years ago)   \n",
       "freq             764                                               4   \n",
       "\n",
       "       TOTAL_TWITCH_PEAK    PRICE     24_HOUR_PEAK  \n",
       "count               2259     1507             2208  \n",
       "unique              2066      125              643  \n",
       "top          2 years ago  $19.99   4\\n24-hour peak  \n",
       "freq                   8      206               81  "
      ]
     },
     "execution_count": 744,
     "metadata": {},
     "output_type": "execute_result"
    }
   ],
   "source": [
    "df.describe(include='object')"
   ]
  },
  {
   "cell_type": "markdown",
   "metadata": {
    "jp-MarkdownHeadingCollapsed": true
   },
   "source": [
    "### game_details.csv"
   ]
  },
  {
   "cell_type": "code",
   "execution_count": 745,
   "metadata": {},
   "outputs": [
    {
     "data": {
      "text/html": [
       "<div>\n",
       "<style scoped>\n",
       "    .dataframe tbody tr th:only-of-type {\n",
       "        vertical-align: middle;\n",
       "    }\n",
       "\n",
       "    .dataframe tbody tr th {\n",
       "        vertical-align: top;\n",
       "    }\n",
       "\n",
       "    .dataframe thead th {\n",
       "        text-align: right;\n",
       "    }\n",
       "</style>\n",
       "<table border=\"1\" class=\"dataframe\">\n",
       "  <thead>\n",
       "    <tr style=\"text-align: right;\">\n",
       "      <th></th>\n",
       "      <th>name</th>\n",
       "      <th>url</th>\n",
       "      <th>price</th>\n",
       "      <th>release</th>\n",
       "      <th>page</th>\n",
       "    </tr>\n",
       "  </thead>\n",
       "  <tbody>\n",
       "    <tr>\n",
       "      <th>0</th>\n",
       "      <td>The Price Of Flesh</td>\n",
       "      <td>https://steamdb.info/app/1940040/</td>\n",
       "      <td>$14.99</td>\n",
       "      <td>2022</td>\n",
       "      <td>38</td>\n",
       "    </tr>\n",
       "    <tr>\n",
       "      <th>1</th>\n",
       "      <td>Terminator: Resistance</td>\n",
       "      <td>https://steamdb.info/app/954740/</td>\n",
       "      <td>$39.99</td>\n",
       "      <td>2019</td>\n",
       "      <td>38</td>\n",
       "    </tr>\n",
       "    <tr>\n",
       "      <th>2</th>\n",
       "      <td>Ken Follett's The Pillars of the Earth</td>\n",
       "      <td>https://steamdb.info/app/234270/</td>\n",
       "      <td>$19.99</td>\n",
       "      <td>2017</td>\n",
       "      <td>38</td>\n",
       "    </tr>\n",
       "    <tr>\n",
       "      <th>3</th>\n",
       "      <td>Subsurface Circular</td>\n",
       "      <td>https://steamdb.info/app/676820/</td>\n",
       "      <td>$4.79</td>\n",
       "      <td>2017</td>\n",
       "      <td>38</td>\n",
       "    </tr>\n",
       "    <tr>\n",
       "      <th>4</th>\n",
       "      <td>Sumire</td>\n",
       "      <td>https://steamdb.info/app/1335230/</td>\n",
       "      <td>$5.99</td>\n",
       "      <td>2021</td>\n",
       "      <td>38</td>\n",
       "    </tr>\n",
       "  </tbody>\n",
       "</table>\n",
       "</div>"
      ],
      "text/plain": [
       "                                     name                                url  \\\n",
       "0                      The Price Of Flesh  https://steamdb.info/app/1940040/   \n",
       "1                  Terminator: Resistance   https://steamdb.info/app/954740/   \n",
       "2  Ken Follett's The Pillars of the Earth   https://steamdb.info/app/234270/   \n",
       "3                     Subsurface Circular   https://steamdb.info/app/676820/   \n",
       "4                                  Sumire  https://steamdb.info/app/1335230/   \n",
       "\n",
       "     price release  page  \n",
       "0  $14.99     2022    38  \n",
       "1  $39.99     2019    38  \n",
       "2  $19.99     2017    38  \n",
       "3   $4.79     2017    38  \n",
       "4   $5.99     2021    38  "
      ]
     },
     "execution_count": 745,
     "metadata": {},
     "output_type": "execute_result"
    }
   ],
   "source": [
    "game_details.head()"
   ]
  },
  {
   "cell_type": "code",
   "execution_count": 746,
   "metadata": {},
   "outputs": [
    {
     "name": "stdout",
     "output_type": "stream",
     "text": [
      "<class 'pandas.core.frame.DataFrame'>\n",
      "RangeIndex: 4950 entries, 0 to 4949\n",
      "Data columns (total 5 columns):\n",
      " #   Column   Non-Null Count  Dtype \n",
      "---  ------   --------------  ----- \n",
      " 0   name     4950 non-null   object\n",
      " 1   url      4950 non-null   object\n",
      " 2   price    4950 non-null   object\n",
      " 3   release  4950 non-null   object\n",
      " 4   page     4950 non-null   int64 \n",
      "dtypes: int64(1), object(4)\n",
      "memory usage: 193.5+ KB\n"
     ]
    }
   ],
   "source": [
    "game_details.info()"
   ]
  },
  {
   "cell_type": "code",
   "execution_count": 747,
   "metadata": {},
   "outputs": [
    {
     "data": {
      "text/html": [
       "<div>\n",
       "<style scoped>\n",
       "    .dataframe tbody tr th:only-of-type {\n",
       "        vertical-align: middle;\n",
       "    }\n",
       "\n",
       "    .dataframe tbody tr th {\n",
       "        vertical-align: top;\n",
       "    }\n",
       "\n",
       "    .dataframe thead th {\n",
       "        text-align: right;\n",
       "    }\n",
       "</style>\n",
       "<table border=\"1\" class=\"dataframe\">\n",
       "  <thead>\n",
       "    <tr style=\"text-align: right;\">\n",
       "      <th></th>\n",
       "      <th>name</th>\n",
       "      <th>url</th>\n",
       "      <th>price</th>\n",
       "      <th>release</th>\n",
       "    </tr>\n",
       "  </thead>\n",
       "  <tbody>\n",
       "    <tr>\n",
       "      <th>count</th>\n",
       "      <td>4950</td>\n",
       "      <td>4950</td>\n",
       "      <td>4950</td>\n",
       "      <td>4950</td>\n",
       "    </tr>\n",
       "    <tr>\n",
       "      <th>unique</th>\n",
       "      <td>4236</td>\n",
       "      <td>4238</td>\n",
       "      <td>191</td>\n",
       "      <td>29</td>\n",
       "    </tr>\n",
       "    <tr>\n",
       "      <th>top</th>\n",
       "      <td>Black Book</td>\n",
       "      <td>https://steamdb.info/app/80/</td>\n",
       "      <td>-</td>\n",
       "      <td>2023</td>\n",
       "    </tr>\n",
       "    <tr>\n",
       "      <th>freq</th>\n",
       "      <td>3</td>\n",
       "      <td>3</td>\n",
       "      <td>1131</td>\n",
       "      <td>653</td>\n",
       "    </tr>\n",
       "  </tbody>\n",
       "</table>\n",
       "</div>"
      ],
      "text/plain": [
       "              name                           url price release\n",
       "count         4950                          4950  4950    4950\n",
       "unique        4236                          4238   191      29\n",
       "top     Black Book  https://steamdb.info/app/80/     -    2023\n",
       "freq             3                             3  1131     653"
      ]
     },
     "execution_count": 747,
     "metadata": {},
     "output_type": "execute_result"
    }
   ],
   "source": [
    "game_details.describe(include='object')"
   ]
  },
  {
   "cell_type": "markdown",
   "metadata": {
    "jp-MarkdownHeadingCollapsed": true
   },
   "source": [
    "## Removing Duplicated Games"
   ]
  },
  {
   "cell_type": "code",
   "execution_count": 748,
   "metadata": {},
   "outputs": [
    {
     "name": "stdout",
     "output_type": "stream",
     "text": [
      "Duplicate Rows based on the 'NAME' column:\n",
      "Number of duplicate rows based on the 'NAME' column: 171\n"
     ]
    }
   ],
   "source": [
    "df_copy = df.copy()\n",
    "duplicate_rows = df[df.duplicated(subset=['NAME'])]\n",
    "print(\"Duplicate Rows based on the 'NAME' column:\")\n",
    "\n",
    "num_duplicates = duplicate_rows.shape[0]\n",
    "print(f\"Number of duplicate rows based on the 'NAME' column: {num_duplicates}\")\n",
    "df = df_copy.drop_duplicates(subset=['NAME'], keep='first')\n"
   ]
  },
  {
   "cell_type": "code",
   "execution_count": 749,
   "metadata": {},
   "outputs": [
    {
     "data": {
      "text/plain": [
       "61                             The Night of the Scissors\n",
       "132                 If My Heart Had Wings -Flight Diary-\n",
       "133                                              KNIGHTS\n",
       "139    Command & Conquer: Red Alert™ 2 and Yuri’s Rev...\n",
       "156                                         Metro Exodus\n",
       "Name: NAME, dtype: object"
      ]
     },
     "execution_count": 749,
     "metadata": {},
     "output_type": "execute_result"
    }
   ],
   "source": [
    "duplicate_rows['NAME'].head()"
   ]
  },
  {
   "cell_type": "code",
   "execution_count": 750,
   "metadata": {},
   "outputs": [],
   "source": [
    "del df_copy\n",
    "del duplicate_rows"
   ]
  },
  {
   "cell_type": "markdown",
   "metadata": {
    "jp-MarkdownHeadingCollapsed": true
   },
   "source": [
    "## Handling Missing Values"
   ]
  },
  {
   "cell_type": "code",
   "execution_count": 751,
   "metadata": {},
   "outputs": [],
   "source": [
    "df.replace('N/A', pd.NA, inplace=True)"
   ]
  },
  {
   "cell_type": "code",
   "execution_count": 752,
   "metadata": {},
   "outputs": [],
   "source": [
    "def missing_percentage(df):\n",
    "    missing_percentage = df.isnull().mean() * 100\n",
    "    missing_percentage_table = pd.DataFrame({'Column': missing_percentage.index, 'Missing Percentage': missing_percentage.values})\n",
    "    missing_percentage_table = missing_percentage_table.sort_values(by='Missing Percentage', ascending=False)\n",
    "    return missing_percentage_table\n",
    "\n",
    "missing_percentage_table = missing_percentage(df)"
   ]
  },
  {
   "cell_type": "code",
   "execution_count": 753,
   "metadata": {
    "scrolled": true
   },
   "outputs": [
    {
     "data": {
      "text/html": [
       "<div>\n",
       "<style scoped>\n",
       "    .dataframe tbody tr th:only-of-type {\n",
       "        vertical-align: middle;\n",
       "    }\n",
       "\n",
       "    .dataframe tbody tr th {\n",
       "        vertical-align: top;\n",
       "    }\n",
       "\n",
       "    .dataframe thead th {\n",
       "        text-align: right;\n",
       "    }\n",
       "</style>\n",
       "<table border=\"1\" class=\"dataframe\">\n",
       "  <thead>\n",
       "    <tr style=\"text-align: right;\">\n",
       "      <th></th>\n",
       "      <th>Column</th>\n",
       "      <th>Missing Percentage</th>\n",
       "    </tr>\n",
       "  </thead>\n",
       "  <tbody>\n",
       "    <tr>\n",
       "      <th>12</th>\n",
       "      <td>N_DLC</td>\n",
       "      <td>65.038314</td>\n",
       "    </tr>\n",
       "    <tr>\n",
       "      <th>11</th>\n",
       "      <td>PRICE</td>\n",
       "      <td>32.950192</td>\n",
       "    </tr>\n",
       "    <tr>\n",
       "      <th>8</th>\n",
       "      <td>TECHNOLOGIES</td>\n",
       "      <td>18.582375</td>\n",
       "    </tr>\n",
       "    <tr>\n",
       "      <th>5</th>\n",
       "      <td>SUPPORTED_PLATFORMS</td>\n",
       "      <td>2.729885</td>\n",
       "    </tr>\n",
       "    <tr>\n",
       "      <th>13</th>\n",
       "      <td>24_HOUR_PEAK</td>\n",
       "      <td>2.250958</td>\n",
       "    </tr>\n",
       "    <tr>\n",
       "      <th>1</th>\n",
       "      <td>STORE_GENRE</td>\n",
       "      <td>1.724138</td>\n",
       "    </tr>\n",
       "    <tr>\n",
       "      <th>2</th>\n",
       "      <td>RATING_SCORE</td>\n",
       "      <td>1.532567</td>\n",
       "    </tr>\n",
       "    <tr>\n",
       "      <th>3</th>\n",
       "      <td>N_SUPPORTED_LANGUAGES</td>\n",
       "      <td>1.484674</td>\n",
       "    </tr>\n",
       "    <tr>\n",
       "      <th>9</th>\n",
       "      <td>RELEASE_DATE</td>\n",
       "      <td>0.191571</td>\n",
       "    </tr>\n",
       "    <tr>\n",
       "      <th>4</th>\n",
       "      <td>DEVELOPERS</td>\n",
       "      <td>0.047893</td>\n",
       "    </tr>\n",
       "    <tr>\n",
       "      <th>0</th>\n",
       "      <td>NAME</td>\n",
       "      <td>0.000000</td>\n",
       "    </tr>\n",
       "    <tr>\n",
       "      <th>6</th>\n",
       "      <td>POSITIVE_REVIEWS</td>\n",
       "      <td>0.000000</td>\n",
       "    </tr>\n",
       "    <tr>\n",
       "      <th>7</th>\n",
       "      <td>NEGATIVE_REVIEWS</td>\n",
       "      <td>0.000000</td>\n",
       "    </tr>\n",
       "    <tr>\n",
       "      <th>10</th>\n",
       "      <td>TOTAL_TWITCH_PEAK</td>\n",
       "      <td>0.000000</td>\n",
       "    </tr>\n",
       "  </tbody>\n",
       "</table>\n",
       "</div>"
      ],
      "text/plain": [
       "                   Column  Missing Percentage\n",
       "12                  N_DLC           65.038314\n",
       "11                  PRICE           32.950192\n",
       "8            TECHNOLOGIES           18.582375\n",
       "5     SUPPORTED_PLATFORMS            2.729885\n",
       "13           24_HOUR_PEAK            2.250958\n",
       "1             STORE_GENRE            1.724138\n",
       "2            RATING_SCORE            1.532567\n",
       "3   N_SUPPORTED_LANGUAGES            1.484674\n",
       "9            RELEASE_DATE            0.191571\n",
       "4              DEVELOPERS            0.047893\n",
       "0                    NAME            0.000000\n",
       "6        POSITIVE_REVIEWS            0.000000\n",
       "7        NEGATIVE_REVIEWS            0.000000\n",
       "10      TOTAL_TWITCH_PEAK            0.000000"
      ]
     },
     "execution_count": 753,
     "metadata": {},
     "output_type": "execute_result"
    }
   ],
   "source": [
    "missing_percentage_table"
   ]
  },
  {
   "cell_type": "code",
   "execution_count": 754,
   "metadata": {},
   "outputs": [],
   "source": [
    "del missing_percentage_table"
   ]
  },
  {
   "cell_type": "code",
   "execution_count": 755,
   "metadata": {},
   "outputs": [],
   "source": [
    "def drop_rows_with_missing_data(df, threshold_percentage):\n",
    "    threshold = len(df.columns) * (threshold_percentage / 100)\n",
    "    initial_row_count = len(df)\n",
    "    df_cleaned = df.dropna(thresh=len(df.columns) - threshold)\n",
    "    final_row_count = len(df_cleaned)\n",
    "    rows_deleted = initial_row_count - final_row_count\n",
    "    return df_cleaned, rows_deleted\n",
    "\n",
    "df, rows_deleted = drop_rows_with_missing_data(df, 25)"
   ]
  },
  {
   "cell_type": "code",
   "execution_count": 756,
   "metadata": {},
   "outputs": [
    {
     "name": "stdout",
     "output_type": "stream",
     "text": [
      "Number of rows deleted: 37\n"
     ]
    }
   ],
   "source": [
    "print(f\"Number of rows deleted: {rows_deleted}\")"
   ]
  },
  {
   "cell_type": "code",
   "execution_count": 757,
   "metadata": {},
   "outputs": [
    {
     "data": {
      "text/html": [
       "<div>\n",
       "<style scoped>\n",
       "    .dataframe tbody tr th:only-of-type {\n",
       "        vertical-align: middle;\n",
       "    }\n",
       "\n",
       "    .dataframe tbody tr th {\n",
       "        vertical-align: top;\n",
       "    }\n",
       "\n",
       "    .dataframe thead th {\n",
       "        text-align: right;\n",
       "    }\n",
       "</style>\n",
       "<table border=\"1\" class=\"dataframe\">\n",
       "  <thead>\n",
       "    <tr style=\"text-align: right;\">\n",
       "      <th></th>\n",
       "      <th>Column</th>\n",
       "      <th>Missing Percentage</th>\n",
       "    </tr>\n",
       "  </thead>\n",
       "  <tbody>\n",
       "    <tr>\n",
       "      <th>12</th>\n",
       "      <td>N_DLC</td>\n",
       "      <td>64.895173</td>\n",
       "    </tr>\n",
       "    <tr>\n",
       "      <th>11</th>\n",
       "      <td>PRICE</td>\n",
       "      <td>33.008289</td>\n",
       "    </tr>\n",
       "    <tr>\n",
       "      <th>8</th>\n",
       "      <td>TECHNOLOGIES</td>\n",
       "      <td>18.430034</td>\n",
       "    </tr>\n",
       "    <tr>\n",
       "      <th>5</th>\n",
       "      <td>SUPPORTED_PLATFORMS</td>\n",
       "      <td>2.340322</td>\n",
       "    </tr>\n",
       "    <tr>\n",
       "      <th>13</th>\n",
       "      <td>24_HOUR_PEAK</td>\n",
       "      <td>0.731351</td>\n",
       "    </tr>\n",
       "    <tr>\n",
       "      <th>1</th>\n",
       "      <td>STORE_GENRE</td>\n",
       "      <td>0.195027</td>\n",
       "    </tr>\n",
       "    <tr>\n",
       "      <th>9</th>\n",
       "      <td>RELEASE_DATE</td>\n",
       "      <td>0.195027</td>\n",
       "    </tr>\n",
       "    <tr>\n",
       "      <th>4</th>\n",
       "      <td>DEVELOPERS</td>\n",
       "      <td>0.048757</td>\n",
       "    </tr>\n",
       "    <tr>\n",
       "      <th>0</th>\n",
       "      <td>NAME</td>\n",
       "      <td>0.000000</td>\n",
       "    </tr>\n",
       "    <tr>\n",
       "      <th>2</th>\n",
       "      <td>RATING_SCORE</td>\n",
       "      <td>0.000000</td>\n",
       "    </tr>\n",
       "    <tr>\n",
       "      <th>3</th>\n",
       "      <td>N_SUPPORTED_LANGUAGES</td>\n",
       "      <td>0.000000</td>\n",
       "    </tr>\n",
       "    <tr>\n",
       "      <th>6</th>\n",
       "      <td>POSITIVE_REVIEWS</td>\n",
       "      <td>0.000000</td>\n",
       "    </tr>\n",
       "    <tr>\n",
       "      <th>7</th>\n",
       "      <td>NEGATIVE_REVIEWS</td>\n",
       "      <td>0.000000</td>\n",
       "    </tr>\n",
       "    <tr>\n",
       "      <th>10</th>\n",
       "      <td>TOTAL_TWITCH_PEAK</td>\n",
       "      <td>0.000000</td>\n",
       "    </tr>\n",
       "  </tbody>\n",
       "</table>\n",
       "</div>"
      ],
      "text/plain": [
       "                   Column  Missing Percentage\n",
       "12                  N_DLC           64.895173\n",
       "11                  PRICE           33.008289\n",
       "8            TECHNOLOGIES           18.430034\n",
       "5     SUPPORTED_PLATFORMS            2.340322\n",
       "13           24_HOUR_PEAK            0.731351\n",
       "1             STORE_GENRE            0.195027\n",
       "9            RELEASE_DATE            0.195027\n",
       "4              DEVELOPERS            0.048757\n",
       "0                    NAME            0.000000\n",
       "2            RATING_SCORE            0.000000\n",
       "3   N_SUPPORTED_LANGUAGES            0.000000\n",
       "6        POSITIVE_REVIEWS            0.000000\n",
       "7        NEGATIVE_REVIEWS            0.000000\n",
       "10      TOTAL_TWITCH_PEAK            0.000000"
      ]
     },
     "execution_count": 757,
     "metadata": {},
     "output_type": "execute_result"
    }
   ],
   "source": [
    "missing_percentage_table = missing_percentage(df)\n",
    "missing_percentage_table"
   ]
  },
  {
   "cell_type": "code",
   "execution_count": 758,
   "metadata": {},
   "outputs": [],
   "source": [
    "del missing_percentage_table"
   ]
  },
  {
   "cell_type": "code",
   "execution_count": 759,
   "metadata": {},
   "outputs": [
    {
     "name": "stdout",
     "output_type": "stream",
     "text": [
      "<class 'pandas.core.frame.DataFrame'>\n",
      "Index: 2051 entries, 0 to 2258\n",
      "Data columns (total 14 columns):\n",
      " #   Column                 Non-Null Count  Dtype  \n",
      "---  ------                 --------------  -----  \n",
      " 0   NAME                   2051 non-null   object \n",
      " 1   STORE_GENRE            2047 non-null   object \n",
      " 2   RATING_SCORE           2051 non-null   object \n",
      " 3   N_SUPPORTED_LANGUAGES  2051 non-null   object \n",
      " 4   DEVELOPERS             2050 non-null   object \n",
      " 5   SUPPORTED_PLATFORMS    2003 non-null   object \n",
      " 6   POSITIVE_REVIEWS       2051 non-null   int64  \n",
      " 7   NEGATIVE_REVIEWS       2051 non-null   int64  \n",
      " 8   TECHNOLOGIES           1673 non-null   object \n",
      " 9   RELEASE_DATE           2047 non-null   object \n",
      " 10  TOTAL_TWITCH_PEAK      2051 non-null   object \n",
      " 11  PRICE                  1374 non-null   object \n",
      " 12  N_DLC                  720 non-null    float64\n",
      " 13  24_HOUR_PEAK           2036 non-null   object \n",
      "dtypes: float64(1), int64(2), object(11)\n",
      "memory usage: 240.4+ KB\n"
     ]
    }
   ],
   "source": [
    "df.info()"
   ]
  },
  {
   "cell_type": "markdown",
   "metadata": {},
   "source": [
    "## Handle Missing Values:(`N_DLC`)   \n",
    "### (Remove Columns with High Missing Values)"
   ]
  },
  {
   "cell_type": "code",
   "execution_count": 760,
   "metadata": {},
   "outputs": [],
   "source": [
    "# df['N_DLC'] = pd.to_numeric(df['N_DLC'], errors='coerce') \n",
    "# df['N_DLC'] = df['N_DLC'].fillna(-1)  \n",
    "# df['N_DLC'] = df['N_DLC'].astype(int) \n",
    "# df['N_DLC'] = df['N_DLC'].replace(-1, pd.NA)\n",
    "# df['N_DLC']"
   ]
  },
  {
   "cell_type": "code",
   "execution_count": 761,
   "metadata": {},
   "outputs": [],
   "source": [
    "if 'N_DLC' in df.columns:\n",
    "    df.drop(columns=['N_DLC'], inplace=True)"
   ]
  },
  {
   "cell_type": "code",
   "execution_count": 762,
   "metadata": {},
   "outputs": [
    {
     "name": "stdout",
     "output_type": "stream",
     "text": [
      "<class 'pandas.core.frame.DataFrame'>\n",
      "Index: 2051 entries, 0 to 2258\n",
      "Data columns (total 13 columns):\n",
      " #   Column                 Non-Null Count  Dtype \n",
      "---  ------                 --------------  ----- \n",
      " 0   NAME                   2051 non-null   object\n",
      " 1   STORE_GENRE            2047 non-null   object\n",
      " 2   RATING_SCORE           2051 non-null   object\n",
      " 3   N_SUPPORTED_LANGUAGES  2051 non-null   object\n",
      " 4   DEVELOPERS             2050 non-null   object\n",
      " 5   SUPPORTED_PLATFORMS    2003 non-null   object\n",
      " 6   POSITIVE_REVIEWS       2051 non-null   int64 \n",
      " 7   NEGATIVE_REVIEWS       2051 non-null   int64 \n",
      " 8   TECHNOLOGIES           1673 non-null   object\n",
      " 9   RELEASE_DATE           2047 non-null   object\n",
      " 10  TOTAL_TWITCH_PEAK      2051 non-null   object\n",
      " 11  PRICE                  1374 non-null   object\n",
      " 12  24_HOUR_PEAK           2036 non-null   object\n",
      "dtypes: int64(2), object(11)\n",
      "memory usage: 224.3+ KB\n"
     ]
    }
   ],
   "source": [
    "df.info()"
   ]
  },
  {
   "cell_type": "markdown",
   "metadata": {
    "jp-MarkdownHeadingCollapsed": true
   },
   "source": [
    "## Extracting `PUBLISH_YEAR` from `RELEASE_DATE`"
   ]
  },
  {
   "cell_type": "code",
   "execution_count": 763,
   "metadata": {},
   "outputs": [
    {
     "data": {
      "text/plain": [
       "0     15 January 2016 – 16:48:00 UTC (9 years ago)\n",
       "1     9 November 2021 – 04:58:00 UTC (3 years ago)\n",
       "2    26 November 2021 – 10:54:48 UTC (3 years ago)\n",
       "3    15 February 2016 – 21:53:00 UTC (8 years ago)\n",
       "4       25 May 2023 – 10:22:41 UTC (12 months ago)\n",
       "5          8 May 2022 – 11:32:26 UTC (2 years ago)\n",
       "6      31 July 2023 – 07:27:28 UTC (10 months ago)\n",
       "7      17 April 2014 – 17:00:00 UTC (10 years ago)\n",
       "8    13 December 2022 – 08:00:00 UTC (2 years ago)\n",
       "9         7 July 2015 – 06:59:00 UTC (9 years ago)\n",
       "Name: RELEASE_DATE, dtype: object"
      ]
     },
     "execution_count": 763,
     "metadata": {},
     "output_type": "execute_result"
    }
   ],
   "source": [
    "df['RELEASE_DATE'].head(10)"
   ]
  },
  {
   "cell_type": "code",
   "execution_count": 764,
   "metadata": {},
   "outputs": [],
   "source": [
    "if 'RELEASE_DATE' in df.columns:\n",
    "    df['PUBLISH_YEAR'] = df['RELEASE_DATE'].str.extract(r'(\\d{4})')\n",
    "\n",
    "    df['PUBLISH_YEAR'] = pd.to_numeric(df['PUBLISH_YEAR'], errors='coerce')\n",
    "\n",
    "    df['PUBLISH_YEAR'] = df['PUBLISH_YEAR'].fillna(-1)\n",
    "    df['PUBLISH_YEAR'] = df['PUBLISH_YEAR'].astype(int)\n",
    "    df['PUBLISH_YEAR'] = df['PUBLISH_YEAR'].replace(-1, pd.NA)\n",
    "\n",
    "    df = df.drop('RELEASE_DATE', axis=1)"
   ]
  },
  {
   "cell_type": "markdown",
   "metadata": {
    "jp-MarkdownHeadingCollapsed": true
   },
   "source": [
    "## Handle Missing Values:(`PUBLISH_YEAR`)"
   ]
  },
  {
   "cell_type": "code",
   "execution_count": 765,
   "metadata": {},
   "outputs": [
    {
     "data": {
      "text/plain": [
       "4"
      ]
     },
     "execution_count": 765,
     "metadata": {},
     "output_type": "execute_result"
    }
   ],
   "source": [
    "null_count_before = df['PUBLISH_YEAR'].isnull().sum()\n",
    "missing_names = df[df['PUBLISH_YEAR'].isnull()]['NAME']\n",
    "null_count_before"
   ]
  },
  {
   "cell_type": "code",
   "execution_count": 766,
   "metadata": {},
   "outputs": [
    {
     "data": {
      "text/plain": [
       "226     Assassin's Creed IV Black Flag\n",
       "883     Serious Sam Fusion 2017 (beta)\n",
       "1510                 Mark of the Ninja\n",
       "1931                    Sleeping Dogs™\n",
       "Name: NAME, dtype: object"
      ]
     },
     "execution_count": 766,
     "metadata": {},
     "output_type": "execute_result"
    }
   ],
   "source": [
    "missing_names"
   ]
  },
  {
   "cell_type": "code",
   "execution_count": 767,
   "metadata": {},
   "outputs": [
    {
     "data": {
      "text/html": [
       "<div>\n",
       "<style scoped>\n",
       "    .dataframe tbody tr th:only-of-type {\n",
       "        vertical-align: middle;\n",
       "    }\n",
       "\n",
       "    .dataframe tbody tr th {\n",
       "        vertical-align: top;\n",
       "    }\n",
       "\n",
       "    .dataframe thead th {\n",
       "        text-align: right;\n",
       "    }\n",
       "</style>\n",
       "<table border=\"1\" class=\"dataframe\">\n",
       "  <thead>\n",
       "    <tr style=\"text-align: right;\">\n",
       "      <th></th>\n",
       "      <th>name</th>\n",
       "      <th>release</th>\n",
       "    </tr>\n",
       "  </thead>\n",
       "  <tbody>\n",
       "    <tr>\n",
       "      <th>1362</th>\n",
       "      <td>Mark of the Ninja</td>\n",
       "      <td>-</td>\n",
       "    </tr>\n",
       "    <tr>\n",
       "      <th>4487</th>\n",
       "      <td>Serious Sam Fusion 2017 (beta)</td>\n",
       "      <td>-</td>\n",
       "    </tr>\n",
       "  </tbody>\n",
       "</table>\n",
       "</div>"
      ],
      "text/plain": [
       "                                name release\n",
       "1362               Mark of the Ninja       -\n",
       "4487  Serious Sam Fusion 2017 (beta)       -"
      ]
     },
     "execution_count": 767,
     "metadata": {},
     "output_type": "execute_result"
    }
   ],
   "source": [
    "result = game_details[game_details['name'].isin(missing_names)][['name', 'release']]\n",
    "result"
   ]
  },
  {
   "cell_type": "code",
   "execution_count": 768,
   "metadata": {},
   "outputs": [
    {
     "data": {
      "text/plain": [
       "3"
      ]
     },
     "execution_count": 768,
     "metadata": {},
     "output_type": "execute_result"
    }
   ],
   "source": [
    "df.loc[df['NAME'] == 'Serious Sam Fusion 2017 (beta)', 'PUBLISH_YEAR'] = 2017\n",
    "df['PUBLISH_YEAR'].isnull().sum()"
   ]
  },
  {
   "cell_type": "code",
   "execution_count": 769,
   "metadata": {},
   "outputs": [],
   "source": [
    "# mode_publish_year = df['PUBLISH_YEAR'].mode()\n",
    "# print(mode_publish_year[0])\n",
    "# df['PUBLISH_YEAR'] = df['PUBLISH_YEAR'].fillna(mode_publish_year[0])\n",
    "\n",
    "df = df.dropna(subset=['PUBLISH_YEAR'])"
   ]
  },
  {
   "cell_type": "code",
   "execution_count": 770,
   "metadata": {},
   "outputs": [
    {
     "data": {
      "text/plain": [
       "0"
      ]
     },
     "execution_count": 770,
     "metadata": {},
     "output_type": "execute_result"
    }
   ],
   "source": [
    "null_count_after = df['PUBLISH_YEAR'].isnull().sum()\n",
    "null_count_after"
   ]
  },
  {
   "cell_type": "code",
   "execution_count": 771,
   "metadata": {},
   "outputs": [],
   "source": [
    "df['PUBLISH_YEAR'] = df['PUBLISH_YEAR'].astype(int)"
   ]
  },
  {
   "cell_type": "code",
   "execution_count": 772,
   "metadata": {},
   "outputs": [
    {
     "name": "stdout",
     "output_type": "stream",
     "text": [
      "<class 'pandas.core.frame.DataFrame'>\n",
      "Index: 2048 entries, 0 to 2258\n",
      "Data columns (total 13 columns):\n",
      " #   Column                 Non-Null Count  Dtype \n",
      "---  ------                 --------------  ----- \n",
      " 0   NAME                   2048 non-null   object\n",
      " 1   STORE_GENRE            2044 non-null   object\n",
      " 2   RATING_SCORE           2048 non-null   object\n",
      " 3   N_SUPPORTED_LANGUAGES  2048 non-null   object\n",
      " 4   DEVELOPERS             2047 non-null   object\n",
      " 5   SUPPORTED_PLATFORMS    2000 non-null   object\n",
      " 6   POSITIVE_REVIEWS       2048 non-null   int64 \n",
      " 7   NEGATIVE_REVIEWS       2048 non-null   int64 \n",
      " 8   TECHNOLOGIES           1672 non-null   object\n",
      " 9   TOTAL_TWITCH_PEAK      2048 non-null   object\n",
      " 10  PRICE                  1373 non-null   object\n",
      " 11  24_HOUR_PEAK           2033 non-null   object\n",
      " 12  PUBLISH_YEAR           2048 non-null   int32 \n",
      "dtypes: int32(1), int64(2), object(10)\n",
      "memory usage: 216.0+ KB\n"
     ]
    }
   ],
   "source": [
    "df.info()"
   ]
  },
  {
   "cell_type": "markdown",
   "metadata": {
    "jp-MarkdownHeadingCollapsed": true
   },
   "source": [
    "## Handle Missing Values:(`DEVELOPERS`)"
   ]
  },
  {
   "cell_type": "code",
   "execution_count": 773,
   "metadata": {},
   "outputs": [
    {
     "data": {
      "text/plain": [
       "1"
      ]
     },
     "execution_count": 773,
     "metadata": {},
     "output_type": "execute_result"
    }
   ],
   "source": [
    "df['DEVELOPERS'].isnull().sum()"
   ]
  },
  {
   "cell_type": "code",
   "execution_count": 774,
   "metadata": {},
   "outputs": [],
   "source": [
    "df.dropna(subset=['DEVELOPERS'], inplace=True)"
   ]
  },
  {
   "cell_type": "markdown",
   "metadata": {
    "jp-MarkdownHeadingCollapsed": true
   },
   "source": [
    "## Data Cleaning and Integer Conversion: (`N_SUPPORTED_LANGUAGES`)"
   ]
  },
  {
   "cell_type": "markdown",
   "metadata": {},
   "source": [
    "This section handles the `N_SUPPORTED_LANGUAGES` column by filling missing values with a default number (1) and converting the column to an integer type after removing any extraneous text."
   ]
  },
  {
   "cell_type": "code",
   "execution_count": 775,
   "metadata": {},
   "outputs": [
    {
     "data": {
      "text/plain": [
       "0"
      ]
     },
     "execution_count": 775,
     "metadata": {},
     "output_type": "execute_result"
    }
   ],
   "source": [
    "df['N_SUPPORTED_LANGUAGES'].isnull().sum()"
   ]
  },
  {
   "cell_type": "code",
   "execution_count": 776,
   "metadata": {},
   "outputs": [
    {
     "data": {
      "text/plain": [
       "0     7 Languages\n",
       "1    24 Languages\n",
       "2     1 Languages\n",
       "3    12 Languages\n",
       "4     1 Languages\n",
       "Name: N_SUPPORTED_LANGUAGES, dtype: object"
      ]
     },
     "execution_count": 776,
     "metadata": {},
     "output_type": "execute_result"
    }
   ],
   "source": [
    "df['N_SUPPORTED_LANGUAGES'].head()"
   ]
  },
  {
   "cell_type": "code",
   "execution_count": 777,
   "metadata": {},
   "outputs": [],
   "source": [
    "df['N_SUPPORTED_LANGUAGES'] = df['N_SUPPORTED_LANGUAGES'].fillna(1)"
   ]
  },
  {
   "cell_type": "code",
   "execution_count": 778,
   "metadata": {},
   "outputs": [],
   "source": [
    "df['N_SUPPORTED_LANGUAGES'] = df['N_SUPPORTED_LANGUAGES'].astype(str).str.replace(' Languages', '').astype(int)"
   ]
  },
  {
   "cell_type": "markdown",
   "metadata": {},
   "source": [
    "## Data Cleaning and Integer Conversion: (`RATING_SCORE`)"
   ]
  },
  {
   "cell_type": "code",
   "execution_count": 779,
   "metadata": {},
   "outputs": [
    {
     "data": {
      "text/plain": [
       "0"
      ]
     },
     "execution_count": 779,
     "metadata": {},
     "output_type": "execute_result"
    }
   ],
   "source": [
    "df['RATING_SCORE'].isnull().sum()"
   ]
  },
  {
   "cell_type": "code",
   "execution_count": 780,
   "metadata": {},
   "outputs": [
    {
     "data": {
      "text/plain": [
       "0    review_score 8\n",
       "1    review_score 8\n",
       "2    review_score 8\n",
       "3    review_score 8\n",
       "4    review_score 8\n",
       "Name: RATING_SCORE, dtype: object"
      ]
     },
     "execution_count": 780,
     "metadata": {},
     "output_type": "execute_result"
    }
   ],
   "source": [
    "df['RATING_SCORE'].head()"
   ]
  },
  {
   "cell_type": "code",
   "execution_count": 781,
   "metadata": {},
   "outputs": [],
   "source": [
    "placeholder_value = 'review_score -1'\n",
    "df['RATING_SCORE'] = df['RATING_SCORE'].fillna(placeholder_value)"
   ]
  },
  {
   "cell_type": "code",
   "execution_count": 782,
   "metadata": {},
   "outputs": [],
   "source": [
    "df['RATING_SCORE'] = df['RATING_SCORE'].str.replace('review_score ', '').astype(float)"
   ]
  },
  {
   "cell_type": "code",
   "execution_count": 783,
   "metadata": {},
   "outputs": [
    {
     "data": {
      "text/plain": [
       "0    8.0\n",
       "Name: RATING_SCORE, dtype: float64"
      ]
     },
     "execution_count": 783,
     "metadata": {},
     "output_type": "execute_result"
    }
   ],
   "source": [
    "df['RATING_SCORE'].head(1)"
   ]
  },
  {
   "cell_type": "code",
   "execution_count": 784,
   "metadata": {},
   "outputs": [],
   "source": [
    "# mean_rating_score = df.loc[df['RATING_SCORE'] != -1, 'RATING_SCORE'].mean()  \n",
    "# df.loc[df['RATING_SCORE'] == -1, 'RATING_SCORE'] = mean_rating_score"
   ]
  },
  {
   "cell_type": "markdown",
   "metadata": {
    "jp-MarkdownHeadingCollapsed": true
   },
   "source": [
    "## Extracting `RATING_SCORE` from `POSITIVE_REVIEWS` & `NEGATIVE_REVIEWS` \n",
    "(Using this approach, we achieve a higher precision score.)"
   ]
  },
  {
   "cell_type": "code",
   "execution_count": 785,
   "metadata": {},
   "outputs": [
    {
     "data": {
      "text/plain": [
       "0"
      ]
     },
     "execution_count": 785,
     "metadata": {},
     "output_type": "execute_result"
    }
   ],
   "source": [
    "df['POSITIVE_REVIEWS'].isnull().sum()"
   ]
  },
  {
   "cell_type": "code",
   "execution_count": 786,
   "metadata": {},
   "outputs": [
    {
     "data": {
      "text/plain": [
       "0"
      ]
     },
     "execution_count": 786,
     "metadata": {},
     "output_type": "execute_result"
    }
   ],
   "source": [
    "df['NEGATIVE_REVIEWS'].isnull().sum()"
   ]
  },
  {
   "cell_type": "code",
   "execution_count": 787,
   "metadata": {},
   "outputs": [],
   "source": [
    "if 'RATING_SCORE' in df.columns:\n",
    "    df.drop(columns=['RATING_SCORE'], inplace=True)"
   ]
  },
  {
   "cell_type": "code",
   "execution_count": 788,
   "metadata": {},
   "outputs": [
    {
     "data": {
      "text/plain": [
       "0    0.886759\n",
       "Name: RATING_SCORE, dtype: float64"
      ]
     },
     "execution_count": 788,
     "metadata": {},
     "output_type": "execute_result"
    }
   ],
   "source": [
    "df['RATING_SCORE'] = df['POSITIVE_REVIEWS'] / (df['NEGATIVE_REVIEWS'] + df['POSITIVE_REVIEWS'])\n",
    "df['RATING_SCORE'].head(1)"
   ]
  },
  {
   "cell_type": "markdown",
   "metadata": {
    "jp-MarkdownHeadingCollapsed": true
   },
   "source": [
    "## Extracting `TOTAL_RATE_SUM` from `POSITIVE_REVIEWS` & `NEGATIVE_REVIEWS`"
   ]
  },
  {
   "cell_type": "code",
   "execution_count": 789,
   "metadata": {},
   "outputs": [
    {
     "data": {
      "text/plain": [
       "0     44286\n",
       "1    177758\n",
       "2       942\n",
       "3     25585\n",
       "4       900\n",
       "Name: TOTAL_RATE_SUM, dtype: int64"
      ]
     },
     "execution_count": 789,
     "metadata": {},
     "output_type": "execute_result"
    }
   ],
   "source": [
    "df['TOTAL_RATE_SUM'] = (df['NEGATIVE_REVIEWS'] + df['POSITIVE_REVIEWS'])\n",
    "df['TOTAL_RATE_SUM'].head()"
   ]
  },
  {
   "cell_type": "markdown",
   "metadata": {},
   "source": [
    "## Data Cleaning and Transforming: (`STORE_GENRE`)"
   ]
  },
  {
   "cell_type": "code",
   "execution_count": 790,
   "metadata": {},
   "outputs": [
    {
     "data": {
      "text/plain": [
       "0     Store Genres Action (1), Adventure (25), RPG (3)\n",
       "1    Store Genres Action (1), Adventure (25), Racin...\n",
       "2    Store Genres Casual (4), Indie (23), Simulatio...\n",
       "3              Store Genres Adventure (25), Indie (23)\n",
       "4           Store Genres Indie (23), Free to Play (37)\n",
       "Name: STORE_GENRE, dtype: object"
      ]
     },
     "execution_count": 790,
     "metadata": {},
     "output_type": "execute_result"
    }
   ],
   "source": [
    "df['STORE_GENRE'].head()"
   ]
  },
  {
   "cell_type": "code",
   "execution_count": 791,
   "metadata": {},
   "outputs": [],
   "source": [
    "def clean_store_genre(genre_string):\n",
    "    genres = genre_string.split(', ')\n",
    "    cleaned_genres = []\n",
    "    for genre in genres:\n",
    "        cleaned_genre = genre.split(' (')[0]\n",
    "        cleaned_genres.append(cleaned_genre)\n",
    "    return cleaned_genres"
   ]
  },
  {
   "cell_type": "code",
   "execution_count": 792,
   "metadata": {},
   "outputs": [],
   "source": [
    "df['STORE_GENRE'] = df['STORE_GENRE'].fillna('Store Genres')\n",
    "df['STORE_GENRE'] = df['STORE_GENRE'].str.replace('Store Genres ', '')\n",
    "df['STORE_GENRE'] = df['STORE_GENRE'].apply(clean_store_genre)"
   ]
  },
  {
   "cell_type": "code",
   "execution_count": 793,
   "metadata": {},
   "outputs": [
    {
     "data": {
      "text/plain": [
       "0                           [Action, Adventure, RPG]\n",
       "1    [Action, Adventure, Racing, Simulation, Sports]\n",
       "2          [Casual, Indie, Simulation, Early Access]\n",
       "3                                 [Adventure, Indie]\n",
       "4                              [Indie, Free to Play]\n",
       "5                  [Adventure, Casual, Free to Play]\n",
       "6                     [Action, Simulation, Strategy]\n",
       "7                      [Indie, Simulation, Strategy]\n",
       "8                                [Action, Adventure]\n",
       "9                    [Action, Indie, Racing, Sports]\n",
       "Name: STORE_GENRE, dtype: object"
      ]
     },
     "execution_count": 793,
     "metadata": {},
     "output_type": "execute_result"
    }
   ],
   "source": [
    "df['STORE_GENRE'].head(10)"
   ]
  },
  {
   "cell_type": "markdown",
   "metadata": {},
   "source": [
    "## Extracting and Handling `TWITCH_PEAK` Data"
   ]
  },
  {
   "cell_type": "markdown",
   "metadata": {},
   "source": [
    "##### Extracting `TWITCH_PEAK_HOUR` & `TWITCH_PEAK_YEAR` from `TOTAL_TWITCH_PEAK`\n",
    "##### Handle Missing Values:(`TWITCH_PEAK_YEAR`, `TWITCH_PEAK_HOUR`, `TWITCH_PEAK_HOUR`)"
   ]
  },
  {
   "cell_type": "code",
   "execution_count": 794,
   "metadata": {},
   "outputs": [
    {
     "data": {
      "text/plain": [
       "0     27,368\\nall-time peak 9 years ago17 January 2016\n",
       "1    81,096\\nall-time peak 3 years ago13 November 2021\n",
       "2           145\\nall-time peak 2 years ago24 July 2022\n",
       "3       145,384\\nall-time peak 6 years ago13 June 2018\n",
       "4       3,778\\nall-time peak 10 months ago18 July 2023\n",
       "Name: TOTAL_TWITCH_PEAK, dtype: object"
      ]
     },
     "execution_count": 794,
     "metadata": {},
     "output_type": "execute_result"
    }
   ],
   "source": [
    "df['TOTAL_TWITCH_PEAK'].head()"
   ]
  },
  {
   "cell_type": "code",
   "execution_count": 795,
   "metadata": {},
   "outputs": [
    {
     "data": {
      "text/plain": [
       "15"
      ]
     },
     "execution_count": 795,
     "metadata": {},
     "output_type": "execute_result"
    }
   ],
   "source": [
    "df['24_HOUR_PEAK'].isnull().sum()"
   ]
  },
  {
   "cell_type": "code",
   "execution_count": 796,
   "metadata": {},
   "outputs": [],
   "source": [
    "if 'TOTAL_TWITCH_PEAK' in df.columns:\n",
    "    # Extract and convert the TWITCH_PEAK_HOUR\n",
    "    df['TWITCH_PEAK_HOUR'] = df['TOTAL_TWITCH_PEAK'].apply(lambda x: x.split('\\n')[0].replace(',', ''))\n",
    "    df['TWITCH_PEAK_HOUR'] = pd.to_numeric(df['TWITCH_PEAK_HOUR'], errors='coerce')\n",
    "    df['TWITCH_PEAK_HOUR'] = df['TWITCH_PEAK_HOUR'].fillna(-1)\n",
    "    df['TWITCH_PEAK_HOUR'] = df['TWITCH_PEAK_HOUR'].astype(int)\n",
    "    df['TWITCH_PEAK_HOUR'] = df['TWITCH_PEAK_HOUR'].replace(-1, pd.NA)\n",
    "    \n",
    "    # Extract and convert the TWITCH_PEAK_YEAR\n",
    "    df['TWITCH_PEAK_YEAR'] = df['TOTAL_TWITCH_PEAK'].apply(lambda x: x.split()[-1])\n",
    "    df['TWITCH_PEAK_YEAR'] = pd.to_numeric(df['TWITCH_PEAK_YEAR'], errors='coerce')\n",
    "    df['TWITCH_PEAK_YEAR'] = df['TWITCH_PEAK_YEAR'].fillna(-1)\n",
    "    df['TWITCH_PEAK_YEAR'] = df['TWITCH_PEAK_YEAR'].astype(int)\n",
    "    df['TWITCH_PEAK_YEAR'] = df['TWITCH_PEAK_YEAR'].replace(-1, pd.NA)\n",
    "\n"
   ]
  },
  {
   "cell_type": "code",
   "execution_count": 797,
   "metadata": {},
   "outputs": [
    {
     "name": "stdout",
     "output_type": "stream",
     "text": [
      "<class 'pandas.core.frame.DataFrame'>\n",
      "Index: 2047 entries, 0 to 2258\n",
      "Data columns (total 16 columns):\n",
      " #   Column                 Non-Null Count  Dtype  \n",
      "---  ------                 --------------  -----  \n",
      " 0   NAME                   2047 non-null   object \n",
      " 1   STORE_GENRE            2047 non-null   object \n",
      " 2   N_SUPPORTED_LANGUAGES  2047 non-null   int32  \n",
      " 3   DEVELOPERS             2047 non-null   object \n",
      " 4   SUPPORTED_PLATFORMS    1999 non-null   object \n",
      " 5   POSITIVE_REVIEWS       2047 non-null   int64  \n",
      " 6   NEGATIVE_REVIEWS       2047 non-null   int64  \n",
      " 7   TECHNOLOGIES           1671 non-null   object \n",
      " 8   TOTAL_TWITCH_PEAK      2047 non-null   object \n",
      " 9   PRICE                  1372 non-null   object \n",
      " 10  24_HOUR_PEAK           2032 non-null   object \n",
      " 11  PUBLISH_YEAR           2047 non-null   int32  \n",
      " 12  RATING_SCORE           2047 non-null   float64\n",
      " 13  TOTAL_RATE_SUM         2047 non-null   int64  \n",
      " 14  TWITCH_PEAK_HOUR       2032 non-null   object \n",
      " 15  TWITCH_PEAK_YEAR       2032 non-null   object \n",
      "dtypes: float64(1), int32(2), int64(3), object(10)\n",
      "memory usage: 255.9+ KB\n"
     ]
    }
   ],
   "source": [
    "df.info()"
   ]
  },
  {
   "cell_type": "code",
   "execution_count": 798,
   "metadata": {},
   "outputs": [
    {
     "data": {
      "text/plain": [
       "15"
      ]
     },
     "execution_count": 798,
     "metadata": {},
     "output_type": "execute_result"
    }
   ],
   "source": [
    "df['TWITCH_PEAK_YEAR'].isnull().sum()"
   ]
  },
  {
   "cell_type": "code",
   "execution_count": 799,
   "metadata": {},
   "outputs": [
    {
     "data": {
      "text/plain": [
       "15"
      ]
     },
     "execution_count": 799,
     "metadata": {},
     "output_type": "execute_result"
    }
   ],
   "source": [
    "df['TWITCH_PEAK_HOUR'].isnull().sum()"
   ]
  },
  {
   "cell_type": "code",
   "execution_count": 800,
   "metadata": {},
   "outputs": [
    {
     "data": {
      "text/html": [
       "<div>\n",
       "<style scoped>\n",
       "    .dataframe tbody tr th:only-of-type {\n",
       "        vertical-align: middle;\n",
       "    }\n",
       "\n",
       "    .dataframe tbody tr th {\n",
       "        vertical-align: top;\n",
       "    }\n",
       "\n",
       "    .dataframe thead th {\n",
       "        text-align: right;\n",
       "    }\n",
       "</style>\n",
       "<table border=\"1\" class=\"dataframe\">\n",
       "  <thead>\n",
       "    <tr style=\"text-align: right;\">\n",
       "      <th></th>\n",
       "      <th>TWITCH_PEAK_HOUR</th>\n",
       "      <th>TWITCH_PEAK_YEAR</th>\n",
       "      <th>TOTAL_TWITCH_PEAK</th>\n",
       "    </tr>\n",
       "  </thead>\n",
       "  <tbody>\n",
       "    <tr>\n",
       "      <th>5</th>\n",
       "      <td>&lt;NA&gt;</td>\n",
       "      <td>&lt;NA&gt;</td>\n",
       "      <td>2 years ago</td>\n",
       "    </tr>\n",
       "    <tr>\n",
       "      <th>10</th>\n",
       "      <td>&lt;NA&gt;</td>\n",
       "      <td>&lt;NA&gt;</td>\n",
       "      <td>5 years ago</td>\n",
       "    </tr>\n",
       "    <tr>\n",
       "      <th>122</th>\n",
       "      <td>&lt;NA&gt;</td>\n",
       "      <td>&lt;NA&gt;</td>\n",
       "      <td>9 years ago</td>\n",
       "    </tr>\n",
       "    <tr>\n",
       "      <th>152</th>\n",
       "      <td>&lt;NA&gt;</td>\n",
       "      <td>&lt;NA&gt;</td>\n",
       "      <td>4 years ago</td>\n",
       "    </tr>\n",
       "    <tr>\n",
       "      <th>279</th>\n",
       "      <td>&lt;NA&gt;</td>\n",
       "      <td>&lt;NA&gt;</td>\n",
       "      <td>5 months ago</td>\n",
       "    </tr>\n",
       "    <tr>\n",
       "      <th>286</th>\n",
       "      <td>&lt;NA&gt;</td>\n",
       "      <td>&lt;NA&gt;</td>\n",
       "      <td>6 years ago</td>\n",
       "    </tr>\n",
       "    <tr>\n",
       "      <th>539</th>\n",
       "      <td>&lt;NA&gt;</td>\n",
       "      <td>&lt;NA&gt;</td>\n",
       "      <td>4 years ago</td>\n",
       "    </tr>\n",
       "    <tr>\n",
       "      <th>548</th>\n",
       "      <td>&lt;NA&gt;</td>\n",
       "      <td>&lt;NA&gt;</td>\n",
       "      <td>13 months ago</td>\n",
       "    </tr>\n",
       "    <tr>\n",
       "      <th>572</th>\n",
       "      <td>&lt;NA&gt;</td>\n",
       "      <td>&lt;NA&gt;</td>\n",
       "      <td>11 days ago</td>\n",
       "    </tr>\n",
       "    <tr>\n",
       "      <th>580</th>\n",
       "      <td>&lt;NA&gt;</td>\n",
       "      <td>&lt;NA&gt;</td>\n",
       "      <td>14 months ago</td>\n",
       "    </tr>\n",
       "    <tr>\n",
       "      <th>615</th>\n",
       "      <td>&lt;NA&gt;</td>\n",
       "      <td>&lt;NA&gt;</td>\n",
       "      <td>7 months ago</td>\n",
       "    </tr>\n",
       "    <tr>\n",
       "      <th>631</th>\n",
       "      <td>&lt;NA&gt;</td>\n",
       "      <td>&lt;NA&gt;</td>\n",
       "      <td>6 months ago</td>\n",
       "    </tr>\n",
       "    <tr>\n",
       "      <th>1297</th>\n",
       "      <td>&lt;NA&gt;</td>\n",
       "      <td>&lt;NA&gt;</td>\n",
       "      <td>7 months ago</td>\n",
       "    </tr>\n",
       "    <tr>\n",
       "      <th>1333</th>\n",
       "      <td>&lt;NA&gt;</td>\n",
       "      <td>&lt;NA&gt;</td>\n",
       "      <td>3 months ago</td>\n",
       "    </tr>\n",
       "    <tr>\n",
       "      <th>1929</th>\n",
       "      <td>&lt;NA&gt;</td>\n",
       "      <td>&lt;NA&gt;</td>\n",
       "      <td>9 years ago</td>\n",
       "    </tr>\n",
       "  </tbody>\n",
       "</table>\n",
       "</div>"
      ],
      "text/plain": [
       "     TWITCH_PEAK_HOUR TWITCH_PEAK_YEAR TOTAL_TWITCH_PEAK\n",
       "5                <NA>             <NA>       2 years ago\n",
       "10               <NA>             <NA>       5 years ago\n",
       "122              <NA>             <NA>       9 years ago\n",
       "152              <NA>             <NA>       4 years ago\n",
       "279              <NA>             <NA>      5 months ago\n",
       "286              <NA>             <NA>       6 years ago\n",
       "539              <NA>             <NA>       4 years ago\n",
       "548              <NA>             <NA>     13 months ago\n",
       "572              <NA>             <NA>       11 days ago\n",
       "580              <NA>             <NA>     14 months ago\n",
       "615              <NA>             <NA>      7 months ago\n",
       "631              <NA>             <NA>      6 months ago\n",
       "1297             <NA>             <NA>      7 months ago\n",
       "1333             <NA>             <NA>      3 months ago\n",
       "1929             <NA>             <NA>       9 years ago"
      ]
     },
     "execution_count": 800,
     "metadata": {},
     "output_type": "execute_result"
    }
   ],
   "source": [
    "df[(df['TWITCH_PEAK_HOUR'].isnull() | df['TWITCH_PEAK_YEAR'].isnull())][['TWITCH_PEAK_HOUR','TWITCH_PEAK_YEAR', 'TOTAL_TWITCH_PEAK']]\n"
   ]
  },
  {
   "cell_type": "code",
   "execution_count": 801,
   "metadata": {},
   "outputs": [],
   "source": [
    "data_collection_date = datetime(2024, 5, 28)\n",
    "\n",
    "def calculate_twitch_peak_year(total_twitch_peak):\n",
    "    match = re.match(r\"(\\d+)\\s(\\w+)\\sago\", total_twitch_peak)\n",
    "    if not match:\n",
    "        return None\n",
    "    \n",
    "    value, unit = int(match.group(1)), match.group(2)\n",
    "    if unit.startswith('year'):\n",
    "        delta = timedelta(days=365 * value)\n",
    "    elif unit.startswith('month'):\n",
    "        delta = timedelta(days=30 * value)\n",
    "    elif unit.startswith('day'):\n",
    "        delta = timedelta(days=value)\n",
    "    else:\n",
    "        return None\n",
    "    \n",
    "    peak_date = data_collection_date - delta\n",
    "    return peak_date.year"
   ]
  },
  {
   "cell_type": "code",
   "execution_count": 802,
   "metadata": {},
   "outputs": [],
   "source": [
    "df.loc[df['TWITCH_PEAK_YEAR'].isnull(), 'TWITCH_PEAK_YEAR'] = df.loc[df['TWITCH_PEAK_YEAR'].isnull(), 'TOTAL_TWITCH_PEAK'].apply(calculate_twitch_peak_year)"
   ]
  },
  {
   "cell_type": "code",
   "execution_count": 803,
   "metadata": {},
   "outputs": [
    {
     "data": {
      "text/html": [
       "<div>\n",
       "<style scoped>\n",
       "    .dataframe tbody tr th:only-of-type {\n",
       "        vertical-align: middle;\n",
       "    }\n",
       "\n",
       "    .dataframe tbody tr th {\n",
       "        vertical-align: top;\n",
       "    }\n",
       "\n",
       "    .dataframe thead th {\n",
       "        text-align: right;\n",
       "    }\n",
       "</style>\n",
       "<table border=\"1\" class=\"dataframe\">\n",
       "  <thead>\n",
       "    <tr style=\"text-align: right;\">\n",
       "      <th></th>\n",
       "      <th>TWITCH_PEAK_HOUR</th>\n",
       "      <th>TWITCH_PEAK_YEAR</th>\n",
       "      <th>TOTAL_TWITCH_PEAK</th>\n",
       "    </tr>\n",
       "  </thead>\n",
       "  <tbody>\n",
       "    <tr>\n",
       "      <th>5</th>\n",
       "      <td>&lt;NA&gt;</td>\n",
       "      <td>2022</td>\n",
       "      <td>2 years ago</td>\n",
       "    </tr>\n",
       "    <tr>\n",
       "      <th>10</th>\n",
       "      <td>&lt;NA&gt;</td>\n",
       "      <td>2019</td>\n",
       "      <td>5 years ago</td>\n",
       "    </tr>\n",
       "    <tr>\n",
       "      <th>122</th>\n",
       "      <td>&lt;NA&gt;</td>\n",
       "      <td>2015</td>\n",
       "      <td>9 years ago</td>\n",
       "    </tr>\n",
       "    <tr>\n",
       "      <th>152</th>\n",
       "      <td>&lt;NA&gt;</td>\n",
       "      <td>2020</td>\n",
       "      <td>4 years ago</td>\n",
       "    </tr>\n",
       "    <tr>\n",
       "      <th>279</th>\n",
       "      <td>&lt;NA&gt;</td>\n",
       "      <td>2023</td>\n",
       "      <td>5 months ago</td>\n",
       "    </tr>\n",
       "    <tr>\n",
       "      <th>286</th>\n",
       "      <td>&lt;NA&gt;</td>\n",
       "      <td>2018</td>\n",
       "      <td>6 years ago</td>\n",
       "    </tr>\n",
       "    <tr>\n",
       "      <th>539</th>\n",
       "      <td>&lt;NA&gt;</td>\n",
       "      <td>2020</td>\n",
       "      <td>4 years ago</td>\n",
       "    </tr>\n",
       "    <tr>\n",
       "      <th>548</th>\n",
       "      <td>&lt;NA&gt;</td>\n",
       "      <td>2023</td>\n",
       "      <td>13 months ago</td>\n",
       "    </tr>\n",
       "    <tr>\n",
       "      <th>572</th>\n",
       "      <td>&lt;NA&gt;</td>\n",
       "      <td>2024</td>\n",
       "      <td>11 days ago</td>\n",
       "    </tr>\n",
       "    <tr>\n",
       "      <th>580</th>\n",
       "      <td>&lt;NA&gt;</td>\n",
       "      <td>2023</td>\n",
       "      <td>14 months ago</td>\n",
       "    </tr>\n",
       "    <tr>\n",
       "      <th>615</th>\n",
       "      <td>&lt;NA&gt;</td>\n",
       "      <td>2023</td>\n",
       "      <td>7 months ago</td>\n",
       "    </tr>\n",
       "    <tr>\n",
       "      <th>631</th>\n",
       "      <td>&lt;NA&gt;</td>\n",
       "      <td>2023</td>\n",
       "      <td>6 months ago</td>\n",
       "    </tr>\n",
       "    <tr>\n",
       "      <th>1297</th>\n",
       "      <td>&lt;NA&gt;</td>\n",
       "      <td>2023</td>\n",
       "      <td>7 months ago</td>\n",
       "    </tr>\n",
       "    <tr>\n",
       "      <th>1333</th>\n",
       "      <td>&lt;NA&gt;</td>\n",
       "      <td>2024</td>\n",
       "      <td>3 months ago</td>\n",
       "    </tr>\n",
       "    <tr>\n",
       "      <th>1929</th>\n",
       "      <td>&lt;NA&gt;</td>\n",
       "      <td>2015</td>\n",
       "      <td>9 years ago</td>\n",
       "    </tr>\n",
       "  </tbody>\n",
       "</table>\n",
       "</div>"
      ],
      "text/plain": [
       "     TWITCH_PEAK_HOUR TWITCH_PEAK_YEAR TOTAL_TWITCH_PEAK\n",
       "5                <NA>             2022       2 years ago\n",
       "10               <NA>             2019       5 years ago\n",
       "122              <NA>             2015       9 years ago\n",
       "152              <NA>             2020       4 years ago\n",
       "279              <NA>             2023      5 months ago\n",
       "286              <NA>             2018       6 years ago\n",
       "539              <NA>             2020       4 years ago\n",
       "548              <NA>             2023     13 months ago\n",
       "572              <NA>             2024       11 days ago\n",
       "580              <NA>             2023     14 months ago\n",
       "615              <NA>             2023      7 months ago\n",
       "631              <NA>             2023      6 months ago\n",
       "1297             <NA>             2023      7 months ago\n",
       "1333             <NA>             2024      3 months ago\n",
       "1929             <NA>             2015       9 years ago"
      ]
     },
     "execution_count": 803,
     "metadata": {},
     "output_type": "execute_result"
    }
   ],
   "source": [
    "df[(df['TWITCH_PEAK_HOUR'].isnull() | df['TWITCH_PEAK_YEAR'].isnull())][['TWITCH_PEAK_HOUR','TWITCH_PEAK_YEAR', 'TOTAL_TWITCH_PEAK']]\n"
   ]
  },
  {
   "cell_type": "code",
   "execution_count": 804,
   "metadata": {},
   "outputs": [
    {
     "data": {
      "text/html": [
       "<div>\n",
       "<style scoped>\n",
       "    .dataframe tbody tr th:only-of-type {\n",
       "        vertical-align: middle;\n",
       "    }\n",
       "\n",
       "    .dataframe tbody tr th {\n",
       "        vertical-align: top;\n",
       "    }\n",
       "\n",
       "    .dataframe thead th {\n",
       "        text-align: right;\n",
       "    }\n",
       "</style>\n",
       "<table border=\"1\" class=\"dataframe\">\n",
       "  <thead>\n",
       "    <tr style=\"text-align: right;\">\n",
       "      <th></th>\n",
       "      <th>TWITCH_PEAK_HOUR</th>\n",
       "      <th>24_HOUR_PEAK</th>\n",
       "    </tr>\n",
       "  </thead>\n",
       "  <tbody>\n",
       "    <tr>\n",
       "      <th>5</th>\n",
       "      <td>&lt;NA&gt;</td>\n",
       "      <td>NaN</td>\n",
       "    </tr>\n",
       "    <tr>\n",
       "      <th>10</th>\n",
       "      <td>&lt;NA&gt;</td>\n",
       "      <td>NaN</td>\n",
       "    </tr>\n",
       "    <tr>\n",
       "      <th>122</th>\n",
       "      <td>&lt;NA&gt;</td>\n",
       "      <td>NaN</td>\n",
       "    </tr>\n",
       "    <tr>\n",
       "      <th>152</th>\n",
       "      <td>&lt;NA&gt;</td>\n",
       "      <td>NaN</td>\n",
       "    </tr>\n",
       "    <tr>\n",
       "      <th>279</th>\n",
       "      <td>&lt;NA&gt;</td>\n",
       "      <td>NaN</td>\n",
       "    </tr>\n",
       "    <tr>\n",
       "      <th>286</th>\n",
       "      <td>&lt;NA&gt;</td>\n",
       "      <td>NaN</td>\n",
       "    </tr>\n",
       "    <tr>\n",
       "      <th>539</th>\n",
       "      <td>&lt;NA&gt;</td>\n",
       "      <td>NaN</td>\n",
       "    </tr>\n",
       "    <tr>\n",
       "      <th>548</th>\n",
       "      <td>&lt;NA&gt;</td>\n",
       "      <td>NaN</td>\n",
       "    </tr>\n",
       "    <tr>\n",
       "      <th>572</th>\n",
       "      <td>&lt;NA&gt;</td>\n",
       "      <td>NaN</td>\n",
       "    </tr>\n",
       "    <tr>\n",
       "      <th>580</th>\n",
       "      <td>&lt;NA&gt;</td>\n",
       "      <td>NaN</td>\n",
       "    </tr>\n",
       "    <tr>\n",
       "      <th>615</th>\n",
       "      <td>&lt;NA&gt;</td>\n",
       "      <td>NaN</td>\n",
       "    </tr>\n",
       "    <tr>\n",
       "      <th>631</th>\n",
       "      <td>&lt;NA&gt;</td>\n",
       "      <td>NaN</td>\n",
       "    </tr>\n",
       "    <tr>\n",
       "      <th>1297</th>\n",
       "      <td>&lt;NA&gt;</td>\n",
       "      <td>NaN</td>\n",
       "    </tr>\n",
       "    <tr>\n",
       "      <th>1333</th>\n",
       "      <td>&lt;NA&gt;</td>\n",
       "      <td>NaN</td>\n",
       "    </tr>\n",
       "    <tr>\n",
       "      <th>1929</th>\n",
       "      <td>&lt;NA&gt;</td>\n",
       "      <td>NaN</td>\n",
       "    </tr>\n",
       "  </tbody>\n",
       "</table>\n",
       "</div>"
      ],
      "text/plain": [
       "     TWITCH_PEAK_HOUR 24_HOUR_PEAK\n",
       "5                <NA>          NaN\n",
       "10               <NA>          NaN\n",
       "122              <NA>          NaN\n",
       "152              <NA>          NaN\n",
       "279              <NA>          NaN\n",
       "286              <NA>          NaN\n",
       "539              <NA>          NaN\n",
       "548              <NA>          NaN\n",
       "572              <NA>          NaN\n",
       "580              <NA>          NaN\n",
       "615              <NA>          NaN\n",
       "631              <NA>          NaN\n",
       "1297             <NA>          NaN\n",
       "1333             <NA>          NaN\n",
       "1929             <NA>          NaN"
      ]
     },
     "execution_count": 804,
     "metadata": {},
     "output_type": "execute_result"
    }
   ],
   "source": [
    "df[(df['TWITCH_PEAK_HOUR'].isnull() |  df['TWITCH_PEAK_YEAR'].isnull())][['TWITCH_PEAK_HOUR', '24_HOUR_PEAK']]"
   ]
  },
  {
   "cell_type": "code",
   "execution_count": 805,
   "metadata": {},
   "outputs": [],
   "source": [
    "df = df.dropna(subset=['TWITCH_PEAK_HOUR', '24_HOUR_PEAK'], how='all')"
   ]
  },
  {
   "cell_type": "code",
   "execution_count": 806,
   "metadata": {},
   "outputs": [],
   "source": [
    "#Drop the original column `TOTAL_TWITCH_PEAK`\n",
    "df.drop(columns=['TOTAL_TWITCH_PEAK'], inplace=True)"
   ]
  },
  {
   "cell_type": "code",
   "execution_count": 807,
   "metadata": {},
   "outputs": [],
   "source": [
    "df['TWITCH_PEAK_HOUR'] = df['TWITCH_PEAK_HOUR'].astype(float)\n",
    "df['TWITCH_PEAK_YEAR'] = df['TWITCH_PEAK_YEAR'].astype(int)"
   ]
  },
  {
   "cell_type": "code",
   "execution_count": 808,
   "metadata": {},
   "outputs": [
    {
     "name": "stdout",
     "output_type": "stream",
     "text": [
      "<class 'pandas.core.frame.DataFrame'>\n",
      "Index: 2032 entries, 0 to 2258\n",
      "Data columns (total 15 columns):\n",
      " #   Column                 Non-Null Count  Dtype  \n",
      "---  ------                 --------------  -----  \n",
      " 0   NAME                   2032 non-null   object \n",
      " 1   STORE_GENRE            2032 non-null   object \n",
      " 2   N_SUPPORTED_LANGUAGES  2032 non-null   int32  \n",
      " 3   DEVELOPERS             2032 non-null   object \n",
      " 4   SUPPORTED_PLATFORMS    1985 non-null   object \n",
      " 5   POSITIVE_REVIEWS       2032 non-null   int64  \n",
      " 6   NEGATIVE_REVIEWS       2032 non-null   int64  \n",
      " 7   TECHNOLOGIES           1657 non-null   object \n",
      " 8   PRICE                  1370 non-null   object \n",
      " 9   24_HOUR_PEAK           2032 non-null   object \n",
      " 10  PUBLISH_YEAR           2032 non-null   int32  \n",
      " 11  RATING_SCORE           2032 non-null   float64\n",
      " 12  TOTAL_RATE_SUM         2032 non-null   int64  \n",
      " 13  TWITCH_PEAK_HOUR       2032 non-null   float64\n",
      " 14  TWITCH_PEAK_YEAR       2032 non-null   int32  \n",
      "dtypes: float64(2), int32(3), int64(3), object(7)\n",
      "memory usage: 230.2+ KB\n"
     ]
    }
   ],
   "source": [
    "df.info()"
   ]
  },
  {
   "cell_type": "markdown",
   "metadata": {
    "jp-MarkdownHeadingCollapsed": true
   },
   "source": [
    "## Transforming: (`24_HOUR_PEAK`)\n"
   ]
  },
  {
   "cell_type": "code",
   "execution_count": 809,
   "metadata": {},
   "outputs": [
    {
     "data": {
      "text/plain": [
       "0     1,064\\n24-hour peak\n",
       "1    16,131\\n24-hour peak\n",
       "2        21\\n24-hour peak\n",
       "3        31\\n24-hour peak\n",
       "4       318\\n24-hour peak\n",
       "Name: 24_HOUR_PEAK, dtype: object"
      ]
     },
     "execution_count": 809,
     "metadata": {},
     "output_type": "execute_result"
    }
   ],
   "source": [
    "df['24_HOUR_PEAK'].head()"
   ]
  },
  {
   "cell_type": "code",
   "execution_count": 810,
   "metadata": {},
   "outputs": [],
   "source": [
    "df['24_HOUR_PEAK'] = df['24_HOUR_PEAK'].fillna((\"-1\\n24-hour peak\"))\n",
    "df['24_HOUR_PEAK'] = df['24_HOUR_PEAK'].apply(lambda x: int(x.split('\\n')[0].replace(',', ''))).astype(float)"
   ]
  },
  {
   "cell_type": "code",
   "execution_count": 811,
   "metadata": {},
   "outputs": [],
   "source": [
    "df.loc[df['24_HOUR_PEAK'] == -1, '24_HOUR_PEAK'] = pd.NA"
   ]
  },
  {
   "cell_type": "code",
   "execution_count": 812,
   "metadata": {},
   "outputs": [
    {
     "data": {
      "text/plain": [
       "count      2032.000000\n",
       "mean       1185.736713\n",
       "std        6441.760299\n",
       "min           0.000000\n",
       "25%          10.000000\n",
       "50%          36.500000\n",
       "75%         210.000000\n",
       "max      109950.000000\n",
       "Name: 24_HOUR_PEAK, dtype: float64"
      ]
     },
     "execution_count": 812,
     "metadata": {},
     "output_type": "execute_result"
    }
   ],
   "source": [
    "df['24_HOUR_PEAK'].describe()"
   ]
  },
  {
   "cell_type": "code",
   "execution_count": 813,
   "metadata": {},
   "outputs": [
    {
     "data": {
      "text/plain": [
       "0"
      ]
     },
     "execution_count": 813,
     "metadata": {},
     "output_type": "execute_result"
    }
   ],
   "source": [
    "df['24_HOUR_PEAK'].isnull().sum()"
   ]
  },
  {
   "cell_type": "code",
   "execution_count": 814,
   "metadata": {},
   "outputs": [],
   "source": [
    "df['24_HOUR_PEAK'] = df['24_HOUR_PEAK'].fillna(df['24_HOUR_PEAK'].median())"
   ]
  },
  {
   "cell_type": "markdown",
   "metadata": {
    "jp-MarkdownHeadingCollapsed": true
   },
   "source": [
    "\n",
    "## <span style=\"color:RED\"> Cleaning and Handling Missing: (`TECHNOLOGIES`) </span>"
   ]
  },
  {
   "cell_type": "code",
   "execution_count": 815,
   "metadata": {},
   "outputs": [
    {
     "data": {
      "text/plain": [
       "0                                                   NaN\n",
       "1                                                   NaN\n",
       "2                                          Engine.Godot\n",
       "3                                          Engine.Unity\n",
       "4          Detected Technologies (?), SDK.SteamworksNET\n",
       "6                                          Engine.Unity\n",
       "7                                                   NaN\n",
       "8                 Engine.Unreal, SDK.EpicOnlineServices\n",
       "9                 Engine.Unreal, SDK.EpicOnlineServices\n",
       "11    Engine.PyGame, Engine.RenPy, Detected Technolo...\n",
       "Name: TECHNOLOGIES, dtype: object"
      ]
     },
     "execution_count": 815,
     "metadata": {},
     "output_type": "execute_result"
    }
   ],
   "source": [
    "df['TECHNOLOGIES'].head(10)"
   ]
  },
  {
   "cell_type": "code",
   "execution_count": 816,
   "metadata": {},
   "outputs": [],
   "source": [
    "df['TECHNOLOGIES'] = df['TECHNOLOGIES'].str.replace('Detected Technologies (?)', '', regex=False).str.replace(', ,', ',').str.strip(', ')"
   ]
  },
  {
   "cell_type": "code",
   "execution_count": 817,
   "metadata": {},
   "outputs": [
    {
     "data": {
      "text/plain": [
       "0                                                   NaN\n",
       "1                                                   NaN\n",
       "2                                          Engine.Godot\n",
       "3                                          Engine.Unity\n",
       "4                                     SDK.SteamworksNET\n",
       "6                                          Engine.Unity\n",
       "7                                                   NaN\n",
       "8                 Engine.Unreal, SDK.EpicOnlineServices\n",
       "9                 Engine.Unreal, SDK.EpicOnlineServices\n",
       "11    Engine.PyGame, Engine.RenPy, Engine.PyGame, En...\n",
       "Name: TECHNOLOGIES, dtype: object"
      ]
     },
     "execution_count": 817,
     "metadata": {},
     "output_type": "execute_result"
    }
   ],
   "source": [
    "df['TECHNOLOGIES'].head(10)"
   ]
  },
  {
   "cell_type": "code",
   "execution_count": 818,
   "metadata": {},
   "outputs": [
    {
     "data": {
      "text/html": [
       "<div>\n",
       "<style scoped>\n",
       "    .dataframe tbody tr th:only-of-type {\n",
       "        vertical-align: middle;\n",
       "    }\n",
       "\n",
       "    .dataframe tbody tr th {\n",
       "        vertical-align: top;\n",
       "    }\n",
       "\n",
       "    .dataframe thead th {\n",
       "        text-align: right;\n",
       "    }\n",
       "</style>\n",
       "<table border=\"1\" class=\"dataframe\">\n",
       "  <thead>\n",
       "    <tr style=\"text-align: right;\">\n",
       "      <th></th>\n",
       "      <th>NAME</th>\n",
       "      <th>PUBLISH_YEAR</th>\n",
       "    </tr>\n",
       "  </thead>\n",
       "  <tbody>\n",
       "    <tr>\n",
       "      <th>0</th>\n",
       "      <td>Dragon's Dogma: Dark Arisen</td>\n",
       "      <td>2016</td>\n",
       "    </tr>\n",
       "    <tr>\n",
       "      <th>1</th>\n",
       "      <td>Forza Horizon 5</td>\n",
       "      <td>2021</td>\n",
       "    </tr>\n",
       "    <tr>\n",
       "      <th>7</th>\n",
       "      <td>Wargame: Red Dragon</td>\n",
       "      <td>2014</td>\n",
       "    </tr>\n",
       "    <tr>\n",
       "      <th>23</th>\n",
       "      <td>Ghost of Tsushima DIRECTOR'S CUT</td>\n",
       "      <td>2024</td>\n",
       "    </tr>\n",
       "    <tr>\n",
       "      <th>36</th>\n",
       "      <td>100 hidden dogs</td>\n",
       "      <td>2021</td>\n",
       "    </tr>\n",
       "    <tr>\n",
       "      <th>40</th>\n",
       "      <td>Rush Rally 3</td>\n",
       "      <td>2022</td>\n",
       "    </tr>\n",
       "    <tr>\n",
       "      <th>44</th>\n",
       "      <td>100 hidden birds</td>\n",
       "      <td>2020</td>\n",
       "    </tr>\n",
       "    <tr>\n",
       "      <th>62</th>\n",
       "      <td>Granblue Fantasy: Relink</td>\n",
       "      <td>2024</td>\n",
       "    </tr>\n",
       "    <tr>\n",
       "      <th>66</th>\n",
       "      <td>Cursed 3</td>\n",
       "      <td>2022</td>\n",
       "    </tr>\n",
       "    <tr>\n",
       "      <th>68</th>\n",
       "      <td>Stardom 3 Deluxe</td>\n",
       "      <td>2022</td>\n",
       "    </tr>\n",
       "  </tbody>\n",
       "</table>\n",
       "</div>"
      ],
      "text/plain": [
       "                                NAME  PUBLISH_YEAR\n",
       "0        Dragon's Dogma: Dark Arisen          2016\n",
       "1                    Forza Horizon 5          2021\n",
       "7                Wargame: Red Dragon          2014\n",
       "23  Ghost of Tsushima DIRECTOR'S CUT          2024\n",
       "36                   100 hidden dogs          2021\n",
       "40                      Rush Rally 3          2022\n",
       "44                  100 hidden birds          2020\n",
       "62          Granblue Fantasy: Relink          2024\n",
       "66                          Cursed 3          2022\n",
       "68                  Stardom 3 Deluxe          2022"
      ]
     },
     "execution_count": 818,
     "metadata": {},
     "output_type": "execute_result"
    }
   ],
   "source": [
    "df[df['TECHNOLOGIES'].isnull()][['NAME', 'PUBLISH_YEAR']].head(10)"
   ]
  },
  {
   "cell_type": "code",
   "execution_count": 819,
   "metadata": {},
   "outputs": [],
   "source": [
    "df['TECHNOLOGIES'] = df['TECHNOLOGIES'].fillna('')  # Replace NaN with empty string\n",
    "df['TECHNOLOGIES'] = df['TECHNOLOGIES'].apply(lambda x: x.split(', ') if x else [])"
   ]
  },
  {
   "cell_type": "code",
   "execution_count": 820,
   "metadata": {},
   "outputs": [
    {
     "data": {
      "text/plain": [
       "0                                                    []\n",
       "1                                                    []\n",
       "2                                        [Engine.Godot]\n",
       "3                                        [Engine.Unity]\n",
       "4                                   [SDK.SteamworksNET]\n",
       "6                                        [Engine.Unity]\n",
       "7                                                    []\n",
       "8               [Engine.Unreal, SDK.EpicOnlineServices]\n",
       "9               [Engine.Unreal, SDK.EpicOnlineServices]\n",
       "11    [Engine.PyGame, Engine.RenPy, Engine.PyGame, E...\n",
       "Name: TECHNOLOGIES, dtype: object"
      ]
     },
     "execution_count": 820,
     "metadata": {},
     "output_type": "execute_result"
    }
   ],
   "source": [
    "df['TECHNOLOGIES'].head(10)"
   ]
  },
  {
   "cell_type": "code",
   "execution_count": 821,
   "metadata": {},
   "outputs": [
    {
     "data": {
      "text/html": [
       "<div>\n",
       "<style scoped>\n",
       "    .dataframe tbody tr th:only-of-type {\n",
       "        vertical-align: middle;\n",
       "    }\n",
       "\n",
       "    .dataframe tbody tr th {\n",
       "        vertical-align: top;\n",
       "    }\n",
       "\n",
       "    .dataframe thead th {\n",
       "        text-align: right;\n",
       "    }\n",
       "</style>\n",
       "<table border=\"1\" class=\"dataframe\">\n",
       "  <thead>\n",
       "    <tr style=\"text-align: right;\">\n",
       "      <th></th>\n",
       "      <th>NAME</th>\n",
       "      <th>STORE_GENRE</th>\n",
       "      <th>N_SUPPORTED_LANGUAGES</th>\n",
       "      <th>DEVELOPERS</th>\n",
       "      <th>SUPPORTED_PLATFORMS</th>\n",
       "      <th>POSITIVE_REVIEWS</th>\n",
       "      <th>NEGATIVE_REVIEWS</th>\n",
       "      <th>TECHNOLOGIES</th>\n",
       "      <th>PRICE</th>\n",
       "      <th>24_HOUR_PEAK</th>\n",
       "      <th>PUBLISH_YEAR</th>\n",
       "      <th>RATING_SCORE</th>\n",
       "      <th>TOTAL_RATE_SUM</th>\n",
       "      <th>TWITCH_PEAK_HOUR</th>\n",
       "      <th>TWITCH_PEAK_YEAR</th>\n",
       "    </tr>\n",
       "  </thead>\n",
       "  <tbody>\n",
       "    <tr>\n",
       "      <th>0</th>\n",
       "      <td>Dragon's Dogma: Dark Arisen</td>\n",
       "      <td>[Action, Adventure, RPG]</td>\n",
       "      <td>7</td>\n",
       "      <td>Capcom</td>\n",
       "      <td>Windows</td>\n",
       "      <td>39271</td>\n",
       "      <td>5015</td>\n",
       "      <td>[]</td>\n",
       "      <td>$22.49</td>\n",
       "      <td>1064.0</td>\n",
       "      <td>2016</td>\n",
       "      <td>0.886759</td>\n",
       "      <td>44286</td>\n",
       "      <td>27368.0</td>\n",
       "      <td>2016</td>\n",
       "    </tr>\n",
       "    <tr>\n",
       "      <th>1</th>\n",
       "      <td>Forza Horizon 5</td>\n",
       "      <td>[Action, Adventure, Racing, Simulation, Sports]</td>\n",
       "      <td>24</td>\n",
       "      <td>Playground Games</td>\n",
       "      <td>Windows</td>\n",
       "      <td>156683</td>\n",
       "      <td>21075</td>\n",
       "      <td>[]</td>\n",
       "      <td>$32.78</td>\n",
       "      <td>16131.0</td>\n",
       "      <td>2021</td>\n",
       "      <td>0.881440</td>\n",
       "      <td>177758</td>\n",
       "      <td>81096.0</td>\n",
       "      <td>2021</td>\n",
       "    </tr>\n",
       "    <tr>\n",
       "      <th>2</th>\n",
       "      <td>Thrive</td>\n",
       "      <td>[Casual, Indie, Simulation, Early Access]</td>\n",
       "      <td>1</td>\n",
       "      <td>Revolutionary Games Studio</td>\n",
       "      <td>Windows Linux</td>\n",
       "      <td>872</td>\n",
       "      <td>70</td>\n",
       "      <td>[Engine.Godot]</td>\n",
       "      <td>$2.99</td>\n",
       "      <td>21.0</td>\n",
       "      <td>2021</td>\n",
       "      <td>0.925690</td>\n",
       "      <td>942</td>\n",
       "      <td>145.0</td>\n",
       "      <td>2022</td>\n",
       "    </tr>\n",
       "    <tr>\n",
       "      <th>3</th>\n",
       "      <td>Layers of Fear (2016)</td>\n",
       "      <td>[Adventure, Indie]</td>\n",
       "      <td>12</td>\n",
       "      <td>Bloober Team SA</td>\n",
       "      <td>Windows macOS Linux</td>\n",
       "      <td>22766</td>\n",
       "      <td>2819</td>\n",
       "      <td>[Engine.Unity]</td>\n",
       "      <td>$10.19</td>\n",
       "      <td>31.0</td>\n",
       "      <td>2016</td>\n",
       "      <td>0.889818</td>\n",
       "      <td>25585</td>\n",
       "      <td>145384.0</td>\n",
       "      <td>2018</td>\n",
       "    </tr>\n",
       "    <tr>\n",
       "      <th>4</th>\n",
       "      <td>TaskPals</td>\n",
       "      <td>[Indie, Free to Play]</td>\n",
       "      <td>1</td>\n",
       "      <td>lazarche</td>\n",
       "      <td>Windows</td>\n",
       "      <td>834</td>\n",
       "      <td>66</td>\n",
       "      <td>[SDK.SteamworksNET]</td>\n",
       "      <td>NaN</td>\n",
       "      <td>318.0</td>\n",
       "      <td>2023</td>\n",
       "      <td>0.926667</td>\n",
       "      <td>900</td>\n",
       "      <td>3778.0</td>\n",
       "      <td>2023</td>\n",
       "    </tr>\n",
       "    <tr>\n",
       "      <th>6</th>\n",
       "      <td>BattleGroupVR</td>\n",
       "      <td>[Action, Simulation, Strategy]</td>\n",
       "      <td>3</td>\n",
       "      <td>SpaceOwl Games</td>\n",
       "      <td>Windows Linux</td>\n",
       "      <td>784</td>\n",
       "      <td>61</td>\n",
       "      <td>[Engine.Unity]</td>\n",
       "      <td>$8.49</td>\n",
       "      <td>7.0</td>\n",
       "      <td>2023</td>\n",
       "      <td>0.927811</td>\n",
       "      <td>845</td>\n",
       "      <td>40.0</td>\n",
       "      <td>2021</td>\n",
       "    </tr>\n",
       "    <tr>\n",
       "      <th>7</th>\n",
       "      <td>Wargame: Red Dragon</td>\n",
       "      <td>[Indie, Simulation, Strategy]</td>\n",
       "      <td>11</td>\n",
       "      <td>Eugen Systems</td>\n",
       "      <td>Windows macOS Linux</td>\n",
       "      <td>16273</td>\n",
       "      <td>1969</td>\n",
       "      <td>[]</td>\n",
       "      <td>$29.99</td>\n",
       "      <td>802.0</td>\n",
       "      <td>2014</td>\n",
       "      <td>0.892062</td>\n",
       "      <td>18242</td>\n",
       "      <td>4779.0</td>\n",
       "      <td>2014</td>\n",
       "    </tr>\n",
       "    <tr>\n",
       "      <th>8</th>\n",
       "      <td>High On Life</td>\n",
       "      <td>[Action, Adventure]</td>\n",
       "      <td>5</td>\n",
       "      <td>Squanch Games, Inc.</td>\n",
       "      <td>Windows</td>\n",
       "      <td>13941</td>\n",
       "      <td>1669</td>\n",
       "      <td>[Engine.Unreal, SDK.EpicOnlineServices]</td>\n",
       "      <td>$18.99</td>\n",
       "      <td>212.0</td>\n",
       "      <td>2022</td>\n",
       "      <td>0.893081</td>\n",
       "      <td>15610</td>\n",
       "      <td>11608.0</td>\n",
       "      <td>2022</td>\n",
       "    </tr>\n",
       "    <tr>\n",
       "      <th>9</th>\n",
       "      <td>Rocket League</td>\n",
       "      <td>[Action, Indie, Racing, Sports]</td>\n",
       "      <td>13</td>\n",
       "      <td>Psyonix LLC</td>\n",
       "      <td>Windows macOS Linux</td>\n",
       "      <td>508263</td>\n",
       "      <td>70214</td>\n",
       "      <td>[Engine.Unreal, SDK.EpicOnlineServices]</td>\n",
       "      <td>NaN</td>\n",
       "      <td>32851.0</td>\n",
       "      <td>2015</td>\n",
       "      <td>0.878623</td>\n",
       "      <td>578477</td>\n",
       "      <td>147632.0</td>\n",
       "      <td>2020</td>\n",
       "    </tr>\n",
       "    <tr>\n",
       "      <th>11</th>\n",
       "      <td>Kitten adventures in city park</td>\n",
       "      <td>[Adventure, Indie]</td>\n",
       "      <td>6</td>\n",
       "      <td>Lokator Studio</td>\n",
       "      <td>Windows macOS Linux</td>\n",
       "      <td>541</td>\n",
       "      <td>37</td>\n",
       "      <td>[Engine.PyGame, Engine.RenPy, Engine.PyGame, E...</td>\n",
       "      <td>NaN</td>\n",
       "      <td>1.0</td>\n",
       "      <td>2017</td>\n",
       "      <td>0.935986</td>\n",
       "      <td>578</td>\n",
       "      <td>30.0</td>\n",
       "      <td>2021</td>\n",
       "    </tr>\n",
       "  </tbody>\n",
       "</table>\n",
       "</div>"
      ],
      "text/plain": [
       "                              NAME  \\\n",
       "0      Dragon's Dogma: Dark Arisen   \n",
       "1                  Forza Horizon 5   \n",
       "2                           Thrive   \n",
       "3            Layers of Fear (2016)   \n",
       "4                         TaskPals   \n",
       "6                    BattleGroupVR   \n",
       "7              Wargame: Red Dragon   \n",
       "8                     High On Life   \n",
       "9                    Rocket League   \n",
       "11  Kitten adventures in city park   \n",
       "\n",
       "                                        STORE_GENRE  N_SUPPORTED_LANGUAGES  \\\n",
       "0                          [Action, Adventure, RPG]                      7   \n",
       "1   [Action, Adventure, Racing, Simulation, Sports]                     24   \n",
       "2         [Casual, Indie, Simulation, Early Access]                      1   \n",
       "3                                [Adventure, Indie]                     12   \n",
       "4                             [Indie, Free to Play]                      1   \n",
       "6                    [Action, Simulation, Strategy]                      3   \n",
       "7                     [Indie, Simulation, Strategy]                     11   \n",
       "8                               [Action, Adventure]                      5   \n",
       "9                   [Action, Indie, Racing, Sports]                     13   \n",
       "11                               [Adventure, Indie]                      6   \n",
       "\n",
       "                    DEVELOPERS  SUPPORTED_PLATFORMS  POSITIVE_REVIEWS  \\\n",
       "0                       Capcom              Windows             39271   \n",
       "1             Playground Games              Windows            156683   \n",
       "2   Revolutionary Games Studio        Windows Linux               872   \n",
       "3              Bloober Team SA  Windows macOS Linux             22766   \n",
       "4                     lazarche              Windows               834   \n",
       "6               SpaceOwl Games        Windows Linux               784   \n",
       "7                Eugen Systems  Windows macOS Linux             16273   \n",
       "8          Squanch Games, Inc.              Windows             13941   \n",
       "9                  Psyonix LLC  Windows macOS Linux            508263   \n",
       "11              Lokator Studio  Windows macOS Linux               541   \n",
       "\n",
       "    NEGATIVE_REVIEWS                                       TECHNOLOGIES  \\\n",
       "0               5015                                                 []   \n",
       "1              21075                                                 []   \n",
       "2                 70                                     [Engine.Godot]   \n",
       "3               2819                                     [Engine.Unity]   \n",
       "4                 66                                [SDK.SteamworksNET]   \n",
       "6                 61                                     [Engine.Unity]   \n",
       "7               1969                                                 []   \n",
       "8               1669            [Engine.Unreal, SDK.EpicOnlineServices]   \n",
       "9              70214            [Engine.Unreal, SDK.EpicOnlineServices]   \n",
       "11                37  [Engine.PyGame, Engine.RenPy, Engine.PyGame, E...   \n",
       "\n",
       "      PRICE  24_HOUR_PEAK  PUBLISH_YEAR  RATING_SCORE  TOTAL_RATE_SUM  \\\n",
       "0   $22.49         1064.0          2016      0.886759           44286   \n",
       "1   $32.78        16131.0          2021      0.881440          177758   \n",
       "2    $2.99           21.0          2021      0.925690             942   \n",
       "3   $10.19           31.0          2016      0.889818           25585   \n",
       "4       NaN         318.0          2023      0.926667             900   \n",
       "6    $8.49            7.0          2023      0.927811             845   \n",
       "7   $29.99          802.0          2014      0.892062           18242   \n",
       "8   $18.99          212.0          2022      0.893081           15610   \n",
       "9       NaN       32851.0          2015      0.878623          578477   \n",
       "11      NaN           1.0          2017      0.935986             578   \n",
       "\n",
       "    TWITCH_PEAK_HOUR  TWITCH_PEAK_YEAR  \n",
       "0            27368.0              2016  \n",
       "1            81096.0              2021  \n",
       "2              145.0              2022  \n",
       "3           145384.0              2018  \n",
       "4             3778.0              2023  \n",
       "6               40.0              2021  \n",
       "7             4779.0              2014  \n",
       "8            11608.0              2022  \n",
       "9           147632.0              2020  \n",
       "11              30.0              2021  "
      ]
     },
     "execution_count": 821,
     "metadata": {},
     "output_type": "execute_result"
    }
   ],
   "source": [
    "df.head(10)"
   ]
  },
  {
   "cell_type": "markdown",
   "metadata": {
    "jp-MarkdownHeadingCollapsed": true
   },
   "source": [
    "## One-Hot Encoding `TECHNOLOGIES` Column (`TECHNOLOGIES`) "
   ]
  },
  {
   "cell_type": "code",
   "execution_count": 822,
   "metadata": {},
   "outputs": [],
   "source": [
    "if 'TECHNOLOGIES' in df.columns:\n",
    "    mlb = MultiLabelBinarizer()\n",
    "    technologies_one_hot = mlb.fit_transform(df['TECHNOLOGIES'])\n",
    "    technologies_one_hot_df = pd.DataFrame(technologies_one_hot, columns=mlb.classes_)\n",
    "    technologies_one_hot_df.columns = ['TECH: ' + col for col in technologies_one_hot_df.columns]\n",
    "    df = pd.concat([df, technologies_one_hot_df], axis=1)\n",
    "    df.drop('TECHNOLOGIES', axis=1, inplace=True)\n",
    "    del mlb"
   ]
  },
  {
   "cell_type": "code",
   "execution_count": 823,
   "metadata": {},
   "outputs": [
    {
     "data": {
      "text/html": [
       "<div>\n",
       "<style scoped>\n",
       "    .dataframe tbody tr th:only-of-type {\n",
       "        vertical-align: middle;\n",
       "    }\n",
       "\n",
       "    .dataframe tbody tr th {\n",
       "        vertical-align: top;\n",
       "    }\n",
       "\n",
       "    .dataframe thead th {\n",
       "        text-align: right;\n",
       "    }\n",
       "</style>\n",
       "<table border=\"1\" class=\"dataframe\">\n",
       "  <thead>\n",
       "    <tr style=\"text-align: right;\">\n",
       "      <th></th>\n",
       "      <th>NAME</th>\n",
       "      <th>STORE_GENRE</th>\n",
       "      <th>N_SUPPORTED_LANGUAGES</th>\n",
       "      <th>DEVELOPERS</th>\n",
       "      <th>SUPPORTED_PLATFORMS</th>\n",
       "      <th>POSITIVE_REVIEWS</th>\n",
       "      <th>NEGATIVE_REVIEWS</th>\n",
       "      <th>PRICE</th>\n",
       "      <th>24_HOUR_PEAK</th>\n",
       "      <th>PUBLISH_YEAR</th>\n",
       "      <th>...</th>\n",
       "      <th>TECH: SDK.UnityHybridRenderer</th>\n",
       "      <th>TECH: SDK.UnityURP</th>\n",
       "      <th>TECH: SDK.V8</th>\n",
       "      <th>TECH: SDK.Vorbis</th>\n",
       "      <th>TECH: SDK.Wwise</th>\n",
       "      <th>TECH: SDK.XAudio2</th>\n",
       "      <th>TECH: SDK.Yarn_Spinner</th>\n",
       "      <th>TECH: SDK.cURL</th>\n",
       "      <th>TECH: SDK.iCue</th>\n",
       "      <th>TECH: SDK.iZotope</th>\n",
       "    </tr>\n",
       "  </thead>\n",
       "  <tbody>\n",
       "    <tr>\n",
       "      <th>0</th>\n",
       "      <td>Dragon's Dogma: Dark Arisen</td>\n",
       "      <td>[Action, Adventure, RPG]</td>\n",
       "      <td>7.0</td>\n",
       "      <td>Capcom</td>\n",
       "      <td>Windows</td>\n",
       "      <td>39271.0</td>\n",
       "      <td>5015.0</td>\n",
       "      <td>$22.49</td>\n",
       "      <td>1064.0</td>\n",
       "      <td>2016.0</td>\n",
       "      <td>...</td>\n",
       "      <td>0.0</td>\n",
       "      <td>0.0</td>\n",
       "      <td>0.0</td>\n",
       "      <td>0.0</td>\n",
       "      <td>0.0</td>\n",
       "      <td>0.0</td>\n",
       "      <td>0.0</td>\n",
       "      <td>0.0</td>\n",
       "      <td>0.0</td>\n",
       "      <td>0.0</td>\n",
       "    </tr>\n",
       "    <tr>\n",
       "      <th>1</th>\n",
       "      <td>Forza Horizon 5</td>\n",
       "      <td>[Action, Adventure, Racing, Simulation, Sports]</td>\n",
       "      <td>24.0</td>\n",
       "      <td>Playground Games</td>\n",
       "      <td>Windows</td>\n",
       "      <td>156683.0</td>\n",
       "      <td>21075.0</td>\n",
       "      <td>$32.78</td>\n",
       "      <td>16131.0</td>\n",
       "      <td>2021.0</td>\n",
       "      <td>...</td>\n",
       "      <td>0.0</td>\n",
       "      <td>0.0</td>\n",
       "      <td>0.0</td>\n",
       "      <td>0.0</td>\n",
       "      <td>0.0</td>\n",
       "      <td>0.0</td>\n",
       "      <td>0.0</td>\n",
       "      <td>0.0</td>\n",
       "      <td>0.0</td>\n",
       "      <td>0.0</td>\n",
       "    </tr>\n",
       "    <tr>\n",
       "      <th>2</th>\n",
       "      <td>Thrive</td>\n",
       "      <td>[Casual, Indie, Simulation, Early Access]</td>\n",
       "      <td>1.0</td>\n",
       "      <td>Revolutionary Games Studio</td>\n",
       "      <td>Windows Linux</td>\n",
       "      <td>872.0</td>\n",
       "      <td>70.0</td>\n",
       "      <td>$2.99</td>\n",
       "      <td>21.0</td>\n",
       "      <td>2021.0</td>\n",
       "      <td>...</td>\n",
       "      <td>0.0</td>\n",
       "      <td>0.0</td>\n",
       "      <td>0.0</td>\n",
       "      <td>0.0</td>\n",
       "      <td>0.0</td>\n",
       "      <td>0.0</td>\n",
       "      <td>0.0</td>\n",
       "      <td>0.0</td>\n",
       "      <td>0.0</td>\n",
       "      <td>0.0</td>\n",
       "    </tr>\n",
       "    <tr>\n",
       "      <th>3</th>\n",
       "      <td>Layers of Fear (2016)</td>\n",
       "      <td>[Adventure, Indie]</td>\n",
       "      <td>12.0</td>\n",
       "      <td>Bloober Team SA</td>\n",
       "      <td>Windows macOS Linux</td>\n",
       "      <td>22766.0</td>\n",
       "      <td>2819.0</td>\n",
       "      <td>$10.19</td>\n",
       "      <td>31.0</td>\n",
       "      <td>2016.0</td>\n",
       "      <td>...</td>\n",
       "      <td>0.0</td>\n",
       "      <td>0.0</td>\n",
       "      <td>0.0</td>\n",
       "      <td>0.0</td>\n",
       "      <td>0.0</td>\n",
       "      <td>0.0</td>\n",
       "      <td>0.0</td>\n",
       "      <td>0.0</td>\n",
       "      <td>0.0</td>\n",
       "      <td>0.0</td>\n",
       "    </tr>\n",
       "    <tr>\n",
       "      <th>4</th>\n",
       "      <td>TaskPals</td>\n",
       "      <td>[Indie, Free to Play]</td>\n",
       "      <td>1.0</td>\n",
       "      <td>lazarche</td>\n",
       "      <td>Windows</td>\n",
       "      <td>834.0</td>\n",
       "      <td>66.0</td>\n",
       "      <td>NaN</td>\n",
       "      <td>318.0</td>\n",
       "      <td>2023.0</td>\n",
       "      <td>...</td>\n",
       "      <td>0.0</td>\n",
       "      <td>0.0</td>\n",
       "      <td>0.0</td>\n",
       "      <td>0.0</td>\n",
       "      <td>0.0</td>\n",
       "      <td>0.0</td>\n",
       "      <td>0.0</td>\n",
       "      <td>0.0</td>\n",
       "      <td>0.0</td>\n",
       "      <td>0.0</td>\n",
       "    </tr>\n",
       "    <tr>\n",
       "      <th>6</th>\n",
       "      <td>BattleGroupVR</td>\n",
       "      <td>[Action, Simulation, Strategy]</td>\n",
       "      <td>3.0</td>\n",
       "      <td>SpaceOwl Games</td>\n",
       "      <td>Windows Linux</td>\n",
       "      <td>784.0</td>\n",
       "      <td>61.0</td>\n",
       "      <td>$8.49</td>\n",
       "      <td>7.0</td>\n",
       "      <td>2023.0</td>\n",
       "      <td>...</td>\n",
       "      <td>0.0</td>\n",
       "      <td>0.0</td>\n",
       "      <td>0.0</td>\n",
       "      <td>0.0</td>\n",
       "      <td>0.0</td>\n",
       "      <td>0.0</td>\n",
       "      <td>0.0</td>\n",
       "      <td>0.0</td>\n",
       "      <td>0.0</td>\n",
       "      <td>0.0</td>\n",
       "    </tr>\n",
       "    <tr>\n",
       "      <th>7</th>\n",
       "      <td>Wargame: Red Dragon</td>\n",
       "      <td>[Indie, Simulation, Strategy]</td>\n",
       "      <td>11.0</td>\n",
       "      <td>Eugen Systems</td>\n",
       "      <td>Windows macOS Linux</td>\n",
       "      <td>16273.0</td>\n",
       "      <td>1969.0</td>\n",
       "      <td>$29.99</td>\n",
       "      <td>802.0</td>\n",
       "      <td>2014.0</td>\n",
       "      <td>...</td>\n",
       "      <td>0.0</td>\n",
       "      <td>0.0</td>\n",
       "      <td>0.0</td>\n",
       "      <td>0.0</td>\n",
       "      <td>0.0</td>\n",
       "      <td>0.0</td>\n",
       "      <td>0.0</td>\n",
       "      <td>0.0</td>\n",
       "      <td>0.0</td>\n",
       "      <td>0.0</td>\n",
       "    </tr>\n",
       "    <tr>\n",
       "      <th>8</th>\n",
       "      <td>High On Life</td>\n",
       "      <td>[Action, Adventure]</td>\n",
       "      <td>5.0</td>\n",
       "      <td>Squanch Games, Inc.</td>\n",
       "      <td>Windows</td>\n",
       "      <td>13941.0</td>\n",
       "      <td>1669.0</td>\n",
       "      <td>$18.99</td>\n",
       "      <td>212.0</td>\n",
       "      <td>2022.0</td>\n",
       "      <td>...</td>\n",
       "      <td>0.0</td>\n",
       "      <td>0.0</td>\n",
       "      <td>0.0</td>\n",
       "      <td>0.0</td>\n",
       "      <td>0.0</td>\n",
       "      <td>0.0</td>\n",
       "      <td>0.0</td>\n",
       "      <td>0.0</td>\n",
       "      <td>0.0</td>\n",
       "      <td>0.0</td>\n",
       "    </tr>\n",
       "    <tr>\n",
       "      <th>9</th>\n",
       "      <td>Rocket League</td>\n",
       "      <td>[Action, Indie, Racing, Sports]</td>\n",
       "      <td>13.0</td>\n",
       "      <td>Psyonix LLC</td>\n",
       "      <td>Windows macOS Linux</td>\n",
       "      <td>508263.0</td>\n",
       "      <td>70214.0</td>\n",
       "      <td>NaN</td>\n",
       "      <td>32851.0</td>\n",
       "      <td>2015.0</td>\n",
       "      <td>...</td>\n",
       "      <td>0.0</td>\n",
       "      <td>0.0</td>\n",
       "      <td>0.0</td>\n",
       "      <td>0.0</td>\n",
       "      <td>0.0</td>\n",
       "      <td>0.0</td>\n",
       "      <td>0.0</td>\n",
       "      <td>0.0</td>\n",
       "      <td>0.0</td>\n",
       "      <td>0.0</td>\n",
       "    </tr>\n",
       "    <tr>\n",
       "      <th>11</th>\n",
       "      <td>Kitten adventures in city park</td>\n",
       "      <td>[Adventure, Indie]</td>\n",
       "      <td>6.0</td>\n",
       "      <td>Lokator Studio</td>\n",
       "      <td>Windows macOS Linux</td>\n",
       "      <td>541.0</td>\n",
       "      <td>37.0</td>\n",
       "      <td>NaN</td>\n",
       "      <td>1.0</td>\n",
       "      <td>2017.0</td>\n",
       "      <td>...</td>\n",
       "      <td>0.0</td>\n",
       "      <td>0.0</td>\n",
       "      <td>0.0</td>\n",
       "      <td>0.0</td>\n",
       "      <td>0.0</td>\n",
       "      <td>0.0</td>\n",
       "      <td>0.0</td>\n",
       "      <td>0.0</td>\n",
       "      <td>0.0</td>\n",
       "      <td>0.0</td>\n",
       "    </tr>\n",
       "  </tbody>\n",
       "</table>\n",
       "<p>10 rows × 152 columns</p>\n",
       "</div>"
      ],
      "text/plain": [
       "                              NAME  \\\n",
       "0      Dragon's Dogma: Dark Arisen   \n",
       "1                  Forza Horizon 5   \n",
       "2                           Thrive   \n",
       "3            Layers of Fear (2016)   \n",
       "4                         TaskPals   \n",
       "6                    BattleGroupVR   \n",
       "7              Wargame: Red Dragon   \n",
       "8                     High On Life   \n",
       "9                    Rocket League   \n",
       "11  Kitten adventures in city park   \n",
       "\n",
       "                                        STORE_GENRE  N_SUPPORTED_LANGUAGES  \\\n",
       "0                          [Action, Adventure, RPG]                    7.0   \n",
       "1   [Action, Adventure, Racing, Simulation, Sports]                   24.0   \n",
       "2         [Casual, Indie, Simulation, Early Access]                    1.0   \n",
       "3                                [Adventure, Indie]                   12.0   \n",
       "4                             [Indie, Free to Play]                    1.0   \n",
       "6                    [Action, Simulation, Strategy]                    3.0   \n",
       "7                     [Indie, Simulation, Strategy]                   11.0   \n",
       "8                               [Action, Adventure]                    5.0   \n",
       "9                   [Action, Indie, Racing, Sports]                   13.0   \n",
       "11                               [Adventure, Indie]                    6.0   \n",
       "\n",
       "                    DEVELOPERS  SUPPORTED_PLATFORMS  POSITIVE_REVIEWS  \\\n",
       "0                       Capcom              Windows           39271.0   \n",
       "1             Playground Games              Windows          156683.0   \n",
       "2   Revolutionary Games Studio        Windows Linux             872.0   \n",
       "3              Bloober Team SA  Windows macOS Linux           22766.0   \n",
       "4                     lazarche              Windows             834.0   \n",
       "6               SpaceOwl Games        Windows Linux             784.0   \n",
       "7                Eugen Systems  Windows macOS Linux           16273.0   \n",
       "8          Squanch Games, Inc.              Windows           13941.0   \n",
       "9                  Psyonix LLC  Windows macOS Linux          508263.0   \n",
       "11              Lokator Studio  Windows macOS Linux             541.0   \n",
       "\n",
       "    NEGATIVE_REVIEWS    PRICE  24_HOUR_PEAK  PUBLISH_YEAR  ...  \\\n",
       "0             5015.0  $22.49         1064.0        2016.0  ...   \n",
       "1            21075.0  $32.78        16131.0        2021.0  ...   \n",
       "2               70.0   $2.99           21.0        2021.0  ...   \n",
       "3             2819.0  $10.19           31.0        2016.0  ...   \n",
       "4               66.0      NaN         318.0        2023.0  ...   \n",
       "6               61.0   $8.49            7.0        2023.0  ...   \n",
       "7             1969.0  $29.99          802.0        2014.0  ...   \n",
       "8             1669.0  $18.99          212.0        2022.0  ...   \n",
       "9            70214.0      NaN       32851.0        2015.0  ...   \n",
       "11              37.0      NaN           1.0        2017.0  ...   \n",
       "\n",
       "    TECH: SDK.UnityHybridRenderer  TECH: SDK.UnityURP  TECH: SDK.V8  \\\n",
       "0                             0.0                 0.0           0.0   \n",
       "1                             0.0                 0.0           0.0   \n",
       "2                             0.0                 0.0           0.0   \n",
       "3                             0.0                 0.0           0.0   \n",
       "4                             0.0                 0.0           0.0   \n",
       "6                             0.0                 0.0           0.0   \n",
       "7                             0.0                 0.0           0.0   \n",
       "8                             0.0                 0.0           0.0   \n",
       "9                             0.0                 0.0           0.0   \n",
       "11                            0.0                 0.0           0.0   \n",
       "\n",
       "    TECH: SDK.Vorbis  TECH: SDK.Wwise  TECH: SDK.XAudio2  \\\n",
       "0                0.0              0.0                0.0   \n",
       "1                0.0              0.0                0.0   \n",
       "2                0.0              0.0                0.0   \n",
       "3                0.0              0.0                0.0   \n",
       "4                0.0              0.0                0.0   \n",
       "6                0.0              0.0                0.0   \n",
       "7                0.0              0.0                0.0   \n",
       "8                0.0              0.0                0.0   \n",
       "9                0.0              0.0                0.0   \n",
       "11               0.0              0.0                0.0   \n",
       "\n",
       "    TECH: SDK.Yarn_Spinner  TECH: SDK.cURL  TECH: SDK.iCue  TECH: SDK.iZotope  \n",
       "0                      0.0             0.0             0.0                0.0  \n",
       "1                      0.0             0.0             0.0                0.0  \n",
       "2                      0.0             0.0             0.0                0.0  \n",
       "3                      0.0             0.0             0.0                0.0  \n",
       "4                      0.0             0.0             0.0                0.0  \n",
       "6                      0.0             0.0             0.0                0.0  \n",
       "7                      0.0             0.0             0.0                0.0  \n",
       "8                      0.0             0.0             0.0                0.0  \n",
       "9                      0.0             0.0             0.0                0.0  \n",
       "11                     0.0             0.0             0.0                0.0  \n",
       "\n",
       "[10 rows x 152 columns]"
      ]
     },
     "execution_count": 823,
     "metadata": {},
     "output_type": "execute_result"
    }
   ],
   "source": [
    "df.head(10)"
   ]
  },
  {
   "cell_type": "markdown",
   "metadata": {
    "jp-MarkdownHeadingCollapsed": true
   },
   "source": [
    "\n",
    "##  One-Hot Encoding `STORE_GENRE` Column (`STORE_GENRE`)"
   ]
  },
  {
   "cell_type": "code",
   "execution_count": 824,
   "metadata": {},
   "outputs": [
    {
     "data": {
      "text/html": [
       "<div>\n",
       "<style scoped>\n",
       "    .dataframe tbody tr th:only-of-type {\n",
       "        vertical-align: middle;\n",
       "    }\n",
       "\n",
       "    .dataframe tbody tr th {\n",
       "        vertical-align: top;\n",
       "    }\n",
       "\n",
       "    .dataframe thead th {\n",
       "        text-align: right;\n",
       "    }\n",
       "</style>\n",
       "<table border=\"1\" class=\"dataframe\">\n",
       "  <thead>\n",
       "    <tr style=\"text-align: right;\">\n",
       "      <th></th>\n",
       "      <th>NAME</th>\n",
       "      <th>STORE_GENRE</th>\n",
       "      <th>N_SUPPORTED_LANGUAGES</th>\n",
       "      <th>DEVELOPERS</th>\n",
       "      <th>SUPPORTED_PLATFORMS</th>\n",
       "      <th>POSITIVE_REVIEWS</th>\n",
       "      <th>NEGATIVE_REVIEWS</th>\n",
       "      <th>PRICE</th>\n",
       "      <th>24_HOUR_PEAK</th>\n",
       "      <th>PUBLISH_YEAR</th>\n",
       "      <th>...</th>\n",
       "      <th>TECH: SDK.UnityHybridRenderer</th>\n",
       "      <th>TECH: SDK.UnityURP</th>\n",
       "      <th>TECH: SDK.V8</th>\n",
       "      <th>TECH: SDK.Vorbis</th>\n",
       "      <th>TECH: SDK.Wwise</th>\n",
       "      <th>TECH: SDK.XAudio2</th>\n",
       "      <th>TECH: SDK.Yarn_Spinner</th>\n",
       "      <th>TECH: SDK.cURL</th>\n",
       "      <th>TECH: SDK.iCue</th>\n",
       "      <th>TECH: SDK.iZotope</th>\n",
       "    </tr>\n",
       "  </thead>\n",
       "  <tbody>\n",
       "    <tr>\n",
       "      <th>5</th>\n",
       "      <td>NaN</td>\n",
       "      <td>NaN</td>\n",
       "      <td>NaN</td>\n",
       "      <td>NaN</td>\n",
       "      <td>NaN</td>\n",
       "      <td>NaN</td>\n",
       "      <td>NaN</td>\n",
       "      <td>NaN</td>\n",
       "      <td>NaN</td>\n",
       "      <td>NaN</td>\n",
       "      <td>...</td>\n",
       "      <td>0.0</td>\n",
       "      <td>0.0</td>\n",
       "      <td>0.0</td>\n",
       "      <td>0.0</td>\n",
       "      <td>0.0</td>\n",
       "      <td>0.0</td>\n",
       "      <td>0.0</td>\n",
       "      <td>0.0</td>\n",
       "      <td>0.0</td>\n",
       "      <td>0.0</td>\n",
       "    </tr>\n",
       "    <tr>\n",
       "      <th>10</th>\n",
       "      <td>NaN</td>\n",
       "      <td>NaN</td>\n",
       "      <td>NaN</td>\n",
       "      <td>NaN</td>\n",
       "      <td>NaN</td>\n",
       "      <td>NaN</td>\n",
       "      <td>NaN</td>\n",
       "      <td>NaN</td>\n",
       "      <td>NaN</td>\n",
       "      <td>NaN</td>\n",
       "      <td>...</td>\n",
       "      <td>0.0</td>\n",
       "      <td>0.0</td>\n",
       "      <td>0.0</td>\n",
       "      <td>0.0</td>\n",
       "      <td>0.0</td>\n",
       "      <td>0.0</td>\n",
       "      <td>0.0</td>\n",
       "      <td>0.0</td>\n",
       "      <td>0.0</td>\n",
       "      <td>0.0</td>\n",
       "    </tr>\n",
       "    <tr>\n",
       "      <th>12</th>\n",
       "      <td>NaN</td>\n",
       "      <td>NaN</td>\n",
       "      <td>NaN</td>\n",
       "      <td>NaN</td>\n",
       "      <td>NaN</td>\n",
       "      <td>NaN</td>\n",
       "      <td>NaN</td>\n",
       "      <td>NaN</td>\n",
       "      <td>NaN</td>\n",
       "      <td>NaN</td>\n",
       "      <td>...</td>\n",
       "      <td>0.0</td>\n",
       "      <td>0.0</td>\n",
       "      <td>0.0</td>\n",
       "      <td>0.0</td>\n",
       "      <td>0.0</td>\n",
       "      <td>0.0</td>\n",
       "      <td>0.0</td>\n",
       "      <td>0.0</td>\n",
       "      <td>0.0</td>\n",
       "      <td>0.0</td>\n",
       "    </tr>\n",
       "    <tr>\n",
       "      <th>16</th>\n",
       "      <td>NaN</td>\n",
       "      <td>NaN</td>\n",
       "      <td>NaN</td>\n",
       "      <td>NaN</td>\n",
       "      <td>NaN</td>\n",
       "      <td>NaN</td>\n",
       "      <td>NaN</td>\n",
       "      <td>NaN</td>\n",
       "      <td>NaN</td>\n",
       "      <td>NaN</td>\n",
       "      <td>...</td>\n",
       "      <td>0.0</td>\n",
       "      <td>0.0</td>\n",
       "      <td>0.0</td>\n",
       "      <td>0.0</td>\n",
       "      <td>0.0</td>\n",
       "      <td>0.0</td>\n",
       "      <td>0.0</td>\n",
       "      <td>0.0</td>\n",
       "      <td>0.0</td>\n",
       "      <td>0.0</td>\n",
       "    </tr>\n",
       "    <tr>\n",
       "      <th>61</th>\n",
       "      <td>NaN</td>\n",
       "      <td>NaN</td>\n",
       "      <td>NaN</td>\n",
       "      <td>NaN</td>\n",
       "      <td>NaN</td>\n",
       "      <td>NaN</td>\n",
       "      <td>NaN</td>\n",
       "      <td>NaN</td>\n",
       "      <td>NaN</td>\n",
       "      <td>NaN</td>\n",
       "      <td>...</td>\n",
       "      <td>0.0</td>\n",
       "      <td>0.0</td>\n",
       "      <td>0.0</td>\n",
       "      <td>0.0</td>\n",
       "      <td>0.0</td>\n",
       "      <td>0.0</td>\n",
       "      <td>0.0</td>\n",
       "      <td>0.0</td>\n",
       "      <td>0.0</td>\n",
       "      <td>0.0</td>\n",
       "    </tr>\n",
       "    <tr>\n",
       "      <th>...</th>\n",
       "      <td>...</td>\n",
       "      <td>...</td>\n",
       "      <td>...</td>\n",
       "      <td>...</td>\n",
       "      <td>...</td>\n",
       "      <td>...</td>\n",
       "      <td>...</td>\n",
       "      <td>...</td>\n",
       "      <td>...</td>\n",
       "      <td>...</td>\n",
       "      <td>...</td>\n",
       "      <td>...</td>\n",
       "      <td>...</td>\n",
       "      <td>...</td>\n",
       "      <td>...</td>\n",
       "      <td>...</td>\n",
       "      <td>...</td>\n",
       "      <td>...</td>\n",
       "      <td>...</td>\n",
       "      <td>...</td>\n",
       "      <td>...</td>\n",
       "    </tr>\n",
       "    <tr>\n",
       "      <th>1626</th>\n",
       "      <td>NaN</td>\n",
       "      <td>NaN</td>\n",
       "      <td>NaN</td>\n",
       "      <td>NaN</td>\n",
       "      <td>NaN</td>\n",
       "      <td>NaN</td>\n",
       "      <td>NaN</td>\n",
       "      <td>NaN</td>\n",
       "      <td>NaN</td>\n",
       "      <td>NaN</td>\n",
       "      <td>...</td>\n",
       "      <td>0.0</td>\n",
       "      <td>0.0</td>\n",
       "      <td>0.0</td>\n",
       "      <td>0.0</td>\n",
       "      <td>0.0</td>\n",
       "      <td>0.0</td>\n",
       "      <td>0.0</td>\n",
       "      <td>0.0</td>\n",
       "      <td>0.0</td>\n",
       "      <td>0.0</td>\n",
       "    </tr>\n",
       "    <tr>\n",
       "      <th>1757</th>\n",
       "      <td>NaN</td>\n",
       "      <td>NaN</td>\n",
       "      <td>NaN</td>\n",
       "      <td>NaN</td>\n",
       "      <td>NaN</td>\n",
       "      <td>NaN</td>\n",
       "      <td>NaN</td>\n",
       "      <td>NaN</td>\n",
       "      <td>NaN</td>\n",
       "      <td>NaN</td>\n",
       "      <td>...</td>\n",
       "      <td>0.0</td>\n",
       "      <td>0.0</td>\n",
       "      <td>0.0</td>\n",
       "      <td>0.0</td>\n",
       "      <td>0.0</td>\n",
       "      <td>0.0</td>\n",
       "      <td>0.0</td>\n",
       "      <td>0.0</td>\n",
       "      <td>0.0</td>\n",
       "      <td>0.0</td>\n",
       "    </tr>\n",
       "    <tr>\n",
       "      <th>1929</th>\n",
       "      <td>NaN</td>\n",
       "      <td>NaN</td>\n",
       "      <td>NaN</td>\n",
       "      <td>NaN</td>\n",
       "      <td>NaN</td>\n",
       "      <td>NaN</td>\n",
       "      <td>NaN</td>\n",
       "      <td>NaN</td>\n",
       "      <td>NaN</td>\n",
       "      <td>NaN</td>\n",
       "      <td>...</td>\n",
       "      <td>0.0</td>\n",
       "      <td>0.0</td>\n",
       "      <td>0.0</td>\n",
       "      <td>0.0</td>\n",
       "      <td>0.0</td>\n",
       "      <td>0.0</td>\n",
       "      <td>0.0</td>\n",
       "      <td>0.0</td>\n",
       "      <td>0.0</td>\n",
       "      <td>0.0</td>\n",
       "    </tr>\n",
       "    <tr>\n",
       "      <th>1931</th>\n",
       "      <td>NaN</td>\n",
       "      <td>NaN</td>\n",
       "      <td>NaN</td>\n",
       "      <td>NaN</td>\n",
       "      <td>NaN</td>\n",
       "      <td>NaN</td>\n",
       "      <td>NaN</td>\n",
       "      <td>NaN</td>\n",
       "      <td>NaN</td>\n",
       "      <td>NaN</td>\n",
       "      <td>...</td>\n",
       "      <td>0.0</td>\n",
       "      <td>0.0</td>\n",
       "      <td>0.0</td>\n",
       "      <td>0.0</td>\n",
       "      <td>0.0</td>\n",
       "      <td>0.0</td>\n",
       "      <td>0.0</td>\n",
       "      <td>0.0</td>\n",
       "      <td>0.0</td>\n",
       "      <td>0.0</td>\n",
       "    </tr>\n",
       "    <tr>\n",
       "      <th>1937</th>\n",
       "      <td>NaN</td>\n",
       "      <td>NaN</td>\n",
       "      <td>NaN</td>\n",
       "      <td>NaN</td>\n",
       "      <td>NaN</td>\n",
       "      <td>NaN</td>\n",
       "      <td>NaN</td>\n",
       "      <td>NaN</td>\n",
       "      <td>NaN</td>\n",
       "      <td>NaN</td>\n",
       "      <td>...</td>\n",
       "      <td>0.0</td>\n",
       "      <td>0.0</td>\n",
       "      <td>0.0</td>\n",
       "      <td>0.0</td>\n",
       "      <td>0.0</td>\n",
       "      <td>0.0</td>\n",
       "      <td>0.0</td>\n",
       "      <td>0.0</td>\n",
       "      <td>0.0</td>\n",
       "      <td>0.0</td>\n",
       "    </tr>\n",
       "  </tbody>\n",
       "</table>\n",
       "<p>204 rows × 152 columns</p>\n",
       "</div>"
      ],
      "text/plain": [
       "     NAME STORE_GENRE  N_SUPPORTED_LANGUAGES DEVELOPERS SUPPORTED_PLATFORMS  \\\n",
       "5     NaN         NaN                    NaN        NaN                 NaN   \n",
       "10    NaN         NaN                    NaN        NaN                 NaN   \n",
       "12    NaN         NaN                    NaN        NaN                 NaN   \n",
       "16    NaN         NaN                    NaN        NaN                 NaN   \n",
       "61    NaN         NaN                    NaN        NaN                 NaN   \n",
       "...   ...         ...                    ...        ...                 ...   \n",
       "1626  NaN         NaN                    NaN        NaN                 NaN   \n",
       "1757  NaN         NaN                    NaN        NaN                 NaN   \n",
       "1929  NaN         NaN                    NaN        NaN                 NaN   \n",
       "1931  NaN         NaN                    NaN        NaN                 NaN   \n",
       "1937  NaN         NaN                    NaN        NaN                 NaN   \n",
       "\n",
       "      POSITIVE_REVIEWS  NEGATIVE_REVIEWS PRICE  24_HOUR_PEAK  PUBLISH_YEAR  \\\n",
       "5                  NaN               NaN   NaN           NaN           NaN   \n",
       "10                 NaN               NaN   NaN           NaN           NaN   \n",
       "12                 NaN               NaN   NaN           NaN           NaN   \n",
       "16                 NaN               NaN   NaN           NaN           NaN   \n",
       "61                 NaN               NaN   NaN           NaN           NaN   \n",
       "...                ...               ...   ...           ...           ...   \n",
       "1626               NaN               NaN   NaN           NaN           NaN   \n",
       "1757               NaN               NaN   NaN           NaN           NaN   \n",
       "1929               NaN               NaN   NaN           NaN           NaN   \n",
       "1931               NaN               NaN   NaN           NaN           NaN   \n",
       "1937               NaN               NaN   NaN           NaN           NaN   \n",
       "\n",
       "      ...  TECH: SDK.UnityHybridRenderer  TECH: SDK.UnityURP  TECH: SDK.V8  \\\n",
       "5     ...                            0.0                 0.0           0.0   \n",
       "10    ...                            0.0                 0.0           0.0   \n",
       "12    ...                            0.0                 0.0           0.0   \n",
       "16    ...                            0.0                 0.0           0.0   \n",
       "61    ...                            0.0                 0.0           0.0   \n",
       "...   ...                            ...                 ...           ...   \n",
       "1626  ...                            0.0                 0.0           0.0   \n",
       "1757  ...                            0.0                 0.0           0.0   \n",
       "1929  ...                            0.0                 0.0           0.0   \n",
       "1931  ...                            0.0                 0.0           0.0   \n",
       "1937  ...                            0.0                 0.0           0.0   \n",
       "\n",
       "      TECH: SDK.Vorbis  TECH: SDK.Wwise  TECH: SDK.XAudio2  \\\n",
       "5                  0.0              0.0                0.0   \n",
       "10                 0.0              0.0                0.0   \n",
       "12                 0.0              0.0                0.0   \n",
       "16                 0.0              0.0                0.0   \n",
       "61                 0.0              0.0                0.0   \n",
       "...                ...              ...                ...   \n",
       "1626               0.0              0.0                0.0   \n",
       "1757               0.0              0.0                0.0   \n",
       "1929               0.0              0.0                0.0   \n",
       "1931               0.0              0.0                0.0   \n",
       "1937               0.0              0.0                0.0   \n",
       "\n",
       "      TECH: SDK.Yarn_Spinner  TECH: SDK.cURL  TECH: SDK.iCue  \\\n",
       "5                        0.0             0.0             0.0   \n",
       "10                       0.0             0.0             0.0   \n",
       "12                       0.0             0.0             0.0   \n",
       "16                       0.0             0.0             0.0   \n",
       "61                       0.0             0.0             0.0   \n",
       "...                      ...             ...             ...   \n",
       "1626                     0.0             0.0             0.0   \n",
       "1757                     0.0             0.0             0.0   \n",
       "1929                     0.0             0.0             0.0   \n",
       "1931                     0.0             0.0             0.0   \n",
       "1937                     0.0             0.0             0.0   \n",
       "\n",
       "      TECH: SDK.iZotope  \n",
       "5                   0.0  \n",
       "10                  0.0  \n",
       "12                  0.0  \n",
       "16                  0.0  \n",
       "61                  0.0  \n",
       "...                 ...  \n",
       "1626                0.0  \n",
       "1757                0.0  \n",
       "1929                0.0  \n",
       "1931                0.0  \n",
       "1937                0.0  \n",
       "\n",
       "[204 rows x 152 columns]"
      ]
     },
     "execution_count": 824,
     "metadata": {},
     "output_type": "execute_result"
    }
   ],
   "source": [
    "problematic_rows = df[df['STORE_GENRE'].apply(lambda x: isinstance(x, float))]\n",
    "problematic_rows"
   ]
  },
  {
   "cell_type": "code",
   "execution_count": 825,
   "metadata": {},
   "outputs": [],
   "source": [
    "df = df[~df.index.isin(problematic_rows.index)]\n"
   ]
  },
  {
   "cell_type": "code",
   "execution_count": 826,
   "metadata": {},
   "outputs": [],
   "source": [
    "if 'STORE_GENRE' in df.columns:\n",
    "    mlb = MultiLabelBinarizer()\n",
    "    store_genre_one_hot = mlb.fit_transform(df['STORE_GENRE'])\n",
    "    store_genre_one_hot_df = pd.DataFrame(store_genre_one_hot, columns=mlb.classes_)\n",
    "    store_genre_one_hot_df.columns = ['GENRE: ' + col for col in store_genre_one_hot_df.columns]\n",
    "    df = pd.concat([df, store_genre_one_hot_df], axis=1)\n",
    "    del mlb"
   ]
  },
  {
   "cell_type": "code",
   "execution_count": 827,
   "metadata": {},
   "outputs": [
    {
     "data": {
      "text/html": [
       "<div>\n",
       "<style scoped>\n",
       "    .dataframe tbody tr th:only-of-type {\n",
       "        vertical-align: middle;\n",
       "    }\n",
       "\n",
       "    .dataframe tbody tr th {\n",
       "        vertical-align: top;\n",
       "    }\n",
       "\n",
       "    .dataframe thead th {\n",
       "        text-align: right;\n",
       "    }\n",
       "</style>\n",
       "<table border=\"1\" class=\"dataframe\">\n",
       "  <thead>\n",
       "    <tr style=\"text-align: right;\">\n",
       "      <th></th>\n",
       "      <th>NAME</th>\n",
       "      <th>STORE_GENRE</th>\n",
       "      <th>N_SUPPORTED_LANGUAGES</th>\n",
       "      <th>DEVELOPERS</th>\n",
       "      <th>SUPPORTED_PLATFORMS</th>\n",
       "      <th>POSITIVE_REVIEWS</th>\n",
       "      <th>NEGATIVE_REVIEWS</th>\n",
       "      <th>PRICE</th>\n",
       "      <th>24_HOUR_PEAK</th>\n",
       "      <th>PUBLISH_YEAR</th>\n",
       "      <th>...</th>\n",
       "      <th>GENRE: Early Access</th>\n",
       "      <th>GENRE: Free to Play</th>\n",
       "      <th>GENRE: Indie</th>\n",
       "      <th>GENRE: Massively Multiplayer</th>\n",
       "      <th>GENRE: RPG</th>\n",
       "      <th>GENRE: Racing</th>\n",
       "      <th>GENRE: Simulation</th>\n",
       "      <th>GENRE: Sports</th>\n",
       "      <th>GENRE: Store Genres</th>\n",
       "      <th>GENRE: Strategy</th>\n",
       "    </tr>\n",
       "  </thead>\n",
       "  <tbody>\n",
       "    <tr>\n",
       "      <th>0</th>\n",
       "      <td>Dragon's Dogma: Dark Arisen</td>\n",
       "      <td>[Action, Adventure, RPG]</td>\n",
       "      <td>7.0</td>\n",
       "      <td>Capcom</td>\n",
       "      <td>Windows</td>\n",
       "      <td>39271.0</td>\n",
       "      <td>5015.0</td>\n",
       "      <td>$22.49</td>\n",
       "      <td>1064.0</td>\n",
       "      <td>2016.0</td>\n",
       "      <td>...</td>\n",
       "      <td>0.0</td>\n",
       "      <td>0.0</td>\n",
       "      <td>0.0</td>\n",
       "      <td>0.0</td>\n",
       "      <td>1.0</td>\n",
       "      <td>0.0</td>\n",
       "      <td>0.0</td>\n",
       "      <td>0.0</td>\n",
       "      <td>0.0</td>\n",
       "      <td>0.0</td>\n",
       "    </tr>\n",
       "    <tr>\n",
       "      <th>1</th>\n",
       "      <td>Forza Horizon 5</td>\n",
       "      <td>[Action, Adventure, Racing, Simulation, Sports]</td>\n",
       "      <td>24.0</td>\n",
       "      <td>Playground Games</td>\n",
       "      <td>Windows</td>\n",
       "      <td>156683.0</td>\n",
       "      <td>21075.0</td>\n",
       "      <td>$32.78</td>\n",
       "      <td>16131.0</td>\n",
       "      <td>2021.0</td>\n",
       "      <td>...</td>\n",
       "      <td>0.0</td>\n",
       "      <td>0.0</td>\n",
       "      <td>0.0</td>\n",
       "      <td>0.0</td>\n",
       "      <td>0.0</td>\n",
       "      <td>1.0</td>\n",
       "      <td>1.0</td>\n",
       "      <td>1.0</td>\n",
       "      <td>0.0</td>\n",
       "      <td>0.0</td>\n",
       "    </tr>\n",
       "    <tr>\n",
       "      <th>2</th>\n",
       "      <td>Thrive</td>\n",
       "      <td>[Casual, Indie, Simulation, Early Access]</td>\n",
       "      <td>1.0</td>\n",
       "      <td>Revolutionary Games Studio</td>\n",
       "      <td>Windows Linux</td>\n",
       "      <td>872.0</td>\n",
       "      <td>70.0</td>\n",
       "      <td>$2.99</td>\n",
       "      <td>21.0</td>\n",
       "      <td>2021.0</td>\n",
       "      <td>...</td>\n",
       "      <td>1.0</td>\n",
       "      <td>0.0</td>\n",
       "      <td>1.0</td>\n",
       "      <td>0.0</td>\n",
       "      <td>0.0</td>\n",
       "      <td>0.0</td>\n",
       "      <td>1.0</td>\n",
       "      <td>0.0</td>\n",
       "      <td>0.0</td>\n",
       "      <td>0.0</td>\n",
       "    </tr>\n",
       "    <tr>\n",
       "      <th>3</th>\n",
       "      <td>Layers of Fear (2016)</td>\n",
       "      <td>[Adventure, Indie]</td>\n",
       "      <td>12.0</td>\n",
       "      <td>Bloober Team SA</td>\n",
       "      <td>Windows macOS Linux</td>\n",
       "      <td>22766.0</td>\n",
       "      <td>2819.0</td>\n",
       "      <td>$10.19</td>\n",
       "      <td>31.0</td>\n",
       "      <td>2016.0</td>\n",
       "      <td>...</td>\n",
       "      <td>0.0</td>\n",
       "      <td>0.0</td>\n",
       "      <td>1.0</td>\n",
       "      <td>0.0</td>\n",
       "      <td>0.0</td>\n",
       "      <td>0.0</td>\n",
       "      <td>0.0</td>\n",
       "      <td>0.0</td>\n",
       "      <td>0.0</td>\n",
       "      <td>0.0</td>\n",
       "    </tr>\n",
       "    <tr>\n",
       "      <th>4</th>\n",
       "      <td>TaskPals</td>\n",
       "      <td>[Indie, Free to Play]</td>\n",
       "      <td>1.0</td>\n",
       "      <td>lazarche</td>\n",
       "      <td>Windows</td>\n",
       "      <td>834.0</td>\n",
       "      <td>66.0</td>\n",
       "      <td>NaN</td>\n",
       "      <td>318.0</td>\n",
       "      <td>2023.0</td>\n",
       "      <td>...</td>\n",
       "      <td>0.0</td>\n",
       "      <td>1.0</td>\n",
       "      <td>1.0</td>\n",
       "      <td>0.0</td>\n",
       "      <td>0.0</td>\n",
       "      <td>0.0</td>\n",
       "      <td>0.0</td>\n",
       "      <td>0.0</td>\n",
       "      <td>0.0</td>\n",
       "      <td>0.0</td>\n",
       "    </tr>\n",
       "    <tr>\n",
       "      <th>6</th>\n",
       "      <td>BattleGroupVR</td>\n",
       "      <td>[Action, Simulation, Strategy]</td>\n",
       "      <td>3.0</td>\n",
       "      <td>SpaceOwl Games</td>\n",
       "      <td>Windows Linux</td>\n",
       "      <td>784.0</td>\n",
       "      <td>61.0</td>\n",
       "      <td>$8.49</td>\n",
       "      <td>7.0</td>\n",
       "      <td>2023.0</td>\n",
       "      <td>...</td>\n",
       "      <td>0.0</td>\n",
       "      <td>0.0</td>\n",
       "      <td>1.0</td>\n",
       "      <td>0.0</td>\n",
       "      <td>0.0</td>\n",
       "      <td>0.0</td>\n",
       "      <td>1.0</td>\n",
       "      <td>0.0</td>\n",
       "      <td>0.0</td>\n",
       "      <td>1.0</td>\n",
       "    </tr>\n",
       "    <tr>\n",
       "      <th>7</th>\n",
       "      <td>Wargame: Red Dragon</td>\n",
       "      <td>[Indie, Simulation, Strategy]</td>\n",
       "      <td>11.0</td>\n",
       "      <td>Eugen Systems</td>\n",
       "      <td>Windows macOS Linux</td>\n",
       "      <td>16273.0</td>\n",
       "      <td>1969.0</td>\n",
       "      <td>$29.99</td>\n",
       "      <td>802.0</td>\n",
       "      <td>2014.0</td>\n",
       "      <td>...</td>\n",
       "      <td>0.0</td>\n",
       "      <td>0.0</td>\n",
       "      <td>0.0</td>\n",
       "      <td>0.0</td>\n",
       "      <td>0.0</td>\n",
       "      <td>0.0</td>\n",
       "      <td>0.0</td>\n",
       "      <td>0.0</td>\n",
       "      <td>0.0</td>\n",
       "      <td>0.0</td>\n",
       "    </tr>\n",
       "    <tr>\n",
       "      <th>8</th>\n",
       "      <td>High On Life</td>\n",
       "      <td>[Action, Adventure]</td>\n",
       "      <td>5.0</td>\n",
       "      <td>Squanch Games, Inc.</td>\n",
       "      <td>Windows</td>\n",
       "      <td>13941.0</td>\n",
       "      <td>1669.0</td>\n",
       "      <td>$18.99</td>\n",
       "      <td>212.0</td>\n",
       "      <td>2022.0</td>\n",
       "      <td>...</td>\n",
       "      <td>0.0</td>\n",
       "      <td>0.0</td>\n",
       "      <td>1.0</td>\n",
       "      <td>0.0</td>\n",
       "      <td>0.0</td>\n",
       "      <td>1.0</td>\n",
       "      <td>0.0</td>\n",
       "      <td>1.0</td>\n",
       "      <td>0.0</td>\n",
       "      <td>0.0</td>\n",
       "    </tr>\n",
       "    <tr>\n",
       "      <th>9</th>\n",
       "      <td>Rocket League</td>\n",
       "      <td>[Action, Indie, Racing, Sports]</td>\n",
       "      <td>13.0</td>\n",
       "      <td>Psyonix LLC</td>\n",
       "      <td>Windows macOS Linux</td>\n",
       "      <td>508263.0</td>\n",
       "      <td>70214.0</td>\n",
       "      <td>NaN</td>\n",
       "      <td>32851.0</td>\n",
       "      <td>2015.0</td>\n",
       "      <td>...</td>\n",
       "      <td>0.0</td>\n",
       "      <td>0.0</td>\n",
       "      <td>1.0</td>\n",
       "      <td>0.0</td>\n",
       "      <td>0.0</td>\n",
       "      <td>0.0</td>\n",
       "      <td>0.0</td>\n",
       "      <td>0.0</td>\n",
       "      <td>0.0</td>\n",
       "      <td>0.0</td>\n",
       "    </tr>\n",
       "    <tr>\n",
       "      <th>11</th>\n",
       "      <td>Kitten adventures in city park</td>\n",
       "      <td>[Adventure, Indie]</td>\n",
       "      <td>6.0</td>\n",
       "      <td>Lokator Studio</td>\n",
       "      <td>Windows macOS Linux</td>\n",
       "      <td>541.0</td>\n",
       "      <td>37.0</td>\n",
       "      <td>NaN</td>\n",
       "      <td>1.0</td>\n",
       "      <td>2017.0</td>\n",
       "      <td>...</td>\n",
       "      <td>0.0</td>\n",
       "      <td>0.0</td>\n",
       "      <td>1.0</td>\n",
       "      <td>0.0</td>\n",
       "      <td>0.0</td>\n",
       "      <td>0.0</td>\n",
       "      <td>0.0</td>\n",
       "      <td>0.0</td>\n",
       "      <td>0.0</td>\n",
       "      <td>0.0</td>\n",
       "    </tr>\n",
       "  </tbody>\n",
       "</table>\n",
       "<p>10 rows × 165 columns</p>\n",
       "</div>"
      ],
      "text/plain": [
       "                              NAME  \\\n",
       "0      Dragon's Dogma: Dark Arisen   \n",
       "1                  Forza Horizon 5   \n",
       "2                           Thrive   \n",
       "3            Layers of Fear (2016)   \n",
       "4                         TaskPals   \n",
       "6                    BattleGroupVR   \n",
       "7              Wargame: Red Dragon   \n",
       "8                     High On Life   \n",
       "9                    Rocket League   \n",
       "11  Kitten adventures in city park   \n",
       "\n",
       "                                        STORE_GENRE  N_SUPPORTED_LANGUAGES  \\\n",
       "0                          [Action, Adventure, RPG]                    7.0   \n",
       "1   [Action, Adventure, Racing, Simulation, Sports]                   24.0   \n",
       "2         [Casual, Indie, Simulation, Early Access]                    1.0   \n",
       "3                                [Adventure, Indie]                   12.0   \n",
       "4                             [Indie, Free to Play]                    1.0   \n",
       "6                    [Action, Simulation, Strategy]                    3.0   \n",
       "7                     [Indie, Simulation, Strategy]                   11.0   \n",
       "8                               [Action, Adventure]                    5.0   \n",
       "9                   [Action, Indie, Racing, Sports]                   13.0   \n",
       "11                               [Adventure, Indie]                    6.0   \n",
       "\n",
       "                    DEVELOPERS  SUPPORTED_PLATFORMS  POSITIVE_REVIEWS  \\\n",
       "0                       Capcom              Windows           39271.0   \n",
       "1             Playground Games              Windows          156683.0   \n",
       "2   Revolutionary Games Studio        Windows Linux             872.0   \n",
       "3              Bloober Team SA  Windows macOS Linux           22766.0   \n",
       "4                     lazarche              Windows             834.0   \n",
       "6               SpaceOwl Games        Windows Linux             784.0   \n",
       "7                Eugen Systems  Windows macOS Linux           16273.0   \n",
       "8          Squanch Games, Inc.              Windows           13941.0   \n",
       "9                  Psyonix LLC  Windows macOS Linux          508263.0   \n",
       "11              Lokator Studio  Windows macOS Linux             541.0   \n",
       "\n",
       "    NEGATIVE_REVIEWS    PRICE  24_HOUR_PEAK  PUBLISH_YEAR  ...  \\\n",
       "0             5015.0  $22.49         1064.0        2016.0  ...   \n",
       "1            21075.0  $32.78        16131.0        2021.0  ...   \n",
       "2               70.0   $2.99           21.0        2021.0  ...   \n",
       "3             2819.0  $10.19           31.0        2016.0  ...   \n",
       "4               66.0      NaN         318.0        2023.0  ...   \n",
       "6               61.0   $8.49            7.0        2023.0  ...   \n",
       "7             1969.0  $29.99          802.0        2014.0  ...   \n",
       "8             1669.0  $18.99          212.0        2022.0  ...   \n",
       "9            70214.0      NaN       32851.0        2015.0  ...   \n",
       "11              37.0      NaN           1.0        2017.0  ...   \n",
       "\n",
       "    GENRE: Early Access  GENRE: Free to Play  GENRE: Indie  \\\n",
       "0                   0.0                  0.0           0.0   \n",
       "1                   0.0                  0.0           0.0   \n",
       "2                   1.0                  0.0           1.0   \n",
       "3                   0.0                  0.0           1.0   \n",
       "4                   0.0                  1.0           1.0   \n",
       "6                   0.0                  0.0           1.0   \n",
       "7                   0.0                  0.0           0.0   \n",
       "8                   0.0                  0.0           1.0   \n",
       "9                   0.0                  0.0           1.0   \n",
       "11                  0.0                  0.0           1.0   \n",
       "\n",
       "    GENRE: Massively Multiplayer  GENRE: RPG  GENRE: Racing  \\\n",
       "0                            0.0         1.0            0.0   \n",
       "1                            0.0         0.0            1.0   \n",
       "2                            0.0         0.0            0.0   \n",
       "3                            0.0         0.0            0.0   \n",
       "4                            0.0         0.0            0.0   \n",
       "6                            0.0         0.0            0.0   \n",
       "7                            0.0         0.0            0.0   \n",
       "8                            0.0         0.0            1.0   \n",
       "9                            0.0         0.0            0.0   \n",
       "11                           0.0         0.0            0.0   \n",
       "\n",
       "    GENRE: Simulation  GENRE: Sports  GENRE: Store Genres  GENRE: Strategy  \n",
       "0                 0.0            0.0                  0.0              0.0  \n",
       "1                 1.0            1.0                  0.0              0.0  \n",
       "2                 1.0            0.0                  0.0              0.0  \n",
       "3                 0.0            0.0                  0.0              0.0  \n",
       "4                 0.0            0.0                  0.0              0.0  \n",
       "6                 1.0            0.0                  0.0              1.0  \n",
       "7                 0.0            0.0                  0.0              0.0  \n",
       "8                 0.0            1.0                  0.0              0.0  \n",
       "9                 0.0            0.0                  0.0              0.0  \n",
       "11                0.0            0.0                  0.0              0.0  \n",
       "\n",
       "[10 rows x 165 columns]"
      ]
     },
     "execution_count": 827,
     "metadata": {},
     "output_type": "execute_result"
    }
   ],
   "source": [
    "df.head(10)"
   ]
  },
  {
   "cell_type": "markdown",
   "metadata": {},
   "source": [
    "## One-Hot Encoding `SUPPORTED_PLATFORMS` Column"
   ]
  },
  {
   "cell_type": "markdown",
   "metadata": {},
   "source": [
    "This section transforms the 'SUPPORTED_PLATFORMS' column into separate binary columns for each platform using one-hot encoding, which facilitates easier analysis and modeling."
   ]
  },
  {
   "cell_type": "code",
   "execution_count": 828,
   "metadata": {},
   "outputs": [
    {
     "data": {
      "text/plain": [
       "0                   Windows\n",
       "1                   Windows\n",
       "2             Windows Linux\n",
       "3       Windows macOS Linux\n",
       "4                   Windows\n",
       "               ...         \n",
       "1626                    NaN\n",
       "1757                    NaN\n",
       "1929                    NaN\n",
       "1931                    NaN\n",
       "1937                    NaN\n",
       "Name: SUPPORTED_PLATFORMS, Length: 2236, dtype: object"
      ]
     },
     "execution_count": 828,
     "metadata": {},
     "output_type": "execute_result"
    }
   ],
   "source": [
    "df['SUPPORTED_PLATFORMS']"
   ]
  },
  {
   "cell_type": "code",
   "execution_count": 829,
   "metadata": {},
   "outputs": [
    {
     "data": {
      "text/plain": [
       "251"
      ]
     },
     "execution_count": 829,
     "metadata": {},
     "output_type": "execute_result"
    }
   ],
   "source": [
    "df['SUPPORTED_PLATFORMS'].isnull().sum()"
   ]
  },
  {
   "cell_type": "code",
   "execution_count": 830,
   "metadata": {},
   "outputs": [],
   "source": [
    "all_platforms = df['SUPPORTED_PLATFORMS'].dropna().str.split().sum()\n",
    "platform_counts = Counter(all_platforms)\n",
    "most_common_platform = platform_counts.most_common(1)[0][0]\n",
    "\n",
    "most_common_platform\n",
    "\n",
    "df.loc[df['SUPPORTED_PLATFORMS'].isnull(), 'SUPPORTED_PLATFORMS'] = most_common_platform"
   ]
  },
  {
   "cell_type": "code",
   "execution_count": 831,
   "metadata": {},
   "outputs": [],
   "source": [
    "# Split the 'SUPPORTED_PLATFORMS' column into separate columns for each platform\n",
    "platform_dummies = df['SUPPORTED_PLATFORMS'].str.get_dummies(sep=' ')\n",
    "\n",
    "# Concatenate the dummy columns with the original DataFrame\n",
    "df = pd.concat([df, platform_dummies], axis=1)"
   ]
  },
  {
   "cell_type": "code",
   "execution_count": 832,
   "metadata": {},
   "outputs": [],
   "source": [
    "df.drop(columns=['SUPPORTED_PLATFORMS'], inplace=True)"
   ]
  },
  {
   "cell_type": "code",
   "execution_count": 833,
   "metadata": {},
   "outputs": [
    {
     "name": "stdout",
     "output_type": "stream",
     "text": [
      "<class 'pandas.core.frame.DataFrame'>\n",
      "Index: 2236 entries, 0 to 1937\n",
      "Columns: 167 entries, NAME to macOS\n",
      "dtypes: float64(160), int64(3), object(4)\n",
      "memory usage: 2.9+ MB\n"
     ]
    }
   ],
   "source": [
    "df.info()"
   ]
  },
  {
   "cell_type": "markdown",
   "metadata": {},
   "source": [
    "## Merging Game Information and Price DataFrames"
   ]
  },
  {
   "cell_type": "markdown",
   "metadata": {},
   "source": [
    "### Removing `PRICE` Column"
   ]
  },
  {
   "cell_type": "code",
   "execution_count": 834,
   "metadata": {},
   "outputs": [
    {
     "name": "stdout",
     "output_type": "stream",
     "text": [
      "<class 'pandas.core.frame.DataFrame'>\n",
      "Index: 2236 entries, 0 to 1937\n",
      "Columns: 167 entries, NAME to macOS\n",
      "dtypes: float64(160), int64(3), object(4)\n",
      "memory usage: 2.9+ MB\n"
     ]
    }
   ],
   "source": [
    "df.info()"
   ]
  },
  {
   "cell_type": "code",
   "execution_count": 835,
   "metadata": {},
   "outputs": [
    {
     "name": "stdout",
     "output_type": "stream",
     "text": [
      "<class 'pandas.core.frame.DataFrame'>\n",
      "RangeIndex: 4950 entries, 0 to 4949\n",
      "Data columns (total 5 columns):\n",
      " #   Column   Non-Null Count  Dtype \n",
      "---  ------   --------------  ----- \n",
      " 0   name     4950 non-null   object\n",
      " 1   url      4950 non-null   object\n",
      " 2   price    4950 non-null   object\n",
      " 3   release  4950 non-null   object\n",
      " 4   page     4950 non-null   int64 \n",
      "dtypes: int64(1), object(4)\n",
      "memory usage: 193.5+ KB\n"
     ]
    }
   ],
   "source": [
    "game_details.info()"
   ]
  },
  {
   "cell_type": "code",
   "execution_count": 836,
   "metadata": {},
   "outputs": [
    {
     "name": "stdout",
     "output_type": "stream",
     "text": [
      "Non-numeric values:\n",
      "                                   name                                url  \\\n",
      "352             Building Relationships  https://steamdb.info/app/2666920/   \n",
      "354          BoneField: Bodycam Horror  https://steamdb.info/app/2567770/   \n",
      "355                         TEXNOPLAZM  https://steamdb.info/app/2527710/   \n",
      "356                Ripple In Dirac Sea  https://steamdb.info/app/2421650/   \n",
      "357                     100 Egypt Cats  https://steamdb.info/app/3017380/   \n",
      "...                                ...                                ...   \n",
      "2749                        Splinterra  https://steamdb.info/app/2779600/   \n",
      "3225             Football Manager 2011    https://steamdb.info/app/34220/   \n",
      "3782  Assassin’s Creed® IV Black Flag™   https://steamdb.info/app/242050/   \n",
      "4487    Serious Sam Fusion 2017 (beta)   https://steamdb.info/app/564310/   \n",
      "4772                   Sniper Elite V2    https://steamdb.info/app/63380/   \n",
      "\n",
      "        price release  page  \n",
      "352         -       -    46  \n",
      "354         -       -    46  \n",
      "355         -       -    46  \n",
      "356         -       -    46  \n",
      "357         -       -    46  \n",
      "...       ...     ...   ...  \n",
      "2749        -       -    52  \n",
      "3225        -       -    68  \n",
      "3782  $39.99        -    65  \n",
      "4487  $11.00        -    76  \n",
      "4772        -       -    82  \n",
      "\n",
      "[244 rows x 5 columns]\n"
     ]
    }
   ],
   "source": [
    "non_numeric = game_details[~game_details['release'].str.isnumeric()]\n",
    "print(\"Non-numeric values:\\n\", non_numeric)\n",
    "game_details_cleaned = game_details[game_details['release'].str.isnumeric()]\n",
    "\n",
    "game_details['release'] = pd.to_numeric(game_details['release'], errors='coerce')\n",
    "\n",
    "game_details['release'] = game_details['release'].astype('Int64')"
   ]
  },
  {
   "cell_type": "code",
   "execution_count": 837,
   "metadata": {},
   "outputs": [],
   "source": [
    "def standardize_spaces(text):\n",
    "    if isinstance(text, str):\n",
    "        return re.sub(r'\\s+', ' ', text)\n",
    "    return text\n",
    "\n",
    "df['NAME'] = df['NAME'].astype(str).str.lower().str.strip().apply(standardize_spaces)\n",
    "game_details['name'] = game_details['name'].astype(str).str.lower().str.strip().apply(standardize_spaces)"
   ]
  },
  {
   "cell_type": "code",
   "execution_count": 838,
   "metadata": {},
   "outputs": [],
   "source": [
    "def is_valid_price(price):\n",
    "    return not (str(price).startswith('$') or str(price) == '-')\n",
    "\n",
    "df.loc[~df['PRICE'].apply(is_valid_price), 'PRICE'] = np.nan\n",
    "filtered_df = df[df['PRICE'].apply(is_valid_price)]\n",
    "\n",
    "for index, row in filtered_df.iterrows():\n",
    "    game_name = row['NAME']\n",
    "    game_date = row['PUBLISH_YEAR']\n",
    "    price = game_details[game_details['name'] == game_name]['price'].values\n",
    "    \n",
    "    if len(price) > 0:\n",
    "        df.at[index, 'PRICE'] = price[0]"
   ]
  },
  {
   "cell_type": "code",
   "execution_count": 839,
   "metadata": {},
   "outputs": [],
   "source": [
    "# name_set = set(df['NAME'])\n",
    "\n",
    "# missing_games_urls = game_details[~game_details['name'].isin(name_set)]['url'].tolist()\n",
    "\n",
    "# with open('missing_games_urls.txt', 'w') as file:\n",
    "#     for url in missing_games_urls:\n",
    "#         file.write(url + '\\n')"
   ]
  },
  {
   "cell_type": "code",
   "execution_count": 840,
   "metadata": {},
   "outputs": [
    {
     "data": {
      "text/html": [
       "<div>\n",
       "<style scoped>\n",
       "    .dataframe tbody tr th:only-of-type {\n",
       "        vertical-align: middle;\n",
       "    }\n",
       "\n",
       "    .dataframe tbody tr th {\n",
       "        vertical-align: top;\n",
       "    }\n",
       "\n",
       "    .dataframe thead th {\n",
       "        text-align: right;\n",
       "    }\n",
       "</style>\n",
       "<table border=\"1\" class=\"dataframe\">\n",
       "  <thead>\n",
       "    <tr style=\"text-align: right;\">\n",
       "      <th></th>\n",
       "      <th>NAME</th>\n",
       "      <th>STORE_GENRE</th>\n",
       "      <th>N_SUPPORTED_LANGUAGES</th>\n",
       "      <th>DEVELOPERS</th>\n",
       "      <th>POSITIVE_REVIEWS</th>\n",
       "      <th>NEGATIVE_REVIEWS</th>\n",
       "      <th>PRICE</th>\n",
       "      <th>24_HOUR_PEAK</th>\n",
       "      <th>PUBLISH_YEAR</th>\n",
       "      <th>RATING_SCORE</th>\n",
       "      <th>...</th>\n",
       "      <th>GENRE: Massively Multiplayer</th>\n",
       "      <th>GENRE: RPG</th>\n",
       "      <th>GENRE: Racing</th>\n",
       "      <th>GENRE: Simulation</th>\n",
       "      <th>GENRE: Sports</th>\n",
       "      <th>GENRE: Store Genres</th>\n",
       "      <th>GENRE: Strategy</th>\n",
       "      <th>Linux</th>\n",
       "      <th>Windows</th>\n",
       "      <th>macOS</th>\n",
       "    </tr>\n",
       "  </thead>\n",
       "  <tbody>\n",
       "    <tr>\n",
       "      <th>0</th>\n",
       "      <td>dragon's dogma: dark arisen</td>\n",
       "      <td>[Action, Adventure, RPG]</td>\n",
       "      <td>7.0</td>\n",
       "      <td>Capcom</td>\n",
       "      <td>39271.0</td>\n",
       "      <td>5015.0</td>\n",
       "      <td>NaN</td>\n",
       "      <td>1064.0</td>\n",
       "      <td>2016.0</td>\n",
       "      <td>0.886759</td>\n",
       "      <td>...</td>\n",
       "      <td>0.0</td>\n",
       "      <td>1.0</td>\n",
       "      <td>0.0</td>\n",
       "      <td>0.0</td>\n",
       "      <td>0.0</td>\n",
       "      <td>0.0</td>\n",
       "      <td>0.0</td>\n",
       "      <td>0</td>\n",
       "      <td>1</td>\n",
       "      <td>0</td>\n",
       "    </tr>\n",
       "    <tr>\n",
       "      <th>1</th>\n",
       "      <td>forza horizon 5</td>\n",
       "      <td>[Action, Adventure, Racing, Simulation, Sports]</td>\n",
       "      <td>24.0</td>\n",
       "      <td>Playground Games</td>\n",
       "      <td>156683.0</td>\n",
       "      <td>21075.0</td>\n",
       "      <td>NaN</td>\n",
       "      <td>16131.0</td>\n",
       "      <td>2021.0</td>\n",
       "      <td>0.881440</td>\n",
       "      <td>...</td>\n",
       "      <td>0.0</td>\n",
       "      <td>0.0</td>\n",
       "      <td>1.0</td>\n",
       "      <td>1.0</td>\n",
       "      <td>1.0</td>\n",
       "      <td>0.0</td>\n",
       "      <td>0.0</td>\n",
       "      <td>0</td>\n",
       "      <td>1</td>\n",
       "      <td>0</td>\n",
       "    </tr>\n",
       "    <tr>\n",
       "      <th>3</th>\n",
       "      <td>layers of fear (2016)</td>\n",
       "      <td>[Adventure, Indie]</td>\n",
       "      <td>12.0</td>\n",
       "      <td>Bloober Team SA</td>\n",
       "      <td>22766.0</td>\n",
       "      <td>2819.0</td>\n",
       "      <td>NaN</td>\n",
       "      <td>31.0</td>\n",
       "      <td>2016.0</td>\n",
       "      <td>0.889818</td>\n",
       "      <td>...</td>\n",
       "      <td>0.0</td>\n",
       "      <td>0.0</td>\n",
       "      <td>0.0</td>\n",
       "      <td>0.0</td>\n",
       "      <td>0.0</td>\n",
       "      <td>0.0</td>\n",
       "      <td>0.0</td>\n",
       "      <td>1</td>\n",
       "      <td>1</td>\n",
       "      <td>1</td>\n",
       "    </tr>\n",
       "    <tr>\n",
       "      <th>4</th>\n",
       "      <td>taskpals</td>\n",
       "      <td>[Indie, Free to Play]</td>\n",
       "      <td>1.0</td>\n",
       "      <td>lazarche</td>\n",
       "      <td>834.0</td>\n",
       "      <td>66.0</td>\n",
       "      <td>NaN</td>\n",
       "      <td>318.0</td>\n",
       "      <td>2023.0</td>\n",
       "      <td>0.926667</td>\n",
       "      <td>...</td>\n",
       "      <td>0.0</td>\n",
       "      <td>0.0</td>\n",
       "      <td>0.0</td>\n",
       "      <td>0.0</td>\n",
       "      <td>0.0</td>\n",
       "      <td>0.0</td>\n",
       "      <td>0.0</td>\n",
       "      <td>0</td>\n",
       "      <td>1</td>\n",
       "      <td>0</td>\n",
       "    </tr>\n",
       "    <tr>\n",
       "      <th>7</th>\n",
       "      <td>wargame: red dragon</td>\n",
       "      <td>[Indie, Simulation, Strategy]</td>\n",
       "      <td>11.0</td>\n",
       "      <td>Eugen Systems</td>\n",
       "      <td>16273.0</td>\n",
       "      <td>1969.0</td>\n",
       "      <td>NaN</td>\n",
       "      <td>802.0</td>\n",
       "      <td>2014.0</td>\n",
       "      <td>0.892062</td>\n",
       "      <td>...</td>\n",
       "      <td>0.0</td>\n",
       "      <td>0.0</td>\n",
       "      <td>0.0</td>\n",
       "      <td>0.0</td>\n",
       "      <td>0.0</td>\n",
       "      <td>0.0</td>\n",
       "      <td>0.0</td>\n",
       "      <td>1</td>\n",
       "      <td>1</td>\n",
       "      <td>1</td>\n",
       "    </tr>\n",
       "    <tr>\n",
       "      <th>...</th>\n",
       "      <td>...</td>\n",
       "      <td>...</td>\n",
       "      <td>...</td>\n",
       "      <td>...</td>\n",
       "      <td>...</td>\n",
       "      <td>...</td>\n",
       "      <td>...</td>\n",
       "      <td>...</td>\n",
       "      <td>...</td>\n",
       "      <td>...</td>\n",
       "      <td>...</td>\n",
       "      <td>...</td>\n",
       "      <td>...</td>\n",
       "      <td>...</td>\n",
       "      <td>...</td>\n",
       "      <td>...</td>\n",
       "      <td>...</td>\n",
       "      <td>...</td>\n",
       "      <td>...</td>\n",
       "      <td>...</td>\n",
       "      <td>...</td>\n",
       "    </tr>\n",
       "    <tr>\n",
       "      <th>1626</th>\n",
       "      <td>nan</td>\n",
       "      <td>NaN</td>\n",
       "      <td>NaN</td>\n",
       "      <td>NaN</td>\n",
       "      <td>NaN</td>\n",
       "      <td>NaN</td>\n",
       "      <td>NaN</td>\n",
       "      <td>NaN</td>\n",
       "      <td>NaN</td>\n",
       "      <td>NaN</td>\n",
       "      <td>...</td>\n",
       "      <td>0.0</td>\n",
       "      <td>0.0</td>\n",
       "      <td>0.0</td>\n",
       "      <td>1.0</td>\n",
       "      <td>0.0</td>\n",
       "      <td>0.0</td>\n",
       "      <td>1.0</td>\n",
       "      <td>0</td>\n",
       "      <td>1</td>\n",
       "      <td>0</td>\n",
       "    </tr>\n",
       "    <tr>\n",
       "      <th>1757</th>\n",
       "      <td>nan</td>\n",
       "      <td>NaN</td>\n",
       "      <td>NaN</td>\n",
       "      <td>NaN</td>\n",
       "      <td>NaN</td>\n",
       "      <td>NaN</td>\n",
       "      <td>NaN</td>\n",
       "      <td>NaN</td>\n",
       "      <td>NaN</td>\n",
       "      <td>NaN</td>\n",
       "      <td>...</td>\n",
       "      <td>0.0</td>\n",
       "      <td>1.0</td>\n",
       "      <td>0.0</td>\n",
       "      <td>0.0</td>\n",
       "      <td>0.0</td>\n",
       "      <td>0.0</td>\n",
       "      <td>0.0</td>\n",
       "      <td>0</td>\n",
       "      <td>1</td>\n",
       "      <td>0</td>\n",
       "    </tr>\n",
       "    <tr>\n",
       "      <th>1929</th>\n",
       "      <td>nan</td>\n",
       "      <td>NaN</td>\n",
       "      <td>NaN</td>\n",
       "      <td>NaN</td>\n",
       "      <td>NaN</td>\n",
       "      <td>NaN</td>\n",
       "      <td>NaN</td>\n",
       "      <td>NaN</td>\n",
       "      <td>NaN</td>\n",
       "      <td>NaN</td>\n",
       "      <td>...</td>\n",
       "      <td>0.0</td>\n",
       "      <td>0.0</td>\n",
       "      <td>0.0</td>\n",
       "      <td>0.0</td>\n",
       "      <td>0.0</td>\n",
       "      <td>0.0</td>\n",
       "      <td>0.0</td>\n",
       "      <td>0</td>\n",
       "      <td>1</td>\n",
       "      <td>0</td>\n",
       "    </tr>\n",
       "    <tr>\n",
       "      <th>1931</th>\n",
       "      <td>nan</td>\n",
       "      <td>NaN</td>\n",
       "      <td>NaN</td>\n",
       "      <td>NaN</td>\n",
       "      <td>NaN</td>\n",
       "      <td>NaN</td>\n",
       "      <td>NaN</td>\n",
       "      <td>NaN</td>\n",
       "      <td>NaN</td>\n",
       "      <td>NaN</td>\n",
       "      <td>...</td>\n",
       "      <td>0.0</td>\n",
       "      <td>0.0</td>\n",
       "      <td>0.0</td>\n",
       "      <td>0.0</td>\n",
       "      <td>0.0</td>\n",
       "      <td>0.0</td>\n",
       "      <td>1.0</td>\n",
       "      <td>0</td>\n",
       "      <td>1</td>\n",
       "      <td>0</td>\n",
       "    </tr>\n",
       "    <tr>\n",
       "      <th>1937</th>\n",
       "      <td>nan</td>\n",
       "      <td>NaN</td>\n",
       "      <td>NaN</td>\n",
       "      <td>NaN</td>\n",
       "      <td>NaN</td>\n",
       "      <td>NaN</td>\n",
       "      <td>NaN</td>\n",
       "      <td>NaN</td>\n",
       "      <td>NaN</td>\n",
       "      <td>NaN</td>\n",
       "      <td>...</td>\n",
       "      <td>0.0</td>\n",
       "      <td>0.0</td>\n",
       "      <td>0.0</td>\n",
       "      <td>0.0</td>\n",
       "      <td>0.0</td>\n",
       "      <td>0.0</td>\n",
       "      <td>0.0</td>\n",
       "      <td>0</td>\n",
       "      <td>1</td>\n",
       "      <td>0</td>\n",
       "    </tr>\n",
       "  </tbody>\n",
       "</table>\n",
       "<p>911 rows × 167 columns</p>\n",
       "</div>"
      ],
      "text/plain": [
       "                             NAME  \\\n",
       "0     dragon's dogma: dark arisen   \n",
       "1                 forza horizon 5   \n",
       "3           layers of fear (2016)   \n",
       "4                        taskpals   \n",
       "7             wargame: red dragon   \n",
       "...                           ...   \n",
       "1626                          nan   \n",
       "1757                          nan   \n",
       "1929                          nan   \n",
       "1931                          nan   \n",
       "1937                          nan   \n",
       "\n",
       "                                          STORE_GENRE  N_SUPPORTED_LANGUAGES  \\\n",
       "0                            [Action, Adventure, RPG]                    7.0   \n",
       "1     [Action, Adventure, Racing, Simulation, Sports]                   24.0   \n",
       "3                                  [Adventure, Indie]                   12.0   \n",
       "4                               [Indie, Free to Play]                    1.0   \n",
       "7                       [Indie, Simulation, Strategy]                   11.0   \n",
       "...                                               ...                    ...   \n",
       "1626                                              NaN                    NaN   \n",
       "1757                                              NaN                    NaN   \n",
       "1929                                              NaN                    NaN   \n",
       "1931                                              NaN                    NaN   \n",
       "1937                                              NaN                    NaN   \n",
       "\n",
       "            DEVELOPERS  POSITIVE_REVIEWS  NEGATIVE_REVIEWS PRICE  \\\n",
       "0               Capcom           39271.0            5015.0   NaN   \n",
       "1     Playground Games          156683.0           21075.0   NaN   \n",
       "3      Bloober Team SA           22766.0            2819.0   NaN   \n",
       "4             lazarche             834.0              66.0   NaN   \n",
       "7        Eugen Systems           16273.0            1969.0   NaN   \n",
       "...                ...               ...               ...   ...   \n",
       "1626               NaN               NaN               NaN   NaN   \n",
       "1757               NaN               NaN               NaN   NaN   \n",
       "1929               NaN               NaN               NaN   NaN   \n",
       "1931               NaN               NaN               NaN   NaN   \n",
       "1937               NaN               NaN               NaN   NaN   \n",
       "\n",
       "      24_HOUR_PEAK  PUBLISH_YEAR  RATING_SCORE  ...  \\\n",
       "0           1064.0        2016.0      0.886759  ...   \n",
       "1          16131.0        2021.0      0.881440  ...   \n",
       "3             31.0        2016.0      0.889818  ...   \n",
       "4            318.0        2023.0      0.926667  ...   \n",
       "7            802.0        2014.0      0.892062  ...   \n",
       "...            ...           ...           ...  ...   \n",
       "1626           NaN           NaN           NaN  ...   \n",
       "1757           NaN           NaN           NaN  ...   \n",
       "1929           NaN           NaN           NaN  ...   \n",
       "1931           NaN           NaN           NaN  ...   \n",
       "1937           NaN           NaN           NaN  ...   \n",
       "\n",
       "      GENRE: Massively Multiplayer  GENRE: RPG  GENRE: Racing  \\\n",
       "0                              0.0         1.0            0.0   \n",
       "1                              0.0         0.0            1.0   \n",
       "3                              0.0         0.0            0.0   \n",
       "4                              0.0         0.0            0.0   \n",
       "7                              0.0         0.0            0.0   \n",
       "...                            ...         ...            ...   \n",
       "1626                           0.0         0.0            0.0   \n",
       "1757                           0.0         1.0            0.0   \n",
       "1929                           0.0         0.0            0.0   \n",
       "1931                           0.0         0.0            0.0   \n",
       "1937                           0.0         0.0            0.0   \n",
       "\n",
       "      GENRE: Simulation  GENRE: Sports  GENRE: Store Genres  GENRE: Strategy  \\\n",
       "0                   0.0            0.0                  0.0              0.0   \n",
       "1                   1.0            1.0                  0.0              0.0   \n",
       "3                   0.0            0.0                  0.0              0.0   \n",
       "4                   0.0            0.0                  0.0              0.0   \n",
       "7                   0.0            0.0                  0.0              0.0   \n",
       "...                 ...            ...                  ...              ...   \n",
       "1626                1.0            0.0                  0.0              1.0   \n",
       "1757                0.0            0.0                  0.0              0.0   \n",
       "1929                0.0            0.0                  0.0              0.0   \n",
       "1931                0.0            0.0                  0.0              1.0   \n",
       "1937                0.0            0.0                  0.0              0.0   \n",
       "\n",
       "      Linux  Windows  macOS  \n",
       "0         0        1      0  \n",
       "1         0        1      0  \n",
       "3         1        1      1  \n",
       "4         0        1      0  \n",
       "7         1        1      1  \n",
       "...     ...      ...    ...  \n",
       "1626      0        1      0  \n",
       "1757      0        1      0  \n",
       "1929      0        1      0  \n",
       "1931      0        1      0  \n",
       "1937      0        1      0  \n",
       "\n",
       "[911 rows x 167 columns]"
      ]
     },
     "execution_count": 840,
     "metadata": {},
     "output_type": "execute_result"
    }
   ],
   "source": [
    "df[df['PRICE'].isnull()]"
   ]
  },
  {
   "cell_type": "code",
   "execution_count": 841,
   "metadata": {},
   "outputs": [
    {
     "name": "stdout",
     "output_type": "stream",
     "text": [
      "<class 'pandas.core.frame.DataFrame'>\n",
      "Index: 2236 entries, 0 to 1937\n",
      "Columns: 167 entries, NAME to macOS\n",
      "dtypes: float64(160), int64(3), object(4)\n",
      "memory usage: 2.9+ MB\n"
     ]
    }
   ],
   "source": [
    "df.info()"
   ]
  },
  {
   "cell_type": "code",
   "execution_count": 842,
   "metadata": {},
   "outputs": [],
   "source": [
    "# import time\n",
    "# import random\n",
    "# import pandas as pd\n",
    "# from selenium import webdriver\n",
    "# from selenium.webdriver.common.by import By\n",
    "# from selenium.webdriver.edge.service import Service\n",
    "# from selenium.webdriver.edge.options import Options\n",
    "# from webdriver_manager.microsoft import EdgeChromiumDriverManager\n",
    "# from urllib.parse import quote\n",
    "\n",
    "# def get_game_price(driver, game_name):\n",
    "#     time.sleep(random.uniform(5, 10)) \n",
    "#     search_url = f\"https://steamdb.info/instantsearch/?query={quote(game_name)}\"\n",
    "#     print(game_name, search_url)\n",
    "#     driver.get(search_url)\n",
    "#     print(search_url)\n",
    "\n",
    "#     # if \"Please verify\" in driver.page_source:\n",
    "#     #     #input(\"Complete the verification and press Enter to continue...\")\n",
    "#     #     #time.sleep(random.uniform(5, 10)) \n",
    "#     #     return None\n",
    "    \n",
    "#     hits = driver.find_elements(By.CLASS_NAME, 'ais-Hits-item')\n",
    "#     for hit in hits:\n",
    "#         hit_name = hit.find_element(By.CLASS_NAME, 's-hit--name').text.strip()\n",
    "#         if hit_name.lower() == game_name.lower():\n",
    "#             try:\n",
    "#                 price = hit.find_element(By.CLASS_NAME, 's-hit--price').text.strip()\n",
    "#                 return price\n",
    "#             except:\n",
    "#                 return '-'\n",
    "#     return None  \n",
    "\n",
    "\n",
    "# try:\n",
    "#     existing_prices_df = pd.read_csv('games_missing_price.csv')\n",
    "#     existing_prices = dict(zip(existing_prices_df['NAME'], existing_prices_df['PRICE']))\n",
    "# except FileNotFoundError:\n",
    "#     existing_prices = {}\n",
    "\n",
    "# options = Options()\n",
    "# options.use_chromium = True\n",
    "# driver = webdriver.Edge(service=Service(EdgeChromiumDriverManager().install()), options=options)\n",
    "\n",
    "# games_missing_price = df[df['PRICE'].isnull()]\n",
    "# max_attempts = 5\n",
    "# attempts = 0\n",
    "\n",
    "# while not games_missing_price.empty and attempts < max_attempts:\n",
    "#     attempts += 1\n",
    "#     print(f\"Attempt {attempts}\")\n",
    "\n",
    "#     games_missing_price = games_missing_price.sample(frac=1).reset_index(drop=True)\n",
    "\n",
    "#     for index, row in games_missing_price.iterrows():\n",
    "#         game_name = row['NAME']\n",
    "#         if game_name in existing_prices:\n",
    "#             price = existing_prices[game_name]\n",
    "#             print(f\"Found existing price for {game_name}: {price}\")\n",
    "#         else:\n",
    "#             price = get_game_price(driver, game_name)\n",
    "#             if price != None:\n",
    "#                 df.at[index, 'PRICE'] = price\n",
    "#                 existing_prices[game_name] = price\n",
    "#                 print(f\"Updated price for {game_name}: {price}\")\n",
    "#             else:\n",
    "#                 print(f\"Price not found for {game_name}\")\n",
    "\n",
    "        \n",
    "\n",
    "#     games_missing_price = df[df['PRICE'].isnull()]\n",
    "\n",
    "# prices_df = pd.DataFrame(list(existing_prices.items()), columns=['NAME', 'PRICE'])\n",
    "# prices_df.to_csv('games_missing_price.csv', index=False)\n",
    "\n",
    "# driver.quit()\n"
   ]
  },
  {
   "cell_type": "code",
   "execution_count": 843,
   "metadata": {},
   "outputs": [
    {
     "name": "stdout",
     "output_type": "stream",
     "text": [
      "Null count in PRICE column: 911\n"
     ]
    }
   ],
   "source": [
    "null_count = df['PRICE'].isnull().sum()\n",
    "\n",
    "print(\"Null count in PRICE column:\", null_count)"
   ]
  },
  {
   "cell_type": "code",
   "execution_count": 844,
   "metadata": {},
   "outputs": [],
   "source": [
    "del game_details"
   ]
  },
  {
   "cell_type": "markdown",
   "metadata": {},
   "source": [
    "## Handling 'PRICE' Column"
   ]
  },
  {
   "cell_type": "code",
   "execution_count": 845,
   "metadata": {},
   "outputs": [],
   "source": [
    "df['PRICE'] = df['PRICE'].replace('-', '$0')"
   ]
  },
  {
   "cell_type": "code",
   "execution_count": 846,
   "metadata": {},
   "outputs": [],
   "source": [
    "price_pattern = r'\\$([\\d.]+)'\n",
    "\n",
    "df['PRICE'] = df['PRICE'].str.extract(price_pattern)"
   ]
  },
  {
   "cell_type": "code",
   "execution_count": 847,
   "metadata": {},
   "outputs": [],
   "source": [
    "df['PRICE'] = df['PRICE'].astype(float)"
   ]
  },
  {
   "cell_type": "code",
   "execution_count": 848,
   "metadata": {},
   "outputs": [
    {
     "name": "stdout",
     "output_type": "stream",
     "text": [
      "Null count in PRICE column: 979\n"
     ]
    }
   ],
   "source": [
    "null_count = df['PRICE'].isnull().sum()\n",
    "\n",
    "print(\"Null count in PRICE column:\", null_count)"
   ]
  },
  {
   "cell_type": "code",
   "execution_count": 849,
   "metadata": {},
   "outputs": [
    {
     "data": {
      "text/plain": [
       "count    1257.000000\n",
       "mean       13.113294\n",
       "std        12.243899\n",
       "min         0.000000\n",
       "25%         3.190000\n",
       "50%         9.990000\n",
       "75%        19.990000\n",
       "max        69.990000\n",
       "Name: PRICE, dtype: float64"
      ]
     },
     "execution_count": 849,
     "metadata": {},
     "output_type": "execute_result"
    }
   ],
   "source": [
    "df['PRICE'].describe()"
   ]
  },
  {
   "cell_type": "code",
   "execution_count": 850,
   "metadata": {},
   "outputs": [],
   "source": [
    "# Drop rows with null values in the 'PRICE' column\n",
    "#df.dropna(subset=['PRICE'], inplace=True)\n",
    "#df['PRICE'] = df['PRICE'].fillna('$0')"
   ]
  },
  {
   "cell_type": "code",
   "execution_count": 851,
   "metadata": {},
   "outputs": [],
   "source": [
    "# df[df['PRICE'].isnull() == True]"
   ]
  },
  {
   "cell_type": "code",
   "execution_count": 852,
   "metadata": {},
   "outputs": [],
   "source": [
    "# null_count = df['PRICE'].isnull().sum()\n",
    "\n",
    "# print(\"Null count in PRICE column:\", null_count)"
   ]
  },
  {
   "cell_type": "markdown",
   "metadata": {},
   "source": [
    "## Final Dataset Preparation"
   ]
  },
  {
   "cell_type": "code",
   "execution_count": 853,
   "metadata": {},
   "outputs": [
    {
     "name": "stdout",
     "output_type": "stream",
     "text": [
      "<class 'pandas.core.frame.DataFrame'>\n",
      "Index: 2236 entries, 0 to 1937\n",
      "Columns: 167 entries, NAME to macOS\n",
      "dtypes: float64(161), int64(3), object(3)\n",
      "memory usage: 2.9+ MB\n"
     ]
    }
   ],
   "source": [
    "df.info()"
   ]
  },
  {
   "cell_type": "code",
   "execution_count": 854,
   "metadata": {},
   "outputs": [],
   "source": [
    "df.to_csv('preprocessed_game_info.csv', index=False)"
   ]
  },
  {
   "cell_type": "code",
   "execution_count": null,
   "metadata": {},
   "outputs": [],
   "source": []
  }
 ],
 "metadata": {
  "kernelspec": {
   "display_name": "Python 3 (ipykernel)",
   "language": "python",
   "name": "python3"
  },
  "language_info": {
   "codemirror_mode": {
    "name": "ipython",
    "version": 3
   },
   "file_extension": ".py",
   "mimetype": "text/x-python",
   "name": "python",
   "nbconvert_exporter": "python",
   "pygments_lexer": "ipython3",
   "version": "3.12.2"
  }
 },
 "nbformat": 4,
 "nbformat_minor": 4
}
