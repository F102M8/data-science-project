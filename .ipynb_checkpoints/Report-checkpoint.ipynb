{
 "cells": [
  {
   "cell_type": "markdown",
   "id": "e5dd5a3f-8a3d-4268-ac9b-a0957a2c4b11",
   "metadata": {},
   "source": [
    "# <span style=\"color:darkBlue\"> Project Report:  Game Price Prediction Project</span>"
   ]
  },
  {
   "cell_type": "markdown",
   "id": "126ef496-de13-4c2c-b9b8-1f1fdec1fd76",
   "metadata": {},
   "source": [
    "## <span style=\"color:Purple\"> 1) Introduction </span>\n",
    "\n",
    "The objective of this project is to predict the prices of video games based on various features gathered from the SteamDB website. Accurate price prediction can help developers and publishers in strategizing their marketing and sales efforts, and can assist consumers in making informed purchasing decisions."
   ]
  },
  {
   "cell_type": "markdown",
   "id": "422597ac-1b5c-406e-953c-99b47cc2a55d",
   "metadata": {},
   "source": [
    "## <span style=\"color:Purple\"> 2) Data Collection </span>\n",
    "The data collection phase involved web scraping from the SteamDB website to gather information on approximately 3000 video games. This phase was divided into two main steps:  "
   ]
  },
  {
   "cell_type": "markdown",
   "id": "d21f0440-293c-4eca-b6a3-620f6e3416fc",
   "metadata": {},
   "source": [
    "#### 2.1 Web Scraping Game Information\n",
    "\n",
    "In the first step, game URLs and detailed game information were scraped from the SteamDB search pages. The key features collected for each game include:\n",
    "- `NAME`: The title of the game.\n",
    "- `STORE_GENRE`: The genre(s) of the game.\n",
    "- `RATING_SCORE`: The overall rating score of the game.\n",
    "- `N_SUPPORTED_LANGUAGES`: The number of languages supported by the game.\n",
    "- `DEVELOPERS`: The developer(s) of the game.\n",
    "- `SUPPORTED_PLATFORMS`: The platforms on which the game is available.\n",
    "- `POSITIVE_REVIEWS`: The number of positive reviews.\n",
    "- `NEGATIVE_REVIEWS`: The number of negative reviews.\n",
    "- `TECHNOLOGIES`: The technologies used in the game.\n",
    "- `RELEASE_DATE`: The release date of the game.\n",
    "- `TOTAL_TWITCH_PEAK`: The peak number of viewers on Twitch.\n",
    "- `PRICE`: The price of the game.\n",
    "- `N_DLC`: The number of downloadable content (DLC) available.\n",
    "- `24_HOUR_PEAK`: The peak number of players in the last 24 hours.\n",
    "\n",
    "This step involved several challenges, including handling the large volume of data (3000 games) and ensuring the scraping process was efficient and reliable. The data collected in this step was saved in two files:\n",
    "- `game_urls.txt`: Contains URLs of the games.\n",
    "- `games_info.csv`: Contains detailed information of the games.\n",
    "\n",
    "#### 2.2 Web Scraping Game Prices\n",
    "\n",
    "In the second step, the focus was on gathering the prices of the games in USD to ensure consistency across different regions. This involved scraping the name, release date, and price of each game from their respective pages. This data was saved in:\n",
    "- `games_details.csv`: Contains the name, release date, and price of the games.\n",
    "\n",
    "*** \n",
    "\n",
    "#### Data Files and Notebooks\n",
    "\n",
    "The following files and notebooks were created and used during the data collection phase:\n",
    "1. **Data Files**:\n",
    "   - `game_urls.txt`: A text file containing URLs of the games.\n",
    "   - `games_info.csv`: A CSV file containing detailed game information.\n",
    "   - `games_details.csv`: A CSV file containing the name, release date, and price of the games.\n",
    "\n",
    "2. **Notebooks**:\n",
    "   - `webScrape_1.ipynb`: Notebook used to scrape game URLs and detailed information, resulting in `game_urls.txt` and `games_info.csv`.\n",
    "   - `webScrape_2_price.ipynb`: Notebook used to scrape game prices, resulting in `games_details.csv`.\n",
    "\n",
    "\n",
    "The data collection phase provided a comprehensive dataset that includes various features of video games and their prices. This dataset forms the foundation for the subsequent analysis and price prediction models. The challenges encountered during web scraping were addressed effectively to ensure data accuracy and completeness.\n"
   ]
  },
  {
   "cell_type": "markdown",
   "id": "3139e405-8146-45ea-995c-a1661f8ddadf",
   "metadata": {},
   "source": [
    "## <span style=\"color:Purple\">B) Preprocessing (1)</span>"
   ]
  },
  {
   "cell_type": "markdown",
   "id": "7a47cb71-84e4-4691-add7-2731eb06b242",
   "metadata": {},
   "source": [
    "### 2) Data Collection\r\n",
    "The data collection phase involved web scraping from the SteamDB website to gather information on approximately 3000 video games. This phase was divided into three main steps:\r\n",
    "\r\n",
    "#### 2.1 Web Scraping Game Information\r\n",
    "In the first step, game URLs and detailed game information were scraped from the SteamDB search pages. The key features collected for each game include:\r\n",
    "- `NAME`: The title of the game.\r\n",
    "- `STORE_GENRE`: The genre(s) of the game.\r\n",
    "- `RATING_SCORE`: The overall rating score of the game.\r\n",
    "- `N_SUPPORTED_LANGUAGES`: The number of languages supported by the game.\r\n",
    "- `DEVELOPERS`: The developer(s) of the game.\r\n",
    "- `SUPPORTED_PLATFORMS`: The platforms on which the game is available.\r\n",
    "- `POSITIVE_REVIEWS`: The number of positive reviews.\r\n",
    "- `NEGATIVE_REVIEWS`: The number of negative reviews.\r\n",
    "- `TECHNOLOGIES`: The technologies used in the game.\r\n",
    "- `RELEASE_DATE`: The release date of the game.\r\n",
    "- `TOTAL_TWITCH_PEAK`: The peak number of viewers on Twitch.\r\n",
    "- `PRICE`: The price of the game.\r\n",
    "- `N_DLC`: The number of downloadable content (DLC) available.\r\n",
    "- `24_HOUR_PEAK`: The peak number of players in the last 24 hours.\r\n",
    "\r\n",
    "This step involved several challenges, including handling the large volume of data (3000 games) and ensuring the scraping process was efficient and reliable. The data collected in this step was saved in two files:\r\n",
    "- `game_urls.txt`: Contains URLs of the games.\r\n",
    "- `games_info.csv`: Contains detailed information of the games.\r\n",
    "\r\n",
    "#### 2.2 Web Scraping Game Prices\r\n",
    "In the second step, the focus was on gathering the prices of the games in USD to ensure consistency across different regions. This involved scraping the name, release date, and price of each game from their respective pages. This data was saved in:\r\n",
    "- `games_details.csv`: Contains the name, release date, and price of the games.\r\n",
    "\r\n",
    "#### 2.3 Additional Web Scraping for Missing Prices\r\n",
    "During preprocessing, it was found that many prices were missing even after the second web scraping step. To address this, a third web scraping notebook was created to gather more game data, focusing on saving the name, URL, and price for additional games. This additional data collection was crucial to ensure a more complete and accurate dataset for the price prediction model. The data collected in this step was saved in:\r\n",
    "- `games_name_url_price.csv`: Contains the name, URL, and price of more games.\r\n",
    "\r\n",
    "### Data Files and Notebooks\r\n",
    "\r\n",
    "The following files and notebooks were created and used during the data collection phase:\r\n",
    "1. **Data Files**:\r\n",
    "   - `game_urls.txt`: A text file containing URLs of the games.\r\n",
    "   - `games_info.csv`: A CSV file containing detailed game information.\r\n",
    "   - `games_details.csv`: A CSV file containing the name, release date, and price of the games.\r\n",
    "   - `games_name_url_price.csv`: A CSV file containing the name, URL, and price of more games.\r\n",
    "\r\n",
    "2. **Notebooks**:\r\n",
    "   - `webScrape_1.ipynb`: Notebook used to scrape game URLs and detailed information, resulting in `game_urls.txt` and `games_info.csv`.\r\n",
    "   - `webScrape_2_price.ipynb`: Notebook used to scrape game prices, resulting in `games_details.csv`.\r\n",
    "   - `webScrape_3_URL.ipynb`: Notebook used to gather additional game prices, resulting in `games_name_url_price.csv`.\r\n",
    "\r\n",
    "The data collection phase provided a comprehensive dataset that includes various features of video games and their prices. This dataset forms the foundation for the subsequent analysis and price prediction models. The challenges encountered during web scraping were addressed effectivee are any further adjustments or additions needed!tional details or specific adjustments, please let me know!"
   ]
  },
  {
   "cell_type": "markdown",
   "id": "021203a2-ef8d-4a30-b5e4-da94a0218fd7",
   "metadata": {},
   "source": [
    "## <span style=\"color:Purple\">C) Analysis</span>"
   ]
  },
  {
   "cell_type": "code",
   "execution_count": null,
   "id": "3d472cc9-d122-4b4a-ae6f-46c44cb87dbc",
   "metadata": {},
   "outputs": [],
   "source": []
  },
  {
   "cell_type": "code",
   "execution_count": null,
   "id": "15184efb-a335-47fa-97b7-23c238c21758",
   "metadata": {},
   "outputs": [],
   "source": []
  }
 ],
 "metadata": {
  "kernelspec": {
   "display_name": "Python 3 (ipykernel)",
   "language": "python",
   "name": "python3"
  },
  "language_info": {
   "codemirror_mode": {
    "name": "ipython",
    "version": 3
   },
   "file_extension": ".py",
   "mimetype": "text/x-python",
   "name": "python",
   "nbconvert_exporter": "python",
   "pygments_lexer": "ipython3",
   "version": "3.12.2"
  }
 },
 "nbformat": 4,
 "nbformat_minor": 5
}
